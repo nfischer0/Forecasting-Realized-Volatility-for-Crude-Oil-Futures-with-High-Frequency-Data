{
 "cells": [
  {
   "cell_type": "markdown",
   "id": "f1480de7-2744-4551-9e99-317f6b7893d2",
   "metadata": {},
   "source": [
    "# Imports and Function Definitions"
   ]
  },
  {
   "cell_type": "code",
   "execution_count": 143,
   "id": "de881bb1-c0f2-436b-9f1d-ac9304afae45",
   "metadata": {
    "execution": {
     "iopub.execute_input": "2023-03-03T00:39:25.630266Z",
     "iopub.status.busy": "2023-03-03T00:39:25.629266Z",
     "iopub.status.idle": "2023-03-03T00:39:28.642755Z",
     "shell.execute_reply": "2023-03-03T00:39:28.641740Z",
     "shell.execute_reply.started": "2023-03-03T00:39:25.629266Z"
    },
    "tags": []
   },
   "outputs": [],
   "source": [
    "import pandas as pd\n",
    "import numpy as np\n",
    "from math import ceil, sqrt\n",
    "\n",
    "import matplotlib.pyplot as plt\n",
    "import seaborn as sns\n",
    "\n",
    "from sklearn.model_selection import KFold, StratifiedKFold, train_test_split\n",
    "from sklearn.linear_model import ElasticNet\n",
    "from sklearn.ensemble import RandomForestRegressor, RandomForestClassifier, GradientBoostingRegressor, GradientBoostingClassifier\n",
    "from sklearn.metrics import mean_absolute_error, accuracy_score, mean_squared_error\n",
    "from sklearn.model_selection import TimeSeriesSplit, GridSearchCV, cross_val_score, KFold, StratifiedKFold\n",
    "\n",
    "from statsmodels.graphics.tsaplots import plot_acf, plot_pacf\n",
    "sns.set()\n",
    "\n",
    "import warnings\n",
    "warnings.filterwarnings('ignore')\n",
    "from polygon import RESTClient\n",
    "\n",
    "import datetime as dt"
   ]
  },
  {
   "cell_type": "code",
   "execution_count": 2,
   "id": "72c06572-8943-4f96-8a07-1e0696cb9c76",
   "metadata": {
    "execution": {
     "iopub.execute_input": "2023-03-03T00:39:28.643685Z",
     "iopub.status.busy": "2023-03-03T00:39:28.643685Z",
     "iopub.status.idle": "2023-03-03T00:39:28.658685Z",
     "shell.execute_reply": "2023-03-03T00:39:28.657685Z",
     "shell.execute_reply.started": "2023-03-03T00:39:28.643685Z"
    },
    "tags": []
   },
   "outputs": [],
   "source": [
    "def tree_feat_importance(m, df):\n",
    "    return pd.DataFrame({'cols':df.columns, 'feat_imp':m.feature_importances_}\n",
    "                       ).sort_values('feat_imp', ascending=False)\n",
    "def ensemble_tree_feat_importance(m, df):\n",
    "    feature_importances = np.mean([\n",
    "    tree.feature_importances_ for tree in m.estimators_\n",
    "                                    ], axis=0)\n",
    "    return pd.DataFrame({'cols':df.columns, 'feat_imp':feature_importances}\n",
    "                       ).sort_values('feat_imp', ascending=False)\n",
    "def plot_fi(fi): return fi.plot('cols', 'feat_imp', 'barh', figsize=(15,20), legend=False)\n",
    "def xgb_feat_importance(m, df):\n",
    "    feature_importances = m.feature_importances_\n",
    "    return pd.DataFrame({'cols':df.columns, 'feat_imp':feature_importances}\n",
    "                       ).sort_values('feat_imp', ascending=False)"
   ]
  },
  {
   "cell_type": "code",
   "execution_count": 43,
   "id": "6972bd09-2106-41cf-8c01-3015120b157e",
   "metadata": {
    "execution": {
     "iopub.execute_input": "2023-03-03T00:39:28.660685Z",
     "iopub.status.busy": "2023-03-03T00:39:28.660685Z",
     "iopub.status.idle": "2023-03-03T00:39:28.673688Z",
     "shell.execute_reply": "2023-03-03T00:39:28.672765Z",
     "shell.execute_reply.started": "2023-03-03T00:39:28.660685Z"
    },
    "tags": []
   },
   "outputs": [],
   "source": [
    "# A bunch of nonparametric regression models + some parametric baselines\n",
    "def model_selection(ml):\n",
    "    print(ml)\n",
    "    if ml == 'GB':\n",
    "        model = GradientBoostingRegressor()\n",
    "        grid = dict()\n",
    "        grid['learning_rate'] = [1e-3] #1e-5,1e-7\n",
    "        grid['n_estimators'] = [10] #50,100,1000\n",
    "        grid_search = GridSearchCV(estimator=model, param_grid=grid, scoring='neg_mean_squared_error', n_jobs=25)\n",
    "        grid_result = grid_search.fit(X_train, y_train)\n",
    "        model_best = GradientBoostingRegressor(learning_rate=grid_result.best_params_['learning_rate'],\\\n",
    "                    n_estimators=grid_result.best_params_['n_estimators'],\\\n",
    "                                              ).fit(X_train, y_train)\n",
    "\n",
    "    elif ml == 'RF':\n",
    "        model = RandomForestRegressor(n_jobs=25)\n",
    "        grid = dict()\n",
    "        grid['max_depth'] = [3,5,7,10]\n",
    "        grid['n_estimators'] = [10,50,100,1000]\n",
    "        grid_search = GridSearchCV(estimator=model, param_grid=grid, scoring='neg_mean_squared_error', n_jobs=25)\n",
    "        grid_result = grid_search.fit(X_train, y_train)\n",
    "\n",
    "        model_best = RandomForestRegressor(\n",
    "                    max_depth=grid_result.best_params_['max_depth'],\\\n",
    "                    n_estimators=grid_result.best_params_['n_estimators'],\\\n",
    "\n",
    "                        ).fit(X_train, y_train)\n",
    "    elif ml == 'AB':\n",
    "        model = AdaBoostRegressor()\n",
    "        grid = dict()\n",
    "        grid['learning_rate'] = [1e-4,1e-2,1]\n",
    "        grid['n_estimators'] = [10,50,100,1000]\n",
    "        grid_search = GridSearchCV(estimator=model, param_grid=grid, scoring='neg_mean_squared_error', n_jobs=25)\n",
    "        grid_result = grid_search.fit(X_train, y_train)\n",
    "\n",
    "        model_best = AdaBoostRegressor(\n",
    "                    learning_rate=grid_result.best_params_['learning_rate'],\\\n",
    "                    n_estimators=grid_result.best_params_['n_estimators'],\\\n",
    "                        ).fit(X_train, y_train)\n",
    "          \n",
    "    elif ml == 'KR':\n",
    "        model = KernelRidge()\n",
    "        grid = dict()\n",
    "        grid['alpha'] = [1e-2,1e-1,1,10,100]\n",
    "        grid[\"kernel\"] = [\"poly\",\"sigmoid\",\"rbf\",\"cosine\"]\n",
    "        grid_search = GridSearchCV(estimator=model, param_grid=grid, scoring='neg_mean_squared_error', n_jobs=25)\n",
    "        grid_result = grid_search.fit(X_train, y_train)\n",
    "        model_best = KernelRidge(alpha=grid_result.best_params_[\"alpha\"],\n",
    "                                 kernel=grid_result.best_params_[\"kernel\"]).fit(X_train, y_train)\n",
    "    elif ml == 'R':\n",
    "        model = Ridge()\n",
    "        grid = dict()\n",
    "        grid['alpha'] = [1e-2,1e-1,1,10,100]\n",
    "        grid_search = GridSearchCV(estimator=model, param_grid=grid, scoring='neg_mean_squared_error', n_jobs=25)\n",
    "        grid_result = grid_search.fit(X_train, y_train)\n",
    "        model_best = Ridge(alpha=grid_result.best_params_[\"alpha\"]).fit(X_train, y_train)\n",
    "        \n",
    "    elif ml == \"LA\":\n",
    "        model = Lasso()\n",
    "        grid = dict()\n",
    "        grid['alpha'] = [1e-2,1e-1,1,10,100]\n",
    "        grid_search = GridSearchCV(estimator=model, param_grid=grid, scoring='neg_mean_squared_error', n_jobs=25)\n",
    "        grid_result = grid_search.fit(X_train, y_train)\n",
    "        model_best = Lasso(alpha=grid_result.best_params_[\"alpha\"]).fit(X_train, y_train)\n",
    "        \n",
    "        \n",
    "    elif ml == \"EN\":\n",
    "        model = ElasticNet()\n",
    "        grid = dict()\n",
    "        grid['alpha'] = [1e-2,1e-1,1,10,100]\n",
    "        grid[\"l1_ratio\"] = [0.1,0.5,0.7,0.9,0.95]\n",
    "        grid_search = GridSearchCV(estimator=model, param_grid=grid, scoring='neg_mean_squared_error', n_jobs=25)\n",
    "        grid_result = grid_search.fit(X_train, y_train)\n",
    "        model_best = ElasticNet(alpha=grid_result.best_params_[\"alpha\"],\n",
    "                                l1_ratio = grid_result.best_params_[\"l1_ratio\"]).fit(X_train, y_train)\n",
    "    \n",
    "    elif ml == \"NW\":\n",
    "        # Bandwidth is selected automatically\n",
    "        model = KernelRegression()\n",
    "        grid = dict()\n",
    "        grid[\"gamma\"] = [1e-2, 1e-1, 1, 10,100]\n",
    "        grid['kernel'] = [\"rbf\",\"poly\"]\n",
    "        grid_search = GridSearchCV(estimator=model, param_grid=grid, scoring='neg_mean_squared_error', n_jobs=25)\n",
    "        grid_result = grid_search.fit(X_train, y_train)\n",
    "        model_best = KernelRegression(gamma=grid_result.best_params_[\"gamma\"],\n",
    "                            kernel = grid_result.best_params_[\"kernel\"]).fit(X_train, y_train)\n",
    "        \n",
    "    elif ml == \"KN\":\n",
    "        model = KNeighborsRegressor()\n",
    "        grid = dict()\n",
    "        grid[\"n_neighbors\"] = [5,10,40,100]\n",
    "        grid['weights'] = [\"uniform\",\"distance\"]\n",
    "        grid_search = GridSearchCV(estimator=model, param_grid=grid, scoring='neg_mean_squared_error', n_jobs=25)\n",
    "        grid_result = grid_search.fit(X_train, y_train)\n",
    "        model_best = KNeighborsRegressor(n_neighbors=grid_result.best_params_[\"n_neighbors\"],\n",
    "                            weights = grid_result.best_params_[\"weights\"]).fit(X_train, y_train)\n",
    "        \n",
    "    print(model_best)\n",
    "    y_pred = model_best.predict(X_test)\n",
    "    print('MAE: ', mean_absolute_error(y_pred, y_test), \n",
    "          'MAE%: ', 100 * mean_absolute_error(y_pred, y_test)/np.mean(y_test), \n",
    "          '\\nMSE: ', mean_squared_error(y_pred,y_test), \n",
    "          '\\nRMSE: ', np.sqrt(mean_squared_error(y_pred,y_test)))\n",
    "\n",
    "    return(model_best, y_test, y_pred)#, [X_train, X_test, y_train, y_test])"
   ]
  },
  {
   "cell_type": "markdown",
   "id": "2abf351b-7c2e-4839-86b1-bd69644bb3e2",
   "metadata": {
    "tags": []
   },
   "source": [
    "# Cleaning and Merging"
   ]
  },
  {
   "cell_type": "code",
   "execution_count": 3,
   "id": "b4622c71-fae4-41f1-b807-d4e2f87a6c28",
   "metadata": {
    "execution": {
     "iopub.execute_input": "2023-03-03T00:37:35.402169Z",
     "iopub.status.busy": "2023-03-03T00:37:35.402169Z",
     "iopub.status.idle": "2023-03-03T00:37:35.415168Z",
     "shell.execute_reply": "2023-03-03T00:37:35.415168Z",
     "shell.execute_reply.started": "2023-03-03T00:37:35.402169Z"
    },
    "tags": []
   },
   "outputs": [],
   "source": [
    "client = RESTClient(api_key=\"18U85gkK04AWHrbE3oWvG9b3fF8JdlxQ\")"
   ]
  },
  {
   "cell_type": "code",
   "execution_count": 4,
   "id": "fa182899-8cc0-4bef-bb48-02dca8133d2c",
   "metadata": {
    "execution": {
     "iopub.execute_input": "2023-03-03T00:37:35.643110Z",
     "iopub.status.busy": "2023-03-03T00:37:35.643110Z",
     "iopub.status.idle": "2023-03-03T00:37:38.524492Z",
     "shell.execute_reply": "2023-03-03T00:37:38.524492Z",
     "shell.execute_reply.started": "2023-03-03T00:37:35.643110Z"
    },
    "tags": []
   },
   "outputs": [],
   "source": [
    "vxx = client.get_aggs(ticker='VXX', multiplier=5, timespan=\"minute\", from_=\"2022-04-01\", to=\"2022-09-01\", limit=50000)\n",
    "spy = client.get_aggs(ticker='SPY', multiplier=5, timespan=\"minute\", from_=\"2022-04-01\", to=\"2022-09-01\", limit=50000)\n",
    "uso = client.get_aggs(ticker='USO', multiplier=5, timespan=\"minute\", from_=\"2022-04-01\", to=\"2022-09-01\", limit=50000)"
   ]
  },
  {
   "cell_type": "code",
   "execution_count": 5,
   "id": "de3ad651-4930-4cf5-8c33-314e91c82686",
   "metadata": {
    "execution": {
     "iopub.execute_input": "2023-03-03T00:33:07.022997Z",
     "iopub.status.busy": "2023-03-03T00:33:07.021997Z",
     "iopub.status.idle": "2023-03-03T00:33:07.037996Z",
     "shell.execute_reply": "2023-03-03T00:33:07.037077Z",
     "shell.execute_reply.started": "2023-03-03T00:33:07.022997Z"
    },
    "tags": []
   },
   "outputs": [],
   "source": [
    "poly_dict = {'vxx':vxx, 'spy':spy, 'uso':uso}"
   ]
  },
  {
   "cell_type": "code",
   "execution_count": 6,
   "id": "4255f238-0ff4-41b2-bae5-7af3bc7c12d4",
   "metadata": {
    "execution": {
     "iopub.execute_input": "2023-03-03T00:33:07.039998Z",
     "iopub.status.busy": "2023-03-03T00:33:07.038998Z",
     "iopub.status.idle": "2023-03-03T00:33:07.633316Z",
     "shell.execute_reply": "2023-03-03T00:33:07.632257Z",
     "shell.execute_reply.started": "2023-03-03T00:33:07.039998Z"
    },
    "tags": []
   },
   "outputs": [],
   "source": [
    "for data in poly_dict.keys():\n",
    "    poly_dict[data] = pd.DataFrame(poly_dict[data])[['close', 'timestamp']]\n",
    "    poly_dict[data] = poly_dict[data].rename(columns={'close':'Close', 'timestamp':'Local time'})\n",
    "    poly_dict[data]['Local time'] = pd.to_datetime(poly_dict[data]['Local time'], unit='ms')"
   ]
  },
  {
   "cell_type": "code",
   "execution_count": 7,
   "id": "93fd99c8-09bb-4be1-ac11-95442ba7d6f4",
   "metadata": {
    "execution": {
     "iopub.execute_input": "2023-03-03T00:33:07.634272Z",
     "iopub.status.busy": "2023-03-03T00:33:07.634272Z",
     "iopub.status.idle": "2023-03-03T00:33:07.664272Z",
     "shell.execute_reply": "2023-03-03T00:33:07.663282Z",
     "shell.execute_reply.started": "2023-03-03T00:33:07.634272Z"
    },
    "tags": []
   },
   "outputs": [],
   "source": [
    "vxx = poly_dict['vxx']\n",
    "spy = poly_dict['spy']\n",
    "uso = poly_dict['uso']"
   ]
  },
  {
   "cell_type": "code",
   "execution_count": 8,
   "id": "076bb000-a60d-4eb5-beae-b267e77688a6",
   "metadata": {
    "execution": {
     "iopub.execute_input": "2023-03-03T05:02:29.280804Z",
     "iopub.status.busy": "2023-03-03T05:02:29.280804Z",
     "iopub.status.idle": "2023-03-03T05:02:30.278910Z",
     "shell.execute_reply": "2023-03-03T05:02:30.277838Z",
     "shell.execute_reply.started": "2023-03-03T05:02:29.280804Z"
    },
    "tags": []
   },
   "outputs": [],
   "source": [
    "fut = pd.read_csv('LIGHT.CMDUSD_Candlestick_5_M_BID_11.02.2020-11.02.2023.csv')\n",
    "gas = pd.read_csv('GAS.CMDUSD_Candlestick_5_M_BID_11.02.2020-11.02.2023.csv')\n",
    "btc = pd.read_csv('BTCUSD_Candlestick_5_M_BID_11.02.2020-11.02.2023.csv')\n",
    "bond = pd.read_csv('USTBOND.TRUSD_Candlestick_5_M_BID_11.02.2020-11.02.2023.csv')"
   ]
  },
  {
   "cell_type": "code",
   "execution_count": 9,
   "id": "c654650a-82e7-43a1-9e60-8b433b1be650",
   "metadata": {
    "execution": {
     "iopub.execute_input": "2023-03-03T05:02:30.279950Z",
     "iopub.status.busy": "2023-03-03T05:02:30.279950Z",
     "iopub.status.idle": "2023-03-03T05:02:30.294913Z",
     "shell.execute_reply": "2023-03-03T05:02:30.293913Z",
     "shell.execute_reply.started": "2023-03-03T05:02:30.279950Z"
    },
    "tags": []
   },
   "outputs": [],
   "source": [
    "data_dict = {'fut':fut, 'gas':gas, #'vxx':vxx, 'spy':spy, #'uso':uso, \n",
    "            'btc':btc, 'bond':bond}"
   ]
  },
  {
   "cell_type": "markdown",
   "id": "81caf05a-520b-4bab-ab89-cdab52b3a4a3",
   "metadata": {},
   "source": [
    "## Datetime and indexing"
   ]
  },
  {
   "cell_type": "code",
   "execution_count": 309,
   "id": "f62b06f3-287f-48d7-ab11-5d0f1af2de1b",
   "metadata": {
    "execution": {
     "iopub.execute_input": "2023-03-03T04:56:11.984826Z",
     "iopub.status.busy": "2023-03-03T04:56:11.984826Z",
     "iopub.status.idle": "2023-03-03T04:56:11.993825Z",
     "shell.execute_reply": "2023-03-03T04:56:11.993825Z",
     "shell.execute_reply.started": "2023-03-03T04:56:11.984826Z"
    },
    "tags": []
   },
   "outputs": [],
   "source": [
    "# idx = pd.to_datetime(data_dict['fut']['Local time'])\n",
    "# idx=idx.apply(lambda x: x.replace(tzinfo=None))"
   ]
  },
  {
   "cell_type": "code",
   "execution_count": 10,
   "id": "cc3d83fb-f59e-4d95-ac6d-1510ceb057f6",
   "metadata": {
    "execution": {
     "iopub.execute_input": "2023-03-03T05:02:42.491323Z",
     "iopub.status.busy": "2023-03-03T05:02:42.491323Z",
     "iopub.status.idle": "2023-03-03T05:02:45.630278Z",
     "shell.execute_reply": "2023-03-03T05:02:45.629267Z",
     "shell.execute_reply.started": "2023-03-03T05:02:42.491323Z"
    },
    "tags": []
   },
   "outputs": [],
   "source": [
    "for data in data_dict.keys():\n",
    "    if data in ['vxx', 'spy', 'uso']:\n",
    "        data_dict[data] = data_dict[data].set_index(idx)\n",
    "        data_dict[data] = data_dict[data].drop(['Open', 'High', 'Low', 'Volume', 'Local time'], axis=1)\n",
    "    else:     \n",
    "        ix = pd.to_datetime(data_dict[data][\"Local time\"].apply(lambda x: \" \".join(x.split()[0:2])), format='%d.%m.%Y %H:%M:%S.%f')\n",
    "        data_dict[data] = data_dict[data].set_index(ix)['Close']"
   ]
  },
  {
   "cell_type": "markdown",
   "id": "c11f3950-96a9-4578-995c-21734ad856a0",
   "metadata": {},
   "source": [
    "## Merging"
   ]
  },
  {
   "cell_type": "code",
   "execution_count": 56,
   "id": "205f196e-1ac1-4338-9a3b-d8b4c0452ec3",
   "metadata": {
    "execution": {
     "iopub.execute_input": "2023-03-03T05:02:45.631278Z",
     "iopub.status.busy": "2023-03-03T05:02:45.631278Z",
     "iopub.status.idle": "2023-03-03T05:02:46.063480Z",
     "shell.execute_reply": "2023-03-03T05:02:46.062469Z",
     "shell.execute_reply.started": "2023-03-03T05:02:45.631278Z"
    },
    "tags": []
   },
   "outputs": [],
   "source": [
    "# df = pd.DataFrame(index=data_dict['vxx'].index)\n",
    "df = pd.DataFrame(index=data_dict['fut'].index)\n",
    "for data in data_dict.keys():\n",
    "    df = pd.merge(df, data_dict[data], left_index=True, right_index=True, suffixes=['', '_'+data], how='left')\n",
    "df = df.rename(columns={'Close':'Close_fut'})"
   ]
  },
  {
   "cell_type": "markdown",
   "id": "580f11c0-18fe-45f5-b311-083ed2dcc708",
   "metadata": {},
   "source": [
    "## Cut to market hours"
   ]
  },
  {
   "cell_type": "code",
   "execution_count": 57,
   "id": "cfcfcb08-33a3-482c-b2e9-36a4ef68d44e",
   "metadata": {
    "execution": {
     "iopub.execute_input": "2023-03-03T05:02:51.862627Z",
     "iopub.status.busy": "2023-03-03T05:02:51.862627Z",
     "iopub.status.idle": "2023-03-03T05:03:01.185637Z",
     "shell.execute_reply": "2023-03-03T05:03:01.184842Z",
     "shell.execute_reply.started": "2023-03-03T05:02:51.862627Z"
    },
    "tags": []
   },
   "outputs": [],
   "source": [
    "df['date'] = df.apply(lambda x: dt.datetime.strptime(str(x.name), '%Y-%m-%d %H:%M:%S').date(), axis=1)\n",
    "df['time'] = df.apply(lambda x: dt.datetime.strptime(str(x.name), '%Y-%m-%d %H:%M:%S').time(), axis=1)"
   ]
  },
  {
   "cell_type": "code",
   "execution_count": 60,
   "id": "a907d66e",
   "metadata": {},
   "outputs": [
    {
     "data": {
      "text/plain": [
       "datetime.time(7, 0)"
      ]
     },
     "execution_count": 60,
     "metadata": {},
     "output_type": "execute_result"
    }
   ],
   "source": [
    "dt.time(7)"
   ]
  },
  {
   "cell_type": "code",
   "execution_count": 95,
   "id": "a40ef0c7",
   "metadata": {},
   "outputs": [
    {
     "data": {
      "text/plain": [
       "1"
      ]
     },
     "execution_count": 95,
     "metadata": {},
     "output_type": "execute_result"
    }
   ],
   "source": [
    "type(df.index)\n",
    "price_df[\"Local time\"][0].weekday()"
   ]
  },
  {
   "cell_type": "code",
   "execution_count": 97,
   "id": "8c1355ae-d13e-4a70-947d-aab2cbf87ffb",
   "metadata": {
    "execution": {
     "iopub.execute_input": "2023-03-03T05:03:01.185637Z",
     "iopub.status.busy": "2023-03-03T05:03:01.185637Z",
     "iopub.status.idle": "2023-03-03T05:03:01.277780Z",
     "shell.execute_reply": "2023-03-03T05:03:01.276837Z",
     "shell.execute_reply.started": "2023-03-03T05:03:01.185637Z"
    },
    "tags": []
   },
   "outputs": [],
   "source": [
    "price_df = df.reset_index(inplace=False).reset_index(inplace=False)\n",
    "price_df = price_df.loc[ (price_df['time']>dt.time(7)) & (price_df['time']<dt.time(16)) ]\n",
    "price_df = price_df[price_df[\"Local time\"].dt.dayofweek  < 5]"
   ]
  },
  {
   "cell_type": "markdown",
   "id": "33f5882d-46fb-4db4-85b7-6a36836ed1ad",
   "metadata": {},
   "source": [
    "The plot below shows the high daily variance and the gaps between data are non-trading hours"
   ]
  },
  {
   "cell_type": "code",
   "execution_count": 102,
   "id": "538e2e84-4524-420e-aea1-ee4f2c914e81",
   "metadata": {
    "execution": {
     "iopub.execute_input": "2023-03-03T05:03:01.278820Z",
     "iopub.status.busy": "2023-03-03T05:03:01.277780Z",
     "iopub.status.idle": "2023-03-03T05:03:01.293741Z",
     "shell.execute_reply": "2023-03-03T05:03:01.292780Z",
     "shell.execute_reply.started": "2023-03-03T05:03:01.278820Z"
    },
    "tags": []
   },
   "outputs": [],
   "source": [
    "price_df[\"index\"] = price_df[\"index\"] * 5"
   ]
  },
  {
   "cell_type": "code",
   "execution_count": 103,
   "id": "cabaa440-8add-4e3e-b931-bed89cb7cba2",
   "metadata": {
    "execution": {
     "iopub.execute_input": "2023-03-03T05:03:02.130670Z",
     "iopub.status.busy": "2023-03-03T05:03:02.129670Z",
     "iopub.status.idle": "2023-03-03T05:03:02.548182Z",
     "shell.execute_reply": "2023-03-03T05:03:02.548182Z",
     "shell.execute_reply.started": "2023-03-03T05:03:02.130670Z"
    },
    "tags": []
   },
   "outputs": [
    {
     "data": {
      "text/plain": [
       "<matplotlib.collections.PathCollection at 0x1cc832022e0>"
      ]
     },
     "execution_count": 103,
     "metadata": {},
     "output_type": "execute_result"
    },
    {
     "data": {
      "image/png": "[encoded data removed]",
      "text/plain": [
       "<Figure size 2000x900 with 1 Axes>"
      ]
     },
     "metadata": {},
     "output_type": "display_data"
    }
   ],
   "source": [
    "plt.subplots(figsize=(20,9))\n",
    "plt.scatter(df.index, df['Close_fut'])"
   ]
  },
  {
   "attachments": {},
   "cell_type": "markdown",
   "id": "aab721b6-33f9-4ee1-b214-7a50bc48b80a",
   "metadata": {},
   "source": [
    "# Splitting approach\n",
    "- Here I try just splitting the data into an initial chunk for training and a later testings set"
   ]
  },
  {
   "cell_type": "code",
   "execution_count": 127,
   "id": "bc1f69d4",
   "metadata": {},
   "outputs": [],
   "source": [
    "price_df = df[[\"Close_fut\",\"Close_gas\",\"Close_btc\",\"Close_bond\"]]"
   ]
  },
  {
   "cell_type": "code",
   "execution_count": 128,
   "id": "25c317a0",
   "metadata": {},
   "outputs": [
    {
     "data": {
      "text/plain": [
       "array([107], dtype=int64)"
      ]
     },
     "execution_count": 128,
     "metadata": {},
     "output_type": "execute_result"
    }
   ],
   "source": [
    "price_df.groupby(price_df.index.date).size().unique()"
   ]
  },
  {
   "cell_type": "code",
   "execution_count": 141,
   "id": "305dfd04",
   "metadata": {},
   "outputs": [],
   "source": [
    "columns = ['Close_fut','Close_gas','Close_btc','Close_bond']\n",
    "# There are 107 oberservations in each day\n",
    "# so we can create rolling windows for the past day, five days and 30 days\n",
    "for frequency in [107, 107 * 5, 107 * 30]:\n",
    "    for col in columns:\n",
    "        price_df[str(frequency)+\"_std_\"+col] = np.log( price_df[col] / price_df[col].shift(1) ).rolling(window=frequency).std()"
   ]
  },
  {
   "cell_type": "code",
   "execution_count": null,
   "id": "cca1aec4",
   "metadata": {},
   "outputs": [],
   "source": []
  },
  {
   "cell_type": "code",
   "execution_count": 144,
   "id": "220f3e1e",
   "metadata": {},
   "outputs": [],
   "source": [
    "# code from https://gist.github.com/linuskohl/690da335a34ebf1cfc5ab27973e16ee5\n",
    "def LeeMykland(S, sampling, significance_level=0.01):\n",
    "    \"\"\"\n",
    "    \"Jumps in Equilibrium Prices and Market Microstructure Noise\"\n",
    "    - by Suzanne S. Lee and Per A. Mykland\n",
    "    \n",
    "    \"https://galton.uchicago.edu/~mykland/paperlinks/LeeMykland-2535.pdf\"\n",
    "    \n",
    "    Args:\n",
    "        S (list(float)): An array containing prices, where each entry \n",
    "                         corresponds to the price sampled every 'sampling' minutes.\n",
    "        sampling (int): Minutes between entries in S\n",
    "        significance_level (float): Defaults to 1% (0.001)\n",
    "        \n",
    "    Returns:\n",
    "        A pandas dataframe containing a row covering the interval \n",
    "        [t_i, t_i+sampling] containing the following values:\n",
    "        J:   Binary value is jump with direction (sign)\n",
    "        L:   L statistics\n",
    "        T:   Test statistics\n",
    "        sig: Volatility estimate\n",
    "    \"\"\"\n",
    "    tm = 252*24*60 # Trading minutes\n",
    "    k   = ceil(sqrt(tm/sampling))\n",
    "    r = np.append(np.nan, np.diff(np.log(S)))\n",
    "    bpv = np.multiply(np.absolute(r[:]), np.absolute(np.append(np.nan, r[:-1])))\n",
    "    bpv = np.append(np.nan, bpv[0:-1]).reshape(-1,1) # Realized bipower variation\n",
    "    sig = np.sqrt(movmean(bpv, k-3, 0)) # Volatility estimate\n",
    "    L   = r/sig\n",
    "    n   = np.size(S) # Length of S\n",
    "    c   = (2/np.pi)**0.5\n",
    "    Sn  = c*(2*np.log(n))**0.5\n",
    "    Cn  = (2*np.log(n))**0.5/c - np.log(np.pi*np.log(n))/(2*c*(2*np.log(n))**0.5)\n",
    "    beta_star   = -np.log(-np.log(1-significance_level)) # Jump threshold\n",
    "    T   = (abs(L)-Cn)*Sn\n",
    "    J   = (T > beta_star).astype(float)\n",
    "    J   = J*np.sign(r) # Add direction\n",
    "    # First k rows are NaN involved in bipower variation estimation are set to NaN.\n",
    "    J[0:k] = np.nan\n",
    "    # Build and retunr result dataframe\n",
    "    return pd.DataFrame({'L': L,'sig': sig, 'T': T,'J':J})"
   ]
  },
  {
   "cell_type": "code",
   "execution_count": null,
   "id": "47e2f084",
   "metadata": {},
   "outputs": [],
   "source": [
    "LeeMykland("
   ]
  },
  {
   "cell_type": "code",
   "execution_count": 142,
   "id": "bf9d164f",
   "metadata": {},
   "outputs": [
    {
     "data": {
      "text/html": [
       "<div>\n",
       "<style scoped>\n",
       "    .dataframe tbody tr th:only-of-type {\n",
       "        vertical-align: middle;\n",
       "    }\n",
       "\n",
       "    .dataframe tbody tr th {\n",
       "        vertical-align: top;\n",
       "    }\n",
       "\n",
       "    .dataframe thead th {\n",
       "        text-align: right;\n",
       "    }\n",
       "</style>\n",
       "<table border=\"1\" class=\"dataframe\">\n",
       "  <thead>\n",
       "    <tr style=\"text-align: right;\">\n",
       "      <th></th>\n",
       "      <th>Close_fut</th>\n",
       "      <th>Close_gas</th>\n",
       "      <th>Close_btc</th>\n",
       "      <th>Close_bond</th>\n",
       "      <th>107_std_Close_fut</th>\n",
       "      <th>107_std_Close_gas</th>\n",
       "      <th>107_std_Close_btc</th>\n",
       "      <th>107_std_Close_bond</th>\n",
       "      <th>535_std_Close_fut</th>\n",
       "      <th>535_std_Close_gas</th>\n",
       "      <th>535_std_Close_btc</th>\n",
       "      <th>535_std_Close_bond</th>\n",
       "      <th>3210_std_Close_fut</th>\n",
       "      <th>3210_std_Close_gas</th>\n",
       "      <th>3210_std_Close_btc</th>\n",
       "      <th>3210_std_Close_bond</th>\n",
       "    </tr>\n",
       "    <tr>\n",
       "      <th>Local time</th>\n",
       "      <th></th>\n",
       "      <th></th>\n",
       "      <th></th>\n",
       "      <th></th>\n",
       "      <th></th>\n",
       "      <th></th>\n",
       "      <th></th>\n",
       "      <th></th>\n",
       "      <th></th>\n",
       "      <th></th>\n",
       "      <th></th>\n",
       "      <th></th>\n",
       "      <th></th>\n",
       "      <th></th>\n",
       "      <th></th>\n",
       "      <th></th>\n",
       "    </tr>\n",
       "  </thead>\n",
       "  <tbody>\n",
       "    <tr>\n",
       "      <th>2020-03-24 07:05:00</th>\n",
       "      <td>23.736</td>\n",
       "      <td>1.6452</td>\n",
       "      <td>6655</td>\n",
       "      <td>178.011</td>\n",
       "      <td>0.008140</td>\n",
       "      <td>0.004927</td>\n",
       "      <td>0.007510</td>\n",
       "      <td>0.001940</td>\n",
       "      <td>0.009565</td>\n",
       "      <td>0.004649</td>\n",
       "      <td>0.007901</td>\n",
       "      <td>0.002347</td>\n",
       "      <td>0.007835</td>\n",
       "      <td>0.003947</td>\n",
       "      <td>0.008186</td>\n",
       "      <td>0.001937</td>\n",
       "    </tr>\n",
       "    <tr>\n",
       "      <th>2020-03-24 07:10:00</th>\n",
       "      <td>23.846</td>\n",
       "      <td>1.6364</td>\n",
       "      <td>6644</td>\n",
       "      <td>178.031</td>\n",
       "      <td>0.008091</td>\n",
       "      <td>0.004956</td>\n",
       "      <td>0.007351</td>\n",
       "      <td>0.001912</td>\n",
       "      <td>0.009565</td>\n",
       "      <td>0.004653</td>\n",
       "      <td>0.007898</td>\n",
       "      <td>0.002346</td>\n",
       "      <td>0.007835</td>\n",
       "      <td>0.003948</td>\n",
       "      <td>0.008186</td>\n",
       "      <td>0.001937</td>\n",
       "    </tr>\n",
       "    <tr>\n",
       "      <th>2020-03-24 07:15:00</th>\n",
       "      <td>23.835</td>\n",
       "      <td>1.6363</td>\n",
       "      <td>6558</td>\n",
       "      <td>178.058</td>\n",
       "      <td>0.008021</td>\n",
       "      <td>0.004956</td>\n",
       "      <td>0.006850</td>\n",
       "      <td>0.001890</td>\n",
       "      <td>0.009565</td>\n",
       "      <td>0.004651</td>\n",
       "      <td>0.007919</td>\n",
       "      <td>0.002346</td>\n",
       "      <td>0.007835</td>\n",
       "      <td>0.003948</td>\n",
       "      <td>0.008189</td>\n",
       "      <td>0.001937</td>\n",
       "    </tr>\n",
       "    <tr>\n",
       "      <th>2020-03-24 07:20:00</th>\n",
       "      <td>23.946</td>\n",
       "      <td>1.6390</td>\n",
       "      <td>6576</td>\n",
       "      <td>177.839</td>\n",
       "      <td>0.007997</td>\n",
       "      <td>0.004955</td>\n",
       "      <td>0.006838</td>\n",
       "      <td>0.001890</td>\n",
       "      <td>0.009567</td>\n",
       "      <td>0.004651</td>\n",
       "      <td>0.007920</td>\n",
       "      <td>0.002346</td>\n",
       "      <td>0.007836</td>\n",
       "      <td>0.003948</td>\n",
       "      <td>0.008189</td>\n",
       "      <td>0.001937</td>\n",
       "    </tr>\n",
       "    <tr>\n",
       "      <th>2020-03-24 07:25:00</th>\n",
       "      <td>23.926</td>\n",
       "      <td>1.6420</td>\n",
       "      <td>6559</td>\n",
       "      <td>177.620</td>\n",
       "      <td>0.007941</td>\n",
       "      <td>0.004957</td>\n",
       "      <td>0.006803</td>\n",
       "      <td>0.001869</td>\n",
       "      <td>0.009566</td>\n",
       "      <td>0.004651</td>\n",
       "      <td>0.007920</td>\n",
       "      <td>0.002347</td>\n",
       "      <td>0.007836</td>\n",
       "      <td>0.003948</td>\n",
       "      <td>0.008189</td>\n",
       "      <td>0.001937</td>\n",
       "    </tr>\n",
       "    <tr>\n",
       "      <th>...</th>\n",
       "      <td>...</td>\n",
       "      <td>...</td>\n",
       "      <td>...</td>\n",
       "      <td>...</td>\n",
       "      <td>...</td>\n",
       "      <td>...</td>\n",
       "      <td>...</td>\n",
       "      <td>...</td>\n",
       "      <td>...</td>\n",
       "      <td>...</td>\n",
       "      <td>...</td>\n",
       "      <td>...</td>\n",
       "      <td>...</td>\n",
       "      <td>...</td>\n",
       "      <td>...</td>\n",
       "      <td>...</td>\n",
       "    </tr>\n",
       "    <tr>\n",
       "      <th>2023-02-10 15:35:00</th>\n",
       "      <td>79.799</td>\n",
       "      <td>2.5718</td>\n",
       "      <td>21531</td>\n",
       "      <td>126.899</td>\n",
       "      <td>0.002335</td>\n",
       "      <td>0.003551</td>\n",
       "      <td>0.001243</td>\n",
       "      <td>0.000620</td>\n",
       "      <td>0.001949</td>\n",
       "      <td>0.004199</td>\n",
       "      <td>0.001821</td>\n",
       "      <td>0.000644</td>\n",
       "      <td>0.002118</td>\n",
       "      <td>0.005861</td>\n",
       "      <td>0.002267</td>\n",
       "      <td>0.000832</td>\n",
       "    </tr>\n",
       "    <tr>\n",
       "      <th>2023-02-10 15:40:00</th>\n",
       "      <td>79.779</td>\n",
       "      <td>2.5721</td>\n",
       "      <td>21487</td>\n",
       "      <td>126.899</td>\n",
       "      <td>0.002335</td>\n",
       "      <td>0.003550</td>\n",
       "      <td>0.001243</td>\n",
       "      <td>0.000620</td>\n",
       "      <td>0.001949</td>\n",
       "      <td>0.004198</td>\n",
       "      <td>0.001823</td>\n",
       "      <td>0.000644</td>\n",
       "      <td>0.002118</td>\n",
       "      <td>0.005861</td>\n",
       "      <td>0.002268</td>\n",
       "      <td>0.000832</td>\n",
       "    </tr>\n",
       "    <tr>\n",
       "      <th>2023-02-10 15:45:00</th>\n",
       "      <td>79.764</td>\n",
       "      <td>2.5739</td>\n",
       "      <td>21552</td>\n",
       "      <td>126.901</td>\n",
       "      <td>0.002336</td>\n",
       "      <td>0.003548</td>\n",
       "      <td>0.001280</td>\n",
       "      <td>0.000619</td>\n",
       "      <td>0.001949</td>\n",
       "      <td>0.004198</td>\n",
       "      <td>0.001828</td>\n",
       "      <td>0.000644</td>\n",
       "      <td>0.002118</td>\n",
       "      <td>0.005861</td>\n",
       "      <td>0.002268</td>\n",
       "      <td>0.000832</td>\n",
       "    </tr>\n",
       "    <tr>\n",
       "      <th>2023-02-10 15:50:00</th>\n",
       "      <td>79.739</td>\n",
       "      <td>2.5721</td>\n",
       "      <td>21537</td>\n",
       "      <td>126.941</td>\n",
       "      <td>0.002336</td>\n",
       "      <td>0.003550</td>\n",
       "      <td>0.001281</td>\n",
       "      <td>0.000619</td>\n",
       "      <td>0.001949</td>\n",
       "      <td>0.004198</td>\n",
       "      <td>0.001827</td>\n",
       "      <td>0.000644</td>\n",
       "      <td>0.002118</td>\n",
       "      <td>0.005860</td>\n",
       "      <td>0.002268</td>\n",
       "      <td>0.000832</td>\n",
       "    </tr>\n",
       "    <tr>\n",
       "      <th>2023-02-10 15:55:00</th>\n",
       "      <td>79.734</td>\n",
       "      <td>2.5761</td>\n",
       "      <td>21473</td>\n",
       "      <td>126.928</td>\n",
       "      <td>0.002336</td>\n",
       "      <td>0.003549</td>\n",
       "      <td>0.001298</td>\n",
       "      <td>0.000616</td>\n",
       "      <td>0.001949</td>\n",
       "      <td>0.004198</td>\n",
       "      <td>0.001831</td>\n",
       "      <td>0.000644</td>\n",
       "      <td>0.002118</td>\n",
       "      <td>0.005861</td>\n",
       "      <td>0.002268</td>\n",
       "      <td>0.000832</td>\n",
       "    </tr>\n",
       "  </tbody>\n",
       "</table>\n",
       "<p>80678 rows × 16 columns</p>\n",
       "</div>"
      ],
      "text/plain": [
       "                     Close_fut  Close_gas  Close_btc  Close_bond  \\\n",
       "Local time                                                         \n",
       "2020-03-24 07:05:00     23.736     1.6452       6655     178.011   \n",
       "2020-03-24 07:10:00     23.846     1.6364       6644     178.031   \n",
       "2020-03-24 07:15:00     23.835     1.6363       6558     178.058   \n",
       "2020-03-24 07:20:00     23.946     1.6390       6576     177.839   \n",
       "2020-03-24 07:25:00     23.926     1.6420       6559     177.620   \n",
       "...                        ...        ...        ...         ...   \n",
       "2023-02-10 15:35:00     79.799     2.5718      21531     126.899   \n",
       "2023-02-10 15:40:00     79.779     2.5721      21487     126.899   \n",
       "2023-02-10 15:45:00     79.764     2.5739      21552     126.901   \n",
       "2023-02-10 15:50:00     79.739     2.5721      21537     126.941   \n",
       "2023-02-10 15:55:00     79.734     2.5761      21473     126.928   \n",
       "\n",
       "                     107_std_Close_fut  107_std_Close_gas  107_std_Close_btc  \\\n",
       "Local time                                                                     \n",
       "2020-03-24 07:05:00           0.008140           0.004927           0.007510   \n",
       "2020-03-24 07:10:00           0.008091           0.004956           0.007351   \n",
       "2020-03-24 07:15:00           0.008021           0.004956           0.006850   \n",
       "2020-03-24 07:20:00           0.007997           0.004955           0.006838   \n",
       "2020-03-24 07:25:00           0.007941           0.004957           0.006803   \n",
       "...                                ...                ...                ...   \n",
       "2023-02-10 15:35:00           0.002335           0.003551           0.001243   \n",
       "2023-02-10 15:40:00           0.002335           0.003550           0.001243   \n",
       "2023-02-10 15:45:00           0.002336           0.003548           0.001280   \n",
       "2023-02-10 15:50:00           0.002336           0.003550           0.001281   \n",
       "2023-02-10 15:55:00           0.002336           0.003549           0.001298   \n",
       "\n",
       "                     107_std_Close_bond  535_std_Close_fut  535_std_Close_gas  \\\n",
       "Local time                                                                      \n",
       "2020-03-24 07:05:00            0.001940           0.009565           0.004649   \n",
       "2020-03-24 07:10:00            0.001912           0.009565           0.004653   \n",
       "2020-03-24 07:15:00            0.001890           0.009565           0.004651   \n",
       "2020-03-24 07:20:00            0.001890           0.009567           0.004651   \n",
       "2020-03-24 07:25:00            0.001869           0.009566           0.004651   \n",
       "...                                 ...                ...                ...   \n",
       "2023-02-10 15:35:00            0.000620           0.001949           0.004199   \n",
       "2023-02-10 15:40:00            0.000620           0.001949           0.004198   \n",
       "2023-02-10 15:45:00            0.000619           0.001949           0.004198   \n",
       "2023-02-10 15:50:00            0.000619           0.001949           0.004198   \n",
       "2023-02-10 15:55:00            0.000616           0.001949           0.004198   \n",
       "\n",
       "                     535_std_Close_btc  535_std_Close_bond  \\\n",
       "Local time                                                   \n",
       "2020-03-24 07:05:00           0.007901            0.002347   \n",
       "2020-03-24 07:10:00           0.007898            0.002346   \n",
       "2020-03-24 07:15:00           0.007919            0.002346   \n",
       "2020-03-24 07:20:00           0.007920            0.002346   \n",
       "2020-03-24 07:25:00           0.007920            0.002347   \n",
       "...                                ...                 ...   \n",
       "2023-02-10 15:35:00           0.001821            0.000644   \n",
       "2023-02-10 15:40:00           0.001823            0.000644   \n",
       "2023-02-10 15:45:00           0.001828            0.000644   \n",
       "2023-02-10 15:50:00           0.001827            0.000644   \n",
       "2023-02-10 15:55:00           0.001831            0.000644   \n",
       "\n",
       "                     3210_std_Close_fut  3210_std_Close_gas  \\\n",
       "Local time                                                    \n",
       "2020-03-24 07:05:00            0.007835            0.003947   \n",
       "2020-03-24 07:10:00            0.007835            0.003948   \n",
       "2020-03-24 07:15:00            0.007835            0.003948   \n",
       "2020-03-24 07:20:00            0.007836            0.003948   \n",
       "2020-03-24 07:25:00            0.007836            0.003948   \n",
       "...                                 ...                 ...   \n",
       "2023-02-10 15:35:00            0.002118            0.005861   \n",
       "2023-02-10 15:40:00            0.002118            0.005861   \n",
       "2023-02-10 15:45:00            0.002118            0.005861   \n",
       "2023-02-10 15:50:00            0.002118            0.005860   \n",
       "2023-02-10 15:55:00            0.002118            0.005861   \n",
       "\n",
       "                     3210_std_Close_btc  3210_std_Close_bond  \n",
       "Local time                                                    \n",
       "2020-03-24 07:05:00            0.008186             0.001937  \n",
       "2020-03-24 07:10:00            0.008186             0.001937  \n",
       "2020-03-24 07:15:00            0.008189             0.001937  \n",
       "2020-03-24 07:20:00            0.008189             0.001937  \n",
       "2020-03-24 07:25:00            0.008189             0.001937  \n",
       "...                                 ...                  ...  \n",
       "2023-02-10 15:35:00            0.002267             0.000832  \n",
       "2023-02-10 15:40:00            0.002268             0.000832  \n",
       "2023-02-10 15:45:00            0.002268             0.000832  \n",
       "2023-02-10 15:50:00            0.002268             0.000832  \n",
       "2023-02-10 15:55:00            0.002268             0.000832  \n",
       "\n",
       "[80678 rows x 16 columns]"
      ]
     },
     "execution_count": 142,
     "metadata": {},
     "output_type": "execute_result"
    }
   ],
   "source": [
    "price_df.dropna(axis=0, how='any', inplace=False)"
   ]
  },
  {
   "cell_type": "code",
   "execution_count": 105,
   "id": "71e105a6",
   "metadata": {},
   "outputs": [],
   "source": [
    "price_df.to_csv(\"prices.csv\", index=False)"
   ]
  },
  {
   "cell_type": "code",
   "execution_count": 41,
   "id": "4df9dfc1",
   "metadata": {},
   "outputs": [],
   "source": [
    "X_train = price_df[price_df['Local time'] < '2022-08-01'][[\"Local time\",\"Close_gas\",\"Close_btc\",\"Close_bond\"]]\n",
    "y_train = price_df[price_df['Local time'] < '2022-08-01'][[\"Close_fut\"]]\n",
    "X_test = price_df[price_df['Local time'] >= '2022-08-01'][[\"Local time\",\"Close_gas\",\"Close_btc\",\"Close_bond\"]]\n",
    "y_test = price_df[price_df['Local time'] >= '2022-08-01'][[\"Close_fut\"]]"
   ]
  },
  {
   "cell_type": "markdown",
   "id": "3b31a141-ee4c-445e-80ef-d1930cccc35e",
   "metadata": {},
   "source": [
    "## Initial Model testing"
   ]
  },
  {
   "cell_type": "code",
   "execution_count": 44,
   "id": "75b2fa8e-e806-41f0-8234-9736995810b0",
   "metadata": {
    "execution": {
     "iopub.execute_input": "2023-02-20T18:28:38.367691Z",
     "iopub.status.busy": "2023-02-20T18:28:38.367691Z",
     "iopub.status.idle": "2023-02-20T18:28:51.302634Z",
     "shell.execute_reply": "2023-02-20T18:28:51.301708Z",
     "shell.execute_reply.started": "2023-02-20T18:28:38.367691Z"
    },
    "tags": []
   },
   "outputs": [
    {
     "name": "stdout",
     "output_type": "stream",
     "text": [
      "RF\n"
     ]
    },
    {
     "ename": "ValueError",
     "evalue": "\nAll the 80 fits failed.\nIt is very likely that your model is misconfigured.\nYou can try to debug the error by setting error_score='raise'.\n\nBelow are more details about the failures:\n--------------------------------------------------------------------------------\n80 fits failed with the following error:\nTraceback (most recent call last):\n  File \"c:\\Users\\soren\\anaconda3\\envs\\Causality\\lib\\site-packages\\sklearn\\model_selection\\_validation.py\", line 686, in _fit_and_score\n    estimator.fit(X_train, y_train, **fit_params)\n  File \"c:\\Users\\soren\\anaconda3\\envs\\Causality\\lib\\site-packages\\sklearn\\ensemble\\_forest.py\", line 331, in fit\n    X, y = self._validate_data(\n  File \"c:\\Users\\soren\\anaconda3\\envs\\Causality\\lib\\site-packages\\sklearn\\base.py\", line 596, in _validate_data\n    X, y = check_X_y(X, y, **check_params)\n  File \"c:\\Users\\soren\\anaconda3\\envs\\Causality\\lib\\site-packages\\sklearn\\utils\\validation.py\", line 1074, in check_X_y\n    X = check_array(\n  File \"c:\\Users\\soren\\anaconda3\\envs\\Causality\\lib\\site-packages\\sklearn\\utils\\validation.py\", line 768, in check_array\n    dtype_orig = np.result_type(*dtypes_orig)\n  File \"<__array_function__ internals>\", line 180, in result_type\nTypeError: The DType <class 'numpy.dtype[datetime64]'> could not be promoted by <class 'numpy.dtype[float64]'>. This means that no common DType exists for the given inputs. For example they cannot be stored in a single array unless the dtype is `object`. The full list of DTypes is: (<class 'numpy.dtype[datetime64]'>, <class 'numpy.dtype[float64]'>, <class 'numpy.dtype[int64]'>, <class 'numpy.dtype[float64]'>)\n",
     "output_type": "error",
     "traceback": [
      "\u001b[1;31m---------------------------------------------------------------------------\u001b[0m",
      "\u001b[1;31mValueError\u001b[0m                                Traceback (most recent call last)",
      "Cell \u001b[1;32mIn [44], line 3\u001b[0m\n\u001b[0;32m      1\u001b[0m res \u001b[39m=\u001b[39m {\u001b[39m'\u001b[39m\u001b[39mRF\u001b[39m\u001b[39m'\u001b[39m:\u001b[39mNone\u001b[39;00m, \u001b[39m'\u001b[39m\u001b[39mGB\u001b[39m\u001b[39m'\u001b[39m:\u001b[39mNone\u001b[39;00m}\n\u001b[0;32m      2\u001b[0m \u001b[39mfor\u001b[39;00m model \u001b[39min\u001b[39;00m res\u001b[39m.\u001b[39mkeys():\n\u001b[1;32m----> 3\u001b[0m     r \u001b[39m=\u001b[39m model_selection(model)\n\u001b[0;32m      4\u001b[0m     res[model] \u001b[39m=\u001b[39m r\n",
      "Cell \u001b[1;32mIn [43], line 21\u001b[0m, in \u001b[0;36mmodel_selection\u001b[1;34m(ml)\u001b[0m\n\u001b[0;32m     19\u001b[0m     grid[\u001b[39m'\u001b[39m\u001b[39mn_estimators\u001b[39m\u001b[39m'\u001b[39m] \u001b[39m=\u001b[39m [\u001b[39m10\u001b[39m,\u001b[39m50\u001b[39m,\u001b[39m100\u001b[39m,\u001b[39m1000\u001b[39m]\n\u001b[0;32m     20\u001b[0m     grid_search \u001b[39m=\u001b[39m GridSearchCV(estimator\u001b[39m=\u001b[39mmodel, param_grid\u001b[39m=\u001b[39mgrid, scoring\u001b[39m=\u001b[39m\u001b[39m'\u001b[39m\u001b[39mneg_mean_squared_error\u001b[39m\u001b[39m'\u001b[39m, n_jobs\u001b[39m=\u001b[39m\u001b[39m25\u001b[39m)\n\u001b[1;32m---> 21\u001b[0m     grid_result \u001b[39m=\u001b[39m grid_search\u001b[39m.\u001b[39;49mfit(X_train, y_train)\n\u001b[0;32m     23\u001b[0m     model_best \u001b[39m=\u001b[39m RandomForestRegressor(\n\u001b[0;32m     24\u001b[0m                 max_depth\u001b[39m=\u001b[39mgrid_result\u001b[39m.\u001b[39mbest_params_[\u001b[39m'\u001b[39m\u001b[39mmax_depth\u001b[39m\u001b[39m'\u001b[39m],\\\n\u001b[0;32m     25\u001b[0m                 n_estimators\u001b[39m=\u001b[39mgrid_result\u001b[39m.\u001b[39mbest_params_[\u001b[39m'\u001b[39m\u001b[39mn_estimators\u001b[39m\u001b[39m'\u001b[39m],\\\n\u001b[0;32m     26\u001b[0m \n\u001b[0;32m     27\u001b[0m                     )\u001b[39m.\u001b[39mfit(X_train, y_train)\n\u001b[0;32m     28\u001b[0m \u001b[39melif\u001b[39;00m ml \u001b[39m==\u001b[39m \u001b[39m'\u001b[39m\u001b[39mAB\u001b[39m\u001b[39m'\u001b[39m:\n",
      "File \u001b[1;32mc:\\Users\\soren\\anaconda3\\envs\\Causality\\lib\\site-packages\\sklearn\\model_selection\\_search.py:875\u001b[0m, in \u001b[0;36mBaseSearchCV.fit\u001b[1;34m(self, X, y, groups, **fit_params)\u001b[0m\n\u001b[0;32m    869\u001b[0m     results \u001b[39m=\u001b[39m \u001b[39mself\u001b[39m\u001b[39m.\u001b[39m_format_results(\n\u001b[0;32m    870\u001b[0m         all_candidate_params, n_splits, all_out, all_more_results\n\u001b[0;32m    871\u001b[0m     )\n\u001b[0;32m    873\u001b[0m     \u001b[39mreturn\u001b[39;00m results\n\u001b[1;32m--> 875\u001b[0m \u001b[39mself\u001b[39;49m\u001b[39m.\u001b[39;49m_run_search(evaluate_candidates)\n\u001b[0;32m    877\u001b[0m \u001b[39m# multimetric is determined here because in the case of a callable\u001b[39;00m\n\u001b[0;32m    878\u001b[0m \u001b[39m# self.scoring the return type is only known after calling\u001b[39;00m\n\u001b[0;32m    879\u001b[0m first_test_score \u001b[39m=\u001b[39m all_out[\u001b[39m0\u001b[39m][\u001b[39m\"\u001b[39m\u001b[39mtest_scores\u001b[39m\u001b[39m\"\u001b[39m]\n",
      "File \u001b[1;32mc:\\Users\\soren\\anaconda3\\envs\\Causality\\lib\\site-packages\\sklearn\\model_selection\\_search.py:1379\u001b[0m, in \u001b[0;36mGridSearchCV._run_search\u001b[1;34m(self, evaluate_candidates)\u001b[0m\n\u001b[0;32m   1377\u001b[0m \u001b[39mdef\u001b[39;00m \u001b[39m_run_search\u001b[39m(\u001b[39mself\u001b[39m, evaluate_candidates):\n\u001b[0;32m   1378\u001b[0m     \u001b[39m\"\"\"Search all candidates in param_grid\"\"\"\u001b[39;00m\n\u001b[1;32m-> 1379\u001b[0m     evaluate_candidates(ParameterGrid(\u001b[39mself\u001b[39;49m\u001b[39m.\u001b[39;49mparam_grid))\n",
      "File \u001b[1;32mc:\\Users\\soren\\anaconda3\\envs\\Causality\\lib\\site-packages\\sklearn\\model_selection\\_search.py:852\u001b[0m, in \u001b[0;36mBaseSearchCV.fit.<locals>.evaluate_candidates\u001b[1;34m(candidate_params, cv, more_results)\u001b[0m\n\u001b[0;32m    845\u001b[0m \u001b[39melif\u001b[39;00m \u001b[39mlen\u001b[39m(out) \u001b[39m!=\u001b[39m n_candidates \u001b[39m*\u001b[39m n_splits:\n\u001b[0;32m    846\u001b[0m     \u001b[39mraise\u001b[39;00m \u001b[39mValueError\u001b[39;00m(\n\u001b[0;32m    847\u001b[0m         \u001b[39m\"\u001b[39m\u001b[39mcv.split and cv.get_n_splits returned \u001b[39m\u001b[39m\"\u001b[39m\n\u001b[0;32m    848\u001b[0m         \u001b[39m\"\u001b[39m\u001b[39minconsistent results. Expected \u001b[39m\u001b[39m{}\u001b[39;00m\u001b[39m \u001b[39m\u001b[39m\"\u001b[39m\n\u001b[0;32m    849\u001b[0m         \u001b[39m\"\u001b[39m\u001b[39msplits, got \u001b[39m\u001b[39m{}\u001b[39;00m\u001b[39m\"\u001b[39m\u001b[39m.\u001b[39mformat(n_splits, \u001b[39mlen\u001b[39m(out) \u001b[39m/\u001b[39m\u001b[39m/\u001b[39m n_candidates)\n\u001b[0;32m    850\u001b[0m     )\n\u001b[1;32m--> 852\u001b[0m _warn_or_raise_about_fit_failures(out, \u001b[39mself\u001b[39;49m\u001b[39m.\u001b[39;49merror_score)\n\u001b[0;32m    854\u001b[0m \u001b[39m# For callable self.scoring, the return type is only know after\u001b[39;00m\n\u001b[0;32m    855\u001b[0m \u001b[39m# calling. If the return type is a dictionary, the error scores\u001b[39;00m\n\u001b[0;32m    856\u001b[0m \u001b[39m# can now be inserted with the correct key. The type checking\u001b[39;00m\n\u001b[0;32m    857\u001b[0m \u001b[39m# of out will be done in `_insert_error_scores`.\u001b[39;00m\n\u001b[0;32m    858\u001b[0m \u001b[39mif\u001b[39;00m callable(\u001b[39mself\u001b[39m\u001b[39m.\u001b[39mscoring):\n",
      "File \u001b[1;32mc:\\Users\\soren\\anaconda3\\envs\\Causality\\lib\\site-packages\\sklearn\\model_selection\\_validation.py:367\u001b[0m, in \u001b[0;36m_warn_or_raise_about_fit_failures\u001b[1;34m(results, error_score)\u001b[0m\n\u001b[0;32m    360\u001b[0m \u001b[39mif\u001b[39;00m num_failed_fits \u001b[39m==\u001b[39m num_fits:\n\u001b[0;32m    361\u001b[0m     all_fits_failed_message \u001b[39m=\u001b[39m (\n\u001b[0;32m    362\u001b[0m         \u001b[39mf\u001b[39m\u001b[39m\"\u001b[39m\u001b[39m\\n\u001b[39;00m\u001b[39mAll the \u001b[39m\u001b[39m{\u001b[39;00mnum_fits\u001b[39m}\u001b[39;00m\u001b[39m fits failed.\u001b[39m\u001b[39m\\n\u001b[39;00m\u001b[39m\"\u001b[39m\n\u001b[0;32m    363\u001b[0m         \u001b[39m\"\u001b[39m\u001b[39mIt is very likely that your model is misconfigured.\u001b[39m\u001b[39m\\n\u001b[39;00m\u001b[39m\"\u001b[39m\n\u001b[0;32m    364\u001b[0m         \u001b[39m\"\u001b[39m\u001b[39mYou can try to debug the error by setting error_score=\u001b[39m\u001b[39m'\u001b[39m\u001b[39mraise\u001b[39m\u001b[39m'\u001b[39m\u001b[39m.\u001b[39m\u001b[39m\\n\u001b[39;00m\u001b[39m\\n\u001b[39;00m\u001b[39m\"\u001b[39m\n\u001b[0;32m    365\u001b[0m         \u001b[39mf\u001b[39m\u001b[39m\"\u001b[39m\u001b[39mBelow are more details about the failures:\u001b[39m\u001b[39m\\n\u001b[39;00m\u001b[39m{\u001b[39;00mfit_errors_summary\u001b[39m}\u001b[39;00m\u001b[39m\"\u001b[39m\n\u001b[0;32m    366\u001b[0m     )\n\u001b[1;32m--> 367\u001b[0m     \u001b[39mraise\u001b[39;00m \u001b[39mValueError\u001b[39;00m(all_fits_failed_message)\n\u001b[0;32m    369\u001b[0m \u001b[39melse\u001b[39;00m:\n\u001b[0;32m    370\u001b[0m     some_fits_failed_message \u001b[39m=\u001b[39m (\n\u001b[0;32m    371\u001b[0m         \u001b[39mf\u001b[39m\u001b[39m\"\u001b[39m\u001b[39m\\n\u001b[39;00m\u001b[39m{\u001b[39;00mnum_failed_fits\u001b[39m}\u001b[39;00m\u001b[39m fits failed out of a total of \u001b[39m\u001b[39m{\u001b[39;00mnum_fits\u001b[39m}\u001b[39;00m\u001b[39m.\u001b[39m\u001b[39m\\n\u001b[39;00m\u001b[39m\"\u001b[39m\n\u001b[0;32m    372\u001b[0m         \u001b[39m\"\u001b[39m\u001b[39mThe score on these train-test partitions for these parameters\u001b[39m\u001b[39m\"\u001b[39m\n\u001b[1;32m   (...)\u001b[0m\n\u001b[0;32m    376\u001b[0m         \u001b[39mf\u001b[39m\u001b[39m\"\u001b[39m\u001b[39mBelow are more details about the failures:\u001b[39m\u001b[39m\\n\u001b[39;00m\u001b[39m{\u001b[39;00mfit_errors_summary\u001b[39m}\u001b[39;00m\u001b[39m\"\u001b[39m\n\u001b[0;32m    377\u001b[0m     )\n",
      "\u001b[1;31mValueError\u001b[0m: \nAll the 80 fits failed.\nIt is very likely that your model is misconfigured.\nYou can try to debug the error by setting error_score='raise'.\n\nBelow are more details about the failures:\n--------------------------------------------------------------------------------\n80 fits failed with the following error:\nTraceback (most recent call last):\n  File \"c:\\Users\\soren\\anaconda3\\envs\\Causality\\lib\\site-packages\\sklearn\\model_selection\\_validation.py\", line 686, in _fit_and_score\n    estimator.fit(X_train, y_train, **fit_params)\n  File \"c:\\Users\\soren\\anaconda3\\envs\\Causality\\lib\\site-packages\\sklearn\\ensemble\\_forest.py\", line 331, in fit\n    X, y = self._validate_data(\n  File \"c:\\Users\\soren\\anaconda3\\envs\\Causality\\lib\\site-packages\\sklearn\\base.py\", line 596, in _validate_data\n    X, y = check_X_y(X, y, **check_params)\n  File \"c:\\Users\\soren\\anaconda3\\envs\\Causality\\lib\\site-packages\\sklearn\\utils\\validation.py\", line 1074, in check_X_y\n    X = check_array(\n  File \"c:\\Users\\soren\\anaconda3\\envs\\Causality\\lib\\site-packages\\sklearn\\utils\\validation.py\", line 768, in check_array\n    dtype_orig = np.result_type(*dtypes_orig)\n  File \"<__array_function__ internals>\", line 180, in result_type\nTypeError: The DType <class 'numpy.dtype[datetime64]'> could not be promoted by <class 'numpy.dtype[float64]'>. This means that no common DType exists for the given inputs. For example they cannot be stored in a single array unless the dtype is `object`. The full list of DTypes is: (<class 'numpy.dtype[datetime64]'>, <class 'numpy.dtype[float64]'>, <class 'numpy.dtype[int64]'>, <class 'numpy.dtype[float64]'>)\n"
     ]
    }
   ],
   "source": [
    "res = {'RF':None, 'GB':None}\n",
    "for model in res.keys():\n",
    "    r = model_selection(model)\n",
    "    res[model] = r"
   ]
  }
 ],
 "metadata": {
  "kernelspec": {
   "display_name": "Causality",
   "language": "python",
   "name": "python3"
  },
  "language_info": {
   "codemirror_mode": {
    "name": "ipython",
    "version": 3
   },
   "file_extension": ".py",
   "mimetype": "text/x-python",
   "name": "python",
   "nbconvert_exporter": "python",
   "pygments_lexer": "ipython3",
   "version": "3.9.14"
  },
  "toc-autonumbering": true,
  "toc-showcode": false,
  "toc-showmarkdowntxt": false,
  "toc-showtags": false,
  "vscode": {
   "interpreter": {
    "hash": "960d2775473cb3d065e28c47b6bd81ca92f30da6618703e462b5ce909118ad7d"
   }
  }
 },
 "nbformat": 4,
 "nbformat_minor": 5
}
