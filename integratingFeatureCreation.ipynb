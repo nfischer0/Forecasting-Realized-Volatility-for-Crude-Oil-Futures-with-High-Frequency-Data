{
 "cells": [
  {
   "cell_type": "markdown",
   "id": "f1480de7-2744-4551-9e99-317f6b7893d2",
   "metadata": {},
   "source": [
    "# Imports and Function Definitions"
   ]
  },
  {
   "cell_type": "code",
   "execution_count": 1,
   "id": "de881bb1-c0f2-436b-9f1d-ac9304afae45",
   "metadata": {
    "execution": {
     "iopub.execute_input": "2023-03-03T00:39:25.630266Z",
     "iopub.status.busy": "2023-03-03T00:39:25.629266Z",
     "iopub.status.idle": "2023-03-03T00:39:28.642755Z",
     "shell.execute_reply": "2023-03-03T00:39:28.641740Z",
     "shell.execute_reply.started": "2023-03-03T00:39:25.629266Z"
    },
    "tags": []
   },
   "outputs": [],
   "source": [
    "import pandas as pd\n",
    "import numpy as np\n",
    "from scipy import stats\n",
    "from scipy.special import gamma\n",
    "from math import ceil, sqrt\n",
    "import matplotlib.pyplot as plt\n",
    "import seaborn as sns\n",
    "\n",
    "from sklearn.model_selection import KFold, StratifiedKFold, train_test_split\n",
    "from sklearn.linear_model import ElasticNet\n",
    "from sklearn.ensemble import RandomForestRegressor, RandomForestClassifier, GradientBoostingRegressor, GradientBoostingClassifier\n",
    "from sklearn.metrics import mean_absolute_error, accuracy_score, mean_squared_error\n",
    "from sklearn.model_selection import TimeSeriesSplit, GridSearchCV, cross_val_score, KFold, StratifiedKFold\n",
    "\n",
    "from statsmodels.graphics.tsaplots import plot_acf, plot_pacf\n",
    "sns.set()\n",
    "\n",
    "import warnings\n",
    "warnings.filterwarnings('ignore')\n",
    "from polygon import RESTClient\n",
    "\n",
    "import datetime as dt"
   ]
  },
  {
   "cell_type": "code",
   "execution_count": 2,
   "id": "72c06572-8943-4f96-8a07-1e0696cb9c76",
   "metadata": {
    "execution": {
     "iopub.execute_input": "2023-03-03T00:39:28.643685Z",
     "iopub.status.busy": "2023-03-03T00:39:28.643685Z",
     "iopub.status.idle": "2023-03-03T00:39:28.658685Z",
     "shell.execute_reply": "2023-03-03T00:39:28.657685Z",
     "shell.execute_reply.started": "2023-03-03T00:39:28.643685Z"
    },
    "tags": []
   },
   "outputs": [],
   "source": [
    "def tree_feat_importance(m, df):\n",
    "    return pd.DataFrame({'cols':df.columns, 'feat_imp':m.feature_importances_}\n",
    "                       ).sort_values('feat_imp', ascending=False)\n",
    "def ensemble_tree_feat_importance(m, df):\n",
    "    feature_importances = np.mean([\n",
    "    tree.feature_importances_ for tree in m.estimators_\n",
    "                                    ], axis=0)\n",
    "    return pd.DataFrame({'cols':df.columns, 'feat_imp':feature_importances}\n",
    "                       ).sort_values('feat_imp', ascending=False)\n",
    "def plot_fi(fi): return fi.plot('cols', 'feat_imp', 'barh', figsize=(15,20), legend=False)\n",
    "def xgb_feat_importance(m, df):\n",
    "    feature_importances = m.feature_importances_\n",
    "    return pd.DataFrame({'cols':df.columns, 'feat_imp':feature_importances}\n",
    "                       ).sort_values('feat_imp', ascending=False)"
   ]
  },
  {
   "cell_type": "code",
   "execution_count": 3,
   "id": "6972bd09-2106-41cf-8c01-3015120b157e",
   "metadata": {
    "execution": {
     "iopub.execute_input": "2023-03-03T00:39:28.660685Z",
     "iopub.status.busy": "2023-03-03T00:39:28.660685Z",
     "iopub.status.idle": "2023-03-03T00:39:28.673688Z",
     "shell.execute_reply": "2023-03-03T00:39:28.672765Z",
     "shell.execute_reply.started": "2023-03-03T00:39:28.660685Z"
    },
    "tags": []
   },
   "outputs": [],
   "source": [
    "def model_selection(ml):\n",
    "    print(ml)\n",
    "    if ml == 'GB':\n",
    "        model = GradientBoostingRegressor()\n",
    "        grid = dict()\n",
    "        grid['learning_rate'] = [1e-3,1e-5,1e-7]\n",
    "        grid['n_estimators'] = [10,50,100,1000]\n",
    "        tscv = TimeSeriesSplit(n_splits=2)\n",
    "        grid_search = GridSearchCV(estimator=model, param_grid=grid, scoring='neg_mean_squared_error', cv = tscv)#, n_jobs=25)\n",
    "        grid_result = grid_search.fit(X_train, y_train)\n",
    "        model_best = GradientBoostingRegressor(learning_rate=grid_result.best_params_['learning_rate'],\\\n",
    "                    n_estimators=grid_result.best_params_['n_estimators'],\\\n",
    "                                              ).fit(X_train, y_train)\n",
    "\n",
    "    elif ml == 'RF':\n",
    "        model = RandomForestRegressor(n_jobs=25)\n",
    "        grid = dict()\n",
    "        grid['max_depth'] = [3,5,7,10]\n",
    "        grid['n_estimators'] = [10,50,100,1000]\n",
    "        tscv = TimeSeriesSplit(n_splits=2)\n",
    "        grid_search = GridSearchCV(estimator=model, param_grid=grid, scoring='neg_mean_squared_error', cv = tscv)#, n_jobs=25), n_jobs=25)\n",
    "        grid_result = grid_search.fit(X_train, y_train)\n",
    "\n",
    "        model_best = RandomForestRegressor(\n",
    "                    max_depth=grid_result.best_params_['max_depth'],\\\n",
    "                    n_estimators=grid_result.best_params_['n_estimators'],\\\n",
    "                        ).fit(X_train, y_train)\n",
    "    \n",
    "    \n",
    "    print(model_best)\n",
    "    y_pred = model_best.predict(X_test)\n",
    "    print('MAE: ', mean_absolute_error(y_pred, y_test), '\\nMSE: ', mean_squared_error(y_pred,y_test), '\\nRMSE: ', np.sqrt(mean_squared_error(y_pred,y_test)))\n",
    "\n",
    "    return(model_best, y_pred)#, [X_train, X_test, y_train, y_test])"
   ]
  },
  {
   "cell_type": "markdown",
   "id": "2abf351b-7c2e-4839-86b1-bd69644bb3e2",
   "metadata": {
    "tags": []
   },
   "source": [
    "# Cleaning and Merging"
   ]
  },
  {
   "cell_type": "code",
   "execution_count": 4,
   "id": "b4622c71-fae4-41f1-b807-d4e2f87a6c28",
   "metadata": {
    "execution": {
     "iopub.execute_input": "2023-03-03T00:37:35.402169Z",
     "iopub.status.busy": "2023-03-03T00:37:35.402169Z",
     "iopub.status.idle": "2023-03-03T00:37:35.415168Z",
     "shell.execute_reply": "2023-03-03T00:37:35.415168Z",
     "shell.execute_reply.started": "2023-03-03T00:37:35.402169Z"
    },
    "tags": []
   },
   "outputs": [],
   "source": [
    "client = RESTClient(api_key=\"18U85gkK04AWHrbE3oWvG9b3fF8JdlxQ\")"
   ]
  },
  {
   "cell_type": "code",
   "execution_count": 5,
   "id": "fa182899-8cc0-4bef-bb48-02dca8133d2c",
   "metadata": {
    "execution": {
     "iopub.execute_input": "2023-03-03T00:37:35.643110Z",
     "iopub.status.busy": "2023-03-03T00:37:35.643110Z",
     "iopub.status.idle": "2023-03-03T00:37:38.524492Z",
     "shell.execute_reply": "2023-03-03T00:37:38.524492Z",
     "shell.execute_reply.started": "2023-03-03T00:37:35.643110Z"
    },
    "tags": []
   },
   "outputs": [],
   "source": [
    "vxx = client.get_aggs(ticker='VXX', multiplier=5, timespan=\"minute\", from_=\"2022-04-01\", to=\"2022-09-01\", limit=50000)\n",
    "spy = client.get_aggs(ticker='SPY', multiplier=5, timespan=\"minute\", from_=\"2022-04-01\", to=\"2022-09-01\", limit=50000)\n",
    "uso = client.get_aggs(ticker='USO', multiplier=5, timespan=\"minute\", from_=\"2022-04-01\", to=\"2022-09-01\", limit=50000)"
   ]
  },
  {
   "cell_type": "code",
   "execution_count": 6,
   "id": "de3ad651-4930-4cf5-8c33-314e91c82686",
   "metadata": {
    "execution": {
     "iopub.execute_input": "2023-03-03T00:33:07.022997Z",
     "iopub.status.busy": "2023-03-03T00:33:07.021997Z",
     "iopub.status.idle": "2023-03-03T00:33:07.037996Z",
     "shell.execute_reply": "2023-03-03T00:33:07.037077Z",
     "shell.execute_reply.started": "2023-03-03T00:33:07.022997Z"
    },
    "tags": []
   },
   "outputs": [],
   "source": [
    "poly_dict = {'vxx':vxx, 'spy':spy, 'uso':uso}"
   ]
  },
  {
   "cell_type": "code",
   "execution_count": 7,
   "id": "4255f238-0ff4-41b2-bae5-7af3bc7c12d4",
   "metadata": {
    "execution": {
     "iopub.execute_input": "2023-03-03T00:33:07.039998Z",
     "iopub.status.busy": "2023-03-03T00:33:07.038998Z",
     "iopub.status.idle": "2023-03-03T00:33:07.633316Z",
     "shell.execute_reply": "2023-03-03T00:33:07.632257Z",
     "shell.execute_reply.started": "2023-03-03T00:33:07.039998Z"
    },
    "tags": []
   },
   "outputs": [],
   "source": [
    "for data in poly_dict.keys():\n",
    "    poly_dict[data] = pd.DataFrame(poly_dict[data])[['close', 'timestamp']]\n",
    "    poly_dict[data] = poly_dict[data].rename(columns={'close':'Close', 'timestamp':'Local time'})\n",
    "    poly_dict[data]['Local time'] = pd.to_datetime(poly_dict[data]['Local time'], unit='ms')"
   ]
  },
  {
   "cell_type": "code",
   "execution_count": 8,
   "id": "93fd99c8-09bb-4be1-ac11-95442ba7d6f4",
   "metadata": {
    "execution": {
     "iopub.execute_input": "2023-03-03T00:33:07.634272Z",
     "iopub.status.busy": "2023-03-03T00:33:07.634272Z",
     "iopub.status.idle": "2023-03-03T00:33:07.664272Z",
     "shell.execute_reply": "2023-03-03T00:33:07.663282Z",
     "shell.execute_reply.started": "2023-03-03T00:33:07.634272Z"
    },
    "tags": []
   },
   "outputs": [],
   "source": [
    "vxx = poly_dict['vxx']\n",
    "spy = poly_dict['spy']\n",
    "uso = poly_dict['uso']"
   ]
  },
  {
   "cell_type": "code",
   "execution_count": 9,
   "id": "076bb000-a60d-4eb5-beae-b267e77688a6",
   "metadata": {
    "execution": {
     "iopub.execute_input": "2023-03-03T05:02:29.280804Z",
     "iopub.status.busy": "2023-03-03T05:02:29.280804Z",
     "iopub.status.idle": "2023-03-03T05:02:30.278910Z",
     "shell.execute_reply": "2023-03-03T05:02:30.277838Z",
     "shell.execute_reply.started": "2023-03-03T05:02:29.280804Z"
    },
    "tags": []
   },
   "outputs": [],
   "source": [
    "fut = pd.read_csv('LIGHT.CMDUSD_Candlestick_5_M_BID_11.02.2020-11.02.2023.csv')\n",
    "gas = pd.read_csv('GAS.CMDUSD_Candlestick_5_M_BID_11.02.2020-11.02.2023.csv')\n",
    "btc = pd.read_csv('BTCUSD_Candlestick_5_M_BID_11.02.2020-11.02.2023.csv')\n",
    "bond = pd.read_csv('USTBOND.TRUSD_Candlestick_5_M_BID_11.02.2020-11.02.2023.csv')"
   ]
  },
  {
   "cell_type": "code",
   "execution_count": 10,
   "id": "c654650a-82e7-43a1-9e60-8b433b1be650",
   "metadata": {
    "execution": {
     "iopub.execute_input": "2023-03-03T05:02:30.279950Z",
     "iopub.status.busy": "2023-03-03T05:02:30.279950Z",
     "iopub.status.idle": "2023-03-03T05:02:30.294913Z",
     "shell.execute_reply": "2023-03-03T05:02:30.293913Z",
     "shell.execute_reply.started": "2023-03-03T05:02:30.279950Z"
    },
    "tags": []
   },
   "outputs": [],
   "source": [
    "data_dict = {'fut':fut, 'gas':gas, #'vxx':vxx, 'spy':spy, #'uso':uso, \n",
    "            'btc':btc, 'bond':bond}"
   ]
  },
  {
   "cell_type": "markdown",
   "id": "81caf05a-520b-4bab-ab89-cdab52b3a4a3",
   "metadata": {},
   "source": [
    "## Datetime and indexing"
   ]
  },
  {
   "cell_type": "code",
   "execution_count": 309,
   "id": "f62b06f3-287f-48d7-ab11-5d0f1af2de1b",
   "metadata": {
    "execution": {
     "iopub.execute_input": "2023-03-03T04:56:11.984826Z",
     "iopub.status.busy": "2023-03-03T04:56:11.984826Z",
     "iopub.status.idle": "2023-03-03T04:56:11.993825Z",
     "shell.execute_reply": "2023-03-03T04:56:11.993825Z",
     "shell.execute_reply.started": "2023-03-03T04:56:11.984826Z"
    },
    "tags": []
   },
   "outputs": [],
   "source": [
    "# idx = pd.to_datetime(data_dict['fut']['Local time'])\n",
    "# idx=idx.apply(lambda x: x.replace(tzinfo=None))"
   ]
  },
  {
   "cell_type": "code",
   "execution_count": 11,
   "id": "cc3d83fb-f59e-4d95-ac6d-1510ceb057f6",
   "metadata": {
    "execution": {
     "iopub.execute_input": "2023-03-03T05:02:42.491323Z",
     "iopub.status.busy": "2023-03-03T05:02:42.491323Z",
     "iopub.status.idle": "2023-03-03T05:02:45.630278Z",
     "shell.execute_reply": "2023-03-03T05:02:45.629267Z",
     "shell.execute_reply.started": "2023-03-03T05:02:42.491323Z"
    },
    "tags": []
   },
   "outputs": [],
   "source": [
    "for data in data_dict.keys():\n",
    "    if data in ['vxx', 'spy', 'uso']:\n",
    "        data_dict[data] = data_dict[data].set_index(idx)\n",
    "        data_dict[data] = data_dict[data].drop(['Open', 'High', 'Low', 'Volume', 'Local time'], axis=1)\n",
    "    else:     \n",
    "        ix = pd.to_datetime(data_dict[data][\"Local time\"].apply(lambda x: \" \".join(x.split()[0:2])), format='%d.%m.%Y %H:%M:%S.%f')\n",
    "        data_dict[data] = data_dict[data].set_index(ix)['Close']"
   ]
  },
  {
   "cell_type": "markdown",
   "id": "c11f3950-96a9-4578-995c-21734ad856a0",
   "metadata": {},
   "source": [
    "## Merging"
   ]
  },
  {
   "cell_type": "code",
   "execution_count": 12,
   "id": "205f196e-1ac1-4338-9a3b-d8b4c0452ec3",
   "metadata": {
    "execution": {
     "iopub.execute_input": "2023-03-03T05:02:45.631278Z",
     "iopub.status.busy": "2023-03-03T05:02:45.631278Z",
     "iopub.status.idle": "2023-03-03T05:02:46.063480Z",
     "shell.execute_reply": "2023-03-03T05:02:46.062469Z",
     "shell.execute_reply.started": "2023-03-03T05:02:45.631278Z"
    },
    "tags": []
   },
   "outputs": [],
   "source": [
    "# df = pd.DataFrame(index=data_dict['vxx'].index)\n",
    "df = pd.DataFrame(index=data_dict['fut'].index)\n",
    "for data in data_dict.keys():\n",
    "    df = pd.merge(df, data_dict[data], left_index=True, right_index=True, suffixes=['', '_'+data], how='left')\n",
    "df = df.rename(columns={'Close':'Close_fut'})"
   ]
  },
  {
   "cell_type": "markdown",
   "id": "580f11c0-18fe-45f5-b311-083ed2dcc708",
   "metadata": {},
   "source": [
    "## Cut to market hours"
   ]
  },
  {
   "cell_type": "code",
   "execution_count": 13,
   "id": "cfcfcb08-33a3-482c-b2e9-36a4ef68d44e",
   "metadata": {
    "execution": {
     "iopub.execute_input": "2023-03-03T05:02:51.862627Z",
     "iopub.status.busy": "2023-03-03T05:02:51.862627Z",
     "iopub.status.idle": "2023-03-03T05:03:01.185637Z",
     "shell.execute_reply": "2023-03-03T05:03:01.184842Z",
     "shell.execute_reply.started": "2023-03-03T05:02:51.862627Z"
    },
    "tags": []
   },
   "outputs": [],
   "source": [
    "df['date'] = df.apply(lambda x: dt.datetime.strptime(str(x.name), '%Y-%m-%d %H:%M:%S').date(), axis=1)\n",
    "df['time'] = df.apply(lambda x: dt.datetime.strptime(str(x.name), '%Y-%m-%d %H:%M:%S').time(), axis=1)"
   ]
  },
  {
   "cell_type": "code",
   "execution_count": 14,
   "id": "8c1355ae-d13e-4a70-947d-aab2cbf87ffb",
   "metadata": {
    "execution": {
     "iopub.execute_input": "2023-03-03T05:03:01.185637Z",
     "iopub.status.busy": "2023-03-03T05:03:01.185637Z",
     "iopub.status.idle": "2023-03-03T05:03:01.277780Z",
     "shell.execute_reply": "2023-03-03T05:03:01.276837Z",
     "shell.execute_reply.started": "2023-03-03T05:03:01.185637Z"
    },
    "tags": []
   },
   "outputs": [],
   "source": [
    "df = df.loc[ (df['time']>dt.time(7)) & (df['time']<dt.time(16)) ]\n",
    "df = df[df.index.dayofweek < 5]"
   ]
  },
  {
   "cell_type": "markdown",
   "id": "33f5882d-46fb-4db4-85b7-6a36836ed1ad",
   "metadata": {},
   "source": [
    "The plot below shows the high daily variance and the gaps between data are non-trading hours"
   ]
  },
  {
   "cell_type": "code",
   "execution_count": 15,
   "id": "538e2e84-4524-420e-aea1-ee4f2c914e81",
   "metadata": {
    "execution": {
     "iopub.execute_input": "2023-03-03T05:03:01.278820Z",
     "iopub.status.busy": "2023-03-03T05:03:01.277780Z",
     "iopub.status.idle": "2023-03-03T05:03:01.293741Z",
     "shell.execute_reply": "2023-03-03T05:03:01.292780Z",
     "shell.execute_reply.started": "2023-03-03T05:03:01.278820Z"
    },
    "tags": []
   },
   "outputs": [
    {
     "data": {
      "text/html": [
       "<div>\n",
       "<style scoped>\n",
       "    .dataframe tbody tr th:only-of-type {\n",
       "        vertical-align: middle;\n",
       "    }\n",
       "\n",
       "    .dataframe tbody tr th {\n",
       "        vertical-align: top;\n",
       "    }\n",
       "\n",
       "    .dataframe thead th {\n",
       "        text-align: right;\n",
       "    }\n",
       "</style>\n",
       "<table border=\"1\" class=\"dataframe\">\n",
       "  <thead>\n",
       "    <tr style=\"text-align: right;\">\n",
       "      <th></th>\n",
       "      <th>Close_fut</th>\n",
       "      <th>Close_gas</th>\n",
       "      <th>Close_btc</th>\n",
       "      <th>Close_bond</th>\n",
       "      <th>date</th>\n",
       "      <th>time</th>\n",
       "    </tr>\n",
       "    <tr>\n",
       "      <th>Local time</th>\n",
       "      <th></th>\n",
       "      <th></th>\n",
       "      <th></th>\n",
       "      <th></th>\n",
       "      <th></th>\n",
       "      <th></th>\n",
       "    </tr>\n",
       "  </thead>\n",
       "  <tbody>\n",
       "    <tr>\n",
       "      <th>2020-02-11 07:05:00</th>\n",
       "      <td>50.445</td>\n",
       "      <td>1.7640</td>\n",
       "      <td>9801</td>\n",
       "      <td>162.280</td>\n",
       "      <td>2020-02-11</td>\n",
       "      <td>07:05:00</td>\n",
       "    </tr>\n",
       "    <tr>\n",
       "      <th>2020-02-11 07:10:00</th>\n",
       "      <td>50.375</td>\n",
       "      <td>1.7674</td>\n",
       "      <td>9815</td>\n",
       "      <td>162.311</td>\n",
       "      <td>2020-02-11</td>\n",
       "      <td>07:10:00</td>\n",
       "    </tr>\n",
       "    <tr>\n",
       "      <th>2020-02-11 07:15:00</th>\n",
       "      <td>50.326</td>\n",
       "      <td>1.7703</td>\n",
       "      <td>9816</td>\n",
       "      <td>162.248</td>\n",
       "      <td>2020-02-11</td>\n",
       "      <td>07:15:00</td>\n",
       "    </tr>\n",
       "    <tr>\n",
       "      <th>2020-02-11 07:20:00</th>\n",
       "      <td>50.356</td>\n",
       "      <td>1.7725</td>\n",
       "      <td>9821</td>\n",
       "      <td>162.561</td>\n",
       "      <td>2020-02-11</td>\n",
       "      <td>07:20:00</td>\n",
       "    </tr>\n",
       "    <tr>\n",
       "      <th>2020-02-11 07:25:00</th>\n",
       "      <td>50.445</td>\n",
       "      <td>1.7734</td>\n",
       "      <td>9816</td>\n",
       "      <td>162.401</td>\n",
       "      <td>2020-02-11</td>\n",
       "      <td>07:25:00</td>\n",
       "    </tr>\n",
       "    <tr>\n",
       "      <th>...</th>\n",
       "      <td>...</td>\n",
       "      <td>...</td>\n",
       "      <td>...</td>\n",
       "      <td>...</td>\n",
       "      <td>...</td>\n",
       "      <td>...</td>\n",
       "    </tr>\n",
       "    <tr>\n",
       "      <th>2023-02-10 15:35:00</th>\n",
       "      <td>79.799</td>\n",
       "      <td>2.5718</td>\n",
       "      <td>21531</td>\n",
       "      <td>126.899</td>\n",
       "      <td>2023-02-10</td>\n",
       "      <td>15:35:00</td>\n",
       "    </tr>\n",
       "    <tr>\n",
       "      <th>2023-02-10 15:40:00</th>\n",
       "      <td>79.779</td>\n",
       "      <td>2.5721</td>\n",
       "      <td>21487</td>\n",
       "      <td>126.899</td>\n",
       "      <td>2023-02-10</td>\n",
       "      <td>15:40:00</td>\n",
       "    </tr>\n",
       "    <tr>\n",
       "      <th>2023-02-10 15:45:00</th>\n",
       "      <td>79.764</td>\n",
       "      <td>2.5739</td>\n",
       "      <td>21552</td>\n",
       "      <td>126.901</td>\n",
       "      <td>2023-02-10</td>\n",
       "      <td>15:45:00</td>\n",
       "    </tr>\n",
       "    <tr>\n",
       "      <th>2023-02-10 15:50:00</th>\n",
       "      <td>79.739</td>\n",
       "      <td>2.5721</td>\n",
       "      <td>21537</td>\n",
       "      <td>126.941</td>\n",
       "      <td>2023-02-10</td>\n",
       "      <td>15:50:00</td>\n",
       "    </tr>\n",
       "    <tr>\n",
       "      <th>2023-02-10 15:55:00</th>\n",
       "      <td>79.734</td>\n",
       "      <td>2.5761</td>\n",
       "      <td>21473</td>\n",
       "      <td>126.928</td>\n",
       "      <td>2023-02-10</td>\n",
       "      <td>15:55:00</td>\n",
       "    </tr>\n",
       "  </tbody>\n",
       "</table>\n",
       "<p>83888 rows × 6 columns</p>\n",
       "</div>"
      ],
      "text/plain": [
       "                     Close_fut  Close_gas  Close_btc  Close_bond        date  \\\n",
       "Local time                                                                     \n",
       "2020-02-11 07:05:00     50.445     1.7640       9801     162.280  2020-02-11   \n",
       "2020-02-11 07:10:00     50.375     1.7674       9815     162.311  2020-02-11   \n",
       "2020-02-11 07:15:00     50.326     1.7703       9816     162.248  2020-02-11   \n",
       "2020-02-11 07:20:00     50.356     1.7725       9821     162.561  2020-02-11   \n",
       "2020-02-11 07:25:00     50.445     1.7734       9816     162.401  2020-02-11   \n",
       "...                        ...        ...        ...         ...         ...   \n",
       "2023-02-10 15:35:00     79.799     2.5718      21531     126.899  2023-02-10   \n",
       "2023-02-10 15:40:00     79.779     2.5721      21487     126.899  2023-02-10   \n",
       "2023-02-10 15:45:00     79.764     2.5739      21552     126.901  2023-02-10   \n",
       "2023-02-10 15:50:00     79.739     2.5721      21537     126.941  2023-02-10   \n",
       "2023-02-10 15:55:00     79.734     2.5761      21473     126.928  2023-02-10   \n",
       "\n",
       "                         time  \n",
       "Local time                     \n",
       "2020-02-11 07:05:00  07:05:00  \n",
       "2020-02-11 07:10:00  07:10:00  \n",
       "2020-02-11 07:15:00  07:15:00  \n",
       "2020-02-11 07:20:00  07:20:00  \n",
       "2020-02-11 07:25:00  07:25:00  \n",
       "...                       ...  \n",
       "2023-02-10 15:35:00  15:35:00  \n",
       "2023-02-10 15:40:00  15:40:00  \n",
       "2023-02-10 15:45:00  15:45:00  \n",
       "2023-02-10 15:50:00  15:50:00  \n",
       "2023-02-10 15:55:00  15:55:00  \n",
       "\n",
       "[83888 rows x 6 columns]"
      ]
     },
     "execution_count": 15,
     "metadata": {},
     "output_type": "execute_result"
    }
   ],
   "source": [
    "df"
   ]
  },
  {
   "cell_type": "code",
   "execution_count": 16,
   "id": "cabaa440-8add-4e3e-b931-bed89cb7cba2",
   "metadata": {
    "execution": {
     "iopub.execute_input": "2023-03-03T05:03:02.130670Z",
     "iopub.status.busy": "2023-03-03T05:03:02.129670Z",
     "iopub.status.idle": "2023-03-03T05:03:02.548182Z",
     "shell.execute_reply": "2023-03-03T05:03:02.548182Z",
     "shell.execute_reply.started": "2023-03-03T05:03:02.130670Z"
    },
    "tags": []
   },
   "outputs": [
    {
     "data": {
      "text/plain": [
       "<matplotlib.collections.PathCollection at 0x1a4e70aa8b0>"
      ]
     },
     "execution_count": 16,
     "metadata": {},
     "output_type": "execute_result"
    },
    {
     "data": {
      "image/png": "[encoded data removed]",
      "text/plain": [
       "<Figure size 2000x900 with 1 Axes>"
      ]
     },
     "metadata": {},
     "output_type": "display_data"
    }
   ],
   "source": [
    "plt.subplots(figsize=(20,9))\n",
    "plt.scatter(df.index, df['Close_fut'])"
   ]
  },
  {
   "cell_type": "markdown",
   "id": "aab721b6-33f9-4ee1-b214-7a50bc48b80a",
   "metadata": {},
   "source": [
    "# Test Train Splits\n",
    "\n",
    "## brainstorm:\n",
    "2 train test splitting techniques: day by day or chunk by chunk.\n",
    "\n",
    "- day by day: train p of the day test 1-p for each day, record accuracy for each day \n",
    "    - bad: small amount of data per train\n",
    "    - good: consistent times predicted\n",
    "- chunk by chunk: train n data points test m data points, record accuracy for each chunk\n",
    "    - bad: inconsistent time predicted; different days have different vol levels and predicting across days could be problematic\n",
    "    - good: more train data, could get different prediction horizons, no dependency on prediction time"
   ]
  },
  {
   "cell_type": "markdown",
   "id": "bf49793b-c8ae-4bb6-98d6-8844a46e4a3a",
   "metadata": {},
   "source": [
    "## Day by Day"
   ]
  },
  {
   "cell_type": "markdown",
   "id": "c65e5605-0686-4eb0-8084-8e7bc2c16ef2",
   "metadata": {},
   "source": [
    "We split the data into individual days.  We calculate the $n$ period rolling standard deviation as our outcome measure within each day.  Then, we can concat the data together"
   ]
  },
  {
   "cell_type": "code",
   "execution_count": 17,
   "id": "ee78ffb2-11ef-4ab1-abe3-9236b140e20f",
   "metadata": {
    "execution": {
     "iopub.execute_input": "2023-03-03T04:56:35.017310Z",
     "iopub.status.busy": "2023-03-03T04:56:35.017310Z",
     "iopub.status.idle": "2023-03-03T04:56:35.203594Z",
     "shell.execute_reply": "2023-03-03T04:56:35.202590Z",
     "shell.execute_reply.started": "2023-03-03T04:56:35.017310Z"
    },
    "tags": []
   },
   "outputs": [],
   "source": [
    "days = list(set([d.date() for d in df.index]))"
   ]
  },
  {
   "cell_type": "code",
   "execution_count": 18,
   "id": "604f3797-3454-4309-a5cf-ecb433d48999",
   "metadata": {
    "execution": {
     "iopub.execute_input": "2023-03-03T04:56:35.242564Z",
     "iopub.status.busy": "2023-03-03T04:56:35.242564Z",
     "iopub.status.idle": "2023-03-03T04:56:35.249565Z",
     "shell.execute_reply": "2023-03-03T04:56:35.249565Z",
     "shell.execute_reply.started": "2023-03-03T04:56:35.242564Z"
    },
    "tags": []
   },
   "outputs": [
    {
     "data": {
      "text/plain": [
       "{'Close_bond', 'Close_btc', 'Close_fut', 'Close_gas'}"
      ]
     },
     "execution_count": 18,
     "metadata": {},
     "output_type": "execute_result"
    }
   ],
   "source": [
    "set(df.columns) - {'date', 'time'}"
   ]
  },
  {
   "cell_type": "code",
   "execution_count": 20,
   "id": "3b1d9f87",
   "metadata": {},
   "outputs": [],
   "source": [
    "# Some constants for feature creation\n",
    "mu_1 = np.sqrt((2 / np.pi))\n",
    "mu_43 = 2 ** (2 / 3) * gamma(7 / 6) * gamma(1 / 2) ** (-1)\n",
    "\n",
    "# Since the data has not been resampled\n",
    "M = 1"
   ]
  },
  {
   "cell_type": "code",
   "execution_count": 40,
   "id": "362169b5",
   "metadata": {},
   "outputs": [],
   "source": [
    "# Define the feature functions\n",
    "def rv(x):\n",
    "    # Realized Variance (Andersen and Bollerslev, 1998)\n",
    "    return (x ** 2).sum()\n",
    "\n",
    "def rav(x):\n",
    "    # Realized absolute variation (Forsberg and Ghysels, 2007)\n",
    "    return mu_1 ** (-1) * M ** (-.5) * x.abs().sum()\n",
    "\n",
    "def bv(x):\n",
    "    # Realized bipower variation (Barndorff-Nielsen and Shephard; 2004, 2006)\n",
    "    return mu_1 ** (-2) * (x.abs() * x.shift(1).abs()).sum()\n",
    "\n",
    "def tq(x):\n",
    "    # Standardized tri-power quarticity (see e.g. Forsberg & Ghysels, 2007)\n",
    "    return M * mu_43 ** (-3) *(x.abs() ** (4 / 3) * x.shift(1).abs() ** (4 / 3) * \n",
    "                                x.shift(2).abs() ** (4 / 3)).sum()\n",
    "    \n",
    "def jump_test(x):\n",
    "    # Jump test by Huang and Tauchen (2005)\n",
    "    j = ((np.log(rv(x)+0.00000001) - np.log(bv(x)+0.00000001)) / \\\n",
    "        ((mu_1 ** -4 + 2 * mu_1 ** -2 - 5) / (M * tq(x) * bv(x) ** -2)) ** 0.5)\n",
    "\n",
    "    jump = abs(j) >= stats.norm.ppf(0.999)\n",
    "    \n",
    "    return jump\n",
    "\n",
    "def rv_m(x):\n",
    "    # Realized Semivariance (Barndorff-Nielsen, Kinnebrock and Shephard, 2010)\n",
    "    return((x ** 2 * (x < 0)).sum())\n",
    "\n",
    "def rv_p(x):\n",
    "    return((x ** 2 * (x > 0)).sum())\n",
    "\n",
    "def sjv_p(x):\n",
    "    # Signed jump variation (Patton and Sheppard, 2015)\n",
    "    return((rv_p(x) - rv_m(x)) * (rv_p(x) - rv_m(x) > 0))\n",
    "\n",
    "def sjv_m(x):\n",
    "    # Signed jump variation (Patton and Sheppard, 2015)\n",
    "    return((rv_p(x) - rv_m(x)) * (rv_p(x) - rv_m(x) < 0))\n",
    "\n",
    "def rs(x):\n",
    "    # Realized Skewness and Kurtosis  (see, e.g. Amaya, Christoffersen, Jacobs and Vasquez, 2015)\n",
    "    return(np.sqrt(M) * (x ** 3).sum() / rv(x) ** (3 / 2))\n",
    "\n",
    "def rk(x):\n",
    "    return(M * (x ** 4).sum() / rv(x) ** 2)"
   ]
  },
  {
   "cell_type": "code",
   "execution_count": 42,
   "id": "f20c041d-c6bd-47ee-a588-883c184c1356",
   "metadata": {
    "execution": {
     "iopub.execute_input": "2023-03-03T05:32:13.864458Z",
     "iopub.status.busy": "2023-03-03T05:32:13.864458Z",
     "iopub.status.idle": "2023-03-03T05:32:18.484168Z",
     "shell.execute_reply": "2023-03-03T05:32:18.483418Z",
     "shell.execute_reply.started": "2023-03-03T05:32:13.864458Z"
    },
    "tags": []
   },
   "outputs": [
    {
     "name": "stdout",
     "output_type": "stream",
     "text": [
      "                     Close_fut  Close_gas  Close_btc  Close_bond      time  \\\n",
      "Local time                                                                   \n",
      "2021-02-05 08:05:00   0.000000   0.004658   0.000968    0.000000  08:05:00   \n",
      "2021-02-05 08:10:00  -0.000702   0.000922  -0.001596    0.001128  08:10:00   \n",
      "2021-02-05 08:15:00   0.002001   0.000296  -0.001756    0.000755  08:15:00   \n",
      "2021-02-05 08:20:00   0.002382   0.000099   0.000813    0.001120  08:20:00   \n",
      "2021-02-05 08:25:00  -0.000175   0.001644  -0.000524    0.000921  08:25:00   \n",
      "...                        ...        ...        ...         ...       ...   \n",
      "2021-02-05 15:35:00  -0.000176   0.000174  -0.000212    0.000372  15:35:00   \n",
      "2021-02-05 15:40:00  -0.000351  -0.000209   0.001244    0.000204  15:40:00   \n",
      "2021-02-05 15:45:00   0.001755  -0.001187  -0.000450    0.000102  15:45:00   \n",
      "2021-02-05 15:50:00  -0.000701   0.001814   0.001005    0.000258  15:50:00   \n",
      "2021-02-05 15:55:00   0.001034   0.002715   0.000264    0.000198  15:55:00   \n",
      "\n",
      "                     12_oil_std  Fut_close_rv  Fut_close_rav  Fut_close_bv  \\\n",
      "Local time                                                                   \n",
      "2021-02-05 08:05:00    0.001397  2.393697e-05       0.013471  1.722688e-05   \n",
      "2021-02-05 08:10:00    0.001435  2.415015e-05       0.013688  1.693341e-05   \n",
      "2021-02-05 08:15:00    0.001490  2.802843e-05       0.015753  1.894539e-05   \n",
      "2021-02-05 08:20:00    0.001578  3.357580e-05       0.018295  2.633217e-05   \n",
      "2021-02-05 08:25:00    0.001578  3.357527e-05       0.018294  2.664402e-05   \n",
      "...                         ...           ...            ...           ...   \n",
      "2021-02-05 15:35:00    0.000299  9.866530e-07       0.003521  8.232914e-07   \n",
      "2021-02-05 15:40:00    0.000313  1.079147e-06       0.003741  8.717013e-07   \n",
      "2021-02-05 15:45:00    0.000600  4.126951e-06       0.005720  1.791141e-06   \n",
      "2021-02-05 15:50:00    0.000641  4.588189e-06       0.006379  3.724482e-06   \n",
      "2021-02-05 15:55:00    0.000698  5.658375e-06       0.007676  4.864363e-06   \n",
      "\n",
      "                     Fut_close_tq  Fut_close_jump_test  Fut_close_rv_m  \\\n",
      "Local time                                                               \n",
      "2021-02-05 08:05:00  1.428570e-11                  0.0    2.458117e-06   \n",
      "2021-02-05 08:10:00  1.423927e-11                  0.0    2.951562e-06   \n",
      "2021-02-05 08:15:00  1.422854e-11                  0.0    2.827023e-06   \n",
      "2021-02-05 08:20:00  2.290060e-11                  0.0    2.827023e-06   \n",
      "2021-02-05 08:25:00  2.287337e-11                  0.0    2.826491e-06   \n",
      "...                           ...                  ...             ...   \n",
      "2021-02-05 15:35:00  5.214359e-14                  0.0    3.699868e-07   \n",
      "2021-02-05 15:40:00  5.465977e-14                  0.0    4.624808e-07   \n",
      "2021-02-05 15:45:00  1.445053e-13                  0.0    4.624808e-07   \n",
      "2021-02-05 15:50:00  7.142552e-13                  0.0    9.237187e-07   \n",
      "2021-02-05 15:55:00  3.120312e-12                  0.0    9.237187e-07   \n",
      "\n",
      "                     Fut_close_rv_p  Fut_close_sjv_p  Fut_close_sjv_m  \\\n",
      "Local time                                                              \n",
      "2021-02-05 08:05:00    2.147886e-05     1.902074e-05              0.0   \n",
      "2021-02-05 08:10:00    2.119859e-05     1.824703e-05              0.0   \n",
      "2021-02-05 08:15:00    2.520140e-05     2.237438e-05              0.0   \n",
      "2021-02-05 08:20:00    3.074878e-05     2.792176e-05              0.0   \n",
      "2021-02-05 08:25:00    3.074878e-05     2.792229e-05              0.0   \n",
      "...                             ...              ...              ...   \n",
      "2021-02-05 15:35:00    6.166663e-07     2.466795e-07              0.0   \n",
      "2021-02-05 15:40:00    6.166663e-07     1.541855e-07              0.0   \n",
      "2021-02-05 15:45:00    3.664470e-06     3.201989e-06              0.0   \n",
      "2021-02-05 15:50:00    3.664470e-06     2.740751e-06              0.0   \n",
      "2021-02-05 15:55:00    4.734656e-06     3.810937e-06              0.0   \n",
      "\n",
      "                     Fut_close_rs  Fut_close_rk  \n",
      "Local time                                       \n",
      "2021-02-05 08:05:00      0.585433      0.449129  \n",
      "2021-02-05 08:10:00      0.573528      0.441518  \n",
      "2021-02-05 08:15:00      0.512974      0.348162  \n",
      "2021-02-05 08:20:00      0.460455      0.271143  \n",
      "2021-02-05 08:25:00      0.460466      0.271151  \n",
      "...                           ...           ...  \n",
      "2021-02-05 15:35:00      0.198893      0.195334  \n",
      "2021-02-05 15:40:00      0.140077      0.175527  \n",
      "2021-02-05 15:45:00      0.662390      0.568434  \n",
      "2021-02-05 15:50:00      0.530491      0.471349  \n",
      "2021-02-05 15:55:00      0.469602      0.345686  \n",
      "\n",
      "[95 rows x 17 columns]\n"
     ]
    }
   ],
   "source": [
    "n=12\n",
    "day_dict = {}\n",
    "for day in [days[0]]:\n",
    "        \n",
    "    day_dict[day] = df.loc[df['date'] == day]\n",
    "    del day_dict[day]['date']\n",
    "    \n",
    "    for feat in set(df.columns) - {'date', 'time'}:\n",
    "        day_dict[day][feat] = np.log( day_dict[day][feat] / day_dict[day][feat].shift(1) )\n",
    "    \n",
    "    day_dict[day][str(n)+'_oil_std'] = day_dict[day].rolling(n)['Close_fut'].std()\n",
    "    \n",
    "    feat_funcs = [rv,rav,bv,tq,jump_test,rv_m,rv_p,sjv_p,sjv_m,rs,rk]\n",
    "\n",
    "    for func in feat_funcs:\n",
    "        day_dict[day][\"Fut_close_\"+func.__name__] = day_dict[day]['Close_fut'].rolling(n).apply(func)\n",
    "        \n",
    "    day_dict[day] = day_dict[day][n:]\n",
    "    print(day_dict[day])"
   ]
  },
  {
   "cell_type": "code",
   "execution_count": 358,
   "id": "cae91e4c-3414-4a1d-b82b-e4e95b8e627c",
   "metadata": {
    "execution": {
     "iopub.execute_input": "2023-03-03T05:32:18.484168Z",
     "iopub.status.busy": "2023-03-03T05:32:18.484168Z",
     "iopub.status.idle": "2023-03-03T05:32:18.720748Z",
     "shell.execute_reply": "2023-03-03T05:32:18.720748Z",
     "shell.execute_reply.started": "2023-03-03T05:32:18.484168Z"
    },
    "tags": []
   },
   "outputs": [
    {
     "data": {
      "text/plain": [
       "<matplotlib.collections.PathCollection at 0x190684f5eb0>"
      ]
     },
     "execution_count": 358,
     "metadata": {},
     "output_type": "execute_result"
    },
    {
     "data": {
      "image/png": "[encoded data removed]",
      "text/plain": [
       "<Figure size 1440x720 with 1 Axes>"
      ]
     },
     "metadata": {
      "needs_background": "light"
     },
     "output_type": "display_data"
    }
   ],
   "source": [
    "concat = pd.concat(day_dict.values())\n",
    "plt.subplots(figsize=(20,10))\n",
    "plt.scatter(range(300), concat[:300].reset_index(drop=True)[str(n)+'_oil_std'])"
   ]
  },
  {
   "cell_type": "markdown",
   "id": "59b7a930-e2b4-4b61-84a4-3da8fdd0b1c7",
   "metadata": {},
   "source": [
    "## Examining Temporal Structure"
   ]
  },
  {
   "cell_type": "code",
   "execution_count": 320,
   "id": "575df2ba-0cd8-4cd7-aac4-b732ea7374ca",
   "metadata": {
    "execution": {
     "iopub.execute_input": "2023-03-03T04:56:40.178550Z",
     "iopub.status.busy": "2023-03-03T04:56:40.178550Z",
     "iopub.status.idle": "2023-03-03T04:56:40.191773Z",
     "shell.execute_reply": "2023-03-03T04:56:40.191773Z",
     "shell.execute_reply.started": "2023-03-03T04:56:40.178550Z"
    },
    "tags": []
   },
   "outputs": [],
   "source": [
    "time_dist = concat.groupby('time')[str(n)+'_oil_std'].mean()"
   ]
  },
  {
   "cell_type": "code",
   "execution_count": 321,
   "id": "1be939c9-cd73-4c37-a9b8-a30f267018c3",
   "metadata": {
    "execution": {
     "iopub.execute_input": "2023-03-03T04:56:40.328897Z",
     "iopub.status.busy": "2023-03-03T04:56:40.327898Z",
     "iopub.status.idle": "2023-03-03T04:56:40.472029Z",
     "shell.execute_reply": "2023-03-03T04:56:40.472029Z",
     "shell.execute_reply.started": "2023-03-03T04:56:40.328897Z"
    },
    "tags": []
   },
   "outputs": [
    {
     "data": {
      "text/plain": [
       "<AxesSubplot: xlabel='time'>"
      ]
     },
     "execution_count": 321,
     "metadata": {},
     "output_type": "execute_result"
    },
    {
     "data": {
      "image/png": "[encoded data removed]",
      "text/plain": [
       "<Figure size 432x288 with 1 Axes>"
      ]
     },
     "metadata": {
      "needs_background": "light"
     },
     "output_type": "display_data"
    }
   ],
   "source": [
    "time_dist.plot()"
   ]
  },
  {
   "cell_type": "markdown",
   "id": "50efb558-d3f0-4704-8dc0-c038f7cb607e",
   "metadata": {},
   "source": [
    "The above plot shows that the trading volatility is clustered around the morning and roughly 2pm (historic oil desk close).  This is to be expected.  It will be important to strip times from the is dataset."
   ]
  },
  {
   "cell_type": "code",
   "execution_count": 322,
   "id": "c2580609-4326-4f8b-95d1-090ec3d372c7",
   "metadata": {
    "execution": {
     "iopub.execute_input": "2023-03-03T04:56:41.525726Z",
     "iopub.status.busy": "2023-03-03T04:56:41.525726Z",
     "iopub.status.idle": "2023-03-03T04:56:41.549728Z",
     "shell.execute_reply": "2023-03-03T04:56:41.548805Z",
     "shell.execute_reply.started": "2023-03-03T04:56:41.525726Z"
    },
    "tags": []
   },
   "outputs": [],
   "source": [
    "time_rets = concat.groupby('time')['Close_fut'].apply(lambda x: np.mean(abs(x)))"
   ]
  },
  {
   "cell_type": "code",
   "execution_count": 323,
   "id": "8cdfbfba-4790-43d3-89c0-01cac14f17dc",
   "metadata": {
    "execution": {
     "iopub.execute_input": "2023-03-03T04:56:41.895305Z",
     "iopub.status.busy": "2023-03-03T04:56:41.895305Z",
     "iopub.status.idle": "2023-03-03T04:56:42.034248Z",
     "shell.execute_reply": "2023-03-03T04:56:42.034248Z",
     "shell.execute_reply.started": "2023-03-03T04:56:41.895305Z"
    },
    "tags": []
   },
   "outputs": [
    {
     "data": {
      "text/plain": [
       "<AxesSubplot: xlabel='time'>"
      ]
     },
     "execution_count": 323,
     "metadata": {},
     "output_type": "execute_result"
    },
    {
     "data": {
      "image/png": "[encoded data removed]",
      "text/plain": [
       "<Figure size 432x288 with 1 Axes>"
      ]
     },
     "metadata": {
      "needs_background": "light"
     },
     "output_type": "display_data"
    }
   ],
   "source": [
    "time_rets.plot()"
   ]
  },
  {
   "cell_type": "markdown",
   "id": "9d7a19e3-c9d0-4e62-ac5a-964d3af4b692",
   "metadata": {},
   "source": [
    "Again we see the largest log returns concentrated around 1:30 pm"
   ]
  },
  {
   "cell_type": "markdown",
   "id": "8adf7757-e946-4d5c-b0a8-0d6c2a8cdfeb",
   "metadata": {},
   "source": [
    "## Chunk by Chunk"
   ]
  },
  {
   "cell_type": "code",
   "execution_count": 324,
   "id": "99e4c9b9-2526-4e0b-98ef-cc42148ece30",
   "metadata": {
    "execution": {
     "iopub.execute_input": "2023-03-03T04:56:46.508513Z",
     "iopub.status.busy": "2023-03-03T04:56:46.507513Z",
     "iopub.status.idle": "2023-03-03T04:56:46.515513Z",
     "shell.execute_reply": "2023-03-03T04:56:46.514596Z",
     "shell.execute_reply.started": "2023-03-03T04:56:46.508513Z"
    },
    "tags": []
   },
   "outputs": [
    {
     "data": {
      "text/plain": [
       "784"
      ]
     },
     "execution_count": 324,
     "metadata": {},
     "output_type": "execute_result"
    }
   ],
   "source": [
    "len(days)"
   ]
  },
  {
   "cell_type": "code",
   "execution_count": 392,
   "id": "28972497-3e01-4aba-aaf3-f1fbebb42eea",
   "metadata": {
    "execution": {
     "iopub.execute_input": "2023-03-03T05:35:21.933351Z",
     "iopub.status.busy": "2023-03-03T05:35:21.933351Z",
     "iopub.status.idle": "2023-03-03T05:35:21.948132Z",
     "shell.execute_reply": "2023-03-03T05:35:21.948132Z",
     "shell.execute_reply.started": "2023-03-03T05:35:21.933351Z"
    },
    "tags": []
   },
   "outputs": [],
   "source": [
    "chunk_size = 300"
   ]
  },
  {
   "cell_type": "code",
   "execution_count": 393,
   "id": "be3bb516-e712-4e4b-bec3-89b4d1e8c94b",
   "metadata": {
    "execution": {
     "iopub.execute_input": "2023-03-03T05:35:22.208805Z",
     "iopub.status.busy": "2023-03-03T05:35:22.208805Z",
     "iopub.status.idle": "2023-03-03T05:35:22.229805Z",
     "shell.execute_reply": "2023-03-03T05:35:22.228879Z",
     "shell.execute_reply.started": "2023-03-03T05:35:22.208805Z"
    },
    "tags": []
   },
   "outputs": [],
   "source": [
    "chunk_dict = {}"
   ]
  },
  {
   "cell_type": "code",
   "execution_count": 394,
   "id": "a4ce4146-196d-441b-84e9-1f99f2d1260c",
   "metadata": {
    "execution": {
     "iopub.execute_input": "2023-03-03T05:35:22.471036Z",
     "iopub.status.busy": "2023-03-03T05:35:22.471036Z",
     "iopub.status.idle": "2023-03-03T05:35:22.500034Z",
     "shell.execute_reply": "2023-03-03T05:35:22.499115Z",
     "shell.execute_reply.started": "2023-03-03T05:35:22.471036Z"
    },
    "tags": []
   },
   "outputs": [],
   "source": [
    "for i,chunk in df.groupby(np.arange(len(df)) // chunk_size):\n",
    "    chunk_dict[i] = chunk"
   ]
  },
  {
   "cell_type": "code",
   "execution_count": 395,
   "id": "4e93b6da-aa30-43e6-a334-5e5b53647ade",
   "metadata": {
    "execution": {
     "iopub.execute_input": "2023-03-03T05:35:22.681185Z",
     "iopub.status.busy": "2023-03-03T05:35:22.681185Z",
     "iopub.status.idle": "2023-03-03T05:35:22.687185Z",
     "shell.execute_reply": "2023-03-03T05:35:22.687185Z",
     "shell.execute_reply.started": "2023-03-03T05:35:22.681185Z"
    },
    "tags": []
   },
   "outputs": [],
   "source": [
    "chunk_indices = list(chunk_dict.keys())"
   ]
  },
  {
   "cell_type": "code",
   "execution_count": 396,
   "id": "b9629e3c-aae8-4d24-9c55-6e5a0c9c2055",
   "metadata": {
    "execution": {
     "iopub.execute_input": "2023-03-03T05:35:22.988405Z",
     "iopub.status.busy": "2023-03-03T05:35:22.988405Z",
     "iopub.status.idle": "2023-03-03T05:35:22.999402Z",
     "shell.execute_reply": "2023-03-03T05:35:22.999402Z",
     "shell.execute_reply.started": "2023-03-03T05:35:22.988405Z"
    },
    "tags": []
   },
   "outputs": [
    {
     "data": {
      "text/plain": [
       "280"
      ]
     },
     "execution_count": 396,
     "metadata": {},
     "output_type": "execute_result"
    }
   ],
   "source": [
    "len(chunk_indices)"
   ]
  },
  {
   "cell_type": "code",
   "execution_count": 397,
   "id": "117aa8cf-37dd-4a6b-9b29-d3920b36f83d",
   "metadata": {
    "execution": {
     "iopub.execute_input": "2023-03-03T05:35:23.416057Z",
     "iopub.status.busy": "2023-03-03T05:35:23.416057Z",
     "iopub.status.idle": "2023-03-03T05:35:23.799955Z",
     "shell.execute_reply": "2023-03-03T05:35:23.799955Z",
     "shell.execute_reply.started": "2023-03-03T05:35:23.416057Z"
    },
    "tags": []
   },
   "outputs": [],
   "source": [
    "n=12\n",
    "\n",
    "for chunk in chunk_indices:    \n",
    "    for feat in set(df.columns) - {'date', 'time'}:\n",
    "        chunk_dict[chunk][feat] = np.log( chunk_dict[chunk][feat] / chunk_dict[chunk][feat].shift(1) )\n",
    "    \n",
    "    chunk_dict[chunk][str(n)+'_oil_std'] = chunk_dict[chunk].rolling(n)['Close_fut'].std()\n",
    "    \n",
    "    funcs \n",
    "    \n",
    "    chunk_dict[chunk] = chunk_dict[chunk][n:]"
   ]
  },
  {
   "cell_type": "code",
   "execution_count": 369,
   "id": "60c6a33b-dc41-4143-9132-5c4433863637",
   "metadata": {
    "execution": {
     "iopub.execute_input": "2023-03-03T05:33:43.699137Z",
     "iopub.status.busy": "2023-03-03T05:33:43.698137Z",
     "iopub.status.idle": "2023-03-03T05:33:43.925887Z",
     "shell.execute_reply": "2023-03-03T05:33:43.924700Z",
     "shell.execute_reply.started": "2023-03-03T05:33:43.699137Z"
    },
    "tags": []
   },
   "outputs": [
    {
     "data": {
      "text/plain": [
       "<matplotlib.collections.PathCollection at 0x190384a6a90>"
      ]
     },
     "execution_count": 369,
     "metadata": {},
     "output_type": "execute_result"
    },
    {
     "data": {
      "image/png": "[encoded data removed]",
      "text/plain": [
       "<Figure size 1440x720 with 1 Axes>"
      ]
     },
     "metadata": {
      "needs_background": "light"
     },
     "output_type": "display_data"
    }
   ],
   "source": [
    "concat = pd.concat(day_dict.values())\n",
    "plt.subplots(figsize=(20,10))\n",
    "plt.scatter(range(300), concat[:300].reset_index(drop=True)[str(n)+'_oil_std'])"
   ]
  },
  {
   "cell_type": "code",
   "execution_count": 398,
   "id": "3e3841eb-c231-48b0-8ced-58564f2bbaa3",
   "metadata": {
    "execution": {
     "iopub.execute_input": "2023-03-03T05:35:26.814298Z",
     "iopub.status.busy": "2023-03-03T05:35:26.814298Z",
     "iopub.status.idle": "2023-03-03T05:35:27.027172Z",
     "shell.execute_reply": "2023-03-03T05:35:27.027172Z",
     "shell.execute_reply.started": "2023-03-03T05:35:26.814298Z"
    },
    "tags": []
   },
   "outputs": [
    {
     "data": {
      "text/plain": [
       "<matplotlib.collections.PathCollection at 0x19056b60850>"
      ]
     },
     "execution_count": 398,
     "metadata": {},
     "output_type": "execute_result"
    },
    {
     "data": {
      "image/png": "[encoded data removed]",
      "text/plain": [
       "<Figure size 1440x720 with 1 Axes>"
      ]
     },
     "metadata": {
      "needs_background": "light"
     },
     "output_type": "display_data"
    }
   ],
   "source": [
    "concat = pd.concat(chunk_dict.values())\n",
    "plt.subplots(figsize=(20,10))\n",
    "plt.scatter(range(300), concat[:300].reset_index(drop=True)[str(n)+'_oil_std'])"
   ]
  },
  {
   "cell_type": "markdown",
   "id": "cdd94ad9-1748-43a0-8718-4a860e5803bd",
   "metadata": {},
   "source": [
    "We can see the difference in splitting methods.  New days will appear as large jumps like this rather than smooth as in the day splitting.  \n",
    "\n",
    "We might be able to fix this with some kind of smoothing technique ie windsorize and replace with some interpolation but it is probably best to just leave it be.  "
   ]
  },
  {
   "cell_type": "markdown",
   "id": "feee45d2-2b38-4e5a-a475-216c62fde4e9",
   "metadata": {},
   "source": [
    "# Predicting"
   ]
  },
  {
   "cell_type": "markdown",
   "id": "03570ea1-a801-4c5b-8dde-6c630befe39a",
   "metadata": {},
   "source": [
    "We will train on a rolling $k$ length period and predict the next bar of vol."
   ]
  },
  {
   "cell_type": "code",
   "execution_count": 234,
   "id": "e567045b-b12c-44ad-8d4b-12a07e73c943",
   "metadata": {
    "execution": {
     "iopub.execute_input": "2023-02-20T07:29:58.566912Z",
     "iopub.status.busy": "2023-02-20T07:29:58.566912Z",
     "iopub.status.idle": "2023-02-20T07:29:58.579913Z",
     "shell.execute_reply": "2023-02-20T07:29:58.578911Z",
     "shell.execute_reply.started": "2023-02-20T07:29:58.566912Z"
    },
    "tags": []
   },
   "outputs": [],
   "source": [
    "X_train, X_test, y_train, y_test = train_test_split(X, Y, test_size=0.2, shuffle=False)"
   ]
  },
  {
   "cell_type": "markdown",
   "id": "3b31a141-ee4c-445e-80ef-d1930cccc35e",
   "metadata": {},
   "source": [
    "## Initial Model testing"
   ]
  },
  {
   "cell_type": "code",
   "execution_count": 251,
   "id": "75b2fa8e-e806-41f0-8234-9736995810b0",
   "metadata": {
    "execution": {
     "iopub.execute_input": "2023-02-20T18:28:38.367691Z",
     "iopub.status.busy": "2023-02-20T18:28:38.367691Z",
     "iopub.status.idle": "2023-02-20T18:28:51.302634Z",
     "shell.execute_reply": "2023-02-20T18:28:51.301708Z",
     "shell.execute_reply.started": "2023-02-20T18:28:38.367691Z"
    },
    "tags": []
   },
   "outputs": [
    {
     "name": "stdout",
     "output_type": "stream",
     "text": [
      "RF\n",
      "RandomForestRegressor(max_depth=3, n_estimators=10)\n",
      "MAE:  0.0001873201182509463 \n",
      "MSE:  3.739762390653617e-08 \n",
      "RMSE:  0.00019338465271715894\n",
      "GB\n",
      "GradientBoostingRegressor(learning_rate=1e-07, n_estimators=10)\n",
      "MAE:  0.00020812947123731586 \n",
      "MSE:  4.332753712585249e-08 \n",
      "RMSE:  0.00020815267744098918\n"
     ]
    }
   ],
   "source": [
    "res = {'RF':None, 'GB':None}\n",
    "for model in res.keys():\n",
    "    r = model_selection(model)\n",
    "    res[model] = r"
   ]
  },
  {
   "cell_type": "code",
   "execution_count": 244,
   "id": "e9df1e6b-f53a-4c1a-a706-dd20581300e4",
   "metadata": {
    "execution": {
     "iopub.execute_input": "2023-02-20T07:32:14.547218Z",
     "iopub.status.busy": "2023-02-20T07:32:14.547218Z",
     "iopub.status.idle": "2023-02-20T07:32:14.567218Z",
     "shell.execute_reply": "2023-02-20T07:32:14.567218Z",
     "shell.execute_reply.started": "2023-02-20T07:32:14.547218Z"
    },
    "tags": []
   },
   "outputs": [
    {
     "data": {
      "text/html": [
       "<div>\n",
       "<style scoped>\n",
       "    .dataframe tbody tr th:only-of-type {\n",
       "        vertical-align: middle;\n",
       "    }\n",
       "\n",
       "    .dataframe tbody tr th {\n",
       "        vertical-align: top;\n",
       "    }\n",
       "\n",
       "    .dataframe thead th {\n",
       "        text-align: right;\n",
       "    }\n",
       "</style>\n",
       "<table border=\"1\" class=\"dataframe\">\n",
       "  <thead>\n",
       "    <tr style=\"text-align: right;\">\n",
       "      <th></th>\n",
       "      <th>Close_fut</th>\n",
       "      <th>Close_gas</th>\n",
       "      <th>Close_btc</th>\n",
       "      <th>Close_bond</th>\n",
       "      <th>fut_78_std</th>\n",
       "    </tr>\n",
       "    <tr>\n",
       "      <th>Local time</th>\n",
       "      <th></th>\n",
       "      <th></th>\n",
       "      <th></th>\n",
       "      <th></th>\n",
       "      <th></th>\n",
       "    </tr>\n",
       "  </thead>\n",
       "  <tbody>\n",
       "    <tr>\n",
       "      <th>2021-09-08 14:25:00+05:00</th>\n",
       "      <td>0.000374</td>\n",
       "      <td>-0.000469</td>\n",
       "      <td>-0.000216</td>\n",
       "      <td>0.000397</td>\n",
       "      <td>0.002224</td>\n",
       "    </tr>\n",
       "    <tr>\n",
       "      <th>2021-09-08 14:30:00+05:00</th>\n",
       "      <td>-0.000075</td>\n",
       "      <td>-0.000592</td>\n",
       "      <td>-0.002829</td>\n",
       "      <td>-0.000385</td>\n",
       "      <td>0.002045</td>\n",
       "    </tr>\n",
       "    <tr>\n",
       "      <th>2021-09-08 14:35:00+05:00</th>\n",
       "      <td>0.000749</td>\n",
       "      <td>0.000049</td>\n",
       "      <td>-0.000043</td>\n",
       "      <td>0.000000</td>\n",
       "      <td>0.002023</td>\n",
       "    </tr>\n",
       "    <tr>\n",
       "      <th>2021-09-08 14:40:00+05:00</th>\n",
       "      <td>-0.001182</td>\n",
       "      <td>-0.003926</td>\n",
       "      <td>-0.000628</td>\n",
       "      <td>0.000000</td>\n",
       "      <td>0.001964</td>\n",
       "    </tr>\n",
       "    <tr>\n",
       "      <th>2021-09-08 14:45:00+05:00</th>\n",
       "      <td>0.000135</td>\n",
       "      <td>-0.000223</td>\n",
       "      <td>0.000433</td>\n",
       "      <td>-0.000214</td>\n",
       "      <td>0.001961</td>\n",
       "    </tr>\n",
       "    <tr>\n",
       "      <th>2021-09-08 14:50:00+05:00</th>\n",
       "      <td>0.000599</td>\n",
       "      <td>-0.000471</td>\n",
       "      <td>-0.007409</td>\n",
       "      <td>0.000006</td>\n",
       "      <td>0.001950</td>\n",
       "    </tr>\n",
       "    <tr>\n",
       "      <th>2021-09-08 14:55:00+05:00</th>\n",
       "      <td>-0.000898</td>\n",
       "      <td>0.000198</td>\n",
       "      <td>0.002772</td>\n",
       "      <td>-0.000568</td>\n",
       "      <td>0.001943</td>\n",
       "    </tr>\n",
       "    <tr>\n",
       "      <th>2021-09-08 15:00:00+05:00</th>\n",
       "      <td>0.000225</td>\n",
       "      <td>0.000273</td>\n",
       "      <td>0.003286</td>\n",
       "      <td>-0.000177</td>\n",
       "      <td>0.001827</td>\n",
       "    </tr>\n",
       "    <tr>\n",
       "      <th>2021-09-08 15:05:00+05:00</th>\n",
       "      <td>0.000509</td>\n",
       "      <td>-0.000050</td>\n",
       "      <td>0.002386</td>\n",
       "      <td>-0.000208</td>\n",
       "      <td>0.001791</td>\n",
       "    </tr>\n",
       "    <tr>\n",
       "      <th>2021-09-08 15:10:00+05:00</th>\n",
       "      <td>0.000314</td>\n",
       "      <td>0.000050</td>\n",
       "      <td>0.000022</td>\n",
       "      <td>0.000018</td>\n",
       "      <td>0.001787</td>\n",
       "    </tr>\n",
       "    <tr>\n",
       "      <th>2021-09-08 15:15:00+05:00</th>\n",
       "      <td>-0.000075</td>\n",
       "      <td>0.001884</td>\n",
       "      <td>0.003051</td>\n",
       "      <td>-0.000367</td>\n",
       "      <td>0.001787</td>\n",
       "    </tr>\n",
       "    <tr>\n",
       "      <th>2021-09-08 15:20:00+05:00</th>\n",
       "      <td>-0.000374</td>\n",
       "      <td>-0.000990</td>\n",
       "      <td>0.000194</td>\n",
       "      <td>-0.000214</td>\n",
       "      <td>0.001785</td>\n",
       "    </tr>\n",
       "    <tr>\n",
       "      <th>2021-09-08 15:25:00+05:00</th>\n",
       "      <td>0.000449</td>\n",
       "      <td>0.000595</td>\n",
       "      <td>-0.002394</td>\n",
       "      <td>0.000214</td>\n",
       "      <td>0.001784</td>\n",
       "    </tr>\n",
       "    <tr>\n",
       "      <th>2021-09-08 15:30:00+05:00</th>\n",
       "      <td>0.000135</td>\n",
       "      <td>-0.000272</td>\n",
       "      <td>-0.013752</td>\n",
       "      <td>0.000337</td>\n",
       "      <td>0.001757</td>\n",
       "    </tr>\n",
       "    <tr>\n",
       "      <th>2021-09-08 15:35:00+05:00</th>\n",
       "      <td>-0.000135</td>\n",
       "      <td>0.000025</td>\n",
       "      <td>0.002762</td>\n",
       "      <td>0.000202</td>\n",
       "      <td>0.001713</td>\n",
       "    </tr>\n",
       "    <tr>\n",
       "      <th>2021-09-08 15:40:00+05:00</th>\n",
       "      <td>-0.000150</td>\n",
       "      <td>-0.000248</td>\n",
       "      <td>0.000437</td>\n",
       "      <td>-0.000196</td>\n",
       "      <td>0.001713</td>\n",
       "    </tr>\n",
       "    <tr>\n",
       "      <th>2021-09-08 15:45:00+05:00</th>\n",
       "      <td>-0.001048</td>\n",
       "      <td>-0.000495</td>\n",
       "      <td>-0.003366</td>\n",
       "      <td>-0.000190</td>\n",
       "      <td>0.001675</td>\n",
       "    </tr>\n",
       "    <tr>\n",
       "      <th>2021-09-08 15:50:00+05:00</th>\n",
       "      <td>0.000449</td>\n",
       "      <td>0.000248</td>\n",
       "      <td>-0.000943</td>\n",
       "      <td>0.000196</td>\n",
       "      <td>0.001670</td>\n",
       "    </tr>\n",
       "    <tr>\n",
       "      <th>2021-09-08 15:55:00+05:00</th>\n",
       "      <td>0.000300</td>\n",
       "      <td>-0.000297</td>\n",
       "      <td>-0.003578</td>\n",
       "      <td>0.000031</td>\n",
       "      <td>0.001669</td>\n",
       "    </tr>\n",
       "    <tr>\n",
       "      <th>2021-09-08 16:00:00+05:00</th>\n",
       "      <td>0.000000</td>\n",
       "      <td>0.000000</td>\n",
       "      <td>0.003018</td>\n",
       "      <td>0.000000</td>\n",
       "      <td>0.001667</td>\n",
       "    </tr>\n",
       "  </tbody>\n",
       "</table>\n",
       "</div>"
      ],
      "text/plain": [
       "                           Close_fut  Close_gas  Close_btc  Close_bond  \\\n",
       "Local time                                                               \n",
       "2021-09-08 14:25:00+05:00   0.000374  -0.000469  -0.000216    0.000397   \n",
       "2021-09-08 14:30:00+05:00  -0.000075  -0.000592  -0.002829   -0.000385   \n",
       "2021-09-08 14:35:00+05:00   0.000749   0.000049  -0.000043    0.000000   \n",
       "2021-09-08 14:40:00+05:00  -0.001182  -0.003926  -0.000628    0.000000   \n",
       "2021-09-08 14:45:00+05:00   0.000135  -0.000223   0.000433   -0.000214   \n",
       "2021-09-08 14:50:00+05:00   0.000599  -0.000471  -0.007409    0.000006   \n",
       "2021-09-08 14:55:00+05:00  -0.000898   0.000198   0.002772   -0.000568   \n",
       "2021-09-08 15:00:00+05:00   0.000225   0.000273   0.003286   -0.000177   \n",
       "2021-09-08 15:05:00+05:00   0.000509  -0.000050   0.002386   -0.000208   \n",
       "2021-09-08 15:10:00+05:00   0.000314   0.000050   0.000022    0.000018   \n",
       "2021-09-08 15:15:00+05:00  -0.000075   0.001884   0.003051   -0.000367   \n",
       "2021-09-08 15:20:00+05:00  -0.000374  -0.000990   0.000194   -0.000214   \n",
       "2021-09-08 15:25:00+05:00   0.000449   0.000595  -0.002394    0.000214   \n",
       "2021-09-08 15:30:00+05:00   0.000135  -0.000272  -0.013752    0.000337   \n",
       "2021-09-08 15:35:00+05:00  -0.000135   0.000025   0.002762    0.000202   \n",
       "2021-09-08 15:40:00+05:00  -0.000150  -0.000248   0.000437   -0.000196   \n",
       "2021-09-08 15:45:00+05:00  -0.001048  -0.000495  -0.003366   -0.000190   \n",
       "2021-09-08 15:50:00+05:00   0.000449   0.000248  -0.000943    0.000196   \n",
       "2021-09-08 15:55:00+05:00   0.000300  -0.000297  -0.003578    0.000031   \n",
       "2021-09-08 16:00:00+05:00   0.000000   0.000000   0.003018    0.000000   \n",
       "\n",
       "                           fut_78_std  \n",
       "Local time                             \n",
       "2021-09-08 14:25:00+05:00    0.002224  \n",
       "2021-09-08 14:30:00+05:00    0.002045  \n",
       "2021-09-08 14:35:00+05:00    0.002023  \n",
       "2021-09-08 14:40:00+05:00    0.001964  \n",
       "2021-09-08 14:45:00+05:00    0.001961  \n",
       "2021-09-08 14:50:00+05:00    0.001950  \n",
       "2021-09-08 14:55:00+05:00    0.001943  \n",
       "2021-09-08 15:00:00+05:00    0.001827  \n",
       "2021-09-08 15:05:00+05:00    0.001791  \n",
       "2021-09-08 15:10:00+05:00    0.001787  \n",
       "2021-09-08 15:15:00+05:00    0.001787  \n",
       "2021-09-08 15:20:00+05:00    0.001785  \n",
       "2021-09-08 15:25:00+05:00    0.001784  \n",
       "2021-09-08 15:30:00+05:00    0.001757  \n",
       "2021-09-08 15:35:00+05:00    0.001713  \n",
       "2021-09-08 15:40:00+05:00    0.001713  \n",
       "2021-09-08 15:45:00+05:00    0.001675  \n",
       "2021-09-08 15:50:00+05:00    0.001670  \n",
       "2021-09-08 15:55:00+05:00    0.001669  \n",
       "2021-09-08 16:00:00+05:00    0.001667  "
      ]
     },
     "execution_count": 244,
     "metadata": {},
     "output_type": "execute_result"
    }
   ],
   "source": [
    "day[77:]"
   ]
  },
  {
   "cell_type": "code",
   "execution_count": 252,
   "id": "ed17a1a6-44c5-4fcf-80ce-16a9cc2bf90a",
   "metadata": {
    "execution": {
     "iopub.execute_input": "2023-02-20T18:29:23.397228Z",
     "iopub.status.busy": "2023-02-20T18:29:23.396230Z",
     "iopub.status.idle": "2023-02-20T18:29:23.413231Z",
     "shell.execute_reply": "2023-02-20T18:29:23.412231Z",
     "shell.execute_reply.started": "2023-02-20T18:29:23.396230Z"
    },
    "tags": []
   },
   "outputs": [
    {
     "data": {
      "text/plain": [
       "{'RF': (RandomForestRegressor(max_depth=3, n_estimators=10),\n",
       "  array([0.00191586, 0.00188938, 0.00184308, 0.00178188])),\n",
       " 'GB': (GradientBoostingRegressor(learning_rate=1e-07, n_estimators=10),\n",
       "  array([0.00187836, 0.00187836, 0.00187836, 0.00187836]))}"
      ]
     },
     "execution_count": 252,
     "metadata": {},
     "output_type": "execute_result"
    }
   ],
   "source": [
    "res"
   ]
  }
 ],
 "metadata": {
  "kernelspec": {
   "display_name": "Causality",
   "language": "python",
   "name": "python3"
  },
  "language_info": {
   "codemirror_mode": {
    "name": "ipython",
    "version": 3
   },
   "file_extension": ".py",
   "mimetype": "text/x-python",
   "name": "python",
   "nbconvert_exporter": "python",
   "pygments_lexer": "ipython3",
   "version": "3.9.14"
  },
  "toc-autonumbering": true,
  "toc-showcode": false,
  "toc-showmarkdowntxt": false,
  "toc-showtags": false,
  "vscode": {
   "interpreter": {
    "hash": "960d2775473cb3d065e28c47b6bd81ca92f30da6618703e462b5ce909118ad7d"
   }
  }
 },
 "nbformat": 4,
 "nbformat_minor": 5
}
