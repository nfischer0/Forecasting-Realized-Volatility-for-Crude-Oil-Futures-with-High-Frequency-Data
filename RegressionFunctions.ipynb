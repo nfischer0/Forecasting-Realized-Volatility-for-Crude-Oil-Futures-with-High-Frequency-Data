{
 "cells": [
  {
   "cell_type": "markdown",
   "id": "f1480de7-2744-4551-9e99-317f6b7893d2",
   "metadata": {},
   "source": [
    "# Imports and Function Definitions"
   ]
  },
  {
   "cell_type": "code",
   "execution_count": 51,
   "id": "de881bb1-c0f2-436b-9f1d-ac9304afae45",
   "metadata": {
    "execution": {
     "iopub.execute_input": "2023-02-20T07:30:18.496391Z",
     "iopub.status.busy": "2023-02-20T07:30:18.496391Z",
     "iopub.status.idle": "2023-02-20T07:30:18.505399Z",
     "shell.execute_reply": "2023-02-20T07:30:18.505399Z",
     "shell.execute_reply.started": "2023-02-20T07:30:18.496391Z"
    },
    "tags": []
   },
   "outputs": [],
   "source": [
    "import pandas as pd\n",
    "import numpy as np\n",
    "\n",
    "import matplotlib.pyplot as plt\n",
    "import seaborn as sns\n",
    "\n",
    "from sklearn.model_selection import KFold, StratifiedKFold, train_test_split\n",
    "from sklearn.linear_model import ElasticNet, Ridge, Lasso\n",
    "from sklearn.ensemble import RandomForestRegressor, GradientBoostingRegressor, AdaBoostRegressor\n",
    "from sklearn.kernel_ridge import KernelRidge\n",
    "from sklearn.neighbors import KNeighborsRegressor\n",
    "from sklearn.metrics import mean_absolute_error, accuracy_score, mean_squared_error\n",
    "from sklearn.model_selection import TimeSeriesSplit, GridSearchCV, cross_val_score, KFold, StratifiedKFold\n",
    "from sklearn_extensions.kernel_regression import KernelRegression\n",
    "from statsmodels.graphics.tsaplots import plot_acf, plot_pacf\n",
    "sns.set()\n",
    "\n",
    "import warnings\n",
    "warnings.filterwarnings('ignore')"
   ]
  },
  {
   "cell_type": "code",
   "execution_count": 5,
   "id": "72c06572-8943-4f96-8a07-1e0696cb9c76",
   "metadata": {
    "execution": {
     "iopub.execute_input": "2023-02-19T18:34:54.979986Z",
     "iopub.status.busy": "2023-02-19T18:34:54.978985Z",
     "iopub.status.idle": "2023-02-19T18:34:54.986997Z",
     "shell.execute_reply": "2023-02-19T18:34:54.986997Z",
     "shell.execute_reply.started": "2023-02-19T18:34:54.979986Z"
    },
    "tags": []
   },
   "outputs": [],
   "source": [
    "def tree_feat_importance(m, df):\n",
    "    return pd.DataFrame({'cols':df.columns, 'feat_imp':m.feature_importances_}\n",
    "                       ).sort_values('feat_imp', ascending=False)\n",
    "def ensemble_tree_feat_importance(m, df):\n",
    "    feature_importances = np.mean([\n",
    "    tree.feature_importances_ for tree in m.estimators_\n",
    "                                    ], axis=0)\n",
    "    return pd.DataFrame({'cols':df.columns, 'feat_imp':feature_importances}\n",
    "                       ).sort_values('feat_imp', ascending=False)\n",
    "def plot_fi(fi): return fi.plot('cols', 'feat_imp', 'barh', figsize=(15,20), legend=False)\n",
    "def xgb_feat_importance(m, df):\n",
    "    feature_importances = m.feature_importances_\n",
    "    return pd.DataFrame({'cols':df.columns, 'feat_imp':feature_importances}\n",
    "                       ).sort_values('feat_imp', ascending=False)"
   ]
  },
  {
   "cell_type": "code",
   "execution_count": 52,
   "id": "6972bd09-2106-41cf-8c01-3015120b157e",
   "metadata": {
    "execution": {
     "iopub.execute_input": "2023-02-20T07:30:56.874770Z",
     "iopub.status.busy": "2023-02-20T07:30:56.874770Z",
     "iopub.status.idle": "2023-02-20T07:30:56.884770Z",
     "shell.execute_reply": "2023-02-20T07:30:56.884770Z",
     "shell.execute_reply.started": "2023-02-20T07:30:56.874770Z"
    },
    "tags": []
   },
   "outputs": [],
   "source": [
    "# A bunch of nonparametric regression models + some parametric baselines\n",
    "def model_selection(ml):\n",
    "    print(ml)\n",
    "    if ml == 'GB':\n",
    "        model = GradientBoostingRegressor()\n",
    "        grid = dict()\n",
    "        grid['learning_rate'] = [1e-3] #1e-5,1e-7\n",
    "        grid['n_estimators'] = [10] #50,100,1000\n",
    "        grid_search = GridSearchCV(estimator=model, param_grid=grid, scoring='neg_mean_squared_error', n_jobs=25)\n",
    "        grid_result = grid_search.fit(X_train, y_train)\n",
    "        model_best = GradientBoostingRegressor(learning_rate=grid_result.best_params_['learning_rate'],\\\n",
    "                    n_estimators=grid_result.best_params_['n_estimators'],\\\n",
    "                                              ).fit(X_train, y_train)\n",
    "\n",
    "    elif ml == 'RF':\n",
    "        model = RandomForestRegressor(n_jobs=25)\n",
    "        grid = dict()\n",
    "        grid['max_depth'] = [3,5,7,10]\n",
    "        grid['n_estimators'] = [10,50,100,1000]\n",
    "        grid_search = GridSearchCV(estimator=model, param_grid=grid, scoring='neg_mean_squared_error', n_jobs=25)\n",
    "        grid_result = grid_search.fit(X_train, y_train)\n",
    "\n",
    "        model_best = RandomForestRegressor(\n",
    "                    max_depth=grid_result.best_params_['max_depth'],\\\n",
    "                    n_estimators=grid_result.best_params_['n_estimators'],\\\n",
    "\n",
    "                        ).fit(X_train, y_train)\n",
    "    elif ml == 'AB':\n",
    "        model = AdaBoostRegressor()\n",
    "        grid = dict()\n",
    "        grid['learning_rate'] = [1e-4,1e-2,1]\n",
    "        grid['n_estimators'] = [10,50,100,1000]\n",
    "        grid_search = GridSearchCV(estimator=model, param_grid=grid, scoring='neg_mean_squared_error', n_jobs=25)\n",
    "        grid_result = grid_search.fit(X_train, y_train)\n",
    "\n",
    "        model_best = AdaBoostRegressor(\n",
    "                    learning_rate=grid_result.best_params_['learning_rate'],\\\n",
    "                    n_estimators=grid_result.best_params_['n_estimators'],\\\n",
    "                        ).fit(X_train, y_train)\n",
    "          \n",
    "    elif ml == 'KR':\n",
    "        model = KernelRidge()\n",
    "        grid = dict()\n",
    "        grid['alpha'] = [1e-2,1e-1,1,10,100]\n",
    "        grid[\"kernel\"] = [\"poly\",\"sigmoid\",\"rbf\",\"cosine\"]\n",
    "        grid_search = GridSearchCV(estimator=model, param_grid=grid, scoring='neg_mean_squared_error', n_jobs=25)\n",
    "        grid_result = grid_search.fit(X_train, y_train)\n",
    "        model_best = KernelRidge(alpha=grid_result.best_params_[\"alpha\"],\n",
    "                                 kernel=grid_result.best_params_[\"kernel\"]).fit(X_train, y_train)\n",
    "    elif ml == 'R':\n",
    "        model = Ridge()\n",
    "        grid = dict()\n",
    "        grid['alpha'] = [1e-2,1e-1,1,10,100]\n",
    "        grid_search = GridSearchCV(estimator=model, param_grid=grid, scoring='neg_mean_squared_error', n_jobs=25)\n",
    "        grid_result = grid_search.fit(X_train, y_train)\n",
    "        model_best = Ridge(alpha=grid_result.best_params_[\"alpha\"]).fit(X_train, y_train)\n",
    "        \n",
    "    elif ml == \"LA\":\n",
    "        model = Lasso()\n",
    "        grid = dict()\n",
    "        grid['alpha'] = [1e-2,1e-1,1,10,100]\n",
    "        grid_search = GridSearchCV(estimator=model, param_grid=grid, scoring='neg_mean_squared_error', n_jobs=25)\n",
    "        grid_result = grid_search.fit(X_train, y_train)\n",
    "        model_best = Lasso(alpha=grid_result.best_params_[\"alpha\"]).fit(X_train, y_train)\n",
    "        \n",
    "        \n",
    "    elif ml == \"EN\":\n",
    "        model = ElasticNet()\n",
    "        grid = dict()\n",
    "        grid['alpha'] = [1e-2,1e-1,1,10,100]\n",
    "        grid[\"l1_ratio\"] = [0.1,0.5,0.7,0.9,0.95]\n",
    "        grid_search = GridSearchCV(estimator=model, param_grid=grid, scoring='neg_mean_squared_error', n_jobs=25)\n",
    "        grid_result = grid_search.fit(X_train, y_train)\n",
    "        model_best = ElasticNet(alpha=grid_result.best_params_[\"alpha\"],\n",
    "                                l1_ratio = grid_result.best_params_[\"l1_ratio\"]).fit(X_train, y_train)\n",
    "    \n",
    "    elif ml == \"NW\":\n",
    "        # Bandwidth is selected automatically\n",
    "        model = KernelRegression()\n",
    "        grid = dict()\n",
    "        grid[\"gamma\"] = [1e-2, 1e-1, 1, 10,100]\n",
    "        grid['kernel'] = [\"rbf\",\"poly\"]\n",
    "        grid_search = GridSearchCV(estimator=model, param_grid=grid, scoring='neg_mean_squared_error', n_jobs=25)\n",
    "        grid_result = grid_search.fit(X_train, y_train)\n",
    "        model_best = KernelRegression(gamma=grid_result.best_params_[\"gamma\"],\n",
    "                            kernel = grid_result.best_params_[\"kernel\"]).fit(X_train, y_train)\n",
    "        \n",
    "    elif ml == \"KN\":\n",
    "        model = KNeighborsRegressor()\n",
    "        grid = dict()\n",
    "        grid[\"n_neighbors\"] = [5,10,40,100]\n",
    "        grid['weights'] = [\"uniform\",\"distance\"]\n",
    "        grid_search = GridSearchCV(estimator=model, param_grid=grid, scoring='neg_mean_squared_error', n_jobs=25)\n",
    "        grid_result = grid_search.fit(X_train, y_train)\n",
    "        model_best = KNeighborsRegressor(n_neighbors=grid_result.best_params_[\"n_neighbors\"],\n",
    "                            weights = grid_result.best_params_[\"weights\"]).fit(X_train, y_train)\n",
    "        \n",
    "    print(model_best)\n",
    "    y_pred = model_best.predict(X_test)\n",
    "    print('MAE: ', mean_absolute_error(y_pred, y_test), \n",
    "          'MAE%: ', 100 * mean_absolute_error(y_pred, y_test)/np.mean(y_test), \n",
    "          '\\nMSE: ', mean_squared_error(y_pred,y_test), \n",
    "          '\\nRMSE: ', np.sqrt(mean_squared_error(y_pred,y_test)))\n",
    "\n",
    "    return(model_best, y_test, y_pred)#, [X_train, X_test, y_train, y_test])"
   ]
  },
  {
   "cell_type": "markdown",
   "id": "2abf351b-7c2e-4839-86b1-bd69644bb3e2",
   "metadata": {},
   "source": [
    "# Cleaning and Merging"
   ]
  },
  {
   "cell_type": "code",
   "execution_count": 6,
   "id": "076bb000-a60d-4eb5-beae-b267e77688a6",
   "metadata": {
    "execution": {
     "iopub.execute_input": "2023-02-19T22:15:02.371349Z",
     "iopub.status.busy": "2023-02-19T22:15:02.371349Z",
     "iopub.status.idle": "2023-02-19T22:15:03.594538Z",
     "shell.execute_reply": "2023-02-19T22:15:03.593773Z",
     "shell.execute_reply.started": "2023-02-19T22:15:02.371349Z"
    },
    "tags": []
   },
   "outputs": [],
   "source": [
    "# uso = pd.read_csv('C:\\\\Users\\\\nfischer\\\\Downloads\\\\USO.USUSD_Candlestick_5_M_BID_11.02.2020-11.02.2023.csv')\n",
    "# spy = pd.read_csv('C:\\\\Users\\\\nfischer\\\\Downloads\\\\SPY.USUSD_Candlestick_5_M_BID_11.02.2020-11.02.2023.csv')\n",
    "# vxx = pd.read_csv('C:\\\\Users\\\\nfischer\\\\Downloads\\\\VXX.USUSD_Candlestick_5_M_BID_11.02.2020-11.02.2023.csv')\n",
    "fut = pd.read_csv('LIGHT.CMDUSD_Candlestick_5_M_BID_11.02.2020-11.02.2023.csv')\n",
    "gas = pd.read_csv('GAS.CMDUSD_Candlestick_5_M_BID_11.02.2020-11.02.2023.csv')\n",
    "# xom = pd.read_csv('C:\\\\Users\\\\nfischer\\\\Downloads\\\\XOM.USUSD_Candlestick_5_M_BID_11.02.2020-11.02.2023.csv')\n",
    "btc = pd.read_csv('BTCUSD_Candlestick_5_M_BID_11.02.2020-11.02.2023.csv')\n",
    "bond = pd.read_csv('USTBOND.TRUSD_Candlestick_5_M_BID_11.02.2020-11.02.2023.csv')"
   ]
  },
  {
   "cell_type": "code",
   "execution_count": 7,
   "id": "c654650a-82e7-43a1-9e60-8b433b1be650",
   "metadata": {
    "execution": {
     "iopub.execute_input": "2023-02-19T22:15:03.809456Z",
     "iopub.status.busy": "2023-02-19T22:15:03.809456Z",
     "iopub.status.idle": "2023-02-19T22:15:03.827986Z",
     "shell.execute_reply": "2023-02-19T22:15:03.827062Z",
     "shell.execute_reply.started": "2023-02-19T22:15:03.809456Z"
    },
    "tags": []
   },
   "outputs": [],
   "source": [
    "data_dict = {'fut':fut, 'gas':gas, #'uso':uso, 'spy':spy, 'vxx':vxx, 'xom':xom\n",
    "            'btc':btc, 'bond':bond}"
   ]
  },
  {
   "cell_type": "markdown",
   "id": "81caf05a-520b-4bab-ab89-cdab52b3a4a3",
   "metadata": {},
   "source": [
    "Datetime and indexing"
   ]
  },
  {
   "cell_type": "code",
   "execution_count": 8,
   "id": "f62b06f3-287f-48d7-ab11-5d0f1af2de1b",
   "metadata": {
    "execution": {
     "iopub.execute_input": "2023-02-19T22:15:04.761670Z",
     "iopub.status.busy": "2023-02-19T22:15:04.761670Z",
     "iopub.status.idle": "2023-02-19T22:16:00.956493Z",
     "shell.execute_reply": "2023-02-19T22:16:00.955518Z",
     "shell.execute_reply.started": "2023-02-19T22:15:04.761670Z"
    },
    "tags": []
   },
   "outputs": [],
   "source": [
    "idx = pd.to_datetime(data_dict['fut']['Local time'][:1000])"
   ]
  },
  {
   "cell_type": "code",
   "execution_count": 9,
   "id": "cc3d83fb-f59e-4d95-ac6d-1510ceb057f6",
   "metadata": {
    "execution": {
     "iopub.execute_input": "2023-02-19T22:16:00.957496Z",
     "iopub.status.busy": "2023-02-19T22:16:00.956493Z",
     "iopub.status.idle": "2023-02-19T22:16:01.080795Z",
     "shell.execute_reply": "2023-02-19T22:16:01.080795Z",
     "shell.execute_reply.started": "2023-02-19T22:16:00.957496Z"
    },
    "tags": []
   },
   "outputs": [],
   "source": [
    "for data in data_dict.keys():\n",
    "    data_dict[data] = data_dict[data][:1000].set_index(idx)\n",
    "    data_dict[data] = data_dict[data][:1000].drop(['Open', 'High', 'Low', 'Volume', 'Local time'], axis=1)"
   ]
  },
  {
   "cell_type": "markdown",
   "id": "c11f3950-96a9-4578-995c-21734ad856a0",
   "metadata": {},
   "source": [
    "Merging"
   ]
  },
  {
   "cell_type": "code",
   "execution_count": 10,
   "id": "205f196e-1ac1-4338-9a3b-d8b4c0452ec3",
   "metadata": {
    "execution": {
     "iopub.execute_input": "2023-02-19T22:16:19.323583Z",
     "iopub.status.busy": "2023-02-19T22:16:19.323583Z",
     "iopub.status.idle": "2023-02-19T22:16:24.707002Z",
     "shell.execute_reply": "2023-02-19T22:16:24.706252Z",
     "shell.execute_reply.started": "2023-02-19T22:16:19.323583Z"
    },
    "tags": []
   },
   "outputs": [],
   "source": [
    "df = pd.DataFrame(index=data_dict['fut'].index)\n",
    "for data in data_dict.keys():\n",
    "    df = pd.merge(df, data_dict[data], left_index=True, right_index=True, suffixes=['', '_'+data])\n",
    "df = df.rename(columns={'Close':'Close_fut'})"
   ]
  },
  {
   "cell_type": "code",
   "execution_count": 12,
   "id": "ca01e3d5-b0c8-40db-90a0-a16e3bab4dc4",
   "metadata": {
    "execution": {
     "iopub.execute_input": "2023-02-20T07:20:16.516878Z",
     "iopub.status.busy": "2023-02-20T07:20:16.516878Z",
     "iopub.status.idle": "2023-02-20T07:20:16.534879Z",
     "shell.execute_reply": "2023-02-20T07:20:16.533970Z",
     "shell.execute_reply.started": "2023-02-20T07:20:16.516878Z"
    },
    "tags": []
   },
   "outputs": [],
   "source": [
    "day = df"
   ]
  },
  {
   "cell_type": "code",
   "execution_count": 13,
   "id": "8395b099-547d-4376-a39b-05e2e2050661",
   "metadata": {
    "execution": {
     "iopub.execute_input": "2023-02-20T07:20:17.513326Z",
     "iopub.status.busy": "2023-02-20T07:20:17.512235Z",
     "iopub.status.idle": "2023-02-20T07:20:17.529235Z",
     "shell.execute_reply": "2023-02-20T07:20:17.528314Z",
     "shell.execute_reply.started": "2023-02-20T07:20:17.513326Z"
    },
    "tags": []
   },
   "outputs": [],
   "source": [
    "day['fut_'+str(5)+'_std'] = day.rolling(5)['Close_fut'].std()"
   ]
  },
  {
   "cell_type": "code",
   "execution_count": 14,
   "id": "89343d5c-ec66-4f49-8951-2833bba9ee81",
   "metadata": {
    "execution": {
     "iopub.execute_input": "2023-02-20T07:29:58.240056Z",
     "iopub.status.busy": "2023-02-20T07:29:58.240056Z",
     "iopub.status.idle": "2023-02-20T07:29:58.251064Z",
     "shell.execute_reply": "2023-02-20T07:29:58.251064Z",
     "shell.execute_reply.started": "2023-02-20T07:29:58.240056Z"
    },
    "tags": []
   },
   "outputs": [],
   "source": [
    "X = day[['Close_gas',\"Close_btc\",\"Close_bond\"]][77:]\n",
    "Y = day['fut_5_std'][77:]"
   ]
  },
  {
   "cell_type": "code",
   "execution_count": 15,
   "id": "e567045b-b12c-44ad-8d4b-12a07e73c943",
   "metadata": {
    "execution": {
     "iopub.execute_input": "2023-02-20T07:29:58.566912Z",
     "iopub.status.busy": "2023-02-20T07:29:58.566912Z",
     "iopub.status.idle": "2023-02-20T07:29:58.579913Z",
     "shell.execute_reply": "2023-02-20T07:29:58.578911Z",
     "shell.execute_reply.started": "2023-02-20T07:29:58.566912Z"
    },
    "tags": []
   },
   "outputs": [],
   "source": [
    "X_train, X_test, y_train, y_test = train_test_split(X, Y, test_size=0.2, shuffle=False)"
   ]
  },
  {
   "cell_type": "markdown",
   "id": "3b31a141-ee4c-445e-80ef-d1930cccc35e",
   "metadata": {},
   "source": [
    "## Initial Model testing"
   ]
  },
  {
   "cell_type": "code",
   "execution_count": 53,
   "id": "75b2fa8e-e806-41f0-8234-9736995810b0",
   "metadata": {
    "execution": {
     "iopub.execute_input": "2023-02-20T07:31:00.790295Z",
     "iopub.status.busy": "2023-02-20T07:31:00.790295Z",
     "iopub.status.idle": "2023-02-20T07:31:06.521265Z",
     "shell.execute_reply": "2023-02-20T07:31:06.521265Z",
     "shell.execute_reply.started": "2023-02-20T07:31:00.790295Z"
    },
    "tags": []
   },
   "outputs": [
    {
     "name": "stdout",
     "output_type": "stream",
     "text": [
      "KN\n",
      "KNeighborsRegressor(n_neighbors=100)\n",
      "MAE:  0.02333569799748211 MAE%:  56.33718570490614 \n",
      "MSE:  0.0008688225200020373 \n",
      "RMSE:  0.02947579549396483\n"
     ]
    }
   ],
   "source": [
    "res = {\"KN\":None}\n",
    "for model in res.keys():\n",
    "    r = model_selection(model)\n",
    "    res[model] = r"
   ]
  }
 ],
 "metadata": {
  "kernelspec": {
   "display_name": "Causality",
   "language": "python",
   "name": "python3"
  },
  "language_info": {
   "codemirror_mode": {
    "name": "ipython",
    "version": 3
   },
   "file_extension": ".py",
   "mimetype": "text/x-python",
   "name": "python",
   "nbconvert_exporter": "python",
   "pygments_lexer": "ipython3",
   "version": "3.9.14"
  },
  "toc-autonumbering": true,
  "toc-showcode": false,
  "toc-showmarkdowntxt": false,
  "toc-showtags": false,
  "vscode": {
   "interpreter": {
    "hash": "960d2775473cb3d065e28c47b6bd81ca92f30da6618703e462b5ce909118ad7d"
   }
  }
 },
 "nbformat": 4,
 "nbformat_minor": 5
}
