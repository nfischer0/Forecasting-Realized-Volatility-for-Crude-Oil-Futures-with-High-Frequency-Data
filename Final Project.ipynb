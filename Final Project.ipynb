{
 "cells": [
  {
   "cell_type": "markdown",
   "id": "f1480de7-2744-4551-9e99-317f6b7893d2",
   "metadata": {},
   "source": [
    "# Imports and Function Definitions"
   ]
  },
  {
   "cell_type": "code",
   "execution_count": 22,
   "id": "de881bb1-c0f2-436b-9f1d-ac9304afae45",
   "metadata": {
    "execution": {
     "iopub.execute_input": "2023-02-20T21:21:07.370739Z",
     "iopub.status.busy": "2023-02-20T21:21:07.370739Z",
     "iopub.status.idle": "2023-02-20T21:21:07.389054Z",
     "shell.execute_reply": "2023-02-20T21:21:07.388571Z",
     "shell.execute_reply.started": "2023-02-20T21:21:07.370739Z"
    },
    "tags": []
   },
   "outputs": [],
   "source": [
    "import pandas as pd\n",
    "import numpy as np\n",
    "\n",
    "import matplotlib.pyplot as plt\n",
    "import seaborn as sns\n",
    "\n",
    "from sklearn.model_selection import KFold, StratifiedKFold, train_test_split\n",
    "from sklearn.linear_model import ElasticNet\n",
    "from sklearn.ensemble import RandomForestRegressor, RandomForestClassifier, GradientBoostingRegressor, GradientBoostingClassifier\n",
    "from sklearn.metrics import mean_absolute_error, accuracy_score, mean_squared_error\n",
    "from sklearn.model_selection import TimeSeriesSplit, GridSearchCV, cross_val_score, KFold, StratifiedKFold\n",
    "\n",
    "from statsmodels.graphics.tsaplots import plot_acf, plot_pacf\n",
    "sns.set()\n",
    "\n",
    "import warnings\n",
    "warnings.filterwarnings('ignore')\n",
    "from polygon import RESTClient\n",
    "\n",
    "import datetime as dt"
   ]
  },
  {
   "cell_type": "code",
   "execution_count": 9,
   "id": "72c06572-8943-4f96-8a07-1e0696cb9c76",
   "metadata": {
    "execution": {
     "iopub.execute_input": "2023-02-19T18:34:54.979986Z",
     "iopub.status.busy": "2023-02-19T18:34:54.978985Z",
     "iopub.status.idle": "2023-02-19T18:34:54.986997Z",
     "shell.execute_reply": "2023-02-19T18:34:54.986997Z",
     "shell.execute_reply.started": "2023-02-19T18:34:54.979986Z"
    },
    "tags": []
   },
   "outputs": [],
   "source": [
    "def tree_feat_importance(m, df):\n",
    "    return pd.DataFrame({'cols':df.columns, 'feat_imp':m.feature_importances_}\n",
    "                       ).sort_values('feat_imp', ascending=False)\n",
    "def ensemble_tree_feat_importance(m, df):\n",
    "    feature_importances = np.mean([\n",
    "    tree.feature_importances_ for tree in m.estimators_\n",
    "                                    ], axis=0)\n",
    "    return pd.DataFrame({'cols':df.columns, 'feat_imp':feature_importances}\n",
    "                       ).sort_values('feat_imp', ascending=False)\n",
    "def plot_fi(fi): return fi.plot('cols', 'feat_imp', 'barh', figsize=(15,20), legend=False)\n",
    "def xgb_feat_importance(m, df):\n",
    "    feature_importances = m.feature_importances_\n",
    "    return pd.DataFrame({'cols':df.columns, 'feat_imp':feature_importances}\n",
    "                       ).sort_values('feat_imp', ascending=False)"
   ]
  },
  {
   "cell_type": "code",
   "execution_count": 250,
   "id": "6972bd09-2106-41cf-8c01-3015120b157e",
   "metadata": {
    "execution": {
     "iopub.execute_input": "2023-02-20T18:28:33.926833Z",
     "iopub.status.busy": "2023-02-20T18:28:33.926833Z",
     "iopub.status.idle": "2023-02-20T18:28:33.936833Z",
     "shell.execute_reply": "2023-02-20T18:28:33.936833Z",
     "shell.execute_reply.started": "2023-02-20T18:28:33.926833Z"
    },
    "tags": []
   },
   "outputs": [],
   "source": [
    "def model_selection(ml):\n",
    "    print(ml)\n",
    "    if ml == 'GB':\n",
    "        model = GradientBoostingRegressor()\n",
    "        grid = dict()\n",
    "        grid['learning_rate'] = [1e-3,1e-5,1e-7]\n",
    "        grid['n_estimators'] = [10,50,100,1000]\n",
    "        tscv = TimeSeriesSplit(n_splits=2)\n",
    "        grid_search = GridSearchCV(estimator=model, param_grid=grid, scoring='neg_mean_squared_error', cv = tscv)#, n_jobs=25)\n",
    "        grid_result = grid_search.fit(X_train, y_train)\n",
    "        model_best = GradientBoostingRegressor(learning_rate=grid_result.best_params_['learning_rate'],\\\n",
    "                    n_estimators=grid_result.best_params_['n_estimators'],\\\n",
    "                                              ).fit(X_train, y_train)\n",
    "\n",
    "    elif ml == 'RF':\n",
    "        model = RandomForestRegressor(n_jobs=25)\n",
    "        grid = dict()\n",
    "        grid['max_depth'] = [3,5,7,10]\n",
    "        grid['n_estimators'] = [10,50,100,1000]\n",
    "        tscv = TimeSeriesSplit(n_splits=2)\n",
    "        grid_search = GridSearchCV(estimator=model, param_grid=grid, scoring='neg_mean_squared_error', cv = tscv)#, n_jobs=25), n_jobs=25)\n",
    "        grid_result = grid_search.fit(X_train, y_train)\n",
    "\n",
    "        model_best = RandomForestRegressor(\n",
    "                    max_depth=grid_result.best_params_['max_depth'],\\\n",
    "                    n_estimators=grid_result.best_params_['n_estimators'],\\\n",
    "                        ).fit(X_train, y_train)\n",
    "    \n",
    "    \n",
    "    print(model_best)\n",
    "    y_pred = model_best.predict(X_test)\n",
    "    print('MAE: ', mean_absolute_error(y_pred, y_test), '\\nMSE: ', mean_squared_error(y_pred,y_test), '\\nRMSE: ', np.sqrt(mean_squared_error(y_pred,y_test)))\n",
    "\n",
    "    return(model_best, y_pred)#, [X_train, X_test, y_train, y_test])"
   ]
  },
  {
   "cell_type": "markdown",
   "id": "2abf351b-7c2e-4839-86b1-bd69644bb3e2",
   "metadata": {},
   "source": [
    "# Cleaning and Merging"
   ]
  },
  {
   "cell_type": "code",
   "execution_count": 365,
   "id": "b4622c71-fae4-41f1-b807-d4e2f87a6c28",
   "metadata": {
    "execution": {
     "iopub.execute_input": "2023-02-21T03:51:29.140280Z",
     "iopub.status.busy": "2023-02-21T03:51:29.140280Z",
     "iopub.status.idle": "2023-02-21T03:51:29.154369Z",
     "shell.execute_reply": "2023-02-21T03:51:29.153289Z",
     "shell.execute_reply.started": "2023-02-21T03:51:29.140280Z"
    },
    "tags": []
   },
   "outputs": [],
   "source": [
    "client = RESTClient(api_key=\"18U85gkK04AWHrbE3oWvG9b3fF8JdlxQ\")"
   ]
  },
  {
   "cell_type": "code",
   "execution_count": 547,
   "id": "fa182899-8cc0-4bef-bb48-02dca8133d2c",
   "metadata": {
    "execution": {
     "iopub.execute_input": "2023-02-21T20:52:24.037877Z",
     "iopub.status.busy": "2023-02-21T20:52:24.037877Z",
     "iopub.status.idle": "2023-02-21T20:52:25.531126Z",
     "shell.execute_reply": "2023-02-21T20:52:25.530125Z",
     "shell.execute_reply.started": "2023-02-21T20:52:24.037877Z"
    },
    "tags": []
   },
   "outputs": [],
   "source": [
    "vxx = client.get_aggs(ticker='VXX', multiplier=5, timespan=\"minute\", from_=\"2022-04-01\", to=\"2022-09-01\", limit=50000)\n",
    "spy = client.get_aggs(ticker='SPY', multiplier=5, timespan=\"minute\", from_=\"2022-04-01\", to=\"2022-09-01\", limit=50000)\n",
    "uso = client.get_aggs(ticker='USO', multiplier=5, timespan=\"minute\", from_=\"2022-04-01\", to=\"2022-09-01\", limit=50000)"
   ]
  },
  {
   "cell_type": "code",
   "execution_count": 548,
   "id": "de3ad651-4930-4cf5-8c33-314e91c82686",
   "metadata": {
    "execution": {
     "iopub.execute_input": "2023-02-21T20:52:25.532125Z",
     "iopub.status.busy": "2023-02-21T20:52:25.531126Z",
     "iopub.status.idle": "2023-02-21T20:52:25.549127Z",
     "shell.execute_reply": "2023-02-21T20:52:25.545124Z",
     "shell.execute_reply.started": "2023-02-21T20:52:25.532125Z"
    },
    "tags": []
   },
   "outputs": [],
   "source": [
    "poly_dict = {'vxx':vxx, 'spy':spy, 'uso':uso}"
   ]
  },
  {
   "cell_type": "code",
   "execution_count": 549,
   "id": "4255f238-0ff4-41b2-bae5-7af3bc7c12d4",
   "metadata": {
    "execution": {
     "iopub.execute_input": "2023-02-21T20:52:25.551124Z",
     "iopub.status.busy": "2023-02-21T20:52:25.551124Z",
     "iopub.status.idle": "2023-02-21T20:52:26.076891Z",
     "shell.execute_reply": "2023-02-21T20:52:26.076891Z",
     "shell.execute_reply.started": "2023-02-21T20:52:25.551124Z"
    },
    "tags": []
   },
   "outputs": [],
   "source": [
    "for data in poly_dict.keys():\n",
    "    poly_dict[data] = pd.DataFrame(poly_dict[data])[['close', 'timestamp']]\n",
    "    poly_dict[data] = poly_dict[data].rename(columns={'close':'Close', 'timestamp':'Local time'})\n",
    "    poly_dict[data]['Local time'] = pd.to_datetime(poly_dict[data]['Local time'], unit='ms')"
   ]
  },
  {
   "cell_type": "code",
   "execution_count": 550,
   "id": "93fd99c8-09bb-4be1-ac11-95442ba7d6f4",
   "metadata": {
    "execution": {
     "iopub.execute_input": "2023-02-21T20:52:26.077983Z",
     "iopub.status.busy": "2023-02-21T20:52:26.077983Z",
     "iopub.status.idle": "2023-02-21T20:52:26.092016Z",
     "shell.execute_reply": "2023-02-21T20:52:26.092016Z",
     "shell.execute_reply.started": "2023-02-21T20:52:26.077983Z"
    },
    "tags": []
   },
   "outputs": [],
   "source": [
    "vxx = poly_dict['vxx']\n",
    "spy = poly_dict['spy']\n",
    "uso = poly_dict['uso']"
   ]
  },
  {
   "cell_type": "code",
   "execution_count": 551,
   "id": "076bb000-a60d-4eb5-beae-b267e77688a6",
   "metadata": {
    "execution": {
     "iopub.execute_input": "2023-02-21T20:52:26.094015Z",
     "iopub.status.busy": "2023-02-21T20:52:26.093015Z",
     "iopub.status.idle": "2023-02-21T20:52:27.128843Z",
     "shell.execute_reply": "2023-02-21T20:52:27.127842Z",
     "shell.execute_reply.started": "2023-02-21T20:52:26.094015Z"
    },
    "tags": []
   },
   "outputs": [],
   "source": [
    "fut = pd.read_csv('C:\\\\Users\\\\nfischer\\\\Downloads\\\\LIGHT.CMDUSD_Candlestick_5_M_BID_11.02.2020-11.02.2023.csv')\n",
    "gas = pd.read_csv('C:\\\\Users\\\\nfischer\\\\Downloads\\\\GAS.CMDUSD_Candlestick_5_M_BID_11.02.2020-11.02.2023.csv')\n",
    "btc = pd.read_csv('C:\\\\Users\\\\nfischer\\\\Downloads\\\\BTCUSD_Candlestick_5_M_BID_11.02.2020-11.02.2023.csv')\n",
    "bond = pd.read_csv('C:\\\\Users\\\\nfischer\\\\Downloads\\\\USTBOND.TRUSD_Candlestick_5_M_BID_11.02.2020-11.02.2023.csv')"
   ]
  },
  {
   "cell_type": "code",
   "execution_count": 676,
   "id": "c654650a-82e7-43a1-9e60-8b433b1be650",
   "metadata": {
    "execution": {
     "iopub.execute_input": "2023-02-22T20:44:36.553215Z",
     "iopub.status.busy": "2023-02-22T20:44:36.553215Z",
     "iopub.status.idle": "2023-02-22T20:44:36.567521Z",
     "shell.execute_reply": "2023-02-22T20:44:36.566299Z",
     "shell.execute_reply.started": "2023-02-22T20:44:36.553215Z"
    },
    "tags": []
   },
   "outputs": [],
   "source": [
    "data_dict = {'fut':fut, 'gas':gas, 'vxx':vxx, 'spy':spy, #'uso':uso, \n",
    "            'btc':btc, 'bond':bond}"
   ]
  },
  {
   "cell_type": "markdown",
   "id": "81caf05a-520b-4bab-ab89-cdab52b3a4a3",
   "metadata": {},
   "source": [
    "## Datetime and indexing"
   ]
  },
  {
   "cell_type": "code",
   "execution_count": 475,
   "id": "f62b06f3-287f-48d7-ab11-5d0f1af2de1b",
   "metadata": {
    "execution": {
     "iopub.execute_input": "2023-02-21T04:28:40.070719Z",
     "iopub.status.busy": "2023-02-21T04:28:40.069719Z",
     "iopub.status.idle": "2023-02-21T04:28:40.073719Z",
     "shell.execute_reply": "2023-02-21T04:28:40.073719Z",
     "shell.execute_reply.started": "2023-02-21T04:28:40.070719Z"
    },
    "tags": []
   },
   "outputs": [],
   "source": [
    "idx = pd.to_datetime(data_dict['fut']['Local time'])\n",
    "idx=idx.apply(lambda x: x.replace(tzinfo=None))"
   ]
  },
  {
   "cell_type": "code",
   "execution_count": 677,
   "id": "cc3d83fb-f59e-4d95-ac6d-1510ceb057f6",
   "metadata": {
    "execution": {
     "iopub.execute_input": "2023-02-22T20:44:44.591960Z",
     "iopub.status.busy": "2023-02-22T20:44:44.591960Z",
     "iopub.status.idle": "2023-02-22T20:44:44.692624Z",
     "shell.execute_reply": "2023-02-22T20:44:44.692125Z",
     "shell.execute_reply.started": "2023-02-22T20:44:44.591960Z"
    },
    "tags": []
   },
   "outputs": [],
   "source": [
    "for data in data_dict.keys():\n",
    "    if not data in ['vxx', 'spy', 'uso']:\n",
    "        data_dict[data] = data_dict[data].set_index(idx)\n",
    "        data_dict[data] = data_dict[data].drop(['Open', 'High', 'Low', 'Volume', 'Local time'], axis=1)\n",
    "    else:\n",
    "        data_dict[data] = data_dict[data].set_index('Local time')"
   ]
  },
  {
   "cell_type": "markdown",
   "id": "c11f3950-96a9-4578-995c-21734ad856a0",
   "metadata": {},
   "source": [
    "## Merging"
   ]
  },
  {
   "cell_type": "code",
   "execution_count": 678,
   "id": "205f196e-1ac1-4338-9a3b-d8b4c0452ec3",
   "metadata": {
    "execution": {
     "iopub.execute_input": "2023-02-22T20:45:14.211688Z",
     "iopub.status.busy": "2023-02-22T20:45:14.205787Z",
     "iopub.status.idle": "2023-02-22T20:45:15.472675Z",
     "shell.execute_reply": "2023-02-22T20:45:15.472675Z",
     "shell.execute_reply.started": "2023-02-22T20:45:14.205787Z"
    },
    "tags": []
   },
   "outputs": [],
   "source": [
    "df = pd.DataFrame(index=data_dict['vxx'].index)\n",
    "for data in data_dict.keys():\n",
    "    df = pd.merge(df, data_dict[data], left_index=True, right_index=True, suffixes=['', '_'+data], how='left')\n",
    "df = df.rename(columns={'Close':'Close_fut'})"
   ]
  },
  {
   "cell_type": "markdown",
   "id": "580f11c0-18fe-45f5-b311-083ed2dcc708",
   "metadata": {},
   "source": [
    "Cut to market hours"
   ]
  },
  {
   "cell_type": "code",
   "execution_count": 679,
   "id": "cfcfcb08-33a3-482c-b2e9-36a4ef68d44e",
   "metadata": {
    "execution": {
     "iopub.execute_input": "2023-02-22T20:45:17.265453Z",
     "iopub.status.busy": "2023-02-22T20:45:17.265453Z",
     "iopub.status.idle": "2023-02-22T20:45:18.836835Z",
     "shell.execute_reply": "2023-02-22T20:45:18.836835Z",
     "shell.execute_reply.started": "2023-02-22T20:45:17.265453Z"
    },
    "tags": []
   },
   "outputs": [],
   "source": [
    "df['date'] = df.apply(lambda x: dt.datetime.strptime(str(x.name), '%Y-%m-%d %H:%M:%S').date(), axis=1)\n",
    "df['time'] = df.apply(lambda x: dt.datetime.strptime(str(x.name), '%Y-%m-%d %H:%M:%S').time(), axis=1)"
   ]
  },
  {
   "cell_type": "code",
   "execution_count": 683,
   "id": "8c1355ae-d13e-4a70-947d-aab2cbf87ffb",
   "metadata": {
    "execution": {
     "iopub.execute_input": "2023-02-22T20:45:48.419365Z",
     "iopub.status.busy": "2023-02-22T20:45:48.419365Z",
     "iopub.status.idle": "2023-02-22T20:45:48.442271Z",
     "shell.execute_reply": "2023-02-22T20:45:48.441770Z",
     "shell.execute_reply.started": "2023-02-22T20:45:48.419365Z"
    },
    "tags": []
   },
   "outputs": [],
   "source": [
    "df = df.loc[ (df['time']>dt.time(9)) & (df['time']<dt.time(16)) ]"
   ]
  },
  {
   "cell_type": "code",
   "execution_count": 684,
   "id": "0792e518-c3fc-4944-ba5b-dc062767fcfd",
   "metadata": {
    "execution": {
     "iopub.execute_input": "2023-02-22T20:45:48.681826Z",
     "iopub.status.busy": "2023-02-22T20:45:48.681826Z",
     "iopub.status.idle": "2023-02-22T20:45:48.732551Z",
     "shell.execute_reply": "2023-02-22T20:45:48.731519Z",
     "shell.execute_reply.started": "2023-02-22T20:45:48.681826Z"
    },
    "tags": []
   },
   "outputs": [
    {
     "data": {
      "text/html": [
       "<div>\n",
       "<style scoped>\n",
       "    .dataframe tbody tr th:only-of-type {\n",
       "        vertical-align: middle;\n",
       "    }\n",
       "\n",
       "    .dataframe tbody tr th {\n",
       "        vertical-align: top;\n",
       "    }\n",
       "\n",
       "    .dataframe thead th {\n",
       "        text-align: right;\n",
       "    }\n",
       "</style>\n",
       "<table border=\"1\" class=\"dataframe\">\n",
       "  <thead>\n",
       "    <tr style=\"text-align: right;\">\n",
       "      <th></th>\n",
       "      <th>Close_fut</th>\n",
       "      <th>Close_gas</th>\n",
       "      <th>Close_vxx</th>\n",
       "      <th>Close_spy</th>\n",
       "      <th>Close_btc</th>\n",
       "      <th>Close_bond</th>\n",
       "      <th>date</th>\n",
       "      <th>time</th>\n",
       "    </tr>\n",
       "    <tr>\n",
       "      <th>Local time</th>\n",
       "      <th></th>\n",
       "      <th></th>\n",
       "      <th></th>\n",
       "      <th></th>\n",
       "      <th></th>\n",
       "      <th></th>\n",
       "      <th></th>\n",
       "      <th></th>\n",
       "    </tr>\n",
       "  </thead>\n",
       "  <tbody>\n",
       "    <tr>\n",
       "      <th>2022-04-01 11:00:00</th>\n",
       "      <td>77.236</td>\n",
       "      <td>3.8018</td>\n",
       "      <td>25.46</td>\n",
       "      <td>454.21</td>\n",
       "      <td>46736</td>\n",
       "      <td>156.492</td>\n",
       "      <td>2022-04-01</td>\n",
       "      <td>11:00:00</td>\n",
       "    </tr>\n",
       "    <tr>\n",
       "      <th>2022-04-01 11:05:00</th>\n",
       "      <td>77.122</td>\n",
       "      <td>3.8148</td>\n",
       "      <td>25.43</td>\n",
       "      <td>454.23</td>\n",
       "      <td>46673</td>\n",
       "      <td>156.555</td>\n",
       "      <td>2022-04-01</td>\n",
       "      <td>11:05:00</td>\n",
       "    </tr>\n",
       "    <tr>\n",
       "      <th>2022-04-01 11:35:00</th>\n",
       "      <td>77.172</td>\n",
       "      <td>3.7668</td>\n",
       "      <td>25.38</td>\n",
       "      <td>454.00</td>\n",
       "      <td>46848</td>\n",
       "      <td>156.522</td>\n",
       "      <td>2022-04-01</td>\n",
       "      <td>11:35:00</td>\n",
       "    </tr>\n",
       "    <tr>\n",
       "      <th>2022-04-01 11:55:00</th>\n",
       "      <td>77.132</td>\n",
       "      <td>3.7638</td>\n",
       "      <td>25.37</td>\n",
       "      <td>454.12</td>\n",
       "      <td>46489</td>\n",
       "      <td>156.583</td>\n",
       "      <td>2022-04-01</td>\n",
       "      <td>11:55:00</td>\n",
       "    </tr>\n",
       "    <tr>\n",
       "      <th>2022-04-01 12:00:00</th>\n",
       "      <td>76.972</td>\n",
       "      <td>3.7419</td>\n",
       "      <td>25.38</td>\n",
       "      <td>454.00</td>\n",
       "      <td>46522</td>\n",
       "      <td>156.676</td>\n",
       "      <td>2022-04-01</td>\n",
       "      <td>12:00:00</td>\n",
       "    </tr>\n",
       "    <tr>\n",
       "      <th>...</th>\n",
       "      <td>...</td>\n",
       "      <td>...</td>\n",
       "      <td>...</td>\n",
       "      <td>...</td>\n",
       "      <td>...</td>\n",
       "      <td>...</td>\n",
       "      <td>...</td>\n",
       "      <td>...</td>\n",
       "    </tr>\n",
       "    <tr>\n",
       "      <th>2022-09-01 15:35:00</th>\n",
       "      <td>78.917</td>\n",
       "      <td>3.9290</td>\n",
       "      <td>19.76</td>\n",
       "      <td>NaN</td>\n",
       "      <td>42315</td>\n",
       "      <td>155.207</td>\n",
       "      <td>2022-09-01</td>\n",
       "      <td>15:35:00</td>\n",
       "    </tr>\n",
       "    <tr>\n",
       "      <th>2022-09-01 15:40:00</th>\n",
       "      <td>78.917</td>\n",
       "      <td>3.9290</td>\n",
       "      <td>19.82</td>\n",
       "      <td>NaN</td>\n",
       "      <td>42278</td>\n",
       "      <td>155.207</td>\n",
       "      <td>2022-09-01</td>\n",
       "      <td>15:40:00</td>\n",
       "    </tr>\n",
       "    <tr>\n",
       "      <th>2022-09-01 15:45:00</th>\n",
       "      <td>78.917</td>\n",
       "      <td>3.9290</td>\n",
       "      <td>19.76</td>\n",
       "      <td>NaN</td>\n",
       "      <td>42276</td>\n",
       "      <td>155.207</td>\n",
       "      <td>2022-09-01</td>\n",
       "      <td>15:45:00</td>\n",
       "    </tr>\n",
       "    <tr>\n",
       "      <th>2022-09-01 15:50:00</th>\n",
       "      <td>78.917</td>\n",
       "      <td>3.9290</td>\n",
       "      <td>19.81</td>\n",
       "      <td>NaN</td>\n",
       "      <td>42316</td>\n",
       "      <td>155.207</td>\n",
       "      <td>2022-09-01</td>\n",
       "      <td>15:50:00</td>\n",
       "    </tr>\n",
       "    <tr>\n",
       "      <th>2022-09-01 15:55:00</th>\n",
       "      <td>78.917</td>\n",
       "      <td>3.9290</td>\n",
       "      <td>19.80</td>\n",
       "      <td>NaN</td>\n",
       "      <td>42259</td>\n",
       "      <td>155.207</td>\n",
       "      <td>2022-09-01</td>\n",
       "      <td>15:55:00</td>\n",
       "    </tr>\n",
       "  </tbody>\n",
       "</table>\n",
       "<p>5127 rows × 8 columns</p>\n",
       "</div>"
      ],
      "text/plain": [
       "                     Close_fut  Close_gas  Close_vxx  Close_spy  Close_btc  \\\n",
       "Local time                                                                   \n",
       "2022-04-01 11:00:00     77.236     3.8018      25.46     454.21      46736   \n",
       "2022-04-01 11:05:00     77.122     3.8148      25.43     454.23      46673   \n",
       "2022-04-01 11:35:00     77.172     3.7668      25.38     454.00      46848   \n",
       "2022-04-01 11:55:00     77.132     3.7638      25.37     454.12      46489   \n",
       "2022-04-01 12:00:00     76.972     3.7419      25.38     454.00      46522   \n",
       "...                        ...        ...        ...        ...        ...   \n",
       "2022-09-01 15:35:00     78.917     3.9290      19.76        NaN      42315   \n",
       "2022-09-01 15:40:00     78.917     3.9290      19.82        NaN      42278   \n",
       "2022-09-01 15:45:00     78.917     3.9290      19.76        NaN      42276   \n",
       "2022-09-01 15:50:00     78.917     3.9290      19.81        NaN      42316   \n",
       "2022-09-01 15:55:00     78.917     3.9290      19.80        NaN      42259   \n",
       "\n",
       "                     Close_bond        date      time  \n",
       "Local time                                             \n",
       "2022-04-01 11:00:00     156.492  2022-04-01  11:00:00  \n",
       "2022-04-01 11:05:00     156.555  2022-04-01  11:05:00  \n",
       "2022-04-01 11:35:00     156.522  2022-04-01  11:35:00  \n",
       "2022-04-01 11:55:00     156.583  2022-04-01  11:55:00  \n",
       "2022-04-01 12:00:00     156.676  2022-04-01  12:00:00  \n",
       "...                         ...         ...       ...  \n",
       "2022-09-01 15:35:00     155.207  2022-09-01  15:35:00  \n",
       "2022-09-01 15:40:00     155.207  2022-09-01  15:40:00  \n",
       "2022-09-01 15:45:00     155.207  2022-09-01  15:45:00  \n",
       "2022-09-01 15:50:00     155.207  2022-09-01  15:50:00  \n",
       "2022-09-01 15:55:00     155.207  2022-09-01  15:55:00  \n",
       "\n",
       "[5127 rows x 8 columns]"
      ]
     },
     "execution_count": 684,
     "metadata": {},
     "output_type": "execute_result"
    }
   ],
   "source": [
    "df"
   ]
  },
  {
   "cell_type": "markdown",
   "id": "33f5882d-46fb-4db4-85b7-6a36836ed1ad",
   "metadata": {},
   "source": [
    "The plot below shows the high daily variance and the gaps between data are non-trading hours"
   ]
  },
  {
   "cell_type": "code",
   "execution_count": 685,
   "id": "cabaa440-8add-4e3e-b931-bed89cb7cba2",
   "metadata": {
    "execution": {
     "iopub.execute_input": "2023-02-22T20:45:50.232263Z",
     "iopub.status.busy": "2023-02-22T20:45:50.232263Z",
     "iopub.status.idle": "2023-02-22T20:45:51.008699Z",
     "shell.execute_reply": "2023-02-22T20:45:51.008699Z",
     "shell.execute_reply.started": "2023-02-22T20:45:50.232263Z"
    },
    "tags": []
   },
   "outputs": [
    {
     "data": {
      "text/plain": [
       "<matplotlib.collections.PathCollection at 0x23e8e356280>"
      ]
     },
     "execution_count": 685,
     "metadata": {},
     "output_type": "execute_result"
    },
    {
     "data": {
      "image/png": "[encoded data removed]",
      "text/plain": [
       "<Figure size 1440x648 with 1 Axes>"
      ]
     },
     "metadata": {
      "needs_background": "light"
     },
     "output_type": "display_data"
    }
   ],
   "source": [
    "plt.subplots(figsize=(20,9))\n",
    "plt.scatter(df.index, df['Close_fut'])"
   ]
  },
  {
   "cell_type": "code",
   "execution_count": 674,
   "id": "ab119fca-638f-497a-a2cf-b1d1f5d3b557",
   "metadata": {
    "execution": {
     "iopub.execute_input": "2023-02-22T20:43:33.118504Z",
     "iopub.status.busy": "2023-02-22T20:43:33.118504Z",
     "iopub.status.idle": "2023-02-22T20:43:50.745032Z",
     "shell.execute_reply": "2023-02-22T20:43:50.745032Z",
     "shell.execute_reply.started": "2023-02-22T20:43:33.118504Z"
    },
    "tags": []
   },
   "outputs": [
    {
     "data": {
      "text/plain": [
       "<matplotlib.collections.PathCollection at 0x23e837638b0>"
      ]
     },
     "execution_count": 674,
     "metadata": {},
     "output_type": "execute_result"
    },
    {
     "data": {
      "image/png": "[encoded data removed]",
      "text/plain": [
       "<Figure size 1440x648 with 1 Axes>"
      ]
     },
     "metadata": {
      "needs_background": "light"
     },
     "output_type": "display_data"
    }
   ],
   "source": [
    "plt.subplots(figsize=(20,9))\n",
    "plt.scatter(fut['Local time'][:500], fut['Close'][:500])"
   ]
  },
  {
   "cell_type": "code",
   "execution_count": 681,
   "id": "4d39b561-bd5d-4cc8-8e8d-ae3fec563a4f",
   "metadata": {
    "execution": {
     "iopub.execute_input": "2023-02-22T20:45:31.931586Z",
     "iopub.status.busy": "2023-02-22T20:45:31.931586Z",
     "iopub.status.idle": "2023-02-22T20:45:32.805216Z",
     "shell.execute_reply": "2023-02-22T20:45:32.805216Z",
     "shell.execute_reply.started": "2023-02-22T20:45:31.931586Z"
    },
    "tags": []
   },
   "outputs": [
    {
     "data": {
      "text/plain": [
       "<matplotlib.collections.PathCollection at 0x23ee735ca30>"
      ]
     },
     "execution_count": 681,
     "metadata": {},
     "output_type": "execute_result"
    },
    {
     "data": {
      "image/png": "[encoded data removed]",
      "text/plain": [
       "<Figure size 1440x648 with 1 Axes>"
      ]
     },
     "metadata": {
      "needs_background": "light"
     },
     "output_type": "display_data"
    }
   ],
   "source": [
    "plt.subplots(figsize=(20,9))\n",
    "plt.scatter(vxx['Local time'], vxx['Close'])"
   ]
  },
  {
   "cell_type": "markdown",
   "id": "110ffb07-5fab-4af5-b384-5a68381370b7",
   "metadata": {},
   "source": [
    "## Create log returns"
   ]
  },
  {
   "cell_type": "markdown",
   "id": "3e0bc92a-62e5-4035-b245-74f973b35aaf",
   "metadata": {},
   "source": [
    "Calculate log returns for each feature."
   ]
  },
  {
   "cell_type": "code",
   "execution_count": 643,
   "id": "ea045e4c-916c-4aac-b65d-4e58cee9db6f",
   "metadata": {
    "execution": {
     "iopub.execute_input": "2023-02-22T20:32:49.186627Z",
     "iopub.status.busy": "2023-02-22T20:32:49.186627Z",
     "iopub.status.idle": "2023-02-22T20:32:49.214205Z",
     "shell.execute_reply": "2023-02-22T20:32:49.213210Z",
     "shell.execute_reply.started": "2023-02-22T20:32:49.186627Z"
    },
    "tags": []
   },
   "outputs": [],
   "source": [
    "for feat in set(df.columns) - {'date', 'time'}:\n",
    "    df[feat] = np.log( df[feat] / df[feat].shift(1) )"
   ]
  },
  {
   "cell_type": "markdown",
   "id": "ebab982e-b91e-4e7d-a544-246cc9e77a3a",
   "metadata": {},
   "source": [
    "Lots of nulls.  Fix later"
   ]
  },
  {
   "cell_type": "code",
   "execution_count": 644,
   "id": "6f60771d-054b-4f46-8287-9a9e1c6c2445",
   "metadata": {
    "execution": {
     "iopub.execute_input": "2023-02-22T20:32:50.071748Z",
     "iopub.status.busy": "2023-02-22T20:32:50.071748Z",
     "iopub.status.idle": "2023-02-22T20:32:50.120039Z",
     "shell.execute_reply": "2023-02-22T20:32:50.118309Z",
     "shell.execute_reply.started": "2023-02-22T20:32:50.071748Z"
    },
    "tags": []
   },
   "outputs": [
    {
     "data": {
      "text/html": [
       "<div>\n",
       "<style scoped>\n",
       "    .dataframe tbody tr th:only-of-type {\n",
       "        vertical-align: middle;\n",
       "    }\n",
       "\n",
       "    .dataframe tbody tr th {\n",
       "        vertical-align: top;\n",
       "    }\n",
       "\n",
       "    .dataframe thead th {\n",
       "        text-align: right;\n",
       "    }\n",
       "</style>\n",
       "<table border=\"1\" class=\"dataframe\">\n",
       "  <thead>\n",
       "    <tr style=\"text-align: right;\">\n",
       "      <th></th>\n",
       "      <th>Close_fut</th>\n",
       "      <th>Close_gas</th>\n",
       "      <th>Close_vxx</th>\n",
       "      <th>Close_spy</th>\n",
       "      <th>Close_btc</th>\n",
       "      <th>Close_bond</th>\n",
       "      <th>date</th>\n",
       "      <th>time</th>\n",
       "    </tr>\n",
       "    <tr>\n",
       "      <th>Local time</th>\n",
       "      <th></th>\n",
       "      <th></th>\n",
       "      <th></th>\n",
       "      <th></th>\n",
       "      <th></th>\n",
       "      <th></th>\n",
       "      <th></th>\n",
       "      <th></th>\n",
       "    </tr>\n",
       "  </thead>\n",
       "  <tbody>\n",
       "    <tr>\n",
       "      <th>2022-04-01 11:00:00</th>\n",
       "      <td>NaN</td>\n",
       "      <td>NaN</td>\n",
       "      <td>NaN</td>\n",
       "      <td>NaN</td>\n",
       "      <td>NaN</td>\n",
       "      <td>NaN</td>\n",
       "      <td>2022-04-01</td>\n",
       "      <td>11:00:00</td>\n",
       "    </tr>\n",
       "    <tr>\n",
       "      <th>2022-05-20 09:50:00</th>\n",
       "      <td>0.006661</td>\n",
       "      <td>0.004291</td>\n",
       "      <td>-0.047253</td>\n",
       "      <td>NaN</td>\n",
       "      <td>-0.026998</td>\n",
       "      <td>0.003340</td>\n",
       "      <td>2022-05-20</td>\n",
       "      <td>09:50:00</td>\n",
       "    </tr>\n",
       "    <tr>\n",
       "      <th>2022-05-20 11:00:00</th>\n",
       "      <td>-0.004557</td>\n",
       "      <td>-0.004922</td>\n",
       "      <td>0.002819</td>\n",
       "      <td>NaN</td>\n",
       "      <td>-0.014330</td>\n",
       "      <td>0.001316</td>\n",
       "      <td>2022-05-20</td>\n",
       "      <td>11:00:00</td>\n",
       "    </tr>\n",
       "    <tr>\n",
       "      <th>2022-06-27 09:35:00</th>\n",
       "      <td>0.011650</td>\n",
       "      <td>0.016535</td>\n",
       "      <td>0.000437</td>\n",
       "      <td>NaN</td>\n",
       "      <td>-0.023240</td>\n",
       "      <td>-0.004379</td>\n",
       "      <td>2022-06-27</td>\n",
       "      <td>09:35:00</td>\n",
       "    </tr>\n",
       "    <tr>\n",
       "      <th>2022-06-27 11:05:00</th>\n",
       "      <td>0.005898</td>\n",
       "      <td>0.022409</td>\n",
       "      <td>0.002618</td>\n",
       "      <td>NaN</td>\n",
       "      <td>0.001308</td>\n",
       "      <td>-0.000007</td>\n",
       "      <td>2022-06-27</td>\n",
       "      <td>11:05:00</td>\n",
       "    </tr>\n",
       "    <tr>\n",
       "      <th>...</th>\n",
       "      <td>...</td>\n",
       "      <td>...</td>\n",
       "      <td>...</td>\n",
       "      <td>...</td>\n",
       "      <td>...</td>\n",
       "      <td>...</td>\n",
       "      <td>...</td>\n",
       "      <td>...</td>\n",
       "    </tr>\n",
       "    <tr>\n",
       "      <th>2022-09-01 15:35:00</th>\n",
       "      <td>0.000000</td>\n",
       "      <td>0.000000</td>\n",
       "      <td>-0.000511</td>\n",
       "      <td>NaN</td>\n",
       "      <td>-0.000685</td>\n",
       "      <td>0.000000</td>\n",
       "      <td>2022-09-01</td>\n",
       "      <td>15:35:00</td>\n",
       "    </tr>\n",
       "    <tr>\n",
       "      <th>2022-09-01 15:40:00</th>\n",
       "      <td>0.000000</td>\n",
       "      <td>0.000000</td>\n",
       "      <td>0.003032</td>\n",
       "      <td>NaN</td>\n",
       "      <td>-0.000875</td>\n",
       "      <td>0.000000</td>\n",
       "      <td>2022-09-01</td>\n",
       "      <td>15:40:00</td>\n",
       "    </tr>\n",
       "    <tr>\n",
       "      <th>2022-09-01 15:45:00</th>\n",
       "      <td>0.000000</td>\n",
       "      <td>0.000000</td>\n",
       "      <td>-0.003032</td>\n",
       "      <td>NaN</td>\n",
       "      <td>-0.000047</td>\n",
       "      <td>0.000000</td>\n",
       "      <td>2022-09-01</td>\n",
       "      <td>15:45:00</td>\n",
       "    </tr>\n",
       "    <tr>\n",
       "      <th>2022-09-01 15:50:00</th>\n",
       "      <td>0.000000</td>\n",
       "      <td>0.000000</td>\n",
       "      <td>0.002527</td>\n",
       "      <td>NaN</td>\n",
       "      <td>0.000946</td>\n",
       "      <td>0.000000</td>\n",
       "      <td>2022-09-01</td>\n",
       "      <td>15:50:00</td>\n",
       "    </tr>\n",
       "    <tr>\n",
       "      <th>2022-09-01 15:55:00</th>\n",
       "      <td>0.000000</td>\n",
       "      <td>0.000000</td>\n",
       "      <td>-0.000505</td>\n",
       "      <td>NaN</td>\n",
       "      <td>-0.001348</td>\n",
       "      <td>0.000000</td>\n",
       "      <td>2022-09-01</td>\n",
       "      <td>15:55:00</td>\n",
       "    </tr>\n",
       "  </tbody>\n",
       "</table>\n",
       "<p>2185 rows × 8 columns</p>\n",
       "</div>"
      ],
      "text/plain": [
       "                     Close_fut  Close_gas  Close_vxx  Close_spy  Close_btc  \\\n",
       "Local time                                                                   \n",
       "2022-04-01 11:00:00        NaN        NaN        NaN        NaN        NaN   \n",
       "2022-05-20 09:50:00   0.006661   0.004291  -0.047253        NaN  -0.026998   \n",
       "2022-05-20 11:00:00  -0.004557  -0.004922   0.002819        NaN  -0.014330   \n",
       "2022-06-27 09:35:00   0.011650   0.016535   0.000437        NaN  -0.023240   \n",
       "2022-06-27 11:05:00   0.005898   0.022409   0.002618        NaN   0.001308   \n",
       "...                        ...        ...        ...        ...        ...   \n",
       "2022-09-01 15:35:00   0.000000   0.000000  -0.000511        NaN  -0.000685   \n",
       "2022-09-01 15:40:00   0.000000   0.000000   0.003032        NaN  -0.000875   \n",
       "2022-09-01 15:45:00   0.000000   0.000000  -0.003032        NaN  -0.000047   \n",
       "2022-09-01 15:50:00   0.000000   0.000000   0.002527        NaN   0.000946   \n",
       "2022-09-01 15:55:00   0.000000   0.000000  -0.000505        NaN  -0.001348   \n",
       "\n",
       "                     Close_bond        date      time  \n",
       "Local time                                             \n",
       "2022-04-01 11:00:00         NaN  2022-04-01  11:00:00  \n",
       "2022-05-20 09:50:00    0.003340  2022-05-20  09:50:00  \n",
       "2022-05-20 11:00:00    0.001316  2022-05-20  11:00:00  \n",
       "2022-06-27 09:35:00   -0.004379  2022-06-27  09:35:00  \n",
       "2022-06-27 11:05:00   -0.000007  2022-06-27  11:05:00  \n",
       "...                         ...         ...       ...  \n",
       "2022-09-01 15:35:00    0.000000  2022-09-01  15:35:00  \n",
       "2022-09-01 15:40:00    0.000000  2022-09-01  15:40:00  \n",
       "2022-09-01 15:45:00    0.000000  2022-09-01  15:45:00  \n",
       "2022-09-01 15:50:00    0.000000  2022-09-01  15:50:00  \n",
       "2022-09-01 15:55:00    0.000000  2022-09-01  15:55:00  \n",
       "\n",
       "[2185 rows x 8 columns]"
      ]
     },
     "execution_count": 644,
     "metadata": {},
     "output_type": "execute_result"
    }
   ],
   "source": [
    "df.loc[df['Close_spy'].isna()]"
   ]
  },
  {
   "cell_type": "markdown",
   "id": "bffde70b-9443-44f2-b48e-97dc9b57aab7",
   "metadata": {},
   "source": [
    "Fill nulls with spline interpolation.  "
   ]
  },
  {
   "cell_type": "code",
   "execution_count": 645,
   "id": "d88a4d6d-e2b1-4e03-9d25-55b82dde2a12",
   "metadata": {
    "execution": {
     "iopub.execute_input": "2023-02-22T20:33:01.222627Z",
     "iopub.status.busy": "2023-02-22T20:33:01.222083Z",
     "iopub.status.idle": "2023-02-22T20:33:01.251445Z",
     "shell.execute_reply": "2023-02-22T20:33:01.251445Z",
     "shell.execute_reply.started": "2023-02-22T20:33:01.222627Z"
    },
    "tags": []
   },
   "outputs": [],
   "source": [
    "df = df.interpolate(method='spline', order=3)"
   ]
  },
  {
   "cell_type": "code",
   "execution_count": 646,
   "id": "bf872ead-a0b3-45b8-8c38-7666b9bdcdcc",
   "metadata": {
    "execution": {
     "iopub.execute_input": "2023-02-22T20:33:02.737902Z",
     "iopub.status.busy": "2023-02-22T20:33:02.737902Z",
     "iopub.status.idle": "2023-02-22T20:33:02.779784Z",
     "shell.execute_reply": "2023-02-22T20:33:02.779784Z",
     "shell.execute_reply.started": "2023-02-22T20:33:02.737902Z"
    },
    "tags": []
   },
   "outputs": [
    {
     "data": {
      "text/html": [
       "<div>\n",
       "<style scoped>\n",
       "    .dataframe tbody tr th:only-of-type {\n",
       "        vertical-align: middle;\n",
       "    }\n",
       "\n",
       "    .dataframe tbody tr th {\n",
       "        vertical-align: top;\n",
       "    }\n",
       "\n",
       "    .dataframe thead th {\n",
       "        text-align: right;\n",
       "    }\n",
       "</style>\n",
       "<table border=\"1\" class=\"dataframe\">\n",
       "  <thead>\n",
       "    <tr style=\"text-align: right;\">\n",
       "      <th></th>\n",
       "      <th>Close_fut</th>\n",
       "      <th>Close_gas</th>\n",
       "      <th>Close_vxx</th>\n",
       "      <th>Close_spy</th>\n",
       "      <th>Close_btc</th>\n",
       "      <th>Close_bond</th>\n",
       "      <th>date</th>\n",
       "      <th>time</th>\n",
       "    </tr>\n",
       "    <tr>\n",
       "      <th>Local time</th>\n",
       "      <th></th>\n",
       "      <th></th>\n",
       "      <th></th>\n",
       "      <th></th>\n",
       "      <th></th>\n",
       "      <th></th>\n",
       "      <th></th>\n",
       "      <th></th>\n",
       "    </tr>\n",
       "  </thead>\n",
       "  <tbody>\n",
       "    <tr>\n",
       "      <th>2022-04-01 11:00:00</th>\n",
       "      <td>NaN</td>\n",
       "      <td>NaN</td>\n",
       "      <td>NaN</td>\n",
       "      <td>NaN</td>\n",
       "      <td>NaN</td>\n",
       "      <td>NaN</td>\n",
       "      <td>2022-04-01</td>\n",
       "      <td>11:00:00</td>\n",
       "    </tr>\n",
       "    <tr>\n",
       "      <th>2022-04-01 11:05:00</th>\n",
       "      <td>-0.001477</td>\n",
       "      <td>0.003414</td>\n",
       "      <td>-0.001179</td>\n",
       "      <td>0.000044</td>\n",
       "      <td>-0.001349</td>\n",
       "      <td>0.000402</td>\n",
       "      <td>2022-04-01</td>\n",
       "      <td>11:05:00</td>\n",
       "    </tr>\n",
       "    <tr>\n",
       "      <th>2022-04-01 11:35:00</th>\n",
       "      <td>0.000648</td>\n",
       "      <td>-0.012662</td>\n",
       "      <td>-0.001968</td>\n",
       "      <td>-0.000506</td>\n",
       "      <td>0.003742</td>\n",
       "      <td>-0.000211</td>\n",
       "      <td>2022-04-01</td>\n",
       "      <td>11:35:00</td>\n",
       "    </tr>\n",
       "    <tr>\n",
       "      <th>2022-04-01 11:55:00</th>\n",
       "      <td>-0.000518</td>\n",
       "      <td>-0.000797</td>\n",
       "      <td>-0.000394</td>\n",
       "      <td>0.000264</td>\n",
       "      <td>-0.007693</td>\n",
       "      <td>0.000390</td>\n",
       "      <td>2022-04-01</td>\n",
       "      <td>11:55:00</td>\n",
       "    </tr>\n",
       "    <tr>\n",
       "      <th>2022-04-01 12:00:00</th>\n",
       "      <td>-0.002077</td>\n",
       "      <td>-0.005836</td>\n",
       "      <td>0.000394</td>\n",
       "      <td>-0.000264</td>\n",
       "      <td>0.000710</td>\n",
       "      <td>0.000594</td>\n",
       "      <td>2022-04-01</td>\n",
       "      <td>12:00:00</td>\n",
       "    </tr>\n",
       "    <tr>\n",
       "      <th>...</th>\n",
       "      <td>...</td>\n",
       "      <td>...</td>\n",
       "      <td>...</td>\n",
       "      <td>...</td>\n",
       "      <td>...</td>\n",
       "      <td>...</td>\n",
       "      <td>...</td>\n",
       "      <td>...</td>\n",
       "    </tr>\n",
       "    <tr>\n",
       "      <th>2022-09-01 15:35:00</th>\n",
       "      <td>0.000000</td>\n",
       "      <td>0.000000</td>\n",
       "      <td>-0.000511</td>\n",
       "      <td>0.002426</td>\n",
       "      <td>-0.000685</td>\n",
       "      <td>0.000000</td>\n",
       "      <td>2022-09-01</td>\n",
       "      <td>15:35:00</td>\n",
       "    </tr>\n",
       "    <tr>\n",
       "      <th>2022-09-01 15:40:00</th>\n",
       "      <td>0.000000</td>\n",
       "      <td>0.000000</td>\n",
       "      <td>0.003032</td>\n",
       "      <td>0.002426</td>\n",
       "      <td>-0.000875</td>\n",
       "      <td>0.000000</td>\n",
       "      <td>2022-09-01</td>\n",
       "      <td>15:40:00</td>\n",
       "    </tr>\n",
       "    <tr>\n",
       "      <th>2022-09-01 15:45:00</th>\n",
       "      <td>0.000000</td>\n",
       "      <td>0.000000</td>\n",
       "      <td>-0.003032</td>\n",
       "      <td>0.002426</td>\n",
       "      <td>-0.000047</td>\n",
       "      <td>0.000000</td>\n",
       "      <td>2022-09-01</td>\n",
       "      <td>15:45:00</td>\n",
       "    </tr>\n",
       "    <tr>\n",
       "      <th>2022-09-01 15:50:00</th>\n",
       "      <td>0.000000</td>\n",
       "      <td>0.000000</td>\n",
       "      <td>0.002527</td>\n",
       "      <td>0.002426</td>\n",
       "      <td>0.000946</td>\n",
       "      <td>0.000000</td>\n",
       "      <td>2022-09-01</td>\n",
       "      <td>15:50:00</td>\n",
       "    </tr>\n",
       "    <tr>\n",
       "      <th>2022-09-01 15:55:00</th>\n",
       "      <td>0.000000</td>\n",
       "      <td>0.000000</td>\n",
       "      <td>-0.000505</td>\n",
       "      <td>0.002426</td>\n",
       "      <td>-0.001348</td>\n",
       "      <td>0.000000</td>\n",
       "      <td>2022-09-01</td>\n",
       "      <td>15:55:00</td>\n",
       "    </tr>\n",
       "  </tbody>\n",
       "</table>\n",
       "<p>5127 rows × 8 columns</p>\n",
       "</div>"
      ],
      "text/plain": [
       "                     Close_fut  Close_gas  Close_vxx  Close_spy  Close_btc  \\\n",
       "Local time                                                                   \n",
       "2022-04-01 11:00:00        NaN        NaN        NaN        NaN        NaN   \n",
       "2022-04-01 11:05:00  -0.001477   0.003414  -0.001179   0.000044  -0.001349   \n",
       "2022-04-01 11:35:00   0.000648  -0.012662  -0.001968  -0.000506   0.003742   \n",
       "2022-04-01 11:55:00  -0.000518  -0.000797  -0.000394   0.000264  -0.007693   \n",
       "2022-04-01 12:00:00  -0.002077  -0.005836   0.000394  -0.000264   0.000710   \n",
       "...                        ...        ...        ...        ...        ...   \n",
       "2022-09-01 15:35:00   0.000000   0.000000  -0.000511   0.002426  -0.000685   \n",
       "2022-09-01 15:40:00   0.000000   0.000000   0.003032   0.002426  -0.000875   \n",
       "2022-09-01 15:45:00   0.000000   0.000000  -0.003032   0.002426  -0.000047   \n",
       "2022-09-01 15:50:00   0.000000   0.000000   0.002527   0.002426   0.000946   \n",
       "2022-09-01 15:55:00   0.000000   0.000000  -0.000505   0.002426  -0.001348   \n",
       "\n",
       "                     Close_bond        date      time  \n",
       "Local time                                             \n",
       "2022-04-01 11:00:00         NaN  2022-04-01  11:00:00  \n",
       "2022-04-01 11:05:00    0.000402  2022-04-01  11:05:00  \n",
       "2022-04-01 11:35:00   -0.000211  2022-04-01  11:35:00  \n",
       "2022-04-01 11:55:00    0.000390  2022-04-01  11:55:00  \n",
       "2022-04-01 12:00:00    0.000594  2022-04-01  12:00:00  \n",
       "...                         ...         ...       ...  \n",
       "2022-09-01 15:35:00    0.000000  2022-09-01  15:35:00  \n",
       "2022-09-01 15:40:00    0.000000  2022-09-01  15:40:00  \n",
       "2022-09-01 15:45:00    0.000000  2022-09-01  15:45:00  \n",
       "2022-09-01 15:50:00    0.000000  2022-09-01  15:50:00  \n",
       "2022-09-01 15:55:00    0.000000  2022-09-01  15:55:00  \n",
       "\n",
       "[5127 rows x 8 columns]"
      ]
     },
     "execution_count": 646,
     "metadata": {},
     "output_type": "execute_result"
    }
   ],
   "source": [
    "df"
   ]
  },
  {
   "cell_type": "markdown",
   "id": "bf49793b-c8ae-4bb6-98d6-8844a46e4a3a",
   "metadata": {},
   "source": [
    "## Process each day separately\n",
    "\n",
    "Doing this shows that some dates have missing data for the Polygon data.  This sucks"
   ]
  },
  {
   "cell_type": "code",
   "execution_count": 647,
   "id": "ee78ffb2-11ef-4ab1-abe3-9236b140e20f",
   "metadata": {
    "execution": {
     "iopub.execute_input": "2023-02-22T20:33:18.322620Z",
     "iopub.status.busy": "2023-02-22T20:33:18.322620Z",
     "iopub.status.idle": "2023-02-22T20:33:18.355938Z",
     "shell.execute_reply": "2023-02-22T20:33:18.354286Z",
     "shell.execute_reply.started": "2023-02-22T20:33:18.322620Z"
    },
    "tags": []
   },
   "outputs": [],
   "source": [
    "days = list(set([d.date() for d in df.index]))"
   ]
  },
  {
   "cell_type": "markdown",
   "id": "c65e5605-0686-4eb0-8084-8e7bc2c16ef2",
   "metadata": {},
   "source": [
    "Now we split the data into individual days.  We calculate the $n$ period rolling standard deviation as our outcome measure within each day.  Then, we can concat the data together"
   ]
  },
  {
   "cell_type": "code",
   "execution_count": 648,
   "id": "f20c041d-c6bd-47ee-a588-883c184c1356",
   "metadata": {
    "execution": {
     "iopub.execute_input": "2023-02-22T20:33:18.960587Z",
     "iopub.status.busy": "2023-02-22T20:33:18.960587Z",
     "iopub.status.idle": "2023-02-22T20:33:19.447685Z",
     "shell.execute_reply": "2023-02-22T20:33:19.447685Z",
     "shell.execute_reply.started": "2023-02-22T20:33:18.960587Z"
    },
    "tags": []
   },
   "outputs": [],
   "source": [
    "n=12\n",
    "day_dict = {}\n",
    "for day in days:\n",
    "    day_dict[day] = df.loc[df['date'] == day]\n",
    "    del day_dict[day]['date']\n",
    "    \n",
    "    day_dict[day][str(n)+'_oil_std'] = day_dict[day].rolling(n)['Close_fut'].std()\n",
    "    day_dict[day] = day_dict[day][n:]"
   ]
  },
  {
   "cell_type": "code",
   "execution_count": 659,
   "id": "cae91e4c-3414-4a1d-b82b-e4e95b8e627c",
   "metadata": {
    "execution": {
     "iopub.execute_input": "2023-02-22T20:35:28.649695Z",
     "iopub.status.busy": "2023-02-22T20:35:28.649695Z",
     "iopub.status.idle": "2023-02-22T20:35:29.727782Z",
     "shell.execute_reply": "2023-02-22T20:35:29.727782Z",
     "shell.execute_reply.started": "2023-02-22T20:35:28.649695Z"
    },
    "tags": []
   },
   "outputs": [
    {
     "data": {
      "text/plain": [
       "<matplotlib.collections.PathCollection at 0x23eec8ae850>"
      ]
     },
     "execution_count": 659,
     "metadata": {},
     "output_type": "execute_result"
    },
    {
     "data": {
      "image/png": "[encoded data removed]",
      "text/plain": [
       "<Figure size 1440x720 with 1 Axes>"
      ]
     },
     "metadata": {
      "needs_background": "light"
     },
     "output_type": "display_data"
    }
   ],
   "source": [
    "concat = pd.concat(day_dict.values())[str(n)+'_oil_std']\n",
    "plt.subplots(figsize=(20,10))\n",
    "plt.scatter(concat.index, concat)"
   ]
  },
  {
   "cell_type": "markdown",
   "id": "e0d13bc4-5692-4f4f-8794-f21f8a9c101c",
   "metadata": {},
   "source": [
    "# Test Train Splits"
   ]
  },
  {
   "cell_type": "markdown",
   "id": "03570ea1-a801-4c5b-8dde-6c630befe39a",
   "metadata": {},
   "source": [
    "We will train on a rolling $k$ length period and predict the next bar of vol."
   ]
  },
  {
   "cell_type": "code",
   "execution_count": 234,
   "id": "e567045b-b12c-44ad-8d4b-12a07e73c943",
   "metadata": {
    "execution": {
     "iopub.execute_input": "2023-02-20T07:29:58.566912Z",
     "iopub.status.busy": "2023-02-20T07:29:58.566912Z",
     "iopub.status.idle": "2023-02-20T07:29:58.579913Z",
     "shell.execute_reply": "2023-02-20T07:29:58.578911Z",
     "shell.execute_reply.started": "2023-02-20T07:29:58.566912Z"
    },
    "tags": []
   },
   "outputs": [],
   "source": [
    "X_train, X_test, y_train, y_test = train_test_split(X, Y, test_size=0.2, shuffle=False)"
   ]
  },
  {
   "cell_type": "markdown",
   "id": "3b31a141-ee4c-445e-80ef-d1930cccc35e",
   "metadata": {},
   "source": [
    "## Initial Model testing"
   ]
  },
  {
   "cell_type": "code",
   "execution_count": 251,
   "id": "75b2fa8e-e806-41f0-8234-9736995810b0",
   "metadata": {
    "execution": {
     "iopub.execute_input": "2023-02-20T18:28:38.367691Z",
     "iopub.status.busy": "2023-02-20T18:28:38.367691Z",
     "iopub.status.idle": "2023-02-20T18:28:51.302634Z",
     "shell.execute_reply": "2023-02-20T18:28:51.301708Z",
     "shell.execute_reply.started": "2023-02-20T18:28:38.367691Z"
    },
    "tags": []
   },
   "outputs": [
    {
     "name": "stdout",
     "output_type": "stream",
     "text": [
      "RF\n",
      "RandomForestRegressor(max_depth=3, n_estimators=10)\n",
      "MAE:  0.0001873201182509463 \n",
      "MSE:  3.739762390653617e-08 \n",
      "RMSE:  0.00019338465271715894\n",
      "GB\n",
      "GradientBoostingRegressor(learning_rate=1e-07, n_estimators=10)\n",
      "MAE:  0.00020812947123731586 \n",
      "MSE:  4.332753712585249e-08 \n",
      "RMSE:  0.00020815267744098918\n"
     ]
    }
   ],
   "source": [
    "res = {'RF':None, 'GB':None}\n",
    "for model in res.keys():\n",
    "    r = model_selection(model)\n",
    "    res[model] = r"
   ]
  },
  {
   "cell_type": "code",
   "execution_count": 244,
   "id": "e9df1e6b-f53a-4c1a-a706-dd20581300e4",
   "metadata": {
    "execution": {
     "iopub.execute_input": "2023-02-20T07:32:14.547218Z",
     "iopub.status.busy": "2023-02-20T07:32:14.547218Z",
     "iopub.status.idle": "2023-02-20T07:32:14.567218Z",
     "shell.execute_reply": "2023-02-20T07:32:14.567218Z",
     "shell.execute_reply.started": "2023-02-20T07:32:14.547218Z"
    },
    "tags": []
   },
   "outputs": [
    {
     "data": {
      "text/html": [
       "<div>\n",
       "<style scoped>\n",
       "    .dataframe tbody tr th:only-of-type {\n",
       "        vertical-align: middle;\n",
       "    }\n",
       "\n",
       "    .dataframe tbody tr th {\n",
       "        vertical-align: top;\n",
       "    }\n",
       "\n",
       "    .dataframe thead th {\n",
       "        text-align: right;\n",
       "    }\n",
       "</style>\n",
       "<table border=\"1\" class=\"dataframe\">\n",
       "  <thead>\n",
       "    <tr style=\"text-align: right;\">\n",
       "      <th></th>\n",
       "      <th>Close_fut</th>\n",
       "      <th>Close_gas</th>\n",
       "      <th>Close_btc</th>\n",
       "      <th>Close_bond</th>\n",
       "      <th>fut_78_std</th>\n",
       "    </tr>\n",
       "    <tr>\n",
       "      <th>Local time</th>\n",
       "      <th></th>\n",
       "      <th></th>\n",
       "      <th></th>\n",
       "      <th></th>\n",
       "      <th></th>\n",
       "    </tr>\n",
       "  </thead>\n",
       "  <tbody>\n",
       "    <tr>\n",
       "      <th>2021-09-08 14:25:00+05:00</th>\n",
       "      <td>0.000374</td>\n",
       "      <td>-0.000469</td>\n",
       "      <td>-0.000216</td>\n",
       "      <td>0.000397</td>\n",
       "      <td>0.002224</td>\n",
       "    </tr>\n",
       "    <tr>\n",
       "      <th>2021-09-08 14:30:00+05:00</th>\n",
       "      <td>-0.000075</td>\n",
       "      <td>-0.000592</td>\n",
       "      <td>-0.002829</td>\n",
       "      <td>-0.000385</td>\n",
       "      <td>0.002045</td>\n",
       "    </tr>\n",
       "    <tr>\n",
       "      <th>2021-09-08 14:35:00+05:00</th>\n",
       "      <td>0.000749</td>\n",
       "      <td>0.000049</td>\n",
       "      <td>-0.000043</td>\n",
       "      <td>0.000000</td>\n",
       "      <td>0.002023</td>\n",
       "    </tr>\n",
       "    <tr>\n",
       "      <th>2021-09-08 14:40:00+05:00</th>\n",
       "      <td>-0.001182</td>\n",
       "      <td>-0.003926</td>\n",
       "      <td>-0.000628</td>\n",
       "      <td>0.000000</td>\n",
       "      <td>0.001964</td>\n",
       "    </tr>\n",
       "    <tr>\n",
       "      <th>2021-09-08 14:45:00+05:00</th>\n",
       "      <td>0.000135</td>\n",
       "      <td>-0.000223</td>\n",
       "      <td>0.000433</td>\n",
       "      <td>-0.000214</td>\n",
       "      <td>0.001961</td>\n",
       "    </tr>\n",
       "    <tr>\n",
       "      <th>2021-09-08 14:50:00+05:00</th>\n",
       "      <td>0.000599</td>\n",
       "      <td>-0.000471</td>\n",
       "      <td>-0.007409</td>\n",
       "      <td>0.000006</td>\n",
       "      <td>0.001950</td>\n",
       "    </tr>\n",
       "    <tr>\n",
       "      <th>2021-09-08 14:55:00+05:00</th>\n",
       "      <td>-0.000898</td>\n",
       "      <td>0.000198</td>\n",
       "      <td>0.002772</td>\n",
       "      <td>-0.000568</td>\n",
       "      <td>0.001943</td>\n",
       "    </tr>\n",
       "    <tr>\n",
       "      <th>2021-09-08 15:00:00+05:00</th>\n",
       "      <td>0.000225</td>\n",
       "      <td>0.000273</td>\n",
       "      <td>0.003286</td>\n",
       "      <td>-0.000177</td>\n",
       "      <td>0.001827</td>\n",
       "    </tr>\n",
       "    <tr>\n",
       "      <th>2021-09-08 15:05:00+05:00</th>\n",
       "      <td>0.000509</td>\n",
       "      <td>-0.000050</td>\n",
       "      <td>0.002386</td>\n",
       "      <td>-0.000208</td>\n",
       "      <td>0.001791</td>\n",
       "    </tr>\n",
       "    <tr>\n",
       "      <th>2021-09-08 15:10:00+05:00</th>\n",
       "      <td>0.000314</td>\n",
       "      <td>0.000050</td>\n",
       "      <td>0.000022</td>\n",
       "      <td>0.000018</td>\n",
       "      <td>0.001787</td>\n",
       "    </tr>\n",
       "    <tr>\n",
       "      <th>2021-09-08 15:15:00+05:00</th>\n",
       "      <td>-0.000075</td>\n",
       "      <td>0.001884</td>\n",
       "      <td>0.003051</td>\n",
       "      <td>-0.000367</td>\n",
       "      <td>0.001787</td>\n",
       "    </tr>\n",
       "    <tr>\n",
       "      <th>2021-09-08 15:20:00+05:00</th>\n",
       "      <td>-0.000374</td>\n",
       "      <td>-0.000990</td>\n",
       "      <td>0.000194</td>\n",
       "      <td>-0.000214</td>\n",
       "      <td>0.001785</td>\n",
       "    </tr>\n",
       "    <tr>\n",
       "      <th>2021-09-08 15:25:00+05:00</th>\n",
       "      <td>0.000449</td>\n",
       "      <td>0.000595</td>\n",
       "      <td>-0.002394</td>\n",
       "      <td>0.000214</td>\n",
       "      <td>0.001784</td>\n",
       "    </tr>\n",
       "    <tr>\n",
       "      <th>2021-09-08 15:30:00+05:00</th>\n",
       "      <td>0.000135</td>\n",
       "      <td>-0.000272</td>\n",
       "      <td>-0.013752</td>\n",
       "      <td>0.000337</td>\n",
       "      <td>0.001757</td>\n",
       "    </tr>\n",
       "    <tr>\n",
       "      <th>2021-09-08 15:35:00+05:00</th>\n",
       "      <td>-0.000135</td>\n",
       "      <td>0.000025</td>\n",
       "      <td>0.002762</td>\n",
       "      <td>0.000202</td>\n",
       "      <td>0.001713</td>\n",
       "    </tr>\n",
       "    <tr>\n",
       "      <th>2021-09-08 15:40:00+05:00</th>\n",
       "      <td>-0.000150</td>\n",
       "      <td>-0.000248</td>\n",
       "      <td>0.000437</td>\n",
       "      <td>-0.000196</td>\n",
       "      <td>0.001713</td>\n",
       "    </tr>\n",
       "    <tr>\n",
       "      <th>2021-09-08 15:45:00+05:00</th>\n",
       "      <td>-0.001048</td>\n",
       "      <td>-0.000495</td>\n",
       "      <td>-0.003366</td>\n",
       "      <td>-0.000190</td>\n",
       "      <td>0.001675</td>\n",
       "    </tr>\n",
       "    <tr>\n",
       "      <th>2021-09-08 15:50:00+05:00</th>\n",
       "      <td>0.000449</td>\n",
       "      <td>0.000248</td>\n",
       "      <td>-0.000943</td>\n",
       "      <td>0.000196</td>\n",
       "      <td>0.001670</td>\n",
       "    </tr>\n",
       "    <tr>\n",
       "      <th>2021-09-08 15:55:00+05:00</th>\n",
       "      <td>0.000300</td>\n",
       "      <td>-0.000297</td>\n",
       "      <td>-0.003578</td>\n",
       "      <td>0.000031</td>\n",
       "      <td>0.001669</td>\n",
       "    </tr>\n",
       "    <tr>\n",
       "      <th>2021-09-08 16:00:00+05:00</th>\n",
       "      <td>0.000000</td>\n",
       "      <td>0.000000</td>\n",
       "      <td>0.003018</td>\n",
       "      <td>0.000000</td>\n",
       "      <td>0.001667</td>\n",
       "    </tr>\n",
       "  </tbody>\n",
       "</table>\n",
       "</div>"
      ],
      "text/plain": [
       "                           Close_fut  Close_gas  Close_btc  Close_bond  \\\n",
       "Local time                                                               \n",
       "2021-09-08 14:25:00+05:00   0.000374  -0.000469  -0.000216    0.000397   \n",
       "2021-09-08 14:30:00+05:00  -0.000075  -0.000592  -0.002829   -0.000385   \n",
       "2021-09-08 14:35:00+05:00   0.000749   0.000049  -0.000043    0.000000   \n",
       "2021-09-08 14:40:00+05:00  -0.001182  -0.003926  -0.000628    0.000000   \n",
       "2021-09-08 14:45:00+05:00   0.000135  -0.000223   0.000433   -0.000214   \n",
       "2021-09-08 14:50:00+05:00   0.000599  -0.000471  -0.007409    0.000006   \n",
       "2021-09-08 14:55:00+05:00  -0.000898   0.000198   0.002772   -0.000568   \n",
       "2021-09-08 15:00:00+05:00   0.000225   0.000273   0.003286   -0.000177   \n",
       "2021-09-08 15:05:00+05:00   0.000509  -0.000050   0.002386   -0.000208   \n",
       "2021-09-08 15:10:00+05:00   0.000314   0.000050   0.000022    0.000018   \n",
       "2021-09-08 15:15:00+05:00  -0.000075   0.001884   0.003051   -0.000367   \n",
       "2021-09-08 15:20:00+05:00  -0.000374  -0.000990   0.000194   -0.000214   \n",
       "2021-09-08 15:25:00+05:00   0.000449   0.000595  -0.002394    0.000214   \n",
       "2021-09-08 15:30:00+05:00   0.000135  -0.000272  -0.013752    0.000337   \n",
       "2021-09-08 15:35:00+05:00  -0.000135   0.000025   0.002762    0.000202   \n",
       "2021-09-08 15:40:00+05:00  -0.000150  -0.000248   0.000437   -0.000196   \n",
       "2021-09-08 15:45:00+05:00  -0.001048  -0.000495  -0.003366   -0.000190   \n",
       "2021-09-08 15:50:00+05:00   0.000449   0.000248  -0.000943    0.000196   \n",
       "2021-09-08 15:55:00+05:00   0.000300  -0.000297  -0.003578    0.000031   \n",
       "2021-09-08 16:00:00+05:00   0.000000   0.000000   0.003018    0.000000   \n",
       "\n",
       "                           fut_78_std  \n",
       "Local time                             \n",
       "2021-09-08 14:25:00+05:00    0.002224  \n",
       "2021-09-08 14:30:00+05:00    0.002045  \n",
       "2021-09-08 14:35:00+05:00    0.002023  \n",
       "2021-09-08 14:40:00+05:00    0.001964  \n",
       "2021-09-08 14:45:00+05:00    0.001961  \n",
       "2021-09-08 14:50:00+05:00    0.001950  \n",
       "2021-09-08 14:55:00+05:00    0.001943  \n",
       "2021-09-08 15:00:00+05:00    0.001827  \n",
       "2021-09-08 15:05:00+05:00    0.001791  \n",
       "2021-09-08 15:10:00+05:00    0.001787  \n",
       "2021-09-08 15:15:00+05:00    0.001787  \n",
       "2021-09-08 15:20:00+05:00    0.001785  \n",
       "2021-09-08 15:25:00+05:00    0.001784  \n",
       "2021-09-08 15:30:00+05:00    0.001757  \n",
       "2021-09-08 15:35:00+05:00    0.001713  \n",
       "2021-09-08 15:40:00+05:00    0.001713  \n",
       "2021-09-08 15:45:00+05:00    0.001675  \n",
       "2021-09-08 15:50:00+05:00    0.001670  \n",
       "2021-09-08 15:55:00+05:00    0.001669  \n",
       "2021-09-08 16:00:00+05:00    0.001667  "
      ]
     },
     "execution_count": 244,
     "metadata": {},
     "output_type": "execute_result"
    }
   ],
   "source": [
    "day[77:]"
   ]
  },
  {
   "cell_type": "code",
   "execution_count": 252,
   "id": "ed17a1a6-44c5-4fcf-80ce-16a9cc2bf90a",
   "metadata": {
    "execution": {
     "iopub.execute_input": "2023-02-20T18:29:23.397228Z",
     "iopub.status.busy": "2023-02-20T18:29:23.396230Z",
     "iopub.status.idle": "2023-02-20T18:29:23.413231Z",
     "shell.execute_reply": "2023-02-20T18:29:23.412231Z",
     "shell.execute_reply.started": "2023-02-20T18:29:23.396230Z"
    },
    "tags": []
   },
   "outputs": [
    {
     "data": {
      "text/plain": [
       "{'RF': (RandomForestRegressor(max_depth=3, n_estimators=10),\n",
       "  array([0.00191586, 0.00188938, 0.00184308, 0.00178188])),\n",
       " 'GB': (GradientBoostingRegressor(learning_rate=1e-07, n_estimators=10),\n",
       "  array([0.00187836, 0.00187836, 0.00187836, 0.00187836]))}"
      ]
     },
     "execution_count": 252,
     "metadata": {},
     "output_type": "execute_result"
    }
   ],
   "source": [
    "res"
   ]
  }
 ],
 "metadata": {
  "kernelspec": {
   "display_name": "Python 3",
   "language": "python",
   "name": "python3"
  },
  "language_info": {
   "codemirror_mode": {
    "name": "ipython",
    "version": 3
   },
   "file_extension": ".py",
   "mimetype": "text/x-python",
   "name": "python",
   "nbconvert_exporter": "python",
   "pygments_lexer": "ipython3",
   "version": "3.8.8"
  },
  "toc-autonumbering": true,
  "toc-showcode": false,
  "toc-showmarkdowntxt": false,
  "toc-showtags": false
 },
 "nbformat": 4,
 "nbformat_minor": 5
}
