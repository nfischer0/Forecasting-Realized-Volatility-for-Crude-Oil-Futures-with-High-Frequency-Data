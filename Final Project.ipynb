{
 "cells": [
  {
   "cell_type": "markdown",
   "id": "f1480de7-2744-4551-9e99-317f6b7893d2",
   "metadata": {},
   "source": [
    "# Imports and Function Definitions"
   ]
  },
  {
   "cell_type": "code",
   "execution_count": 236,
   "id": "de881bb1-c0f2-436b-9f1d-ac9304afae45",
   "metadata": {
    "execution": {
     "iopub.execute_input": "2023-02-20T07:30:18.496391Z",
     "iopub.status.busy": "2023-02-20T07:30:18.496391Z",
     "iopub.status.idle": "2023-02-20T07:30:18.505399Z",
     "shell.execute_reply": "2023-02-20T07:30:18.505399Z",
     "shell.execute_reply.started": "2023-02-20T07:30:18.496391Z"
    },
    "tags": []
   },
   "outputs": [],
   "source": [
    "import pandas as pd\n",
    "import numpy as np\n",
    "\n",
    "import matplotlib.pyplot as plt\n",
    "import seaborn as sns\n",
    "\n",
    "from sklearn.model_selection import KFold, StratifiedKFold, train_test_split\n",
    "from sklearn.linear_model import ElasticNet\n",
    "from sklearn.ensemble import RandomForestRegressor, RandomForestClassifier, GradientBoostingRegressor, GradientBoostingClassifier\n",
    "from sklearn.metrics import mean_absolute_error, accuracy_score, mean_squared_error\n",
    "from sklearn.model_selection import TimeSeriesSplit, GridSearchCV, cross_val_score, KFold, StratifiedKFold\n",
    "\n",
    "from statsmodels.graphics.tsaplots import plot_acf, plot_pacf\n",
    "sns.set()\n",
    "\n",
    "import warnings\n",
    "warnings.filterwarnings('ignore')"
   ]
  },
  {
   "cell_type": "code",
   "execution_count": 9,
   "id": "72c06572-8943-4f96-8a07-1e0696cb9c76",
   "metadata": {
    "execution": {
     "iopub.execute_input": "2023-02-19T18:34:54.979986Z",
     "iopub.status.busy": "2023-02-19T18:34:54.978985Z",
     "iopub.status.idle": "2023-02-19T18:34:54.986997Z",
     "shell.execute_reply": "2023-02-19T18:34:54.986997Z",
     "shell.execute_reply.started": "2023-02-19T18:34:54.979986Z"
    },
    "tags": []
   },
   "outputs": [],
   "source": [
    "def tree_feat_importance(m, df):\n",
    "    return pd.DataFrame({'cols':df.columns, 'feat_imp':m.feature_importances_}\n",
    "                       ).sort_values('feat_imp', ascending=False)\n",
    "def ensemble_tree_feat_importance(m, df):\n",
    "    feature_importances = np.mean([\n",
    "    tree.feature_importances_ for tree in m.estimators_\n",
    "                                    ], axis=0)\n",
    "    return pd.DataFrame({'cols':df.columns, 'feat_imp':feature_importances}\n",
    "                       ).sort_values('feat_imp', ascending=False)\n",
    "def plot_fi(fi): return fi.plot('cols', 'feat_imp', 'barh', figsize=(15,20), legend=False)\n",
    "def xgb_feat_importance(m, df):\n",
    "    feature_importances = m.feature_importances_\n",
    "    return pd.DataFrame({'cols':df.columns, 'feat_imp':feature_importances}\n",
    "                       ).sort_values('feat_imp', ascending=False)"
   ]
  },
  {
   "cell_type": "code",
   "execution_count": 239,
   "id": "6972bd09-2106-41cf-8c01-3015120b157e",
   "metadata": {
    "execution": {
     "iopub.execute_input": "2023-02-20T07:30:56.874770Z",
     "iopub.status.busy": "2023-02-20T07:30:56.874770Z",
     "iopub.status.idle": "2023-02-20T07:30:56.884770Z",
     "shell.execute_reply": "2023-02-20T07:30:56.884770Z",
     "shell.execute_reply.started": "2023-02-20T07:30:56.874770Z"
    },
    "tags": []
   },
   "outputs": [],
   "source": [
    "def model_selection(ml):\n",
    "    print(ml)\n",
    "    if ml == 'GB':\n",
    "        model = GradientBoostingRegressor()\n",
    "        grid = dict()\n",
    "        grid['learning_rate'] = [1e-3,1e-5,1e-7]\n",
    "        grid['n_estimators'] = [10,50,100,1000]\n",
    "        grid_search = GridSearchCV(estimator=model, param_grid=grid, scoring='neg_mean_squared_error', n_jobs=25)\n",
    "        grid_result = grid_search.fit(X_train, y_train)\n",
    "        model_best = GradientBoostingRegressor(learning_rate=grid_result.best_params_['learning_rate'],\\\n",
    "                    n_estimators=grid_result.best_params_['n_estimators'],\\\n",
    "                                              ).fit(X_train, y_train)\n",
    "\n",
    "    elif ml == 'RF':\n",
    "        model = RandomForestRegressor(n_jobs=25)\n",
    "        grid = dict()\n",
    "        grid['max_depth'] = [3,5,7,10]\n",
    "        grid['n_estimators'] = [10,50,100,1000]\n",
    "        grid_search = GridSearchCV(estimator=model, param_grid=grid, scoring='neg_mean_squared_error', n_jobs=25)\n",
    "        grid_result = grid_search.fit(X_train, y_train)\n",
    "\n",
    "        model_best = RandomForestRegressor(\n",
    "                    max_depth=grid_result.best_params_['max_depth'],\\\n",
    "                    n_estimators=grid_result.best_params_['n_estimators'],\\\n",
    "\n",
    "                        ).fit(X_train, y_train)\n",
    "    \n",
    "    \n",
    "    print(model_best)\n",
    "    y_pred = model_best.predict(X_test)\n",
    "    print('MAE: ', mean_absolute_error(y_pred, y_test), '\\nMSE: ', mean_squared_error(y_pred,y_test), '\\nRMSE: ', np.sqrt(mean_squared_error(y_pred,y_test)))\n",
    "\n",
    "    return(model_best, y_pred)#, [X_train, X_test, y_train, y_test])"
   ]
  },
  {
   "cell_type": "markdown",
   "id": "2abf351b-7c2e-4839-86b1-bd69644bb3e2",
   "metadata": {},
   "source": [
    "# Cleaning and Merging"
   ]
  },
  {
   "cell_type": "code",
   "execution_count": 91,
   "id": "076bb000-a60d-4eb5-beae-b267e77688a6",
   "metadata": {
    "execution": {
     "iopub.execute_input": "2023-02-19T22:15:02.371349Z",
     "iopub.status.busy": "2023-02-19T22:15:02.371349Z",
     "iopub.status.idle": "2023-02-19T22:15:03.594538Z",
     "shell.execute_reply": "2023-02-19T22:15:03.593773Z",
     "shell.execute_reply.started": "2023-02-19T22:15:02.371349Z"
    },
    "tags": []
   },
   "outputs": [],
   "source": [
    "# uso = pd.read_csv('C:\\\\Users\\\\nfischer\\\\Downloads\\\\USO.USUSD_Candlestick_5_M_BID_11.02.2020-11.02.2023.csv')\n",
    "# spy = pd.read_csv('C:\\\\Users\\\\nfischer\\\\Downloads\\\\SPY.USUSD_Candlestick_5_M_BID_11.02.2020-11.02.2023.csv')\n",
    "# vxx = pd.read_csv('C:\\\\Users\\\\nfischer\\\\Downloads\\\\VXX.USUSD_Candlestick_5_M_BID_11.02.2020-11.02.2023.csv')\n",
    "fut = pd.read_csv('C:\\\\Users\\\\nfischer\\\\Downloads\\\\LIGHT.CMDUSD_Candlestick_5_M_BID_11.02.2020-11.02.2023.csv')\n",
    "gas = pd.read_csv('C:\\\\Users\\\\nfischer\\\\Downloads\\\\GAS.CMDUSD_Candlestick_5_M_BID_11.02.2020-11.02.2023.csv')\n",
    "# xom = pd.read_csv('C:\\\\Users\\\\nfischer\\\\Downloads\\\\XOM.USUSD_Candlestick_5_M_BID_11.02.2020-11.02.2023.csv')\n",
    "btc = pd.read_csv('C:\\\\Users\\\\nfischer\\\\Downloads\\\\BTCUSD_Candlestick_5_M_BID_11.02.2020-11.02.2023.csv')\n",
    "bond = pd.read_csv('C:\\\\Users\\\\nfischer\\\\Downloads\\\\USTBOND.TRUSD_Candlestick_5_M_BID_11.02.2020-11.02.2023.csv')"
   ]
  },
  {
   "cell_type": "code",
   "execution_count": 92,
   "id": "c654650a-82e7-43a1-9e60-8b433b1be650",
   "metadata": {
    "execution": {
     "iopub.execute_input": "2023-02-19T22:15:03.809456Z",
     "iopub.status.busy": "2023-02-19T22:15:03.809456Z",
     "iopub.status.idle": "2023-02-19T22:15:03.827986Z",
     "shell.execute_reply": "2023-02-19T22:15:03.827062Z",
     "shell.execute_reply.started": "2023-02-19T22:15:03.809456Z"
    },
    "tags": []
   },
   "outputs": [],
   "source": [
    "data_dict = {'fut':fut, 'gas':gas, #'uso':uso, 'spy':spy, 'vxx':vxx, 'xom':xom\n",
    "            'btc':btc, 'bond':bond}"
   ]
  },
  {
   "cell_type": "markdown",
   "id": "81caf05a-520b-4bab-ab89-cdab52b3a4a3",
   "metadata": {},
   "source": [
    "Datetime and indexing"
   ]
  },
  {
   "cell_type": "code",
   "execution_count": 93,
   "id": "f62b06f3-287f-48d7-ab11-5d0f1af2de1b",
   "metadata": {
    "execution": {
     "iopub.execute_input": "2023-02-19T22:15:04.761670Z",
     "iopub.status.busy": "2023-02-19T22:15:04.761670Z",
     "iopub.status.idle": "2023-02-19T22:16:00.956493Z",
     "shell.execute_reply": "2023-02-19T22:16:00.955518Z",
     "shell.execute_reply.started": "2023-02-19T22:15:04.761670Z"
    },
    "tags": []
   },
   "outputs": [],
   "source": [
    "idx = pd.to_datetime(data_dict['fut']['Local time'])"
   ]
  },
  {
   "cell_type": "code",
   "execution_count": 94,
   "id": "cc3d83fb-f59e-4d95-ac6d-1510ceb057f6",
   "metadata": {
    "execution": {
     "iopub.execute_input": "2023-02-19T22:16:00.957496Z",
     "iopub.status.busy": "2023-02-19T22:16:00.956493Z",
     "iopub.status.idle": "2023-02-19T22:16:01.080795Z",
     "shell.execute_reply": "2023-02-19T22:16:01.080795Z",
     "shell.execute_reply.started": "2023-02-19T22:16:00.957496Z"
    },
    "tags": []
   },
   "outputs": [],
   "source": [
    "for data in data_dict.keys():\n",
    "    data_dict[data] = data_dict[data].set_index(idx)\n",
    "    data_dict[data] = data_dict[data].drop(['Open', 'High', 'Low', 'Volume', 'Local time'], axis=1)"
   ]
  },
  {
   "cell_type": "markdown",
   "id": "c11f3950-96a9-4578-995c-21734ad856a0",
   "metadata": {},
   "source": [
    "Merging"
   ]
  },
  {
   "cell_type": "code",
   "execution_count": 97,
   "id": "205f196e-1ac1-4338-9a3b-d8b4c0452ec3",
   "metadata": {
    "execution": {
     "iopub.execute_input": "2023-02-19T22:16:19.323583Z",
     "iopub.status.busy": "2023-02-19T22:16:19.323583Z",
     "iopub.status.idle": "2023-02-19T22:16:24.707002Z",
     "shell.execute_reply": "2023-02-19T22:16:24.706252Z",
     "shell.execute_reply.started": "2023-02-19T22:16:19.323583Z"
    },
    "tags": []
   },
   "outputs": [],
   "source": [
    "df = pd.DataFrame(index=data_dict['fut'].index)\n",
    "for data in data_dict.keys():\n",
    "    df = pd.merge(df, data_dict[data], left_index=True, right_index=True, suffixes=['', '_'+data])\n",
    "df = df.rename(columns={'Close':'Close_fut'})"
   ]
  },
  {
   "cell_type": "code",
   "execution_count": 115,
   "id": "b68c6ac6-ef65-4c0b-80a5-c36dc9c7ad57",
   "metadata": {
    "execution": {
     "iopub.execute_input": "2023-02-19T22:21:02.954187Z",
     "iopub.status.busy": "2023-02-19T22:21:02.954187Z",
     "iopub.status.idle": "2023-02-19T22:21:02.972185Z",
     "shell.execute_reply": "2023-02-19T22:21:02.972185Z",
     "shell.execute_reply.started": "2023-02-19T22:21:02.954187Z"
    },
    "tags": []
   },
   "outputs": [
    {
     "data": {
      "text/html": [
       "<div>\n",
       "<style scoped>\n",
       "    .dataframe tbody tr th:only-of-type {\n",
       "        vertical-align: middle;\n",
       "    }\n",
       "\n",
       "    .dataframe tbody tr th {\n",
       "        vertical-align: top;\n",
       "    }\n",
       "\n",
       "    .dataframe thead th {\n",
       "        text-align: right;\n",
       "    }\n",
       "</style>\n",
       "<table border=\"1\" class=\"dataframe\">\n",
       "  <thead>\n",
       "    <tr style=\"text-align: right;\">\n",
       "      <th></th>\n",
       "      <th>Close_fut</th>\n",
       "      <th>Close_gas</th>\n",
       "      <th>Close_btc</th>\n",
       "      <th>Close_bond</th>\n",
       "    </tr>\n",
       "    <tr>\n",
       "      <th>Local time</th>\n",
       "      <th></th>\n",
       "      <th></th>\n",
       "      <th></th>\n",
       "      <th></th>\n",
       "    </tr>\n",
       "  </thead>\n",
       "  <tbody>\n",
       "    <tr>\n",
       "      <th>2020-01-03 00:00:00+06:00</th>\n",
       "      <td>45.256</td>\n",
       "      <td>1.6964</td>\n",
       "      <td>8469</td>\n",
       "      <td>170.092</td>\n",
       "    </tr>\n",
       "    <tr>\n",
       "      <th>2020-01-03 00:05:00+06:00</th>\n",
       "      <td>45.256</td>\n",
       "      <td>1.6964</td>\n",
       "      <td>8469</td>\n",
       "      <td>170.092</td>\n",
       "    </tr>\n",
       "    <tr>\n",
       "      <th>2020-01-03 00:10:00+06:00</th>\n",
       "      <td>45.256</td>\n",
       "      <td>1.6964</td>\n",
       "      <td>8469</td>\n",
       "      <td>170.092</td>\n",
       "    </tr>\n",
       "    <tr>\n",
       "      <th>2020-01-03 00:15:00+06:00</th>\n",
       "      <td>45.256</td>\n",
       "      <td>1.6964</td>\n",
       "      <td>8469</td>\n",
       "      <td>170.092</td>\n",
       "    </tr>\n",
       "    <tr>\n",
       "      <th>2020-01-03 00:20:00+06:00</th>\n",
       "      <td>45.256</td>\n",
       "      <td>1.6964</td>\n",
       "      <td>8469</td>\n",
       "      <td>170.092</td>\n",
       "    </tr>\n",
       "    <tr>\n",
       "      <th>...</th>\n",
       "      <td>...</td>\n",
       "      <td>...</td>\n",
       "      <td>...</td>\n",
       "      <td>...</td>\n",
       "    </tr>\n",
       "    <tr>\n",
       "      <th>2023-12-01 23:35:00+06:00</th>\n",
       "      <td>78.112</td>\n",
       "      <td>3.6598</td>\n",
       "      <td>18767</td>\n",
       "      <td>130.274</td>\n",
       "    </tr>\n",
       "    <tr>\n",
       "      <th>2023-12-01 23:40:00+06:00</th>\n",
       "      <td>78.217</td>\n",
       "      <td>3.6539</td>\n",
       "      <td>18775</td>\n",
       "      <td>130.276</td>\n",
       "    </tr>\n",
       "    <tr>\n",
       "      <th>2023-12-01 23:45:00+06:00</th>\n",
       "      <td>78.204</td>\n",
       "      <td>3.6609</td>\n",
       "      <td>18781</td>\n",
       "      <td>130.301</td>\n",
       "    </tr>\n",
       "    <tr>\n",
       "      <th>2023-12-01 23:50:00+06:00</th>\n",
       "      <td>78.234</td>\n",
       "      <td>3.6559</td>\n",
       "      <td>18763</td>\n",
       "      <td>130.271</td>\n",
       "    </tr>\n",
       "    <tr>\n",
       "      <th>2023-12-01 23:55:00+06:00</th>\n",
       "      <td>78.169</td>\n",
       "      <td>3.6531</td>\n",
       "      <td>18751</td>\n",
       "      <td>130.303</td>\n",
       "    </tr>\n",
       "  </tbody>\n",
       "</table>\n",
       "<p>335736 rows × 4 columns</p>\n",
       "</div>"
      ],
      "text/plain": [
       "                           Close_fut  Close_gas  Close_btc  Close_bond\n",
       "Local time                                                            \n",
       "2020-01-03 00:00:00+06:00     45.256     1.6964       8469     170.092\n",
       "2020-01-03 00:05:00+06:00     45.256     1.6964       8469     170.092\n",
       "2020-01-03 00:10:00+06:00     45.256     1.6964       8469     170.092\n",
       "2020-01-03 00:15:00+06:00     45.256     1.6964       8469     170.092\n",
       "2020-01-03 00:20:00+06:00     45.256     1.6964       8469     170.092\n",
       "...                              ...        ...        ...         ...\n",
       "2023-12-01 23:35:00+06:00     78.112     3.6598      18767     130.274\n",
       "2023-12-01 23:40:00+06:00     78.217     3.6539      18775     130.276\n",
       "2023-12-01 23:45:00+06:00     78.204     3.6609      18781     130.301\n",
       "2023-12-01 23:50:00+06:00     78.234     3.6559      18763     130.271\n",
       "2023-12-01 23:55:00+06:00     78.169     3.6531      18751     130.303\n",
       "\n",
       "[335736 rows x 4 columns]"
      ]
     },
     "execution_count": 115,
     "metadata": {},
     "output_type": "execute_result"
    }
   ],
   "source": [
    "df"
   ]
  },
  {
   "cell_type": "markdown",
   "id": "33ce4365-7526-4728-bd4f-53fabd792963",
   "metadata": {},
   "source": [
    "## maybe exclude all where diff(future)==0 to exclude weekends and closed times? might make data fucked though\n",
    "\n",
    "## more likely just exclude to business days and hours"
   ]
  },
  {
   "cell_type": "code",
   "execution_count": 125,
   "id": "0850b40d-3d79-4702-a213-449345ba95a2",
   "metadata": {
    "execution": {
     "iopub.execute_input": "2023-02-19T22:26:40.769104Z",
     "iopub.status.busy": "2023-02-19T22:26:40.769104Z",
     "iopub.status.idle": "2023-02-19T22:26:40.971162Z",
     "shell.execute_reply": "2023-02-19T22:26:40.970162Z",
     "shell.execute_reply.started": "2023-02-19T22:26:40.769104Z"
    },
    "tags": []
   },
   "outputs": [
    {
     "data": {
      "text/plain": [
       "<AxesSubplot: >"
      ]
     },
     "execution_count": 125,
     "metadata": {},
     "output_type": "execute_result"
    },
    {
     "data": {
      "image/png": "[encoded data removed]",
      "text/plain": [
       "<Figure size 432x288 with 1 Axes>"
      ]
     },
     "metadata": {},
     "output_type": "display_data"
    }
   ],
   "source": [
    "df['Close_fut'].pct_change().hist(bins=50)"
   ]
  },
  {
   "cell_type": "code",
   "execution_count": 129,
   "id": "434a620a-1e45-451e-8b51-08f888792ba0",
   "metadata": {
    "execution": {
     "iopub.execute_input": "2023-02-19T22:27:27.034421Z",
     "iopub.status.busy": "2023-02-19T22:27:27.034421Z",
     "iopub.status.idle": "2023-02-19T22:27:27.064138Z",
     "shell.execute_reply": "2023-02-19T22:27:27.063138Z",
     "shell.execute_reply.started": "2023-02-19T22:27:27.034421Z"
    },
    "tags": []
   },
   "outputs": [],
   "source": [
    "rets = df['Close_fut'].pct_change()"
   ]
  },
  {
   "cell_type": "markdown",
   "id": "7826b6ac-9be8-4026-bd9a-f7e6f5c6983a",
   "metadata": {},
   "source": [
    "## should exclude the points below"
   ]
  },
  {
   "cell_type": "code",
   "execution_count": 147,
   "id": "75ec3a7d-8118-47f6-80a3-224198fd1835",
   "metadata": {
    "execution": {
     "iopub.execute_input": "2023-02-19T22:31:00.472807Z",
     "iopub.status.busy": "2023-02-19T22:31:00.472807Z",
     "iopub.status.idle": "2023-02-19T22:31:00.497807Z",
     "shell.execute_reply": "2023-02-19T22:31:00.496925Z",
     "shell.execute_reply.started": "2023-02-19T22:31:00.472807Z"
    },
    "tags": []
   },
   "outputs": [
    {
     "data": {
      "text/plain": [
       "Local time\n",
       "2020-01-04 00:00:00+05:00   -0.556179\n",
       "2020-02-04 00:00:00+05:00   -0.550320\n",
       "2020-03-06 00:00:00+05:00    1.003725\n",
       "2020-04-03 00:00:00+06:00    1.335824\n",
       "2020-05-03 00:00:00+06:00    1.427124\n",
       "Name: Close_fut, dtype: float64"
      ]
     },
     "execution_count": 147,
     "metadata": {},
     "output_type": "execute_result"
    }
   ],
   "source": [
    "rets.loc[(rets>1) | (rets<-.5)]"
   ]
  },
  {
   "cell_type": "code",
   "execution_count": 152,
   "id": "8ae08528-dce1-4611-925c-b029efb08b1b",
   "metadata": {
    "execution": {
     "iopub.execute_input": "2023-02-19T22:31:44.894768Z",
     "iopub.status.busy": "2023-02-19T22:31:44.894768Z",
     "iopub.status.idle": "2023-02-19T22:31:45.258188Z",
     "shell.execute_reply": "2023-02-19T22:31:45.257238Z",
     "shell.execute_reply.started": "2023-02-19T22:31:44.894768Z"
    },
    "tags": []
   },
   "outputs": [
    {
     "data": {
      "image/png": "[encoded data removed]",
      "text/plain": [
       "<Figure size 432x288 with 1 Axes>"
      ]
     },
     "metadata": {},
     "output_type": "display_data"
    },
    {
     "data": {
      "text/plain": [
       "<AxesSubplot: xlabel='Local time'>"
      ]
     },
     "execution_count": 152,
     "metadata": {},
     "output_type": "execute_result"
    },
    {
     "data": {
      "image/png": "[encoded data removed]",
      "text/plain": [
       "<Figure size 432x288 with 1 Axes>"
      ]
     },
     "metadata": {},
     "output_type": "display_data"
    }
   ],
   "source": [
    "\n",
    "rets[pd.to_datetime('2020-02-03 00:00:00+05:00'):pd.to_datetime('2020-02-05 00:00:00+05:00')].plot()\n",
    "plt.show()\n",
    "rets[pd.to_datetime('2020-04-03 00:00:00+05:00'):pd.to_datetime('2020-04-07 00:00:00+05:00')].plot()"
   ]
  },
  {
   "cell_type": "markdown",
   "id": "e0d13bc4-5692-4f4f-8794-f21f8a9c101c",
   "metadata": {},
   "source": [
    "# Test Train Splits\n",
    "\n",
    "Naive intraday test: split into 80-20 test train on a single day\n",
    "\n",
    "EDIT 1: Need more data than above.  Will do 5 days:"
   ]
  },
  {
   "cell_type": "code",
   "execution_count": 206,
   "id": "be5ad099-e093-4b2a-98f0-a078fe0a8b39",
   "metadata": {
    "execution": {
     "iopub.execute_input": "2023-02-20T07:14:45.804751Z",
     "iopub.status.busy": "2023-02-20T07:14:45.803751Z",
     "iopub.status.idle": "2023-02-20T07:14:45.815760Z",
     "shell.execute_reply": "2023-02-20T07:14:45.815760Z",
     "shell.execute_reply.started": "2023-02-20T07:14:45.804751Z"
    },
    "tags": []
   },
   "outputs": [],
   "source": [
    "DO 5 DAYS HERE"
   ]
  },
  {
   "cell_type": "markdown",
   "id": "a16fb580-82f5-42de-8a47-1ceb3e13424d",
   "metadata": {},
   "source": [
    "## Making Vol (Outcome)\n",
    "\n",
    "Use historical $n$-period standard deviation.  We will use $n=6.5_{\\text{trading hours}}*12_{\\text{multiples of 5 minutes per hour}}=78$"
   ]
  },
  {
   "cell_type": "code",
   "execution_count": 220,
   "id": "ca01e3d5-b0c8-40db-90a0-a16e3bab4dc4",
   "metadata": {
    "execution": {
     "iopub.execute_input": "2023-02-20T07:20:16.516878Z",
     "iopub.status.busy": "2023-02-20T07:20:16.516878Z",
     "iopub.status.idle": "2023-02-20T07:20:16.534879Z",
     "shell.execute_reply": "2023-02-20T07:20:16.533970Z",
     "shell.execute_reply.started": "2023-02-20T07:20:16.516878Z"
    },
    "tags": []
   },
   "outputs": [],
   "source": [
    "n=78"
   ]
  },
  {
   "cell_type": "code",
   "execution_count": 221,
   "id": "8395b099-547d-4376-a39b-05e2e2050661",
   "metadata": {
    "execution": {
     "iopub.execute_input": "2023-02-20T07:20:17.513326Z",
     "iopub.status.busy": "2023-02-20T07:20:17.512235Z",
     "iopub.status.idle": "2023-02-20T07:20:17.529235Z",
     "shell.execute_reply": "2023-02-20T07:20:17.528314Z",
     "shell.execute_reply.started": "2023-02-20T07:20:17.513326Z"
    },
    "tags": []
   },
   "outputs": [],
   "source": [
    "day['fut_'+str(n)+'_std'] = day.rolling(n)['Close_fut'].std()"
   ]
  },
  {
   "cell_type": "code",
   "execution_count": 222,
   "id": "02248203-4942-4adb-81cd-f425fccd85e4",
   "metadata": {
    "execution": {
     "iopub.execute_input": "2023-02-20T07:20:18.041754Z",
     "iopub.status.busy": "2023-02-20T07:20:18.041754Z",
     "iopub.status.idle": "2023-02-20T07:20:18.059688Z",
     "shell.execute_reply": "2023-02-20T07:20:18.058688Z",
     "shell.execute_reply.started": "2023-02-20T07:20:18.041754Z"
    },
    "tags": []
   },
   "outputs": [
    {
     "data": {
      "text/html": [
       "<div>\n",
       "<style scoped>\n",
       "    .dataframe tbody tr th:only-of-type {\n",
       "        vertical-align: middle;\n",
       "    }\n",
       "\n",
       "    .dataframe tbody tr th {\n",
       "        vertical-align: top;\n",
       "    }\n",
       "\n",
       "    .dataframe thead th {\n",
       "        text-align: right;\n",
       "    }\n",
       "</style>\n",
       "<table border=\"1\" class=\"dataframe\">\n",
       "  <thead>\n",
       "    <tr style=\"text-align: right;\">\n",
       "      <th></th>\n",
       "      <th>Close_fut</th>\n",
       "      <th>Close_gas</th>\n",
       "      <th>Close_btc</th>\n",
       "      <th>Close_bond</th>\n",
       "      <th>fut_78_std</th>\n",
       "    </tr>\n",
       "    <tr>\n",
       "      <th>Local time</th>\n",
       "      <th></th>\n",
       "      <th></th>\n",
       "      <th></th>\n",
       "      <th></th>\n",
       "      <th></th>\n",
       "    </tr>\n",
       "  </thead>\n",
       "  <tbody>\n",
       "    <tr>\n",
       "      <th>2021-09-08 14:15:00+05:00</th>\n",
       "      <td>-0.000300</td>\n",
       "      <td>0.000025</td>\n",
       "      <td>-0.002071</td>\n",
       "      <td>-0.000360</td>\n",
       "      <td>NaN</td>\n",
       "    </tr>\n",
       "    <tr>\n",
       "      <th>2021-09-08 14:20:00+05:00</th>\n",
       "      <td>0.000300</td>\n",
       "      <td>-0.000296</td>\n",
       "      <td>0.001189</td>\n",
       "      <td>0.000354</td>\n",
       "      <td>NaN</td>\n",
       "    </tr>\n",
       "    <tr>\n",
       "      <th>2021-09-08 14:25:00+05:00</th>\n",
       "      <td>0.000374</td>\n",
       "      <td>-0.000469</td>\n",
       "      <td>-0.000216</td>\n",
       "      <td>0.000397</td>\n",
       "      <td>0.002224</td>\n",
       "    </tr>\n",
       "    <tr>\n",
       "      <th>2021-09-08 14:30:00+05:00</th>\n",
       "      <td>-0.000075</td>\n",
       "      <td>-0.000592</td>\n",
       "      <td>-0.002829</td>\n",
       "      <td>-0.000385</td>\n",
       "      <td>0.002045</td>\n",
       "    </tr>\n",
       "    <tr>\n",
       "      <th>2021-09-08 14:35:00+05:00</th>\n",
       "      <td>0.000749</td>\n",
       "      <td>0.000049</td>\n",
       "      <td>-0.000043</td>\n",
       "      <td>0.000000</td>\n",
       "      <td>0.002023</td>\n",
       "    </tr>\n",
       "    <tr>\n",
       "      <th>2021-09-08 14:40:00+05:00</th>\n",
       "      <td>-0.001182</td>\n",
       "      <td>-0.003926</td>\n",
       "      <td>-0.000628</td>\n",
       "      <td>0.000000</td>\n",
       "      <td>0.001964</td>\n",
       "    </tr>\n",
       "    <tr>\n",
       "      <th>2021-09-08 14:45:00+05:00</th>\n",
       "      <td>0.000135</td>\n",
       "      <td>-0.000223</td>\n",
       "      <td>0.000433</td>\n",
       "      <td>-0.000214</td>\n",
       "      <td>0.001961</td>\n",
       "    </tr>\n",
       "    <tr>\n",
       "      <th>2021-09-08 14:50:00+05:00</th>\n",
       "      <td>0.000599</td>\n",
       "      <td>-0.000471</td>\n",
       "      <td>-0.007409</td>\n",
       "      <td>0.000006</td>\n",
       "      <td>0.001950</td>\n",
       "    </tr>\n",
       "    <tr>\n",
       "      <th>2021-09-08 14:55:00+05:00</th>\n",
       "      <td>-0.000898</td>\n",
       "      <td>0.000198</td>\n",
       "      <td>0.002772</td>\n",
       "      <td>-0.000568</td>\n",
       "      <td>0.001943</td>\n",
       "    </tr>\n",
       "    <tr>\n",
       "      <th>2021-09-08 15:00:00+05:00</th>\n",
       "      <td>0.000225</td>\n",
       "      <td>0.000273</td>\n",
       "      <td>0.003286</td>\n",
       "      <td>-0.000177</td>\n",
       "      <td>0.001827</td>\n",
       "    </tr>\n",
       "    <tr>\n",
       "      <th>2021-09-08 15:05:00+05:00</th>\n",
       "      <td>0.000509</td>\n",
       "      <td>-0.000050</td>\n",
       "      <td>0.002386</td>\n",
       "      <td>-0.000208</td>\n",
       "      <td>0.001791</td>\n",
       "    </tr>\n",
       "    <tr>\n",
       "      <th>2021-09-08 15:10:00+05:00</th>\n",
       "      <td>0.000314</td>\n",
       "      <td>0.000050</td>\n",
       "      <td>0.000022</td>\n",
       "      <td>0.000018</td>\n",
       "      <td>0.001787</td>\n",
       "    </tr>\n",
       "    <tr>\n",
       "      <th>2021-09-08 15:15:00+05:00</th>\n",
       "      <td>-0.000075</td>\n",
       "      <td>0.001884</td>\n",
       "      <td>0.003051</td>\n",
       "      <td>-0.000367</td>\n",
       "      <td>0.001787</td>\n",
       "    </tr>\n",
       "    <tr>\n",
       "      <th>2021-09-08 15:20:00+05:00</th>\n",
       "      <td>-0.000374</td>\n",
       "      <td>-0.000990</td>\n",
       "      <td>0.000194</td>\n",
       "      <td>-0.000214</td>\n",
       "      <td>0.001785</td>\n",
       "    </tr>\n",
       "    <tr>\n",
       "      <th>2021-09-08 15:25:00+05:00</th>\n",
       "      <td>0.000449</td>\n",
       "      <td>0.000595</td>\n",
       "      <td>-0.002394</td>\n",
       "      <td>0.000214</td>\n",
       "      <td>0.001784</td>\n",
       "    </tr>\n",
       "    <tr>\n",
       "      <th>2021-09-08 15:30:00+05:00</th>\n",
       "      <td>0.000135</td>\n",
       "      <td>-0.000272</td>\n",
       "      <td>-0.013752</td>\n",
       "      <td>0.000337</td>\n",
       "      <td>0.001757</td>\n",
       "    </tr>\n",
       "    <tr>\n",
       "      <th>2021-09-08 15:35:00+05:00</th>\n",
       "      <td>-0.000135</td>\n",
       "      <td>0.000025</td>\n",
       "      <td>0.002762</td>\n",
       "      <td>0.000202</td>\n",
       "      <td>0.001713</td>\n",
       "    </tr>\n",
       "    <tr>\n",
       "      <th>2021-09-08 15:40:00+05:00</th>\n",
       "      <td>-0.000150</td>\n",
       "      <td>-0.000248</td>\n",
       "      <td>0.000437</td>\n",
       "      <td>-0.000196</td>\n",
       "      <td>0.001713</td>\n",
       "    </tr>\n",
       "    <tr>\n",
       "      <th>2021-09-08 15:45:00+05:00</th>\n",
       "      <td>-0.001048</td>\n",
       "      <td>-0.000495</td>\n",
       "      <td>-0.003366</td>\n",
       "      <td>-0.000190</td>\n",
       "      <td>0.001675</td>\n",
       "    </tr>\n",
       "    <tr>\n",
       "      <th>2021-09-08 15:50:00+05:00</th>\n",
       "      <td>0.000449</td>\n",
       "      <td>0.000248</td>\n",
       "      <td>-0.000943</td>\n",
       "      <td>0.000196</td>\n",
       "      <td>0.001670</td>\n",
       "    </tr>\n",
       "    <tr>\n",
       "      <th>2021-09-08 15:55:00+05:00</th>\n",
       "      <td>0.000300</td>\n",
       "      <td>-0.000297</td>\n",
       "      <td>-0.003578</td>\n",
       "      <td>0.000031</td>\n",
       "      <td>0.001669</td>\n",
       "    </tr>\n",
       "    <tr>\n",
       "      <th>2021-09-08 16:00:00+05:00</th>\n",
       "      <td>0.000000</td>\n",
       "      <td>0.000000</td>\n",
       "      <td>0.003018</td>\n",
       "      <td>0.000000</td>\n",
       "      <td>0.001667</td>\n",
       "    </tr>\n",
       "  </tbody>\n",
       "</table>\n",
       "</div>"
      ],
      "text/plain": [
       "                           Close_fut  Close_gas  Close_btc  Close_bond  \\\n",
       "Local time                                                               \n",
       "2021-09-08 14:15:00+05:00  -0.000300   0.000025  -0.002071   -0.000360   \n",
       "2021-09-08 14:20:00+05:00   0.000300  -0.000296   0.001189    0.000354   \n",
       "2021-09-08 14:25:00+05:00   0.000374  -0.000469  -0.000216    0.000397   \n",
       "2021-09-08 14:30:00+05:00  -0.000075  -0.000592  -0.002829   -0.000385   \n",
       "2021-09-08 14:35:00+05:00   0.000749   0.000049  -0.000043    0.000000   \n",
       "2021-09-08 14:40:00+05:00  -0.001182  -0.003926  -0.000628    0.000000   \n",
       "2021-09-08 14:45:00+05:00   0.000135  -0.000223   0.000433   -0.000214   \n",
       "2021-09-08 14:50:00+05:00   0.000599  -0.000471  -0.007409    0.000006   \n",
       "2021-09-08 14:55:00+05:00  -0.000898   0.000198   0.002772   -0.000568   \n",
       "2021-09-08 15:00:00+05:00   0.000225   0.000273   0.003286   -0.000177   \n",
       "2021-09-08 15:05:00+05:00   0.000509  -0.000050   0.002386   -0.000208   \n",
       "2021-09-08 15:10:00+05:00   0.000314   0.000050   0.000022    0.000018   \n",
       "2021-09-08 15:15:00+05:00  -0.000075   0.001884   0.003051   -0.000367   \n",
       "2021-09-08 15:20:00+05:00  -0.000374  -0.000990   0.000194   -0.000214   \n",
       "2021-09-08 15:25:00+05:00   0.000449   0.000595  -0.002394    0.000214   \n",
       "2021-09-08 15:30:00+05:00   0.000135  -0.000272  -0.013752    0.000337   \n",
       "2021-09-08 15:35:00+05:00  -0.000135   0.000025   0.002762    0.000202   \n",
       "2021-09-08 15:40:00+05:00  -0.000150  -0.000248   0.000437   -0.000196   \n",
       "2021-09-08 15:45:00+05:00  -0.001048  -0.000495  -0.003366   -0.000190   \n",
       "2021-09-08 15:50:00+05:00   0.000449   0.000248  -0.000943    0.000196   \n",
       "2021-09-08 15:55:00+05:00   0.000300  -0.000297  -0.003578    0.000031   \n",
       "2021-09-08 16:00:00+05:00   0.000000   0.000000   0.003018    0.000000   \n",
       "\n",
       "                           fut_78_std  \n",
       "Local time                             \n",
       "2021-09-08 14:15:00+05:00         NaN  \n",
       "2021-09-08 14:20:00+05:00         NaN  \n",
       "2021-09-08 14:25:00+05:00    0.002224  \n",
       "2021-09-08 14:30:00+05:00    0.002045  \n",
       "2021-09-08 14:35:00+05:00    0.002023  \n",
       "2021-09-08 14:40:00+05:00    0.001964  \n",
       "2021-09-08 14:45:00+05:00    0.001961  \n",
       "2021-09-08 14:50:00+05:00    0.001950  \n",
       "2021-09-08 14:55:00+05:00    0.001943  \n",
       "2021-09-08 15:00:00+05:00    0.001827  \n",
       "2021-09-08 15:05:00+05:00    0.001791  \n",
       "2021-09-08 15:10:00+05:00    0.001787  \n",
       "2021-09-08 15:15:00+05:00    0.001787  \n",
       "2021-09-08 15:20:00+05:00    0.001785  \n",
       "2021-09-08 15:25:00+05:00    0.001784  \n",
       "2021-09-08 15:30:00+05:00    0.001757  \n",
       "2021-09-08 15:35:00+05:00    0.001713  \n",
       "2021-09-08 15:40:00+05:00    0.001713  \n",
       "2021-09-08 15:45:00+05:00    0.001675  \n",
       "2021-09-08 15:50:00+05:00    0.001670  \n",
       "2021-09-08 15:55:00+05:00    0.001669  \n",
       "2021-09-08 16:00:00+05:00    0.001667  "
      ]
     },
     "execution_count": 222,
     "metadata": {},
     "output_type": "execute_result"
    }
   ],
   "source": [
    "day[75:100]"
   ]
  },
  {
   "cell_type": "code",
   "execution_count": 233,
   "id": "89343d5c-ec66-4f49-8951-2833bba9ee81",
   "metadata": {
    "execution": {
     "iopub.execute_input": "2023-02-20T07:29:58.240056Z",
     "iopub.status.busy": "2023-02-20T07:29:58.240056Z",
     "iopub.status.idle": "2023-02-20T07:29:58.251064Z",
     "shell.execute_reply": "2023-02-20T07:29:58.251064Z",
     "shell.execute_reply.started": "2023-02-20T07:29:58.240056Z"
    },
    "tags": []
   },
   "outputs": [],
   "source": [
    "X = day.drop('fut_78_std', axis=1)[77:]\n",
    "Y = day['fut_78_std'][77:]"
   ]
  },
  {
   "cell_type": "code",
   "execution_count": 234,
   "id": "e567045b-b12c-44ad-8d4b-12a07e73c943",
   "metadata": {
    "execution": {
     "iopub.execute_input": "2023-02-20T07:29:58.566912Z",
     "iopub.status.busy": "2023-02-20T07:29:58.566912Z",
     "iopub.status.idle": "2023-02-20T07:29:58.579913Z",
     "shell.execute_reply": "2023-02-20T07:29:58.578911Z",
     "shell.execute_reply.started": "2023-02-20T07:29:58.566912Z"
    },
    "tags": []
   },
   "outputs": [],
   "source": [
    "X_train, X_test, y_train, y_test = train_test_split(X, Y, test_size=0.2, shuffle=False)"
   ]
  },
  {
   "cell_type": "markdown",
   "id": "54aeb6b4-fe32-457e-bf7b-9d37c46002a8",
   "metadata": {
    "tags": []
   },
   "source": [
    "# Autocorrelation analysis"
   ]
  },
  {
   "cell_type": "code",
   "execution_count": 162,
   "id": "51fe79ba-b6c2-4d16-b6b3-60c1eb7c4726",
   "metadata": {
    "execution": {
     "iopub.execute_input": "2023-02-19T23:39:36.561440Z",
     "iopub.status.busy": "2023-02-19T23:39:36.561440Z",
     "iopub.status.idle": "2023-02-19T23:39:36.584440Z",
     "shell.execute_reply": "2023-02-19T23:39:36.583538Z",
     "shell.execute_reply.started": "2023-02-19T23:39:36.561440Z"
    },
    "tags": []
   },
   "outputs": [],
   "source": [
    "ret = df.pct_change(1)"
   ]
  },
  {
   "cell_type": "code",
   "execution_count": 175,
   "id": "0a703c81-b63f-4bea-aa35-a6b0e346b44c",
   "metadata": {
    "execution": {
     "iopub.execute_input": "2023-02-20T00:00:08.863506Z",
     "iopub.status.busy": "2023-02-20T00:00:08.863506Z",
     "iopub.status.idle": "2023-02-20T00:00:08.881492Z",
     "shell.execute_reply": "2023-02-20T00:00:08.881492Z",
     "shell.execute_reply.started": "2023-02-20T00:00:08.863506Z"
    },
    "tags": []
   },
   "outputs": [
    {
     "data": {
      "text/plain": [
       "0              NaN\n",
       "1         0.000000\n",
       "2         0.000000\n",
       "3         0.000000\n",
       "4         0.000000\n",
       "            ...   \n",
       "335731   -0.000090\n",
       "335732    0.001344\n",
       "335733   -0.000166\n",
       "335734    0.000384\n",
       "335735   -0.000831\n",
       "Name: Close_fut, Length: 335736, dtype: float64"
      ]
     },
     "execution_count": 175,
     "metadata": {},
     "output_type": "execute_result"
    }
   ],
   "source": [
    "ret.reset_index(drop=True)['Close_fut']"
   ]
  },
  {
   "cell_type": "code",
   "execution_count": 164,
   "id": "ae7e7fa1-0ac8-41c5-bc5a-46b9f04970e9",
   "metadata": {
    "execution": {
     "iopub.execute_input": "2023-02-19T23:40:55.202359Z",
     "iopub.status.busy": "2023-02-19T23:40:55.202359Z",
     "iopub.status.idle": "2023-02-19T23:42:10.801049Z",
     "shell.execute_reply": "2023-02-19T23:42:10.800076Z",
     "shell.execute_reply.started": "2023-02-19T23:40:55.202359Z"
    },
    "tags": []
   },
   "outputs": [
    {
     "name": "stdout",
     "output_type": "stream",
     "text": [
      "Close_fut\n"
     ]
    },
    {
     "data": {
      "image/png": "[encoded data removed]",
      "text/plain": [
       "<Figure size 432x288 with 1 Axes>"
      ]
     },
     "metadata": {},
     "output_type": "display_data"
    },
    {
     "data": {
      "image/png": "[encoded data removed]",
      "text/plain": [
       "<Figure size 432x288 with 1 Axes>"
      ]
     },
     "metadata": {},
     "output_type": "display_data"
    },
    {
     "name": "stdout",
     "output_type": "stream",
     "text": [
      "Close_gas\n"
     ]
    },
    {
     "data": {
      "image/png": "[encoded data removed]",
      "text/plain": [
       "<Figure size 432x288 with 1 Axes>"
      ]
     },
     "metadata": {},
     "output_type": "display_data"
    },
    {
     "data": {
      "image/png": "[encoded data removed]",
      "text/plain": [
       "<Figure size 432x288 with 1 Axes>"
      ]
     },
     "metadata": {},
     "output_type": "display_data"
    },
    {
     "name": "stdout",
     "output_type": "stream",
     "text": [
      "Close_btc\n"
     ]
    },
    {
     "ename": "KeyboardInterrupt",
     "evalue": "",
     "output_type": "error",
     "traceback": [
      "\u001b[1;31m---------------------------------------------------------------------------\u001b[0m",
      "\u001b[1;31mKeyboardInterrupt\u001b[0m                         Traceback (most recent call last)",
      "\u001b[1;32m<ipython-input-164-1178a51b4b2b>\u001b[0m in \u001b[0;36m<module>\u001b[1;34m\u001b[0m\n\u001b[0;32m      1\u001b[0m \u001b[1;32mfor\u001b[0m \u001b[0mfeat\u001b[0m \u001b[1;32min\u001b[0m \u001b[0mdf\u001b[0m\u001b[1;33m.\u001b[0m\u001b[0mcolumns\u001b[0m\u001b[1;33m:\u001b[0m\u001b[1;33m\u001b[0m\u001b[1;33m\u001b[0m\u001b[0m\n\u001b[0;32m      2\u001b[0m     \u001b[0mprint\u001b[0m\u001b[1;33m(\u001b[0m\u001b[0mfeat\u001b[0m\u001b[1;33m)\u001b[0m\u001b[1;33m\u001b[0m\u001b[1;33m\u001b[0m\u001b[0m\n\u001b[1;32m----> 3\u001b[1;33m     \u001b[0mplot_acf\u001b[0m\u001b[1;33m(\u001b[0m\u001b[0mret\u001b[0m\u001b[1;33m.\u001b[0m\u001b[0mreset_index\u001b[0m\u001b[1;33m(\u001b[0m\u001b[0mdrop\u001b[0m\u001b[1;33m=\u001b[0m\u001b[1;32mTrue\u001b[0m\u001b[1;33m)\u001b[0m\u001b[1;33m[\u001b[0m\u001b[0mfeat\u001b[0m\u001b[1;33m]\u001b[0m\u001b[1;33m)\u001b[0m\u001b[1;33m\u001b[0m\u001b[1;33m\u001b[0m\u001b[0m\n\u001b[0m\u001b[0;32m      4\u001b[0m     \u001b[0mplot_pacf\u001b[0m\u001b[1;33m(\u001b[0m\u001b[0mret\u001b[0m\u001b[1;33m.\u001b[0m\u001b[0mreset_index\u001b[0m\u001b[1;33m(\u001b[0m\u001b[0mdrop\u001b[0m\u001b[1;33m=\u001b[0m\u001b[1;32mTrue\u001b[0m\u001b[1;33m)\u001b[0m\u001b[1;33m[\u001b[0m\u001b[0mfeat\u001b[0m\u001b[1;33m]\u001b[0m\u001b[1;33m)\u001b[0m\u001b[1;33m\u001b[0m\u001b[1;33m\u001b[0m\u001b[0m\n\u001b[0;32m      5\u001b[0m     \u001b[0mplt\u001b[0m\u001b[1;33m.\u001b[0m\u001b[0mshow\u001b[0m\u001b[1;33m(\u001b[0m\u001b[1;33m)\u001b[0m\u001b[1;33m\u001b[0m\u001b[1;33m\u001b[0m\u001b[0m\n",
      "\u001b[1;32m~\\anaconda3\\lib\\site-packages\\pandas\\util\\_decorators.py\u001b[0m in \u001b[0;36mwrapper\u001b[1;34m(*args, **kwargs)\u001b[0m\n\u001b[0;32m    205\u001b[0m                 \u001b[1;32melse\u001b[0m\u001b[1;33m:\u001b[0m\u001b[1;33m\u001b[0m\u001b[1;33m\u001b[0m\u001b[0m\n\u001b[0;32m    206\u001b[0m                     \u001b[0mkwargs\u001b[0m\u001b[1;33m[\u001b[0m\u001b[0mnew_arg_name\u001b[0m\u001b[1;33m]\u001b[0m \u001b[1;33m=\u001b[0m \u001b[0mnew_arg_value\u001b[0m\u001b[1;33m\u001b[0m\u001b[1;33m\u001b[0m\u001b[0m\n\u001b[1;32m--> 207\u001b[1;33m             \u001b[1;32mreturn\u001b[0m \u001b[0mfunc\u001b[0m\u001b[1;33m(\u001b[0m\u001b[1;33m*\u001b[0m\u001b[0margs\u001b[0m\u001b[1;33m,\u001b[0m \u001b[1;33m**\u001b[0m\u001b[0mkwargs\u001b[0m\u001b[1;33m)\u001b[0m\u001b[1;33m\u001b[0m\u001b[1;33m\u001b[0m\u001b[0m\n\u001b[0m\u001b[0;32m    208\u001b[0m \u001b[1;33m\u001b[0m\u001b[0m\n\u001b[0;32m    209\u001b[0m         \u001b[1;32mreturn\u001b[0m \u001b[0mcast\u001b[0m\u001b[1;33m(\u001b[0m\u001b[0mF\u001b[0m\u001b[1;33m,\u001b[0m \u001b[0mwrapper\u001b[0m\u001b[1;33m)\u001b[0m\u001b[1;33m\u001b[0m\u001b[1;33m\u001b[0m\u001b[0m\n",
      "\u001b[1;32m~\\anaconda3\\lib\\site-packages\\statsmodels\\graphics\\tsaplots.py\u001b[0m in \u001b[0;36mplot_acf\u001b[1;34m(x, ax, lags, alpha, use_vlines, adjusted, fft, missing, title, zero, auto_ylims, bartlett_confint, vlines_kwargs, **kwargs)\u001b[0m\n\u001b[0;32m    214\u001b[0m     \u001b[0mconfint\u001b[0m \u001b[1;33m=\u001b[0m \u001b[1;32mNone\u001b[0m\u001b[1;33m\u001b[0m\u001b[1;33m\u001b[0m\u001b[0m\n\u001b[0;32m    215\u001b[0m     \u001b[1;31m# acf has different return type based on alpha\u001b[0m\u001b[1;33m\u001b[0m\u001b[1;33m\u001b[0m\u001b[1;33m\u001b[0m\u001b[0m\n\u001b[1;32m--> 216\u001b[1;33m     acf_x = acf(\n\u001b[0m\u001b[0;32m    217\u001b[0m         \u001b[0mx\u001b[0m\u001b[1;33m,\u001b[0m\u001b[1;33m\u001b[0m\u001b[1;33m\u001b[0m\u001b[0m\n\u001b[0;32m    218\u001b[0m         \u001b[0mnlags\u001b[0m\u001b[1;33m=\u001b[0m\u001b[0mnlags\u001b[0m\u001b[1;33m,\u001b[0m\u001b[1;33m\u001b[0m\u001b[1;33m\u001b[0m\u001b[0m\n",
      "\u001b[1;32m~\\anaconda3\\lib\\site-packages\\statsmodels\\tsa\\stattools.py\u001b[0m in \u001b[0;36macf\u001b[1;34m(x, adjusted, nlags, qstat, fft, alpha, bartlett_confint, missing)\u001b[0m\n\u001b[0;32m    678\u001b[0m         \u001b[0mnlags\u001b[0m \u001b[1;33m=\u001b[0m \u001b[0mmin\u001b[0m\u001b[1;33m(\u001b[0m\u001b[0mint\u001b[0m\u001b[1;33m(\u001b[0m\u001b[1;36m10\u001b[0m \u001b[1;33m*\u001b[0m \u001b[0mnp\u001b[0m\u001b[1;33m.\u001b[0m\u001b[0mlog10\u001b[0m\u001b[1;33m(\u001b[0m\u001b[0mnobs\u001b[0m\u001b[1;33m)\u001b[0m\u001b[1;33m)\u001b[0m\u001b[1;33m,\u001b[0m \u001b[0mnobs\u001b[0m \u001b[1;33m-\u001b[0m \u001b[1;36m1\u001b[0m\u001b[1;33m)\u001b[0m\u001b[1;33m\u001b[0m\u001b[1;33m\u001b[0m\u001b[0m\n\u001b[0;32m    679\u001b[0m \u001b[1;33m\u001b[0m\u001b[0m\n\u001b[1;32m--> 680\u001b[1;33m     \u001b[0mavf\u001b[0m \u001b[1;33m=\u001b[0m \u001b[0macovf\u001b[0m\u001b[1;33m(\u001b[0m\u001b[0mx\u001b[0m\u001b[1;33m,\u001b[0m \u001b[0madjusted\u001b[0m\u001b[1;33m=\u001b[0m\u001b[0madjusted\u001b[0m\u001b[1;33m,\u001b[0m \u001b[0mdemean\u001b[0m\u001b[1;33m=\u001b[0m\u001b[1;32mTrue\u001b[0m\u001b[1;33m,\u001b[0m \u001b[0mfft\u001b[0m\u001b[1;33m=\u001b[0m\u001b[0mfft\u001b[0m\u001b[1;33m,\u001b[0m \u001b[0mmissing\u001b[0m\u001b[1;33m=\u001b[0m\u001b[0mmissing\u001b[0m\u001b[1;33m)\u001b[0m\u001b[1;33m\u001b[0m\u001b[1;33m\u001b[0m\u001b[0m\n\u001b[0m\u001b[0;32m    681\u001b[0m     \u001b[0macf\u001b[0m \u001b[1;33m=\u001b[0m \u001b[0mavf\u001b[0m\u001b[1;33m[\u001b[0m\u001b[1;33m:\u001b[0m \u001b[0mnlags\u001b[0m \u001b[1;33m+\u001b[0m \u001b[1;36m1\u001b[0m\u001b[1;33m]\u001b[0m \u001b[1;33m/\u001b[0m \u001b[0mavf\u001b[0m\u001b[1;33m[\u001b[0m\u001b[1;36m0\u001b[0m\u001b[1;33m]\u001b[0m\u001b[1;33m\u001b[0m\u001b[1;33m\u001b[0m\u001b[0m\n\u001b[0;32m    682\u001b[0m     \u001b[1;32mif\u001b[0m \u001b[1;32mnot\u001b[0m \u001b[1;33m(\u001b[0m\u001b[0mqstat\u001b[0m \u001b[1;32mor\u001b[0m \u001b[0malpha\u001b[0m\u001b[1;33m)\u001b[0m\u001b[1;33m:\u001b[0m\u001b[1;33m\u001b[0m\u001b[1;33m\u001b[0m\u001b[0m\n",
      "\u001b[1;32m~\\anaconda3\\lib\\site-packages\\pandas\\util\\_decorators.py\u001b[0m in \u001b[0;36mwrapper\u001b[1;34m(*args, **kwargs)\u001b[0m\n\u001b[0;32m    205\u001b[0m                 \u001b[1;32melse\u001b[0m\u001b[1;33m:\u001b[0m\u001b[1;33m\u001b[0m\u001b[1;33m\u001b[0m\u001b[0m\n\u001b[0;32m    206\u001b[0m                     \u001b[0mkwargs\u001b[0m\u001b[1;33m[\u001b[0m\u001b[0mnew_arg_name\u001b[0m\u001b[1;33m]\u001b[0m \u001b[1;33m=\u001b[0m \u001b[0mnew_arg_value\u001b[0m\u001b[1;33m\u001b[0m\u001b[1;33m\u001b[0m\u001b[0m\n\u001b[1;32m--> 207\u001b[1;33m             \u001b[1;32mreturn\u001b[0m \u001b[0mfunc\u001b[0m\u001b[1;33m(\u001b[0m\u001b[1;33m*\u001b[0m\u001b[0margs\u001b[0m\u001b[1;33m,\u001b[0m \u001b[1;33m**\u001b[0m\u001b[0mkwargs\u001b[0m\u001b[1;33m)\u001b[0m\u001b[1;33m\u001b[0m\u001b[1;33m\u001b[0m\u001b[0m\n\u001b[0m\u001b[0;32m    208\u001b[0m \u001b[1;33m\u001b[0m\u001b[0m\n\u001b[0;32m    209\u001b[0m         \u001b[1;32mreturn\u001b[0m \u001b[0mcast\u001b[0m\u001b[1;33m(\u001b[0m\u001b[0mF\u001b[0m\u001b[1;33m,\u001b[0m \u001b[0mwrapper\u001b[0m\u001b[1;33m)\u001b[0m\u001b[1;33m\u001b[0m\u001b[1;33m\u001b[0m\u001b[0m\n",
      "\u001b[1;32m~\\anaconda3\\lib\\site-packages\\statsmodels\\tsa\\stattools.py\u001b[0m in \u001b[0;36macovf\u001b[1;34m(x, adjusted, demean, fft, missing, nlag)\u001b[0m\n\u001b[0;32m    519\u001b[0m         \u001b[0macov\u001b[0m \u001b[1;33m=\u001b[0m \u001b[0macov\u001b[0m\u001b[1;33m.\u001b[0m\u001b[0mreal\u001b[0m\u001b[1;33m\u001b[0m\u001b[1;33m\u001b[0m\u001b[0m\n\u001b[0;32m    520\u001b[0m     \u001b[1;32melse\u001b[0m\u001b[1;33m:\u001b[0m\u001b[1;33m\u001b[0m\u001b[1;33m\u001b[0m\u001b[0m\n\u001b[1;32m--> 521\u001b[1;33m         \u001b[0macov\u001b[0m \u001b[1;33m=\u001b[0m \u001b[0mnp\u001b[0m\u001b[1;33m.\u001b[0m\u001b[0mcorrelate\u001b[0m\u001b[1;33m(\u001b[0m\u001b[0mxo\u001b[0m\u001b[1;33m,\u001b[0m \u001b[0mxo\u001b[0m\u001b[1;33m,\u001b[0m \u001b[1;34m\"full\"\u001b[0m\u001b[1;33m)\u001b[0m\u001b[1;33m[\u001b[0m\u001b[0mn\u001b[0m \u001b[1;33m-\u001b[0m \u001b[1;36m1\u001b[0m \u001b[1;33m:\u001b[0m\u001b[1;33m]\u001b[0m \u001b[1;33m/\u001b[0m \u001b[0md\u001b[0m\u001b[1;33m[\u001b[0m\u001b[0mn\u001b[0m \u001b[1;33m-\u001b[0m \u001b[1;36m1\u001b[0m \u001b[1;33m:\u001b[0m\u001b[1;33m]\u001b[0m\u001b[1;33m\u001b[0m\u001b[1;33m\u001b[0m\u001b[0m\n\u001b[0m\u001b[0;32m    522\u001b[0m \u001b[1;33m\u001b[0m\u001b[0m\n\u001b[0;32m    523\u001b[0m     \u001b[1;32mif\u001b[0m \u001b[0mnlag\u001b[0m \u001b[1;32mis\u001b[0m \u001b[1;32mnot\u001b[0m \u001b[1;32mNone\u001b[0m\u001b[1;33m:\u001b[0m\u001b[1;33m\u001b[0m\u001b[1;33m\u001b[0m\u001b[0m\n",
      "\u001b[1;32m~\\anaconda3\\lib\\site-packages\\numpy\\core\\overrides.py\u001b[0m in \u001b[0;36mcorrelate\u001b[1;34m(*args, **kwargs)\u001b[0m\n",
      "\u001b[1;32m~\\anaconda3\\lib\\site-packages\\numpy\\core\\numeric.py\u001b[0m in \u001b[0;36mcorrelate\u001b[1;34m(a, v, mode)\u001b[0m\n\u001b[0;32m    746\u001b[0m \u001b[1;33m\u001b[0m\u001b[0m\n\u001b[0;32m    747\u001b[0m     \"\"\"\n\u001b[1;32m--> 748\u001b[1;33m     \u001b[1;32mreturn\u001b[0m \u001b[0mmultiarray\u001b[0m\u001b[1;33m.\u001b[0m\u001b[0mcorrelate2\u001b[0m\u001b[1;33m(\u001b[0m\u001b[0ma\u001b[0m\u001b[1;33m,\u001b[0m \u001b[0mv\u001b[0m\u001b[1;33m,\u001b[0m \u001b[0mmode\u001b[0m\u001b[1;33m)\u001b[0m\u001b[1;33m\u001b[0m\u001b[1;33m\u001b[0m\u001b[0m\n\u001b[0m\u001b[0;32m    749\u001b[0m \u001b[1;33m\u001b[0m\u001b[0m\n\u001b[0;32m    750\u001b[0m \u001b[1;33m\u001b[0m\u001b[0m\n",
      "\u001b[1;31mKeyboardInterrupt\u001b[0m: "
     ]
    },
    {
     "data": {
      "image/png": "[encoded data removed]",
      "text/plain": [
       "<Figure size 432x288 with 1 Axes>"
      ]
     },
     "metadata": {},
     "output_type": "display_data"
    }
   ],
   "source": [
    "for feat in df.columns:\n",
    "    print(feat)\n",
    "    plot_acf(ret.reset_index(drop=True)[feat])\n",
    "    plot_pacf(ret.reset_index(drop=True)[feat])\n",
    "    plt.show()"
   ]
  },
  {
   "cell_type": "markdown",
   "id": "3b31a141-ee4c-445e-80ef-d1930cccc35e",
   "metadata": {},
   "source": [
    "## Initial Model testing"
   ]
  },
  {
   "cell_type": "code",
   "execution_count": 240,
   "id": "75b2fa8e-e806-41f0-8234-9736995810b0",
   "metadata": {
    "execution": {
     "iopub.execute_input": "2023-02-20T07:31:00.790295Z",
     "iopub.status.busy": "2023-02-20T07:31:00.790295Z",
     "iopub.status.idle": "2023-02-20T07:31:06.521265Z",
     "shell.execute_reply": "2023-02-20T07:31:06.521265Z",
     "shell.execute_reply.started": "2023-02-20T07:31:00.790295Z"
    },
    "tags": []
   },
   "outputs": [
    {
     "name": "stdout",
     "output_type": "stream",
     "text": [
      "RF\n",
      "RandomForestRegressor(max_depth=10, n_estimators=10)\n",
      "MAE:  0.00018930212901259263 \n",
      "MSE:  4.002763584806203e-08 \n",
      "RMSE:  0.00020006907769083666\n",
      "GB\n",
      "GradientBoostingRegressor(learning_rate=1e-07, n_estimators=10)\n",
      "MAE:  0.00020812947123731586 \n",
      "MSE:  4.332753712585249e-08 \n",
      "RMSE:  0.00020815267744098918\n"
     ]
    }
   ],
   "source": [
    "res = {'RF':None, 'GB':None}\n",
    "for model in res.keys():\n",
    "    r = model_selection(model)\n",
    "    res[model] = r"
   ]
  },
  {
   "cell_type": "code",
   "execution_count": 244,
   "id": "e9df1e6b-f53a-4c1a-a706-dd20581300e4",
   "metadata": {
    "execution": {
     "iopub.execute_input": "2023-02-20T07:32:14.547218Z",
     "iopub.status.busy": "2023-02-20T07:32:14.547218Z",
     "iopub.status.idle": "2023-02-20T07:32:14.567218Z",
     "shell.execute_reply": "2023-02-20T07:32:14.567218Z",
     "shell.execute_reply.started": "2023-02-20T07:32:14.547218Z"
    },
    "tags": []
   },
   "outputs": [
    {
     "data": {
      "text/html": [
       "<div>\n",
       "<style scoped>\n",
       "    .dataframe tbody tr th:only-of-type {\n",
       "        vertical-align: middle;\n",
       "    }\n",
       "\n",
       "    .dataframe tbody tr th {\n",
       "        vertical-align: top;\n",
       "    }\n",
       "\n",
       "    .dataframe thead th {\n",
       "        text-align: right;\n",
       "    }\n",
       "</style>\n",
       "<table border=\"1\" class=\"dataframe\">\n",
       "  <thead>\n",
       "    <tr style=\"text-align: right;\">\n",
       "      <th></th>\n",
       "      <th>Close_fut</th>\n",
       "      <th>Close_gas</th>\n",
       "      <th>Close_btc</th>\n",
       "      <th>Close_bond</th>\n",
       "      <th>fut_78_std</th>\n",
       "    </tr>\n",
       "    <tr>\n",
       "      <th>Local time</th>\n",
       "      <th></th>\n",
       "      <th></th>\n",
       "      <th></th>\n",
       "      <th></th>\n",
       "      <th></th>\n",
       "    </tr>\n",
       "  </thead>\n",
       "  <tbody>\n",
       "    <tr>\n",
       "      <th>2021-09-08 14:25:00+05:00</th>\n",
       "      <td>0.000374</td>\n",
       "      <td>-0.000469</td>\n",
       "      <td>-0.000216</td>\n",
       "      <td>0.000397</td>\n",
       "      <td>0.002224</td>\n",
       "    </tr>\n",
       "    <tr>\n",
       "      <th>2021-09-08 14:30:00+05:00</th>\n",
       "      <td>-0.000075</td>\n",
       "      <td>-0.000592</td>\n",
       "      <td>-0.002829</td>\n",
       "      <td>-0.000385</td>\n",
       "      <td>0.002045</td>\n",
       "    </tr>\n",
       "    <tr>\n",
       "      <th>2021-09-08 14:35:00+05:00</th>\n",
       "      <td>0.000749</td>\n",
       "      <td>0.000049</td>\n",
       "      <td>-0.000043</td>\n",
       "      <td>0.000000</td>\n",
       "      <td>0.002023</td>\n",
       "    </tr>\n",
       "    <tr>\n",
       "      <th>2021-09-08 14:40:00+05:00</th>\n",
       "      <td>-0.001182</td>\n",
       "      <td>-0.003926</td>\n",
       "      <td>-0.000628</td>\n",
       "      <td>0.000000</td>\n",
       "      <td>0.001964</td>\n",
       "    </tr>\n",
       "    <tr>\n",
       "      <th>2021-09-08 14:45:00+05:00</th>\n",
       "      <td>0.000135</td>\n",
       "      <td>-0.000223</td>\n",
       "      <td>0.000433</td>\n",
       "      <td>-0.000214</td>\n",
       "      <td>0.001961</td>\n",
       "    </tr>\n",
       "    <tr>\n",
       "      <th>2021-09-08 14:50:00+05:00</th>\n",
       "      <td>0.000599</td>\n",
       "      <td>-0.000471</td>\n",
       "      <td>-0.007409</td>\n",
       "      <td>0.000006</td>\n",
       "      <td>0.001950</td>\n",
       "    </tr>\n",
       "    <tr>\n",
       "      <th>2021-09-08 14:55:00+05:00</th>\n",
       "      <td>-0.000898</td>\n",
       "      <td>0.000198</td>\n",
       "      <td>0.002772</td>\n",
       "      <td>-0.000568</td>\n",
       "      <td>0.001943</td>\n",
       "    </tr>\n",
       "    <tr>\n",
       "      <th>2021-09-08 15:00:00+05:00</th>\n",
       "      <td>0.000225</td>\n",
       "      <td>0.000273</td>\n",
       "      <td>0.003286</td>\n",
       "      <td>-0.000177</td>\n",
       "      <td>0.001827</td>\n",
       "    </tr>\n",
       "    <tr>\n",
       "      <th>2021-09-08 15:05:00+05:00</th>\n",
       "      <td>0.000509</td>\n",
       "      <td>-0.000050</td>\n",
       "      <td>0.002386</td>\n",
       "      <td>-0.000208</td>\n",
       "      <td>0.001791</td>\n",
       "    </tr>\n",
       "    <tr>\n",
       "      <th>2021-09-08 15:10:00+05:00</th>\n",
       "      <td>0.000314</td>\n",
       "      <td>0.000050</td>\n",
       "      <td>0.000022</td>\n",
       "      <td>0.000018</td>\n",
       "      <td>0.001787</td>\n",
       "    </tr>\n",
       "    <tr>\n",
       "      <th>2021-09-08 15:15:00+05:00</th>\n",
       "      <td>-0.000075</td>\n",
       "      <td>0.001884</td>\n",
       "      <td>0.003051</td>\n",
       "      <td>-0.000367</td>\n",
       "      <td>0.001787</td>\n",
       "    </tr>\n",
       "    <tr>\n",
       "      <th>2021-09-08 15:20:00+05:00</th>\n",
       "      <td>-0.000374</td>\n",
       "      <td>-0.000990</td>\n",
       "      <td>0.000194</td>\n",
       "      <td>-0.000214</td>\n",
       "      <td>0.001785</td>\n",
       "    </tr>\n",
       "    <tr>\n",
       "      <th>2021-09-08 15:25:00+05:00</th>\n",
       "      <td>0.000449</td>\n",
       "      <td>0.000595</td>\n",
       "      <td>-0.002394</td>\n",
       "      <td>0.000214</td>\n",
       "      <td>0.001784</td>\n",
       "    </tr>\n",
       "    <tr>\n",
       "      <th>2021-09-08 15:30:00+05:00</th>\n",
       "      <td>0.000135</td>\n",
       "      <td>-0.000272</td>\n",
       "      <td>-0.013752</td>\n",
       "      <td>0.000337</td>\n",
       "      <td>0.001757</td>\n",
       "    </tr>\n",
       "    <tr>\n",
       "      <th>2021-09-08 15:35:00+05:00</th>\n",
       "      <td>-0.000135</td>\n",
       "      <td>0.000025</td>\n",
       "      <td>0.002762</td>\n",
       "      <td>0.000202</td>\n",
       "      <td>0.001713</td>\n",
       "    </tr>\n",
       "    <tr>\n",
       "      <th>2021-09-08 15:40:00+05:00</th>\n",
       "      <td>-0.000150</td>\n",
       "      <td>-0.000248</td>\n",
       "      <td>0.000437</td>\n",
       "      <td>-0.000196</td>\n",
       "      <td>0.001713</td>\n",
       "    </tr>\n",
       "    <tr>\n",
       "      <th>2021-09-08 15:45:00+05:00</th>\n",
       "      <td>-0.001048</td>\n",
       "      <td>-0.000495</td>\n",
       "      <td>-0.003366</td>\n",
       "      <td>-0.000190</td>\n",
       "      <td>0.001675</td>\n",
       "    </tr>\n",
       "    <tr>\n",
       "      <th>2021-09-08 15:50:00+05:00</th>\n",
       "      <td>0.000449</td>\n",
       "      <td>0.000248</td>\n",
       "      <td>-0.000943</td>\n",
       "      <td>0.000196</td>\n",
       "      <td>0.001670</td>\n",
       "    </tr>\n",
       "    <tr>\n",
       "      <th>2021-09-08 15:55:00+05:00</th>\n",
       "      <td>0.000300</td>\n",
       "      <td>-0.000297</td>\n",
       "      <td>-0.003578</td>\n",
       "      <td>0.000031</td>\n",
       "      <td>0.001669</td>\n",
       "    </tr>\n",
       "    <tr>\n",
       "      <th>2021-09-08 16:00:00+05:00</th>\n",
       "      <td>0.000000</td>\n",
       "      <td>0.000000</td>\n",
       "      <td>0.003018</td>\n",
       "      <td>0.000000</td>\n",
       "      <td>0.001667</td>\n",
       "    </tr>\n",
       "  </tbody>\n",
       "</table>\n",
       "</div>"
      ],
      "text/plain": [
       "                           Close_fut  Close_gas  Close_btc  Close_bond  \\\n",
       "Local time                                                               \n",
       "2021-09-08 14:25:00+05:00   0.000374  -0.000469  -0.000216    0.000397   \n",
       "2021-09-08 14:30:00+05:00  -0.000075  -0.000592  -0.002829   -0.000385   \n",
       "2021-09-08 14:35:00+05:00   0.000749   0.000049  -0.000043    0.000000   \n",
       "2021-09-08 14:40:00+05:00  -0.001182  -0.003926  -0.000628    0.000000   \n",
       "2021-09-08 14:45:00+05:00   0.000135  -0.000223   0.000433   -0.000214   \n",
       "2021-09-08 14:50:00+05:00   0.000599  -0.000471  -0.007409    0.000006   \n",
       "2021-09-08 14:55:00+05:00  -0.000898   0.000198   0.002772   -0.000568   \n",
       "2021-09-08 15:00:00+05:00   0.000225   0.000273   0.003286   -0.000177   \n",
       "2021-09-08 15:05:00+05:00   0.000509  -0.000050   0.002386   -0.000208   \n",
       "2021-09-08 15:10:00+05:00   0.000314   0.000050   0.000022    0.000018   \n",
       "2021-09-08 15:15:00+05:00  -0.000075   0.001884   0.003051   -0.000367   \n",
       "2021-09-08 15:20:00+05:00  -0.000374  -0.000990   0.000194   -0.000214   \n",
       "2021-09-08 15:25:00+05:00   0.000449   0.000595  -0.002394    0.000214   \n",
       "2021-09-08 15:30:00+05:00   0.000135  -0.000272  -0.013752    0.000337   \n",
       "2021-09-08 15:35:00+05:00  -0.000135   0.000025   0.002762    0.000202   \n",
       "2021-09-08 15:40:00+05:00  -0.000150  -0.000248   0.000437   -0.000196   \n",
       "2021-09-08 15:45:00+05:00  -0.001048  -0.000495  -0.003366   -0.000190   \n",
       "2021-09-08 15:50:00+05:00   0.000449   0.000248  -0.000943    0.000196   \n",
       "2021-09-08 15:55:00+05:00   0.000300  -0.000297  -0.003578    0.000031   \n",
       "2021-09-08 16:00:00+05:00   0.000000   0.000000   0.003018    0.000000   \n",
       "\n",
       "                           fut_78_std  \n",
       "Local time                             \n",
       "2021-09-08 14:25:00+05:00    0.002224  \n",
       "2021-09-08 14:30:00+05:00    0.002045  \n",
       "2021-09-08 14:35:00+05:00    0.002023  \n",
       "2021-09-08 14:40:00+05:00    0.001964  \n",
       "2021-09-08 14:45:00+05:00    0.001961  \n",
       "2021-09-08 14:50:00+05:00    0.001950  \n",
       "2021-09-08 14:55:00+05:00    0.001943  \n",
       "2021-09-08 15:00:00+05:00    0.001827  \n",
       "2021-09-08 15:05:00+05:00    0.001791  \n",
       "2021-09-08 15:10:00+05:00    0.001787  \n",
       "2021-09-08 15:15:00+05:00    0.001787  \n",
       "2021-09-08 15:20:00+05:00    0.001785  \n",
       "2021-09-08 15:25:00+05:00    0.001784  \n",
       "2021-09-08 15:30:00+05:00    0.001757  \n",
       "2021-09-08 15:35:00+05:00    0.001713  \n",
       "2021-09-08 15:40:00+05:00    0.001713  \n",
       "2021-09-08 15:45:00+05:00    0.001675  \n",
       "2021-09-08 15:50:00+05:00    0.001670  \n",
       "2021-09-08 15:55:00+05:00    0.001669  \n",
       "2021-09-08 16:00:00+05:00    0.001667  "
      ]
     },
     "execution_count": 244,
     "metadata": {},
     "output_type": "execute_result"
    }
   ],
   "source": [
    "day[77:]"
   ]
  },
  {
   "cell_type": "code",
   "execution_count": 241,
   "id": "ed17a1a6-44c5-4fcf-80ce-16a9cc2bf90a",
   "metadata": {
    "execution": {
     "iopub.execute_input": "2023-02-20T07:31:54.175620Z",
     "iopub.status.busy": "2023-02-20T07:31:54.174620Z",
     "iopub.status.idle": "2023-02-20T07:31:54.191188Z",
     "shell.execute_reply": "2023-02-20T07:31:54.191188Z",
     "shell.execute_reply.started": "2023-02-20T07:31:54.175620Z"
    },
    "tags": []
   },
   "outputs": [
    {
     "data": {
      "text/plain": [
       "{'RF': (RandomForestRegressor(max_depth=10, n_estimators=10),\n",
       "  array([0.00192517, 0.00181467, 0.00192394, 0.00177434])),\n",
       " 'GB': (GradientBoostingRegressor(learning_rate=1e-07, n_estimators=10),\n",
       "  array([0.00187836, 0.00187836, 0.00187836, 0.00187836]))}"
      ]
     },
     "execution_count": 241,
     "metadata": {},
     "output_type": "execute_result"
    }
   ],
   "source": [
    "res"
   ]
  }
 ],
 "metadata": {
  "kernelspec": {
   "display_name": "Python 3",
   "language": "python",
   "name": "python3"
  },
  "language_info": {
   "codemirror_mode": {
    "name": "ipython",
    "version": 3
   },
   "file_extension": ".py",
   "mimetype": "text/x-python",
   "name": "python",
   "nbconvert_exporter": "python",
   "pygments_lexer": "ipython3",
   "version": "3.8.8"
  },
  "toc-autonumbering": true,
  "toc-showcode": false,
  "toc-showmarkdowntxt": false,
  "toc-showtags": false
 },
 "nbformat": 4,
 "nbformat_minor": 5
}
