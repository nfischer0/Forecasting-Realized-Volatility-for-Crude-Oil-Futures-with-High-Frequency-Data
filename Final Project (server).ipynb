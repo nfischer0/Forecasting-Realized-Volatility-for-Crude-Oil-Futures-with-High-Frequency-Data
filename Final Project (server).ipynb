{
 "cells": [
  {
   "cell_type": "markdown",
   "id": "f1480de7-2744-4551-9e99-317f6b7893d2",
   "metadata": {},
   "source": [
    "# Imports and Function Definitions"
   ]
  },
  {
   "cell_type": "code",
   "execution_count": 17,
   "id": "de881bb1-c0f2-436b-9f1d-ac9304afae45",
   "metadata": {
    "tags": []
   },
   "outputs": [],
   "source": [
    "import pandas as pd\n",
    "import numpy as np\n",
    "\n",
    "import matplotlib.pyplot as plt\n",
    "import seaborn as sns\n",
    "\n",
    "from sklearn.model_selection import KFold, StratifiedKFold, train_test_split\n",
    "from sklearn.linear_model import ElasticNet\n",
    "from sklearn.ensemble import RandomForestRegressor, RandomForestClassifier, GradientBoostingRegressor, GradientBoostingClassifier\n",
    "from sklearn.metrics import mean_absolute_error, accuracy_score, mean_squared_error\n",
    "from sklearn.model_selection import TimeSeriesSplit, GridSearchCV, cross_val_score, KFold, StratifiedKFold\n",
    "\n",
    "from statsmodels.graphics.tsaplots import plot_acf, plot_pacf\n",
    "sns.set()\n",
    "\n",
    "import warnings\n",
    "warnings.filterwarnings('ignore')\n",
    "# from polygon import RESTClient\n",
    "\n",
    "import datetime as dt"
   ]
  },
  {
   "cell_type": "code",
   "execution_count": null,
   "id": "72c06572-8943-4f96-8a07-1e0696cb9c76",
   "metadata": {
    "tags": []
   },
   "outputs": [],
   "source": [
    "def tree_feat_importance(m, df):\n",
    "    return pd.DataFrame({'cols':df.columns, 'feat_imp':m.feature_importances_}\n",
    "                       ).sort_values('feat_imp', ascending=False)\n",
    "def ensemble_tree_feat_importance(m, df):\n",
    "    feature_importances = np.mean([\n",
    "    tree.feature_importances_ for tree in m.estimators_\n",
    "                                    ], axis=0)\n",
    "    return pd.DataFrame({'cols':df.columns, 'feat_imp':feature_importances}\n",
    "                       ).sort_values('feat_imp', ascending=False)\n",
    "def plot_fi(fi): return fi.plot('cols', 'feat_imp', 'barh', figsize=(15,20), legend=False)\n",
    "def xgb_feat_importance(m, df):\n",
    "    feature_importances = m.feature_importances_\n",
    "    return pd.DataFrame({'cols':df.columns, 'feat_imp':feature_importances}\n",
    "                       ).sort_values('feat_imp', ascending=False)"
   ]
  },
  {
   "cell_type": "code",
   "execution_count": null,
   "id": "6972bd09-2106-41cf-8c01-3015120b157e",
   "metadata": {
    "tags": []
   },
   "outputs": [],
   "source": [
    "def model_selection(ml):\n",
    "    print(ml)\n",
    "    if ml == 'GB':\n",
    "        model = GradientBoostingRegressor()\n",
    "        grid = dict()\n",
    "        grid['learning_rate'] = [1e-3,1e-5,1e-7]\n",
    "        grid['n_estimators'] = [10,50,100,1000]\n",
    "        tscv = TimeSeriesSplit(n_splits=2)\n",
    "        grid_search = GridSearchCV(estimator=model, param_grid=grid, scoring='neg_mean_squared_error', cv = tscv)#, n_jobs=25)\n",
    "        grid_result = grid_search.fit(X_train, y_train)\n",
    "        model_best = GradientBoostingRegressor(learning_rate=grid_result.best_params_['learning_rate'],\\\n",
    "                    n_estimators=grid_result.best_params_['n_estimators'],\\\n",
    "                                              ).fit(X_train, y_train)\n",
    "\n",
    "    elif ml == 'RF':\n",
    "        model = RandomForestRegressor(n_jobs=25)\n",
    "        grid = dict()\n",
    "        grid['max_depth'] = [3,5,7,10]\n",
    "        grid['n_estimators'] = [10,50,100,1000]\n",
    "        tscv = TimeSeriesSplit(n_splits=2)\n",
    "        grid_search = GridSearchCV(estimator=model, param_grid=grid, scoring='neg_mean_squared_error', cv = tscv)#, n_jobs=25), n_jobs=25)\n",
    "        grid_result = grid_search.fit(X_train, y_train)\n",
    "\n",
    "        model_best = RandomForestRegressor(\n",
    "                    max_depth=grid_result.best_params_['max_depth'],\\\n",
    "                    n_estimators=grid_result.best_params_['n_estimators'],\\\n",
    "                        ).fit(X_train, y_train)\n",
    "    \n",
    "    \n",
    "    print(model_best)\n",
    "    y_pred = model_best.predict(X_test)\n",
    "    print('MAE: ', mean_absolute_error(y_pred, y_test), '\\nMSE: ', mean_squared_error(y_pred,y_test), '\\nRMSE: ', np.sqrt(mean_squared_error(y_pred,y_test)))\n",
    "\n",
    "    return(model_best, y_pred)#, [X_train, X_test, y_train, y_test])"
   ]
  },
  {
   "cell_type": "markdown",
   "id": "2abf351b-7c2e-4839-86b1-bd69644bb3e2",
   "metadata": {
    "tags": []
   },
   "source": [
    "# Cleaning and Merging"
   ]
  },
  {
   "cell_type": "code",
   "execution_count": 713,
   "id": "b4622c71-fae4-41f1-b807-d4e2f87a6c28",
   "metadata": {
    "execution": {
     "iopub.execute_input": "2023-03-03T00:37:35.402169Z",
     "iopub.status.busy": "2023-03-03T00:37:35.402169Z",
     "iopub.status.idle": "2023-03-03T00:37:35.415168Z",
     "shell.execute_reply": "2023-03-03T00:37:35.415168Z",
     "shell.execute_reply.started": "2023-03-03T00:37:35.402169Z"
    },
    "tags": []
   },
   "outputs": [],
   "source": [
    "client = RESTClient(api_key=\"18U85gkK04AWHrbE3oWvG9b3fF8JdlxQ\")"
   ]
  },
  {
   "cell_type": "code",
   "execution_count": 714,
   "id": "fa182899-8cc0-4bef-bb48-02dca8133d2c",
   "metadata": {
    "execution": {
     "iopub.execute_input": "2023-03-03T00:37:35.643110Z",
     "iopub.status.busy": "2023-03-03T00:37:35.643110Z",
     "iopub.status.idle": "2023-03-03T00:37:38.524492Z",
     "shell.execute_reply": "2023-03-03T00:37:38.524492Z",
     "shell.execute_reply.started": "2023-03-03T00:37:35.643110Z"
    },
    "tags": []
   },
   "outputs": [],
   "source": [
    "vxx = client.get_aggs(ticker='VXX', multiplier=5, timespan=\"minute\", from_=\"2022-04-01\", to=\"2022-09-01\", limit=50000)\n",
    "spy = client.get_aggs(ticker='SPY', multiplier=5, timespan=\"minute\", from_=\"2022-04-01\", to=\"2022-09-01\", limit=50000)\n",
    "uso = client.get_aggs(ticker='USO', multiplier=5, timespan=\"minute\", from_=\"2022-04-01\", to=\"2022-09-01\", limit=50000)"
   ]
  },
  {
   "cell_type": "code",
   "execution_count": 695,
   "id": "de3ad651-4930-4cf5-8c33-314e91c82686",
   "metadata": {
    "execution": {
     "iopub.execute_input": "2023-03-03T00:33:07.022997Z",
     "iopub.status.busy": "2023-03-03T00:33:07.021997Z",
     "iopub.status.idle": "2023-03-03T00:33:07.037996Z",
     "shell.execute_reply": "2023-03-03T00:33:07.037077Z",
     "shell.execute_reply.started": "2023-03-03T00:33:07.022997Z"
    },
    "tags": []
   },
   "outputs": [],
   "source": [
    "poly_dict = {'vxx':vxx, 'spy':spy, 'uso':uso}"
   ]
  },
  {
   "cell_type": "code",
   "execution_count": 696,
   "id": "4255f238-0ff4-41b2-bae5-7af3bc7c12d4",
   "metadata": {
    "execution": {
     "iopub.execute_input": "2023-03-03T00:33:07.039998Z",
     "iopub.status.busy": "2023-03-03T00:33:07.038998Z",
     "iopub.status.idle": "2023-03-03T00:33:07.633316Z",
     "shell.execute_reply": "2023-03-03T00:33:07.632257Z",
     "shell.execute_reply.started": "2023-03-03T00:33:07.039998Z"
    },
    "tags": []
   },
   "outputs": [],
   "source": [
    "for data in poly_dict.keys():\n",
    "    poly_dict[data] = pd.DataFrame(poly_dict[data])[['close', 'timestamp']]\n",
    "    poly_dict[data] = poly_dict[data].rename(columns={'close':'Close', 'timestamp':'Local time'})\n",
    "    poly_dict[data]['Local time'] = pd.to_datetime(poly_dict[data]['Local time'], unit='ms')"
   ]
  },
  {
   "cell_type": "code",
   "execution_count": 697,
   "id": "93fd99c8-09bb-4be1-ac11-95442ba7d6f4",
   "metadata": {
    "execution": {
     "iopub.execute_input": "2023-03-03T00:33:07.634272Z",
     "iopub.status.busy": "2023-03-03T00:33:07.634272Z",
     "iopub.status.idle": "2023-03-03T00:33:07.664272Z",
     "shell.execute_reply": "2023-03-03T00:33:07.663282Z",
     "shell.execute_reply.started": "2023-03-03T00:33:07.634272Z"
    },
    "tags": []
   },
   "outputs": [],
   "source": [
    "vxx = poly_dict['vxx']\n",
    "spy = poly_dict['spy']\n",
    "uso = poly_dict['uso']"
   ]
  },
  {
   "cell_type": "code",
   "execution_count": 237,
   "id": "076bb000-a60d-4eb5-beae-b267e77688a6",
   "metadata": {
    "tags": []
   },
   "outputs": [],
   "source": [
    "fut = pd.read_csv('LIGHT.CMDUSD_Candlestick_5_M_BID_11.02.2020-11.02.2023.csv')\n",
    "gas = pd.read_csv('GAS.CMDUSD_Candlestick_5_M_BID_11.02.2020-11.02.2023.csv')\n",
    "btc = pd.read_csv('BTCUSD_Candlestick_5_M_BID_11.02.2020-11.02.2023.csv')\n",
    "bond = pd.read_csv('USTBOND.TRUSD_Candlestick_5_M_BID_11.02.2020-11.02.2023.csv')"
   ]
  },
  {
   "cell_type": "code",
   "execution_count": 238,
   "id": "c654650a-82e7-43a1-9e60-8b433b1be650",
   "metadata": {
    "tags": []
   },
   "outputs": [],
   "source": [
    "data_dict = {'fut':fut, 'gas':gas, #'vxx':vxx, 'spy':spy, #'uso':uso, \n",
    "            'btc':btc, 'bond':bond}"
   ]
  },
  {
   "cell_type": "markdown",
   "id": "81caf05a-520b-4bab-ab89-cdab52b3a4a3",
   "metadata": {},
   "source": [
    "## Datetime and indexing"
   ]
  },
  {
   "cell_type": "code",
   "execution_count": 239,
   "id": "f62b06f3-287f-48d7-ab11-5d0f1af2de1b",
   "metadata": {
    "tags": []
   },
   "outputs": [],
   "source": [
    "# idx = pd.to_datetime(data_dict['fut']['Local time'])\n",
    "# idx=idx.apply(lambda x: x.replace(tzinfo=None))"
   ]
  },
  {
   "cell_type": "code",
   "execution_count": 240,
   "id": "cc3d83fb-f59e-4d95-ac6d-1510ceb057f6",
   "metadata": {
    "tags": []
   },
   "outputs": [],
   "source": [
    "for data in data_dict.keys():\n",
    "    if data in ['vxx', 'spy', 'uso']:\n",
    "        data_dict[data] = data_dict[data].set_index(idx)\n",
    "        data_dict[data] = data_dict[data].drop(['Open', 'High', 'Low', 'Volume', 'Local time'], axis=1)\n",
    "    else:     \n",
    "        ix = pd.to_datetime(data_dict[data][\"Local time\"].apply(lambda x: \" \".join(x.split()[0:2])), format='%d.%m.%Y %H:%M:%S.%f')\n",
    "        data_dict[data] = data_dict[data].set_index(ix)['Close']"
   ]
  },
  {
   "cell_type": "markdown",
   "id": "c11f3950-96a9-4578-995c-21734ad856a0",
   "metadata": {},
   "source": [
    "## Merging"
   ]
  },
  {
   "cell_type": "code",
   "execution_count": 241,
   "id": "205f196e-1ac1-4338-9a3b-d8b4c0452ec3",
   "metadata": {
    "tags": []
   },
   "outputs": [],
   "source": [
    "# df = pd.DataFrame(index=data_dict['vxx'].index)\n",
    "df = pd.DataFrame(index=data_dict['fut'].index)\n",
    "for data in data_dict.keys():\n",
    "    df = pd.merge(df, data_dict[data], left_index=True, right_index=True, suffixes=['', '_'+data], how='left')\n",
    "df = df.rename(columns={'Close':'Close_fut'})"
   ]
  },
  {
   "cell_type": "markdown",
   "id": "580f11c0-18fe-45f5-b311-083ed2dcc708",
   "metadata": {},
   "source": [
    "## Cut to market hours"
   ]
  },
  {
   "cell_type": "code",
   "execution_count": 242,
   "id": "cfcfcb08-33a3-482c-b2e9-36a4ef68d44e",
   "metadata": {
    "tags": []
   },
   "outputs": [],
   "source": [
    "df['date'] = df.apply(lambda x: dt.datetime.strptime(str(x.name), '%Y-%m-%d %H:%M:%S').date(), axis=1)\n",
    "df['time'] = df.apply(lambda x: dt.datetime.strptime(str(x.name), '%Y-%m-%d %H:%M:%S').time(), axis=1)"
   ]
  },
  {
   "cell_type": "code",
   "execution_count": 243,
   "id": "8c1355ae-d13e-4a70-947d-aab2cbf87ffb",
   "metadata": {
    "tags": []
   },
   "outputs": [],
   "source": [
    "df = df.loc[ (df['time']>dt.time(7)) & (df['time']<dt.time(16)) ]\n",
    "df = df[df.index.dayofweek < 5]"
   ]
  },
  {
   "cell_type": "markdown",
   "id": "33f5882d-46fb-4db4-85b7-6a36836ed1ad",
   "metadata": {},
   "source": [
    "The plot below shows the high daily variance and the gaps between data are non-trading hours"
   ]
  },
  {
   "cell_type": "code",
   "execution_count": 244,
   "id": "538e2e84-4524-420e-aea1-ee4f2c914e81",
   "metadata": {
    "tags": []
   },
   "outputs": [
    {
     "data": {
      "text/html": [
       "<div>\n",
       "<style scoped>\n",
       "    .dataframe tbody tr th:only-of-type {\n",
       "        vertical-align: middle;\n",
       "    }\n",
       "\n",
       "    .dataframe tbody tr th {\n",
       "        vertical-align: top;\n",
       "    }\n",
       "\n",
       "    .dataframe thead th {\n",
       "        text-align: right;\n",
       "    }\n",
       "</style>\n",
       "<table border=\"1\" class=\"dataframe\">\n",
       "  <thead>\n",
       "    <tr style=\"text-align: right;\">\n",
       "      <th></th>\n",
       "      <th>Close_fut</th>\n",
       "      <th>Close_gas</th>\n",
       "      <th>Close_btc</th>\n",
       "      <th>Close_bond</th>\n",
       "      <th>date</th>\n",
       "      <th>time</th>\n",
       "    </tr>\n",
       "    <tr>\n",
       "      <th>Local time</th>\n",
       "      <th></th>\n",
       "      <th></th>\n",
       "      <th></th>\n",
       "      <th></th>\n",
       "      <th></th>\n",
       "      <th></th>\n",
       "    </tr>\n",
       "  </thead>\n",
       "  <tbody>\n",
       "    <tr>\n",
       "      <th>2020-02-11 07:05:00</th>\n",
       "      <td>50.445</td>\n",
       "      <td>1.7640</td>\n",
       "      <td>9801</td>\n",
       "      <td>162.280</td>\n",
       "      <td>2020-02-11</td>\n",
       "      <td>07:05:00</td>\n",
       "    </tr>\n",
       "    <tr>\n",
       "      <th>2020-02-11 07:10:00</th>\n",
       "      <td>50.375</td>\n",
       "      <td>1.7674</td>\n",
       "      <td>9815</td>\n",
       "      <td>162.311</td>\n",
       "      <td>2020-02-11</td>\n",
       "      <td>07:10:00</td>\n",
       "    </tr>\n",
       "    <tr>\n",
       "      <th>2020-02-11 07:15:00</th>\n",
       "      <td>50.326</td>\n",
       "      <td>1.7703</td>\n",
       "      <td>9816</td>\n",
       "      <td>162.248</td>\n",
       "      <td>2020-02-11</td>\n",
       "      <td>07:15:00</td>\n",
       "    </tr>\n",
       "    <tr>\n",
       "      <th>2020-02-11 07:20:00</th>\n",
       "      <td>50.356</td>\n",
       "      <td>1.7725</td>\n",
       "      <td>9821</td>\n",
       "      <td>162.561</td>\n",
       "      <td>2020-02-11</td>\n",
       "      <td>07:20:00</td>\n",
       "    </tr>\n",
       "    <tr>\n",
       "      <th>2020-02-11 07:25:00</th>\n",
       "      <td>50.445</td>\n",
       "      <td>1.7734</td>\n",
       "      <td>9816</td>\n",
       "      <td>162.401</td>\n",
       "      <td>2020-02-11</td>\n",
       "      <td>07:25:00</td>\n",
       "    </tr>\n",
       "    <tr>\n",
       "      <th>...</th>\n",
       "      <td>...</td>\n",
       "      <td>...</td>\n",
       "      <td>...</td>\n",
       "      <td>...</td>\n",
       "      <td>...</td>\n",
       "      <td>...</td>\n",
       "    </tr>\n",
       "    <tr>\n",
       "      <th>2023-02-10 15:35:00</th>\n",
       "      <td>79.799</td>\n",
       "      <td>2.5718</td>\n",
       "      <td>21531</td>\n",
       "      <td>126.899</td>\n",
       "      <td>2023-02-10</td>\n",
       "      <td>15:35:00</td>\n",
       "    </tr>\n",
       "    <tr>\n",
       "      <th>2023-02-10 15:40:00</th>\n",
       "      <td>79.779</td>\n",
       "      <td>2.5721</td>\n",
       "      <td>21487</td>\n",
       "      <td>126.899</td>\n",
       "      <td>2023-02-10</td>\n",
       "      <td>15:40:00</td>\n",
       "    </tr>\n",
       "    <tr>\n",
       "      <th>2023-02-10 15:45:00</th>\n",
       "      <td>79.764</td>\n",
       "      <td>2.5739</td>\n",
       "      <td>21552</td>\n",
       "      <td>126.901</td>\n",
       "      <td>2023-02-10</td>\n",
       "      <td>15:45:00</td>\n",
       "    </tr>\n",
       "    <tr>\n",
       "      <th>2023-02-10 15:50:00</th>\n",
       "      <td>79.739</td>\n",
       "      <td>2.5721</td>\n",
       "      <td>21537</td>\n",
       "      <td>126.941</td>\n",
       "      <td>2023-02-10</td>\n",
       "      <td>15:50:00</td>\n",
       "    </tr>\n",
       "    <tr>\n",
       "      <th>2023-02-10 15:55:00</th>\n",
       "      <td>79.734</td>\n",
       "      <td>2.5761</td>\n",
       "      <td>21473</td>\n",
       "      <td>126.928</td>\n",
       "      <td>2023-02-10</td>\n",
       "      <td>15:55:00</td>\n",
       "    </tr>\n",
       "  </tbody>\n",
       "</table>\n",
       "<p>83888 rows × 6 columns</p>\n",
       "</div>"
      ],
      "text/plain": [
       "                     Close_fut  Close_gas  Close_btc  Close_bond        date  \\\n",
       "Local time                                                                     \n",
       "2020-02-11 07:05:00     50.445     1.7640       9801     162.280  2020-02-11   \n",
       "2020-02-11 07:10:00     50.375     1.7674       9815     162.311  2020-02-11   \n",
       "2020-02-11 07:15:00     50.326     1.7703       9816     162.248  2020-02-11   \n",
       "2020-02-11 07:20:00     50.356     1.7725       9821     162.561  2020-02-11   \n",
       "2020-02-11 07:25:00     50.445     1.7734       9816     162.401  2020-02-11   \n",
       "...                        ...        ...        ...         ...         ...   \n",
       "2023-02-10 15:35:00     79.799     2.5718      21531     126.899  2023-02-10   \n",
       "2023-02-10 15:40:00     79.779     2.5721      21487     126.899  2023-02-10   \n",
       "2023-02-10 15:45:00     79.764     2.5739      21552     126.901  2023-02-10   \n",
       "2023-02-10 15:50:00     79.739     2.5721      21537     126.941  2023-02-10   \n",
       "2023-02-10 15:55:00     79.734     2.5761      21473     126.928  2023-02-10   \n",
       "\n",
       "                         time  \n",
       "Local time                     \n",
       "2020-02-11 07:05:00  07:05:00  \n",
       "2020-02-11 07:10:00  07:10:00  \n",
       "2020-02-11 07:15:00  07:15:00  \n",
       "2020-02-11 07:20:00  07:20:00  \n",
       "2020-02-11 07:25:00  07:25:00  \n",
       "...                       ...  \n",
       "2023-02-10 15:35:00  15:35:00  \n",
       "2023-02-10 15:40:00  15:40:00  \n",
       "2023-02-10 15:45:00  15:45:00  \n",
       "2023-02-10 15:50:00  15:50:00  \n",
       "2023-02-10 15:55:00  15:55:00  \n",
       "\n",
       "[83888 rows x 6 columns]"
      ]
     },
     "execution_count": 264,
     "metadata": {},
     "output_type": "execute_result"
    }
   ],
   "source": [
    "df"
   ]
  },
  {
   "cell_type": "code",
   "execution_count": 245,
   "id": "cabaa440-8add-4e3e-b931-bed89cb7cba2",
   "metadata": {
    "tags": []
   },
   "outputs": [
    {
     "data": {
      "text/plain": [
       "<matplotlib.collections.PathCollection at 0x7f72a5be3940>"
      ]
     },
     "execution_count": 265,
     "metadata": {},
     "output_type": "execute_result"
    },
    {
     "data": {
      "image/png": "[encoded data removed]",
      "text/plain": [
       "<Figure size 1440x648 with 1 Axes>"
      ]
     },
     "metadata": {},
     "output_type": "display_data"
    }
   ],
   "source": [
    "plt.subplots(figsize=(20,9))\n",
    "plt.scatter(df.index, df['Close_fut'])"
   ]
  },
  {
   "cell_type": "markdown",
   "id": "aab721b6-33f9-4ee1-b214-7a50bc48b80a",
   "metadata": {},
   "source": [
    "# Test Train Splits\n",
    "\n",
    "## brainstorm:\n",
    "2 train test splitting techniques: day by day or chunk by chunk.\n",
    "\n",
    "- day by day: train p of the day test 1-p for each day, record accuracy for each day \n",
    "    - bad: small amount of data per train\n",
    "    - good: consistent times predicted\n",
    "- chunk by chunk: train n data points test m data points, record accuracy for each chunk\n",
    "    - bad: inconsistent time predicted; different days have different vol levels and predicting across days could be problematic\n",
    "    - good: more train data, could get different prediction horizons, no dependency on prediction time"
   ]
  },
  {
   "cell_type": "markdown",
   "id": "bf49793b-c8ae-4bb6-98d6-8844a46e4a3a",
   "metadata": {},
   "source": [
    "## Day by Day"
   ]
  },
  {
   "cell_type": "markdown",
   "id": "c65e5605-0686-4eb0-8084-8e7bc2c16ef2",
   "metadata": {},
   "source": [
    "We split the data into individual days.  We calculate the $n$ period rolling standard deviation as our outcome measure within each day.  Then, we can concat the data together"
   ]
  },
  {
   "cell_type": "code",
   "execution_count": 246,
   "id": "ee78ffb2-11ef-4ab1-abe3-9236b140e20f",
   "metadata": {
    "tags": []
   },
   "outputs": [],
   "source": [
    "days = list(set([d.date() for d in df.index]))"
   ]
  },
  {
   "cell_type": "code",
   "execution_count": 247,
   "id": "604f3797-3454-4309-a5cf-ecb433d48999",
   "metadata": {
    "tags": []
   },
   "outputs": [
    {
     "data": {
      "text/plain": [
       "{'Close_bond', 'Close_btc', 'Close_fut', 'Close_gas'}"
      ]
     },
     "execution_count": 267,
     "metadata": {},
     "output_type": "execute_result"
    }
   ],
   "source": [
    "set(df.columns) - {'date', 'time'}"
   ]
  },
  {
   "cell_type": "code",
   "execution_count": 271,
   "id": "f20c041d-c6bd-47ee-a588-883c184c1356",
   "metadata": {
    "tags": []
   },
   "outputs": [],
   "source": [
    "n=12\n",
    "day_dict = {}\n",
    "for day in days:\n",
    "        \n",
    "    day_dict[day] = df.loc[df['date'] == day]\n",
    "    del day_dict[day]['date']\n",
    "    \n",
    "    for feat in set(df.columns) - {'date', 'time'}:\n",
    "        day_dict[day][feat] = np.log( day_dict[day][feat] / day_dict[day][feat].shift(1) )#.shift(1) #last shift new\n",
    "    \n",
    "    day_dict[day][str(n)+'_oil_std'] = day_dict[day].rolling(n)['Close_fut'].std()\n",
    "    day_dict[day] = day_dict[day][n:]"
   ]
  },
  {
   "cell_type": "code",
   "execution_count": 272,
   "id": "cae91e4c-3414-4a1d-b82b-e4e95b8e627c",
   "metadata": {
    "tags": []
   },
   "outputs": [
    {
     "data": {
      "text/plain": [
       "<matplotlib.collections.PathCollection at 0x7f728de8bc18>"
      ]
     },
     "execution_count": 272,
     "metadata": {},
     "output_type": "execute_result"
    },
    {
     "data": {
      "image/png": "[encoded data removed]",
      "text/plain": [
       "<Figure size 1440x720 with 1 Axes>"
      ]
     },
     "metadata": {},
     "output_type": "display_data"
    }
   ],
   "source": [
    "concat = pd.concat(day_dict.values())\n",
    "plt.subplots(figsize=(20,10))\n",
    "plt.scatter(range(700), concat[:700].reset_index(drop=True)[str(n)+'_oil_std'])"
   ]
  },
  {
   "cell_type": "markdown",
   "id": "59b7a930-e2b4-4b61-84a4-3da8fdd0b1c7",
   "metadata": {},
   "source": [
    "## Examining Temporal Structure"
   ]
  },
  {
   "cell_type": "code",
   "execution_count": 273,
   "id": "575df2ba-0cd8-4cd7-aac4-b732ea7374ca",
   "metadata": {
    "tags": []
   },
   "outputs": [],
   "source": [
    "time_dist = concat.groupby('time')[str(n)+'_oil_std'].mean()"
   ]
  },
  {
   "cell_type": "code",
   "execution_count": 274,
   "id": "1be939c9-cd73-4c37-a9b8-a30f267018c3",
   "metadata": {
    "tags": []
   },
   "outputs": [
    {
     "data": {
      "text/plain": [
       "<AxesSubplot:xlabel='time'>"
      ]
     },
     "execution_count": 274,
     "metadata": {},
     "output_type": "execute_result"
    },
    {
     "data": {
      "image/png": "[encoded data removed]",
      "text/plain": [
       "<Figure size 432x288 with 1 Axes>"
      ]
     },
     "metadata": {},
     "output_type": "display_data"
    }
   ],
   "source": [
    "time_dist.plot()"
   ]
  },
  {
   "cell_type": "markdown",
   "id": "50efb558-d3f0-4704-8dc0-c038f7cb607e",
   "metadata": {},
   "source": [
    "The above plot shows that the trading volatility is clustered around the morning and roughly 2pm (historic oil desk close).  This is to be expected.  It will be important to strip times from the is dataset."
   ]
  },
  {
   "cell_type": "code",
   "execution_count": 275,
   "id": "c2580609-4326-4f8b-95d1-090ec3d372c7",
   "metadata": {
    "tags": []
   },
   "outputs": [],
   "source": [
    "time_rets = concat.groupby('time')['Close_fut'].apply(lambda x: np.mean(abs(x)))"
   ]
  },
  {
   "cell_type": "code",
   "execution_count": 276,
   "id": "8cdfbfba-4790-43d3-89c0-01cac14f17dc",
   "metadata": {
    "tags": []
   },
   "outputs": [
    {
     "data": {
      "text/plain": [
       "<AxesSubplot:xlabel='time'>"
      ]
     },
     "execution_count": 276,
     "metadata": {},
     "output_type": "execute_result"
    },
    {
     "data": {
      "image/png": "[encoded data removed]",
      "text/plain": [
       "<Figure size 432x288 with 1 Axes>"
      ]
     },
     "metadata": {},
     "output_type": "display_data"
    }
   ],
   "source": [
    "time_rets.plot()"
   ]
  },
  {
   "cell_type": "markdown",
   "id": "9d7a19e3-c9d0-4e62-ac5a-964d3af4b692",
   "metadata": {},
   "source": [
    "Again we see the largest log returns concentrated around 1:30 pm"
   ]
  },
  {
   "cell_type": "markdown",
   "id": "8adf7757-e946-4d5c-b0a8-0d6c2a8cdfeb",
   "metadata": {},
   "source": [
    "## Chunk by Chunk"
   ]
  },
  {
   "cell_type": "code",
   "execution_count": 277,
   "id": "99e4c9b9-2526-4e0b-98ef-cc42148ece30",
   "metadata": {
    "tags": []
   },
   "outputs": [
    {
     "data": {
      "text/plain": [
       "784"
      ]
     },
     "execution_count": 277,
     "metadata": {},
     "output_type": "execute_result"
    }
   ],
   "source": [
    "len(days)"
   ]
  },
  {
   "cell_type": "code",
   "execution_count": 278,
   "id": "28972497-3e01-4aba-aaf3-f1fbebb42eea",
   "metadata": {
    "tags": []
   },
   "outputs": [],
   "source": [
    "chunk_size = 1000"
   ]
  },
  {
   "cell_type": "code",
   "execution_count": 279,
   "id": "be3bb516-e712-4e4b-bec3-89b4d1e8c94b",
   "metadata": {
    "tags": []
   },
   "outputs": [],
   "source": [
    "chunk_dict = {}"
   ]
  },
  {
   "cell_type": "code",
   "execution_count": 280,
   "id": "a4ce4146-196d-441b-84e9-1f99f2d1260c",
   "metadata": {
    "tags": []
   },
   "outputs": [],
   "source": [
    "for i,chunk in df.groupby(np.arange(len(df)) // chunk_size):\n",
    "    chunk_dict[i] = chunk.drop(['date', 'time'], axis=1)"
   ]
  },
  {
   "cell_type": "code",
   "execution_count": 281,
   "id": "4e93b6da-aa30-43e6-a334-5e5b53647ade",
   "metadata": {
    "tags": []
   },
   "outputs": [],
   "source": [
    "chunk_indices = list(chunk_dict.keys())"
   ]
  },
  {
   "cell_type": "code",
   "execution_count": 282,
   "id": "b9629e3c-aae8-4d24-9c55-6e5a0c9c2055",
   "metadata": {
    "tags": []
   },
   "outputs": [
    {
     "data": {
      "text/plain": [
       "84"
      ]
     },
     "execution_count": 282,
     "metadata": {},
     "output_type": "execute_result"
    }
   ],
   "source": [
    "len(chunk_indices)"
   ]
  },
  {
   "cell_type": "code",
   "execution_count": 70,
   "id": "23034976-b917-4e34-984f-c8c205802dbb",
   "metadata": {
    "tags": []
   },
   "outputs": [],
   "source": [
    "from scipy import stats\n",
    "from scipy.special import gamma\n",
    "from math import ceil, sqrt\n",
    "\n",
    "# Define the feature functions\n",
    "# Some constants for feature creation\n",
    "mu_1 = np.sqrt((2 / np.pi))\n",
    "mu_43 = 2 ** (2 / 3) * gamma(7 / 6) * gamma(1 / 2) ** (-1)\n",
    "\n",
    "# Since the data has not been resampled\n",
    "M = 1\n",
    "\n",
    "def rv(x):\n",
    "    # Realized Variance (Andersen and Bollerslev, 1998)\n",
    "    return (x ** 2).sum()\n",
    "\n",
    "def rav(x):\n",
    "    # Realized absolute variation (Forsberg and Ghysels, 2007)\n",
    "    return mu_1 ** (-1) * M ** (-.5) * x.abs().sum()\n",
    "\n",
    "def bv(x):\n",
    "    # Realized bipower variation (Barndorff-Nielsen and Shephard; 2004, 2006)\n",
    "    return mu_1 ** (-2) * (x.abs() * x.shift(1).abs()).sum()\n",
    "\n",
    "def tq(x):\n",
    "    # Standardized tri-power quarticity (see e.g. Forsberg & Ghysels, 2007)\n",
    "    return M * mu_43 ** (-3) *(x.abs() ** (4 / 3) * x.shift(1).abs() ** (4 / 3) * \n",
    "                                x.shift(2).abs() ** (4 / 3)).sum()\n",
    "    \n",
    "def jump_test(x):\n",
    "    # Jump test by Huang and Tauchen (2005)\n",
    "    j = ((np.log(rv(x)+0.00000001) - np.log(bv(x)+0.00000001)) / \\\n",
    "        ((mu_1 ** -4 + 2 * mu_1 ** -2 - 5) / (M * tq(x) * bv(x) ** -2)) ** 0.5)\n",
    "\n",
    "    jump = abs(j) >= stats.norm.ppf(0.999)\n",
    "    \n",
    "    return jump\n",
    "\n",
    "def rv_m(x):\n",
    "    # Realized Semivariance (Barndorff-Nielsen, Kinnebrock and Shephard, 2010)\n",
    "    return((x ** 2 * (x < 0)).sum())\n",
    "\n",
    "def rv_p(x):\n",
    "    return((x ** 2 * (x > 0)).sum())\n",
    "\n",
    "def sjv_p(x):\n",
    "    # Signed jump variation (Patton and Sheppard, 2015)\n",
    "    return((rv_p(x) - rv_m(x)) * (rv_p(x) - rv_m(x) > 0))\n",
    "\n",
    "def sjv_m(x):\n",
    "    # Signed jump variation (Patton and Sheppard, 2015)\n",
    "    return((rv_p(x) - rv_m(x)) * (rv_p(x) - rv_m(x) < 0))\n",
    "\n",
    "def rs(x):\n",
    "    # Realized Skewness and Kurtosis  (see, e.g. Amaya, Christoffersen, Jacobs and Vasquez, 2015)\n",
    "    return(np.sqrt(M) * (x ** 3).sum() / rv(x) ** (3 / 2))\n",
    "\n",
    "def rk(x):\n",
    "    return(M * (x ** 4).sum() / rv(x) ** 2)"
   ]
  },
  {
   "cell_type": "code",
   "execution_count": 283,
   "id": "117aa8cf-37dd-4a6b-9b29-d3920b36f83d",
   "metadata": {
    "tags": []
   },
   "outputs": [
    {
     "name": "stdout",
     "output_type": "stream",
     "text": [
      "CPU times: user 19.2 s, sys: 38.8 ms, total: 19.2 s\n",
      "Wall time: 19.2 s\n"
     ]
    }
   ],
   "source": [
    "%%time\n",
    "n=12\n",
    "\n",
    "for chunk in chunk_indices[:2]:    \n",
    "    for feat in set(df.columns) - {'date', 'time'}:\n",
    "        chunk_dict[chunk][feat] = np.log( chunk_dict[chunk][feat] / chunk_dict[chunk][feat].shift(1) )#.shift(1)\n",
    "        \n",
    "    chunk_dict[chunk][str(n)+'_oil_std'] = chunk_dict[chunk].rolling(n)['Close_fut'].std()\n",
    "    \n",
    "    feat_funcs = [rv,rav,bv,tq,jump_test,rv_m,rv_p,sjv_p,sjv_m,rs,rk]\n",
    "\n",
    "    for func in feat_funcs:\n",
    "        # print(func)\n",
    "        chunk_dict[chunk][\"Fut_close_\"+func.__name__] = chunk_dict[chunk]['Close_fut'].rolling(n).apply(func)#.shift(1)\n",
    "    \n",
    "    chunk_dict[chunk] = chunk_dict[chunk][n:]"
   ]
  },
  {
   "cell_type": "code",
   "execution_count": 285,
   "id": "60c6a33b-dc41-4143-9132-5c4433863637",
   "metadata": {
    "tags": []
   },
   "outputs": [
    {
     "data": {
      "text/plain": [
       "<matplotlib.collections.PathCollection at 0x7f72a3cf5358>"
      ]
     },
     "execution_count": 285,
     "metadata": {},
     "output_type": "execute_result"
    },
    {
     "data": {
      "image/png": "[encoded data removed]",
      "text/plain": [
       "<Figure size 1440x720 with 1 Axes>"
      ]
     },
     "metadata": {},
     "output_type": "display_data"
    }
   ],
   "source": [
    "concat = pd.concat(day_dict.values())\n",
    "plt.subplots(figsize=(20,10))\n",
    "plt.scatter(range(300), concat[:300].reset_index(drop=True)[str(n)+'_oil_std'])"
   ]
  },
  {
   "cell_type": "code",
   "execution_count": 286,
   "id": "3e3841eb-c231-48b0-8ced-58564f2bbaa3",
   "metadata": {
    "tags": []
   },
   "outputs": [
    {
     "data": {
      "text/plain": [
       "<matplotlib.collections.PathCollection at 0x7f7256e15e80>"
      ]
     },
     "execution_count": 286,
     "metadata": {},
     "output_type": "execute_result"
    },
    {
     "data": {
      "image/png": "[encoded data removed]",
      "text/plain": [
       "<Figure size 1440x720 with 1 Axes>"
      ]
     },
     "metadata": {},
     "output_type": "display_data"
    }
   ],
   "source": [
    "concat = pd.concat(chunk_dict.values())\n",
    "plt.subplots(figsize=(20,10))\n",
    "plt.scatter(range(300), concat[:300].reset_index(drop=True)[str(n)+'_oil_std'])"
   ]
  },
  {
   "cell_type": "code",
   "execution_count": 22,
   "id": "1dae4c73-59a3-44bb-9e1f-5d067307e918",
   "metadata": {
    "execution": {
     "iopub.execute_input": "2023-03-09T01:49:26.204757Z",
     "iopub.status.busy": "2023-03-09T01:49:26.204757Z",
     "iopub.status.idle": "2023-03-09T01:49:28.791678Z",
     "shell.execute_reply": "2023-03-09T01:49:28.790266Z",
     "shell.execute_reply.started": "2023-03-09T01:49:26.204757Z"
    },
    "tags": []
   },
   "outputs": [],
   "source": [
    "concat.to_csv('test_data.csv')"
   ]
  },
  {
   "cell_type": "markdown",
   "id": "cdd94ad9-1748-43a0-8718-4a860e5803bd",
   "metadata": {},
   "source": [
    "We can see the difference in splitting methods.  New days will appear as large jumps like this rather than smooth as in the day splitting.  \n",
    "\n",
    "We might be able to fix this with some kind of smoothing technique ie windsorize and replace with some interpolation but it is probably best to just leave it be.  "
   ]
  },
  {
   "cell_type": "markdown",
   "id": "feee45d2-2b38-4e5a-a475-216c62fde4e9",
   "metadata": {},
   "source": [
    "# Predicting"
   ]
  },
  {
   "cell_type": "markdown",
   "id": "03570ea1-a801-4c5b-8dde-6c630befe39a",
   "metadata": {},
   "source": [
    "We train on a fraction $p$ of each chunk and test on the remaining $1-p$ of the chunk."
   ]
  },
  {
   "cell_type": "code",
   "execution_count": 288,
   "id": "2a624d77-c6fc-4074-adb0-15876aa9b84a",
   "metadata": {
    "tags": []
   },
   "outputs": [],
   "source": [
    "df=pd.read_csv('test_data.csv')"
   ]
  },
  {
   "cell_type": "code",
   "execution_count": 289,
   "id": "fad8f25d-5566-46c1-9444-7d494e7e52f5",
   "metadata": {
    "tags": []
   },
   "outputs": [
    {
     "data": {
      "text/html": [
       "<div>\n",
       "<style scoped>\n",
       "    .dataframe tbody tr th:only-of-type {\n",
       "        vertical-align: middle;\n",
       "    }\n",
       "\n",
       "    .dataframe tbody tr th {\n",
       "        vertical-align: top;\n",
       "    }\n",
       "\n",
       "    .dataframe thead th {\n",
       "        text-align: right;\n",
       "    }\n",
       "</style>\n",
       "<table border=\"1\" class=\"dataframe\">\n",
       "  <thead>\n",
       "    <tr style=\"text-align: right;\">\n",
       "      <th></th>\n",
       "      <th>Local time</th>\n",
       "      <th>Close_fut</th>\n",
       "      <th>Close_gas</th>\n",
       "      <th>Close_btc</th>\n",
       "      <th>Close_bond</th>\n",
       "      <th>12_oil_std</th>\n",
       "    </tr>\n",
       "  </thead>\n",
       "  <tbody>\n",
       "    <tr>\n",
       "      <th>0</th>\n",
       "      <td>2020-02-11 08:10:00</td>\n",
       "      <td>0.001783</td>\n",
       "      <td>0.000057</td>\n",
       "      <td>0.000610</td>\n",
       "      <td>-0.000191</td>\n",
       "      <td>0.001318</td>\n",
       "    </tr>\n",
       "    <tr>\n",
       "      <th>1</th>\n",
       "      <td>2020-02-11 08:15:00</td>\n",
       "      <td>0.001602</td>\n",
       "      <td>0.001810</td>\n",
       "      <td>0.000914</td>\n",
       "      <td>-0.000203</td>\n",
       "      <td>0.001308</td>\n",
       "    </tr>\n",
       "    <tr>\n",
       "      <th>2</th>\n",
       "      <td>2020-02-11 08:20:00</td>\n",
       "      <td>-0.000415</td>\n",
       "      <td>-0.000170</td>\n",
       "      <td>-0.000203</td>\n",
       "      <td>0.000424</td>\n",
       "      <td>0.001332</td>\n",
       "    </tr>\n",
       "    <tr>\n",
       "      <th>3</th>\n",
       "      <td>2020-02-11 08:25:00</td>\n",
       "      <td>0.000613</td>\n",
       "      <td>0.003836</td>\n",
       "      <td>-0.001016</td>\n",
       "      <td>0.000381</td>\n",
       "      <td>0.001264</td>\n",
       "    </tr>\n",
       "    <tr>\n",
       "      <th>4</th>\n",
       "      <td>2020-02-11 08:30:00</td>\n",
       "      <td>-0.003978</td>\n",
       "      <td>0.000675</td>\n",
       "      <td>-0.001730</td>\n",
       "      <td>0.000350</td>\n",
       "      <td>0.001754</td>\n",
       "    </tr>\n",
       "    <tr>\n",
       "      <th>...</th>\n",
       "      <td>...</td>\n",
       "      <td>...</td>\n",
       "      <td>...</td>\n",
       "      <td>...</td>\n",
       "      <td>...</td>\n",
       "      <td>...</td>\n",
       "    </tr>\n",
       "    <tr>\n",
       "      <th>82791</th>\n",
       "      <td>2023-02-10 15:35:00</td>\n",
       "      <td>0.000251</td>\n",
       "      <td>0.000000</td>\n",
       "      <td>-0.000696</td>\n",
       "      <td>-0.000252</td>\n",
       "      <td>0.000467</td>\n",
       "    </tr>\n",
       "    <tr>\n",
       "      <th>82792</th>\n",
       "      <td>2023-02-10 15:40:00</td>\n",
       "      <td>-0.000251</td>\n",
       "      <td>0.000117</td>\n",
       "      <td>-0.002046</td>\n",
       "      <td>0.000000</td>\n",
       "      <td>0.000418</td>\n",
       "    </tr>\n",
       "    <tr>\n",
       "      <th>82793</th>\n",
       "      <td>2023-02-10 15:45:00</td>\n",
       "      <td>-0.000188</td>\n",
       "      <td>0.000700</td>\n",
       "      <td>0.003021</td>\n",
       "      <td>0.000016</td>\n",
       "      <td>0.000419</td>\n",
       "    </tr>\n",
       "    <tr>\n",
       "      <th>82794</th>\n",
       "      <td>2023-02-10 15:50:00</td>\n",
       "      <td>-0.000313</td>\n",
       "      <td>-0.000700</td>\n",
       "      <td>-0.000696</td>\n",
       "      <td>0.000315</td>\n",
       "      <td>0.000422</td>\n",
       "    </tr>\n",
       "    <tr>\n",
       "      <th>82795</th>\n",
       "      <td>2023-02-10 15:55:00</td>\n",
       "      <td>-0.000063</td>\n",
       "      <td>0.001554</td>\n",
       "      <td>-0.002976</td>\n",
       "      <td>-0.000102</td>\n",
       "      <td>0.000365</td>\n",
       "    </tr>\n",
       "  </tbody>\n",
       "</table>\n",
       "<p>82796 rows × 6 columns</p>\n",
       "</div>"
      ],
      "text/plain": [
       "                Local time  Close_fut  Close_gas  Close_btc  Close_bond  \\\n",
       "0      2020-02-11 08:10:00   0.001783   0.000057   0.000610   -0.000191   \n",
       "1      2020-02-11 08:15:00   0.001602   0.001810   0.000914   -0.000203   \n",
       "2      2020-02-11 08:20:00  -0.000415  -0.000170  -0.000203    0.000424   \n",
       "3      2020-02-11 08:25:00   0.000613   0.003836  -0.001016    0.000381   \n",
       "4      2020-02-11 08:30:00  -0.003978   0.000675  -0.001730    0.000350   \n",
       "...                    ...        ...        ...        ...         ...   \n",
       "82791  2023-02-10 15:35:00   0.000251   0.000000  -0.000696   -0.000252   \n",
       "82792  2023-02-10 15:40:00  -0.000251   0.000117  -0.002046    0.000000   \n",
       "82793  2023-02-10 15:45:00  -0.000188   0.000700   0.003021    0.000016   \n",
       "82794  2023-02-10 15:50:00  -0.000313  -0.000700  -0.000696    0.000315   \n",
       "82795  2023-02-10 15:55:00  -0.000063   0.001554  -0.002976   -0.000102   \n",
       "\n",
       "       12_oil_std  \n",
       "0        0.001318  \n",
       "1        0.001308  \n",
       "2        0.001332  \n",
       "3        0.001264  \n",
       "4        0.001754  \n",
       "...           ...  \n",
       "82791    0.000467  \n",
       "82792    0.000418  \n",
       "82793    0.000419  \n",
       "82794    0.000422  \n",
       "82795    0.000365  \n",
       "\n",
       "[82796 rows x 6 columns]"
      ]
     },
     "execution_count": 289,
     "metadata": {},
     "output_type": "execute_result"
    }
   ],
   "source": [
    "df"
   ]
  },
  {
   "cell_type": "markdown",
   "id": "961f5572-7de0-4ab8-8117-6f11cafe0f6c",
   "metadata": {},
   "source": [
    "We get a train test split for each chunk."
   ]
  },
  {
   "cell_type": "code",
   "execution_count": 80,
   "id": "0d4089b3-19f2-45b9-9fd0-342534b7ffe6",
   "metadata": {
    "tags": []
   },
   "outputs": [],
   "source": [
    "chunk_size = 1000\n",
    "data_chunks = {}\n",
    "\n",
    "for i,chunk in df.groupby(np.arange(len(df)) // chunk_size):\n",
    "    total = chunk#.drop(['date', 'time'], axis=1)\n",
    "    \n",
    "    X = total[['Close_gas', 'Close_btc', 'Close_bond', 'Close_fut']]\n",
    "    Y = total['12_oil_std']\n",
    "    \n",
    "    X_train, X_test, y_train, y_test = train_test_split(X, Y, test_size=0.1, shuffle=False)\n",
    "    \n",
    "    data_chunks[i] = [X_train, X_test, y_train, y_test]"
   ]
  },
  {
   "cell_type": "code",
   "execution_count": 81,
   "id": "754d0c04-4a48-43a6-b038-31a8eb027d9e",
   "metadata": {},
   "outputs": [
    {
     "data": {
      "text/plain": [
       "83"
      ]
     },
     "execution_count": 81,
     "metadata": {},
     "output_type": "execute_result"
    }
   ],
   "source": [
    "len(data_chunks)"
   ]
  },
  {
   "cell_type": "markdown",
   "id": "3b31a141-ee4c-445e-80ef-d1930cccc35e",
   "metadata": {},
   "source": [
    "## Predicting by chunk"
   ]
  },
  {
   "cell_type": "code",
   "execution_count": 82,
   "id": "0f1a30a1-30f8-42e0-a9b9-bb2c6de6219c",
   "metadata": {
    "tags": []
   },
   "outputs": [],
   "source": [
    "from sklearn.model_selection import KFold, StratifiedKFold, train_test_split\n",
    "from sklearn.linear_model import ElasticNet, Ridge, Lasso\n",
    "from sklearn.ensemble import RandomForestRegressor, GradientBoostingRegressor, AdaBoostRegressor\n",
    "from sklearn.kernel_ridge import KernelRidge\n",
    "from sklearn.neighbors import KNeighborsRegressor\n",
    "from sklearn.metrics import mean_absolute_error, accuracy_score, mean_squared_error\n",
    "from sklearn.model_selection import TimeSeriesSplit, GridSearchCV, cross_val_score, KFold, StratifiedKFold\n",
    "from sklearn_extensions.kernel_regression import KernelRegression\n",
    "from statsmodels.graphics.tsaplots import plot_acf, plot_pacf"
   ]
  },
  {
   "cell_type": "code",
   "execution_count": 444,
   "id": "dbf9f61d-0b29-4977-a632-665deaf0102d",
   "metadata": {
    "tags": []
   },
   "outputs": [],
   "source": [
    "# A bunch of nonparametric regression models + some parametric baselines\n",
    "def model_selection(ml, data_list):\n",
    "    X_train, X_test, y_train, y_test = data_list[0], data_list[1], data_list[2], data_list[3]\n",
    "    # print(ml)\n",
    "    \n",
    "    cores=35\n",
    "    \n",
    "    model_best = ''\n",
    "    if ml == 'GB':\n",
    "        model = GradientBoostingRegressor()\n",
    "        grid = dict()\n",
    "        grid['learning_rate'] = [1e-3, 2*1e-3, 3*1e-3, 4*1e-3, 5*1e-3, 7*1e-3] #\n",
    "        grid['n_estimators'] = [1000,2000] \n",
    "        grid_search = GridSearchCV(estimator=model, param_grid=grid, scoring='neg_mean_squared_error', n_jobs=cores)\n",
    "        grid_result = grid_search.fit(X_train, y_train)\n",
    "        model_best = GradientBoostingRegressor(learning_rate=grid_result.best_params_['learning_rate'],\\\n",
    "                    n_estimators=grid_result.best_params_['n_estimators'],\\\n",
    "                                              ).fit(X_train, y_train)\n",
    "\n",
    "    elif ml == 'RF':\n",
    "        model = RandomForestRegressor(n_jobs=cores)\n",
    "        grid = dict()\n",
    "        grid['max_depth'] = [3,4,5,7]\n",
    "        grid['n_estimators'] = [1000,2000]\n",
    "        grid_search = GridSearchCV(estimator=model, param_grid=grid, scoring='neg_mean_squared_error', n_jobs=cores)\n",
    "        grid_result = grid_search.fit(X_train, y_train)\n",
    "\n",
    "        model_best = RandomForestRegressor(\n",
    "                    max_depth=grid_result.best_params_['max_depth'],\\\n",
    "                    n_estimators=grid_result.best_params_['n_estimators'],\\\n",
    "\n",
    "                        ).fit(X_train, y_train)\n",
    "    elif ml == 'AB':\n",
    "        model = AdaBoostRegressor()\n",
    "        grid = dict()\n",
    "        grid['learning_rate'] = [1e-4,1e-2,1]\n",
    "        grid['n_estimators'] = [100,1000]\n",
    "        grid_search = GridSearchCV(estimator=model, param_grid=grid, scoring='neg_mean_squared_error', n_jobs=cores)\n",
    "        grid_result = grid_search.fit(X_train, y_train)\n",
    "\n",
    "        model_best = AdaBoostRegressor(\n",
    "                    learning_rate=grid_result.best_params_['learning_rate'],\\\n",
    "                    n_estimators=grid_result.best_params_['n_estimators'],\\\n",
    "                        ).fit(X_train, y_train)\n",
    "          \n",
    "    elif ml == 'KR':\n",
    "        model = KernelRidge()\n",
    "        grid = dict()\n",
    "        grid['alpha'] = [1e-3,1e-2,1e-1]\n",
    "        grid[\"kernel\"] = [\"poly\", \"cosine\"]\n",
    "        grid_search = GridSearchCV(estimator=model, param_grid=grid, scoring='neg_mean_squared_error', n_jobs=cores)\n",
    "        grid_result = grid_search.fit(X_train, y_train)\n",
    "        model_best = KernelRidge(alpha=grid_result.best_params_[\"alpha\"],\n",
    "                                 kernel=grid_result.best_params_[\"kernel\"]).fit(X_train, y_train)\n",
    "    elif ml == 'R':\n",
    "        model = Ridge()\n",
    "        grid = dict()\n",
    "        grid['alpha'] = [1e-2,1e-3,1e-1]\n",
    "        grid_search = GridSearchCV(estimator=model, param_grid=grid, scoring='neg_mean_squared_error', n_jobs=cores)\n",
    "        grid_result = grid_search.fit(X_train, y_train)\n",
    "        model_best = Ridge(alpha=grid_result.best_params_[\"alpha\"]).fit(X_train, y_train)\n",
    "        \n",
    "    elif ml == \"LA\":\n",
    "        model = Lasso()\n",
    "        grid = dict()\n",
    "        grid['alpha'] = [1e-6,1e-5, 1e-4, 1e-3]\n",
    "        grid_search = GridSearchCV(estimator=model, param_grid=grid, scoring='neg_mean_squared_error', n_jobs=cores)\n",
    "        grid_result = grid_search.fit(X_train, y_train)\n",
    "        model_best = Lasso(alpha=grid_result.best_params_[\"alpha\"]).fit(X_train, y_train)\n",
    "        \n",
    "        \n",
    "    elif ml == \"EN\":\n",
    "        model = ElasticNet()\n",
    "        grid = dict()\n",
    "        grid['alpha'] = [1e-6,1e-5, 1e-4, 1e-3]\n",
    "        grid[\"l1_ratio\"] = [0.1,0.5,0.7,0.9,0.95]\n",
    "        grid_search = GridSearchCV(estimator=model, param_grid=grid, scoring='neg_mean_squared_error', n_jobs=cores)\n",
    "        grid_result = grid_search.fit(X_train, y_train)\n",
    "        model_best = ElasticNet(alpha=grid_result.best_params_[\"alpha\"],\n",
    "                                l1_ratio = grid_result.best_params_[\"l1_ratio\"]).fit(X_train, y_train)\n",
    "    \n",
    "    elif ml == \"NW\":\n",
    "        # Bandwidth is selected automatically\n",
    "        model = KernelRegression()\n",
    "        grid = dict()\n",
    "        grid[\"gamma\"] = [1e-2, 1e-1, 1, 10,100]\n",
    "        grid['kernel'] = [\"rbf\",\"poly\"]\n",
    "        grid_search = GridSearchCV(estimator=model, param_grid=grid, scoring='neg_mean_squared_error', n_jobs=cores)\n",
    "        grid_result = grid_search.fit(X_train, y_train)\n",
    "        model_best = KernelRegression(gamma=grid_result.best_params_[\"gamma\"],\n",
    "                            kernel = grid_result.best_params_[\"kernel\"]).fit(X_train, y_train)\n",
    "        \n",
    "    elif ml == \"KN\":\n",
    "        model = KNeighborsRegressor()\n",
    "        grid = dict()\n",
    "        grid[\"n_neighbors\"] = [5,10,40,100]\n",
    "        grid['weights'] = [\"uniform\",\"distance\"]\n",
    "        grid_search = GridSearchCV(estimator=model, param_grid=grid, scoring='neg_mean_squared_error', n_jobs=cores)\n",
    "        grid_result = grid_search.fit(X_train, y_train)\n",
    "        model_best = KNeighborsRegressor(n_neighbors=grid_result.best_params_[\"n_neighbors\"],\n",
    "                            weights = grid_result.best_params_[\"weights\"]).fit(X_train, y_train)\n",
    "        \n",
    "    # print(model_best)\n",
    "    y_pred = model_best.predict(X_test)\n",
    "    acc = {'MAE':mean_absolute_error(y_pred, y_test), 'MAPE':100 * mean_absolute_error(y_pred, y_test)/np.mean(y_test), \n",
    "           'MSE':mean_squared_error(y_pred,y_test), 'RMSE':np.sqrt(mean_squared_error(y_pred,y_test))}\n",
    "    \n",
    "    # print('MAE: ', mean_absolute_error(y_pred, y_test), \n",
    "    #       'MAE%: ', 100 * mean_absolute_error(y_pred, y_test)/np.mean(y_test), \n",
    "    #       '\\nMSE: ', mean_squared_error(y_pred,y_test), \n",
    "    #       '\\nRMSE: ', np.sqrt(mean_squared_error(y_pred,y_test)))\n",
    "\n",
    "    return(model_best, y_test, y_pred, acc)"
   ]
  },
  {
   "cell_type": "code",
   "execution_count": 106,
   "id": "6fdef8a5-a2ae-4274-a7ef-30125e4e26bc",
   "metadata": {
    "tags": []
   },
   "outputs": [
    {
     "name": "stdout",
     "output_type": "stream",
     "text": [
      "0 0:00:21.928838\n",
      "1 0:00:18.526302\n",
      "2 0:00:21.332554\n",
      "3 0:00:18.624204\n",
      "4 0:00:26.157691\n",
      "5 0:00:15.699685\n",
      "6 0:00:18.215578\n",
      "7 0:00:22.903170\n",
      "8 0:00:20.562592\n",
      "9 0:00:21.134479\n",
      "10 0:00:20.925249\n",
      "11 0:00:17.225143\n",
      "12 0:00:15.430487\n",
      "13 0:00:15.884101\n",
      "14 0:00:21.191981\n",
      "15 0:00:18.533857\n",
      "16 0:00:18.116262\n",
      "17 0:00:15.873829\n",
      "18 0:00:18.627627\n",
      "19 0:00:23.043267\n",
      "20 0:00:21.415202\n",
      "21 0:00:18.122051\n",
      "22 0:00:15.387737\n",
      "23 0:00:16.003321\n",
      "24 0:00:19.022791\n",
      "25 0:00:24.466780\n",
      "26 0:00:17.158539\n",
      "27 0:00:20.384312\n",
      "28 0:00:20.117606\n",
      "29 0:00:20.735002\n",
      "30 0:00:22.192032\n",
      "31 0:00:17.716973\n",
      "32 0:00:23.438790\n",
      "33 0:00:20.603035\n",
      "34 0:00:15.481415\n",
      "35 0:00:15.590423\n",
      "36 0:00:19.893621\n",
      "37 0:00:18.939029\n",
      "38 0:00:17.861055\n",
      "39 0:00:15.728581\n",
      "40 0:00:24.404964\n",
      "41 0:00:23.457765\n",
      "42 0:00:23.219970\n",
      "43 0:00:21.157231\n",
      "44 0:00:14.119720\n",
      "45 0:00:21.480059\n",
      "46 0:00:17.840185\n",
      "47 0:00:20.758689\n",
      "48 0:00:22.369471\n",
      "49 0:00:20.592920\n",
      "50 0:00:23.653909\n",
      "51 0:00:18.484810\n",
      "52 0:00:23.625178\n",
      "53 0:00:23.849089\n",
      "54 0:00:18.729793\n",
      "55 0:00:15.903829\n",
      "56 0:00:15.961779\n",
      "57 0:00:19.682729\n",
      "58 0:00:15.468394\n",
      "59 0:00:23.181968\n",
      "60 0:00:18.227808\n",
      "61 0:00:13.884833\n",
      "62 0:00:20.038216\n",
      "63 0:00:15.478073\n",
      "64 0:00:17.779613\n",
      "65 0:00:18.183932\n",
      "66 0:00:23.213397\n",
      "67 0:00:15.571424\n",
      "68 0:00:17.570870\n",
      "69 0:00:22.772058\n",
      "70 0:00:17.644136\n",
      "71 0:00:15.867418\n",
      "72 0:00:20.275182\n",
      "73 0:00:15.688961\n",
      "74 0:00:20.675149\n",
      "75 0:00:20.194720\n",
      "76 0:00:15.625534\n",
      "77 0:00:20.610935\n",
      "78 0:00:17.579758\n",
      "79 0:00:19.231680\n",
      "80 0:00:18.712801\n",
      "81 0:00:20.823648\n",
      "82 0:00:20.502802\n",
      "CPU times: user 11min 24s, sys: 25 s, total: 11min 49s\n",
      "Wall time: 26min 44s\n"
     ]
    }
   ],
   "source": [
    "%%time\n",
    "chunk_results = {}\n",
    "indices = data_chunks.keys()\n",
    "\n",
    "indices = list(indices)\n",
    "\n",
    "mod_list = ['GB', 'RF', 'AB', 'KR', 'R', 'LA', 'EN', 'NW', 'KN']\n",
    "\n",
    "for i in indices:\n",
    "    t = dt.datetime.now()\n",
    "    chunk_results[i] = {}\n",
    "    for ml in mod_list:\n",
    "        chunk_results[i][ml] = model_selection(ml, data_chunks[i])\n",
    "    print(i, dt.datetime.now()-t)"
   ]
  },
  {
   "cell_type": "code",
   "execution_count": 107,
   "id": "0885e37a-8897-4fa3-b773-b43e2e6994eb",
   "metadata": {},
   "outputs": [],
   "source": [
    "for label in chunk_results.keys():\n",
    "    chunk_results[label]"
   ]
  },
  {
   "cell_type": "code",
   "execution_count": 108,
   "id": "6d1cbcad-1f2d-494d-a854-74dd8728d879",
   "metadata": {},
   "outputs": [],
   "source": [
    "acc_dict = {}\n",
    "for chunk in chunk_results.keys():\n",
    "    for m in mod_list:\n",
    "        acc_dict[str(chunk)+m] = chunk_results[chunk][m][-1]\n",
    "        acc_dict[str(chunk)+m]['model'] = m\n",
    "        # acc_dict[m].append(m)"
   ]
  },
  {
   "cell_type": "code",
   "execution_count": 109,
   "id": "a26eca7d-7742-416d-b5b1-a34ce93c7325",
   "metadata": {},
   "outputs": [],
   "source": [
    "acc_df = pd.DataFrame(acc_dict).transpose()"
   ]
  },
  {
   "cell_type": "code",
   "execution_count": 113,
   "id": "9811ac37-b553-4872-95b6-ff67861f3363",
   "metadata": {},
   "outputs": [
    {
     "data": {
      "text/html": [
       "<div>\n",
       "<style scoped>\n",
       "    .dataframe tbody tr th:only-of-type {\n",
       "        vertical-align: middle;\n",
       "    }\n",
       "\n",
       "    .dataframe tbody tr th {\n",
       "        vertical-align: top;\n",
       "    }\n",
       "\n",
       "    .dataframe thead th {\n",
       "        text-align: right;\n",
       "    }\n",
       "</style>\n",
       "<table border=\"1\" class=\"dataframe\">\n",
       "  <thead>\n",
       "    <tr style=\"text-align: right;\">\n",
       "      <th></th>\n",
       "      <th>MAE</th>\n",
       "      <th>MAPE</th>\n",
       "      <th>MSE</th>\n",
       "      <th>RMSE</th>\n",
       "      <th>model</th>\n",
       "    </tr>\n",
       "  </thead>\n",
       "  <tbody>\n",
       "    <tr>\n",
       "      <th>0GB</th>\n",
       "      <td>0.00155702</td>\n",
       "      <td>68.1247</td>\n",
       "      <td>1.06173e-05</td>\n",
       "      <td>0.00325843</td>\n",
       "      <td>GB</td>\n",
       "    </tr>\n",
       "    <tr>\n",
       "      <th>0RF</th>\n",
       "      <td>0.00159527</td>\n",
       "      <td>69.798</td>\n",
       "      <td>1.09087e-05</td>\n",
       "      <td>0.00330283</td>\n",
       "      <td>RF</td>\n",
       "    </tr>\n",
       "    <tr>\n",
       "      <th>0AB</th>\n",
       "      <td>0.00158904</td>\n",
       "      <td>69.5257</td>\n",
       "      <td>1.13249e-05</td>\n",
       "      <td>0.00336525</td>\n",
       "      <td>AB</td>\n",
       "    </tr>\n",
       "    <tr>\n",
       "      <th>0KR</th>\n",
       "      <td>0.00162457</td>\n",
       "      <td>71.08</td>\n",
       "      <td>1.20572e-05</td>\n",
       "      <td>0.00347235</td>\n",
       "      <td>KR</td>\n",
       "    </tr>\n",
       "    <tr>\n",
       "      <th>0R</th>\n",
       "      <td>0.00162563</td>\n",
       "      <td>71.1267</td>\n",
       "      <td>1.20537e-05</td>\n",
       "      <td>0.00347184</td>\n",
       "      <td>R</td>\n",
       "    </tr>\n",
       "    <tr>\n",
       "      <th>...</th>\n",
       "      <td>...</td>\n",
       "      <td>...</td>\n",
       "      <td>...</td>\n",
       "      <td>...</td>\n",
       "      <td>...</td>\n",
       "    </tr>\n",
       "    <tr>\n",
       "      <th>82R</th>\n",
       "      <td>0.000782065</td>\n",
       "      <td>72.4023</td>\n",
       "      <td>7.98161e-07</td>\n",
       "      <td>0.000893398</td>\n",
       "      <td>R</td>\n",
       "    </tr>\n",
       "    <tr>\n",
       "      <th>82LA</th>\n",
       "      <td>0.000782065</td>\n",
       "      <td>72.4023</td>\n",
       "      <td>7.98161e-07</td>\n",
       "      <td>0.000893399</td>\n",
       "      <td>LA</td>\n",
       "    </tr>\n",
       "    <tr>\n",
       "      <th>82EN</th>\n",
       "      <td>0.000782065</td>\n",
       "      <td>72.4023</td>\n",
       "      <td>7.98161e-07</td>\n",
       "      <td>0.000893399</td>\n",
       "      <td>EN</td>\n",
       "    </tr>\n",
       "    <tr>\n",
       "      <th>82NW</th>\n",
       "      <td>0.000781433</td>\n",
       "      <td>72.3437</td>\n",
       "      <td>7.96861e-07</td>\n",
       "      <td>0.000892671</td>\n",
       "      <td>NW</td>\n",
       "    </tr>\n",
       "    <tr>\n",
       "      <th>82KN</th>\n",
       "      <td>0.000561127</td>\n",
       "      <td>51.9482</td>\n",
       "      <td>4.56408e-07</td>\n",
       "      <td>0.000675579</td>\n",
       "      <td>KN</td>\n",
       "    </tr>\n",
       "  </tbody>\n",
       "</table>\n",
       "<p>747 rows × 5 columns</p>\n",
       "</div>"
      ],
      "text/plain": [
       "              MAE     MAPE          MSE         RMSE model\n",
       "0GB    0.00155702  68.1247  1.06173e-05   0.00325843    GB\n",
       "0RF    0.00159527   69.798  1.09087e-05   0.00330283    RF\n",
       "0AB    0.00158904  69.5257  1.13249e-05   0.00336525    AB\n",
       "0KR    0.00162457    71.08  1.20572e-05   0.00347235    KR\n",
       "0R     0.00162563  71.1267  1.20537e-05   0.00347184     R\n",
       "...           ...      ...          ...          ...   ...\n",
       "82R   0.000782065  72.4023  7.98161e-07  0.000893398     R\n",
       "82LA  0.000782065  72.4023  7.98161e-07  0.000893399    LA\n",
       "82EN  0.000782065  72.4023  7.98161e-07  0.000893399    EN\n",
       "82NW  0.000781433  72.3437  7.96861e-07  0.000892671    NW\n",
       "82KN  0.000561127  51.9482  4.56408e-07  0.000675579    KN\n",
       "\n",
       "[747 rows x 5 columns]"
      ]
     },
     "execution_count": 113,
     "metadata": {},
     "output_type": "execute_result"
    }
   ],
   "source": [
    "acc_df"
   ]
  },
  {
   "cell_type": "code",
   "execution_count": 112,
   "id": "74c3adfc-301a-43f2-8425-a74316731126",
   "metadata": {},
   "outputs": [
    {
     "data": {
      "text/plain": [
       "model\n",
       "AB    48.891872\n",
       "EN    53.630768\n",
       "GB    49.292161\n",
       "KN    46.353923\n",
       "KR    53.783620\n",
       "LA    53.630768\n",
       "NW    53.408520\n",
       "R     53.755003\n",
       "RF    48.823544\n",
       "Name: MAPE, dtype: float64"
      ]
     },
     "execution_count": 112,
     "metadata": {},
     "output_type": "execute_result"
    }
   ],
   "source": [
    "acc_df.reset_index(drop=True).groupby('model')['MAPE'].apply(lambda x: np.mean(x))"
   ]
  },
  {
   "cell_type": "markdown",
   "id": "9e930d25-7b56-431f-a2ad-94e9436ec507",
   "metadata": {},
   "source": [
    "# WIth new features"
   ]
  },
  {
   "cell_type": "code",
   "execution_count": 290,
   "id": "0cdebc9c-ce88-482e-86d1-add69c6bd7ac",
   "metadata": {
    "tags": []
   },
   "outputs": [],
   "source": [
    "df=pd.read_csv('combined_chunks.csv')"
   ]
  },
  {
   "cell_type": "code",
   "execution_count": 291,
   "id": "fa875df2-c07c-4e65-a0df-88c5028e38c3",
   "metadata": {},
   "outputs": [],
   "source": [
    "df = df.fillna(method='ffill')"
   ]
  },
  {
   "cell_type": "code",
   "execution_count": 293,
   "id": "505a1879-e3a4-42f2-9a51-c0c7502bc607",
   "metadata": {},
   "outputs": [],
   "source": [
    "for feat in ['Close_fut', 'Close_gas', 'Close_btc', 'Close_bond']:\n",
    "    df[feat] = df[feat].shift(1)\n",
    "df = df[1:]"
   ]
  },
  {
   "cell_type": "code",
   "execution_count": 294,
   "id": "4def610d-b169-4dd7-a1f9-15362ce0a667",
   "metadata": {
    "tags": []
   },
   "outputs": [
    {
     "data": {
      "text/html": [
       "<div>\n",
       "<style scoped>\n",
       "    .dataframe tbody tr th:only-of-type {\n",
       "        vertical-align: middle;\n",
       "    }\n",
       "\n",
       "    .dataframe tbody tr th {\n",
       "        vertical-align: top;\n",
       "    }\n",
       "\n",
       "    .dataframe thead th {\n",
       "        text-align: right;\n",
       "    }\n",
       "</style>\n",
       "<table border=\"1\" class=\"dataframe\">\n",
       "  <thead>\n",
       "    <tr style=\"text-align: right;\">\n",
       "      <th></th>\n",
       "      <th>Local time</th>\n",
       "      <th>Close_fut</th>\n",
       "      <th>Close_gas</th>\n",
       "      <th>Close_btc</th>\n",
       "      <th>Close_bond</th>\n",
       "      <th>12_oil_std</th>\n",
       "      <th>Fut_close_rv</th>\n",
       "      <th>Fut_close_rav</th>\n",
       "      <th>Fut_close_bv</th>\n",
       "      <th>Fut_close_tq</th>\n",
       "      <th>Fut_close_jump_test</th>\n",
       "      <th>Fut_close_rv_m</th>\n",
       "      <th>Fut_close_rv_p</th>\n",
       "      <th>Fut_close_sjv_p</th>\n",
       "      <th>Fut_close_sjv_m</th>\n",
       "      <th>Fut_close_rs</th>\n",
       "      <th>Fut_close_rk</th>\n",
       "    </tr>\n",
       "  </thead>\n",
       "  <tbody>\n",
       "    <tr>\n",
       "      <th>1</th>\n",
       "      <td>2020-02-11 08:10:00</td>\n",
       "      <td>-0.001189</td>\n",
       "      <td>-0.004012</td>\n",
       "      <td>0.000000</td>\n",
       "      <td>0.000775</td>\n",
       "      <td>0.001318</td>\n",
       "      <td>0.000017</td>\n",
       "      <td>0.014619</td>\n",
       "      <td>1.601874e-05</td>\n",
       "      <td>2.179593e-11</td>\n",
       "      <td>0.0</td>\n",
       "      <td>0.000006</td>\n",
       "      <td>1.122443e-05</td>\n",
       "      <td>0.000006</td>\n",
       "      <td>0.000000e+00</td>\n",
       "      <td>0.228043</td>\n",
       "      <td>0.188860</td>\n",
       "    </tr>\n",
       "    <tr>\n",
       "      <th>2</th>\n",
       "      <td>2020-02-11 08:15:00</td>\n",
       "      <td>0.001783</td>\n",
       "      <td>0.000057</td>\n",
       "      <td>0.000610</td>\n",
       "      <td>-0.000191</td>\n",
       "      <td>0.001308</td>\n",
       "      <td>0.000019</td>\n",
       "      <td>0.015634</td>\n",
       "      <td>1.843612e-05</td>\n",
       "      <td>1.999619e-11</td>\n",
       "      <td>0.0</td>\n",
       "      <td>0.000005</td>\n",
       "      <td>1.440185e-05</td>\n",
       "      <td>0.000010</td>\n",
       "      <td>0.000000e+00</td>\n",
       "      <td>0.268589</td>\n",
       "      <td>0.172602</td>\n",
       "    </tr>\n",
       "    <tr>\n",
       "      <th>3</th>\n",
       "      <td>2020-02-11 08:20:00</td>\n",
       "      <td>0.001602</td>\n",
       "      <td>0.001810</td>\n",
       "      <td>0.000914</td>\n",
       "      <td>-0.000203</td>\n",
       "      <td>0.001332</td>\n",
       "      <td>0.000021</td>\n",
       "      <td>0.016894</td>\n",
       "      <td>2.126749e-05</td>\n",
       "      <td>2.751696e-11</td>\n",
       "      <td>0.0</td>\n",
       "      <td>0.000005</td>\n",
       "      <td>1.661173e-05</td>\n",
       "      <td>0.000012</td>\n",
       "      <td>0.000000e+00</td>\n",
       "      <td>0.267611</td>\n",
       "      <td>0.152855</td>\n",
       "    </tr>\n",
       "    <tr>\n",
       "      <th>4</th>\n",
       "      <td>2020-02-11 08:25:00</td>\n",
       "      <td>-0.000415</td>\n",
       "      <td>-0.000170</td>\n",
       "      <td>-0.000203</td>\n",
       "      <td>0.000424</td>\n",
       "      <td>0.001264</td>\n",
       "      <td>0.000018</td>\n",
       "      <td>0.015201</td>\n",
       "      <td>2.011112e-05</td>\n",
       "      <td>2.546465e-11</td>\n",
       "      <td>0.0</td>\n",
       "      <td>0.000005</td>\n",
       "      <td>1.349348e-05</td>\n",
       "      <td>0.000009</td>\n",
       "      <td>0.000000e+00</td>\n",
       "      <td>0.263453</td>\n",
       "      <td>0.177083</td>\n",
       "    </tr>\n",
       "    <tr>\n",
       "      <th>5</th>\n",
       "      <td>2020-02-11 08:30:00</td>\n",
       "      <td>0.000613</td>\n",
       "      <td>0.003836</td>\n",
       "      <td>-0.001016</td>\n",
       "      <td>0.000381</td>\n",
       "      <td>0.001754</td>\n",
       "      <td>0.000018</td>\n",
       "      <td>0.014974</td>\n",
       "      <td>1.877874e-05</td>\n",
       "      <td>1.967731e-11</td>\n",
       "      <td>0.0</td>\n",
       "      <td>0.000004</td>\n",
       "      <td>1.386866e-05</td>\n",
       "      <td>0.000010</td>\n",
       "      <td>0.000000e+00</td>\n",
       "      <td>0.278580</td>\n",
       "      <td>0.181327</td>\n",
       "    </tr>\n",
       "    <tr>\n",
       "      <th>...</th>\n",
       "      <td>...</td>\n",
       "      <td>...</td>\n",
       "      <td>...</td>\n",
       "      <td>...</td>\n",
       "      <td>...</td>\n",
       "      <td>...</td>\n",
       "      <td>...</td>\n",
       "      <td>...</td>\n",
       "      <td>...</td>\n",
       "      <td>...</td>\n",
       "      <td>...</td>\n",
       "      <td>...</td>\n",
       "      <td>...</td>\n",
       "      <td>...</td>\n",
       "      <td>...</td>\n",
       "      <td>...</td>\n",
       "      <td>...</td>\n",
       "    </tr>\n",
       "    <tr>\n",
       "      <th>82875</th>\n",
       "      <td>2023-02-10 15:35:00</td>\n",
       "      <td>-0.000376</td>\n",
       "      <td>0.000856</td>\n",
       "      <td>-0.002596</td>\n",
       "      <td>0.000008</td>\n",
       "      <td>0.000467</td>\n",
       "      <td>0.000002</td>\n",
       "      <td>0.005073</td>\n",
       "      <td>1.930419e-06</td>\n",
       "      <td>1.946174e-13</td>\n",
       "      <td>0.0</td>\n",
       "      <td>0.000002</td>\n",
       "      <td>7.263531e-07</td>\n",
       "      <td>-0.000000</td>\n",
       "      <td>-9.151377e-07</td>\n",
       "      <td>-0.240425</td>\n",
       "      <td>0.225858</td>\n",
       "    </tr>\n",
       "    <tr>\n",
       "      <th>82876</th>\n",
       "      <td>2023-02-10 15:40:00</td>\n",
       "      <td>0.000251</td>\n",
       "      <td>0.000000</td>\n",
       "      <td>-0.000696</td>\n",
       "      <td>-0.000252</td>\n",
       "      <td>0.000418</td>\n",
       "      <td>0.000002</td>\n",
       "      <td>0.004445</td>\n",
       "      <td>1.930485e-06</td>\n",
       "      <td>2.125854e-13</td>\n",
       "      <td>0.0</td>\n",
       "      <td>0.000001</td>\n",
       "      <td>7.891841e-07</td>\n",
       "      <td>-0.000000</td>\n",
       "      <td>-2.872951e-07</td>\n",
       "      <td>-0.170921</td>\n",
       "      <td>0.273229</td>\n",
       "    </tr>\n",
       "    <tr>\n",
       "      <th>82877</th>\n",
       "      <td>2023-02-10 15:45:00</td>\n",
       "      <td>-0.000251</td>\n",
       "      <td>0.000117</td>\n",
       "      <td>-0.002046</td>\n",
       "      <td>0.000000</td>\n",
       "      <td>0.000419</td>\n",
       "      <td>0.000002</td>\n",
       "      <td>0.004602</td>\n",
       "      <td>1.979839e-06</td>\n",
       "      <td>2.151393e-13</td>\n",
       "      <td>0.0</td>\n",
       "      <td>0.000001</td>\n",
       "      <td>7.734795e-07</td>\n",
       "      <td>-0.000000</td>\n",
       "      <td>-3.658307e-07</td>\n",
       "      <td>-0.171341</td>\n",
       "      <td>0.260943</td>\n",
       "    </tr>\n",
       "    <tr>\n",
       "      <th>82878</th>\n",
       "      <td>2023-02-10 15:50:00</td>\n",
       "      <td>-0.000188</td>\n",
       "      <td>0.000700</td>\n",
       "      <td>0.003021</td>\n",
       "      <td>0.000016</td>\n",
       "      <td>0.000422</td>\n",
       "      <td>0.000002</td>\n",
       "      <td>0.004524</td>\n",
       "      <td>1.807205e-06</td>\n",
       "      <td>8.864888e-14</td>\n",
       "      <td>0.0</td>\n",
       "      <td>0.000001</td>\n",
       "      <td>7.734795e-07</td>\n",
       "      <td>-0.000000</td>\n",
       "      <td>-3.383624e-07</td>\n",
       "      <td>-0.171584</td>\n",
       "      <td>0.267843</td>\n",
       "    </tr>\n",
       "    <tr>\n",
       "      <th>82879</th>\n",
       "      <td>2023-02-10 15:55:00</td>\n",
       "      <td>-0.000313</td>\n",
       "      <td>-0.000700</td>\n",
       "      <td>-0.000696</td>\n",
       "      <td>0.000315</td>\n",
       "      <td>0.000365</td>\n",
       "      <td>0.000002</td>\n",
       "      <td>0.004132</td>\n",
       "      <td>9.994822e-07</td>\n",
       "      <td>9.496995e-14</td>\n",
       "      <td>0.0</td>\n",
       "      <td>0.000001</td>\n",
       "      <td>3.809629e-07</td>\n",
       "      <td>-0.000000</td>\n",
       "      <td>-8.291448e-07</td>\n",
       "      <td>-0.359202</td>\n",
       "      <td>0.319027</td>\n",
       "    </tr>\n",
       "  </tbody>\n",
       "</table>\n",
       "<p>82879 rows × 17 columns</p>\n",
       "</div>"
      ],
      "text/plain": [
       "                Local time  Close_fut  Close_gas  Close_btc  Close_bond  \\\n",
       "1      2020-02-11 08:10:00  -0.001189  -0.004012   0.000000    0.000775   \n",
       "2      2020-02-11 08:15:00   0.001783   0.000057   0.000610   -0.000191   \n",
       "3      2020-02-11 08:20:00   0.001602   0.001810   0.000914   -0.000203   \n",
       "4      2020-02-11 08:25:00  -0.000415  -0.000170  -0.000203    0.000424   \n",
       "5      2020-02-11 08:30:00   0.000613   0.003836  -0.001016    0.000381   \n",
       "...                    ...        ...        ...        ...         ...   \n",
       "82875  2023-02-10 15:35:00  -0.000376   0.000856  -0.002596    0.000008   \n",
       "82876  2023-02-10 15:40:00   0.000251   0.000000  -0.000696   -0.000252   \n",
       "82877  2023-02-10 15:45:00  -0.000251   0.000117  -0.002046    0.000000   \n",
       "82878  2023-02-10 15:50:00  -0.000188   0.000700   0.003021    0.000016   \n",
       "82879  2023-02-10 15:55:00  -0.000313  -0.000700  -0.000696    0.000315   \n",
       "\n",
       "       12_oil_std  Fut_close_rv  Fut_close_rav  Fut_close_bv  Fut_close_tq  \\\n",
       "1        0.001318      0.000017       0.014619  1.601874e-05  2.179593e-11   \n",
       "2        0.001308      0.000019       0.015634  1.843612e-05  1.999619e-11   \n",
       "3        0.001332      0.000021       0.016894  2.126749e-05  2.751696e-11   \n",
       "4        0.001264      0.000018       0.015201  2.011112e-05  2.546465e-11   \n",
       "5        0.001754      0.000018       0.014974  1.877874e-05  1.967731e-11   \n",
       "...           ...           ...            ...           ...           ...   \n",
       "82875    0.000467      0.000002       0.005073  1.930419e-06  1.946174e-13   \n",
       "82876    0.000418      0.000002       0.004445  1.930485e-06  2.125854e-13   \n",
       "82877    0.000419      0.000002       0.004602  1.979839e-06  2.151393e-13   \n",
       "82878    0.000422      0.000002       0.004524  1.807205e-06  8.864888e-14   \n",
       "82879    0.000365      0.000002       0.004132  9.994822e-07  9.496995e-14   \n",
       "\n",
       "       Fut_close_jump_test  Fut_close_rv_m  Fut_close_rv_p  Fut_close_sjv_p  \\\n",
       "1                      0.0        0.000006    1.122443e-05         0.000006   \n",
       "2                      0.0        0.000005    1.440185e-05         0.000010   \n",
       "3                      0.0        0.000005    1.661173e-05         0.000012   \n",
       "4                      0.0        0.000005    1.349348e-05         0.000009   \n",
       "5                      0.0        0.000004    1.386866e-05         0.000010   \n",
       "...                    ...             ...             ...              ...   \n",
       "82875                  0.0        0.000002    7.263531e-07        -0.000000   \n",
       "82876                  0.0        0.000001    7.891841e-07        -0.000000   \n",
       "82877                  0.0        0.000001    7.734795e-07        -0.000000   \n",
       "82878                  0.0        0.000001    7.734795e-07        -0.000000   \n",
       "82879                  0.0        0.000001    3.809629e-07        -0.000000   \n",
       "\n",
       "       Fut_close_sjv_m  Fut_close_rs  Fut_close_rk  \n",
       "1         0.000000e+00      0.228043      0.188860  \n",
       "2         0.000000e+00      0.268589      0.172602  \n",
       "3         0.000000e+00      0.267611      0.152855  \n",
       "4         0.000000e+00      0.263453      0.177083  \n",
       "5         0.000000e+00      0.278580      0.181327  \n",
       "...                ...           ...           ...  \n",
       "82875    -9.151377e-07     -0.240425      0.225858  \n",
       "82876    -2.872951e-07     -0.170921      0.273229  \n",
       "82877    -3.658307e-07     -0.171341      0.260943  \n",
       "82878    -3.383624e-07     -0.171584      0.267843  \n",
       "82879    -8.291448e-07     -0.359202      0.319027  \n",
       "\n",
       "[82879 rows x 17 columns]"
      ]
     },
     "execution_count": 294,
     "metadata": {},
     "output_type": "execute_result"
    }
   ],
   "source": [
    "df"
   ]
  },
  {
   "cell_type": "code",
   "execution_count": 295,
   "id": "b940deeb-3d0e-41ac-9e6f-feba4278532c",
   "metadata": {},
   "outputs": [],
   "source": [
    "feats = list(set(df.columns) - set(['Local time', '12_oil_std', 'Fut_close_jump_test']))"
   ]
  },
  {
   "cell_type": "code",
   "execution_count": 296,
   "id": "08947a61-010e-4201-b432-a046cdb18bb6",
   "metadata": {},
   "outputs": [
    {
     "data": {
      "text/plain": [
       "['Fut_close_bv',\n",
       " 'Fut_close_rk',\n",
       " 'Close_bond',\n",
       " 'Close_gas',\n",
       " 'Fut_close_rv_p',\n",
       " 'Fut_close_rv_m',\n",
       " 'Fut_close_sjv_p',\n",
       " 'Fut_close_rs',\n",
       " 'Close_btc',\n",
       " 'Fut_close_rv',\n",
       " 'Fut_close_sjv_m',\n",
       " 'Fut_close_tq',\n",
       " 'Close_fut',\n",
       " 'Fut_close_rav']"
      ]
     },
     "execution_count": 296,
     "metadata": {},
     "output_type": "execute_result"
    }
   ],
   "source": [
    "feats"
   ]
  },
  {
   "cell_type": "markdown",
   "id": "e17c3567-a260-416a-811d-d4949700f9b1",
   "metadata": {},
   "source": [
    "We get a train test split for each chunk."
   ]
  },
  {
   "cell_type": "code",
   "execution_count": 297,
   "id": "f818e06e-545e-40c2-8402-718cee7d4f61",
   "metadata": {
    "tags": []
   },
   "outputs": [],
   "source": [
    "chunk_size = 1000\n",
    "data_chunks = {}\n",
    "\n",
    "for i,chunk in df.groupby(np.arange(len(df)) // chunk_size):\n",
    "    total = chunk#.drop(['date', 'time'], axis=1)\n",
    "    \n",
    "    X = total[feats]\n",
    "    Y = total['12_oil_std']\n",
    "    \n",
    "    X_train, X_test, y_train, y_test = train_test_split(X, Y, test_size=0.1, shuffle=False)\n",
    "    \n",
    "    data_chunks[i] = [X_train, X_test, y_train, y_test]"
   ]
  },
  {
   "cell_type": "code",
   "execution_count": 298,
   "id": "71d7e950-3312-446c-b945-2b2be2c31c99",
   "metadata": {},
   "outputs": [
    {
     "data": {
      "text/plain": [
       "83"
      ]
     },
     "execution_count": 298,
     "metadata": {},
     "output_type": "execute_result"
    }
   ],
   "source": [
    "len(data_chunks)"
   ]
  },
  {
   "cell_type": "code",
   "execution_count": 445,
   "id": "697f1ad0-8f74-4036-bbcb-87483757eb49",
   "metadata": {
    "tags": []
   },
   "outputs": [
    {
     "name": "stdout",
     "output_type": "stream",
     "text": [
      "0 0:00:34.882691\n",
      "1 0:00:38.803073\n",
      "2 0:00:39.450899\n",
      "3 0:00:32.226266\n",
      "4 0:00:37.953692\n",
      "5 0:00:34.061250\n",
      "6 0:00:35.191735\n",
      "7 0:00:33.103298\n",
      "8 0:00:38.515957\n",
      "9 0:00:29.165351\n",
      "10 0:00:37.618404\n",
      "11 0:00:33.283527\n",
      "12 0:00:32.248827\n",
      "13 0:00:28.423358\n",
      "14 0:00:30.701219\n",
      "15 0:00:36.321846\n",
      "16 0:00:32.357664\n",
      "17 0:00:43.636373\n",
      "18 0:00:42.098289\n",
      "19 0:00:34.361146\n",
      "20 0:00:29.263793\n",
      "21 0:00:38.014431\n",
      "22 0:00:39.193923\n",
      "23 0:00:33.672841\n",
      "24 0:00:33.079565\n",
      "25 0:00:32.054457\n",
      "26 0:00:36.551696\n",
      "27 0:00:42.581497\n",
      "28 0:00:32.878658\n",
      "29 0:00:30.888633\n",
      "30 0:00:42.599000\n",
      "31 0:00:35.733148\n",
      "32 0:00:33.403454\n",
      "33 0:00:36.339927\n",
      "34 0:00:31.605689\n",
      "35 0:00:27.986178\n",
      "36 0:00:32.113327\n",
      "37 0:00:31.196845\n",
      "38 0:00:27.205261\n",
      "39 0:00:39.608621\n",
      "40 0:00:32.352539\n",
      "41 0:00:38.165709\n",
      "42 0:00:39.408921\n",
      "43 0:00:36.972802\n",
      "44 0:00:39.013656\n",
      "45 0:00:36.829719\n",
      "46 0:00:32.514700\n",
      "47 0:00:40.306100\n",
      "48 0:00:33.911956\n",
      "49 0:00:27.234791\n",
      "50 0:00:35.818384\n",
      "51 0:00:41.222537\n",
      "52 0:00:28.073730\n",
      "53 0:00:37.703285\n",
      "54 0:00:37.342158\n",
      "55 0:00:33.310946\n",
      "56 0:00:38.334503\n",
      "57 0:00:34.051274\n",
      "58 0:00:33.232088\n",
      "59 0:00:32.752133\n",
      "60 0:00:40.871127\n",
      "61 0:00:36.182622\n",
      "62 0:00:36.696790\n",
      "63 0:00:27.591246\n",
      "64 0:00:43.359025\n",
      "65 0:00:34.133266\n",
      "66 0:00:36.356481\n",
      "67 0:00:37.789763\n",
      "68 0:00:32.935878\n",
      "69 0:00:29.618581\n",
      "70 0:00:37.413558\n",
      "71 0:00:28.735129\n",
      "72 0:00:38.142519\n",
      "73 0:00:33.908562\n",
      "74 0:00:27.637586\n",
      "75 0:00:33.108258\n",
      "76 0:00:42.513551\n",
      "77 0:00:33.601048\n",
      "78 0:00:33.902267\n",
      "79 0:00:39.394852\n",
      "80 0:00:27.938742\n",
      "81 0:00:33.763654\n",
      "82 0:00:30.946019\n",
      "CPU times: user 27min 13s, sys: 42.6 s, total: 27min 56s\n",
      "Wall time: 48min 15s\n"
     ]
    }
   ],
   "source": [
    "%%time\n",
    "chunk_results = {}\n",
    "indices = data_chunks.keys()\n",
    "\n",
    "indices = list(indices)\n",
    "\n",
    "mod_list = ['GB', 'RF', 'AB', 'KR', 'R', 'LA', 'EN', 'NW', 'KN']\n",
    "\n",
    "for i in indices:\n",
    "    t = dt.datetime.now()\n",
    "    chunk_results[i] = {}\n",
    "    for ml in mod_list:\n",
    "        chunk_results[i][ml] = model_selection(ml, data_chunks[i])\n",
    "    print(i, dt.datetime.now()-t)"
   ]
  },
  {
   "cell_type": "code",
   "execution_count": 439,
   "id": "f47908b6-4716-41b5-ace4-e777bf574ea8",
   "metadata": {},
   "outputs": [],
   "source": [
    "# mod_list = ['GB', 'RF', 'AB', 'KR', 'R', 'LA', 'EN', 'NW', 'KN']"
   ]
  },
  {
   "cell_type": "code",
   "execution_count": 509,
   "id": "37d7261b-c574-482c-a31d-b4f1821c8d7f",
   "metadata": {},
   "outputs": [
    {
     "name": "stdout",
     "output_type": "stream",
     "text": [
      "False\n"
     ]
    }
   ],
   "source": [
    "import pickle\n",
    "\n",
    "with open('results.pickle', 'wb') as handle:\n",
    "    pickle.dump(chunk_results, handle, protocol=pickle.HIGHEST_PROTOCOL)\n",
    "\n",
    "with open('results.pickle', 'rb') as handle:\n",
    "    test = pickle.load(handle)\n",
    "\n",
    "print(test == chunk_results)"
   ]
  },
  {
   "cell_type": "code",
   "execution_count": 446,
   "id": "3260aa7e-f8a5-44d8-87a3-05c828bbfe5b",
   "metadata": {},
   "outputs": [],
   "source": [
    "for label in chunk_results.keys():\n",
    "    chunk_results[label]"
   ]
  },
  {
   "cell_type": "code",
   "execution_count": 447,
   "id": "d7c8b02f-6367-42e5-b41e-a3cabdb9f768",
   "metadata": {},
   "outputs": [],
   "source": [
    "acc_dict = {}\n",
    "for chunk in chunk_results.keys():\n",
    "    for m in mod_list:\n",
    "        acc_dict[str(chunk)+m] = chunk_results[chunk][m][-1]\n",
    "        acc_dict[str(chunk)+m]['model'] = m"
   ]
  },
  {
   "cell_type": "code",
   "execution_count": 474,
   "id": "0d005353-dd46-41e1-8827-66c158b234be",
   "metadata": {},
   "outputs": [],
   "source": [
    "acc_df = pd.DataFrame(acc_dict).transpose()"
   ]
  },
  {
   "cell_type": "code",
   "execution_count": 477,
   "id": "fe540053-3c9d-4fff-aabc-13fb3cb349fb",
   "metadata": {},
   "outputs": [
    {
     "data": {
      "text/html": [
       "<div>\n",
       "<style scoped>\n",
       "    .dataframe tbody tr th:only-of-type {\n",
       "        vertical-align: middle;\n",
       "    }\n",
       "\n",
       "    .dataframe tbody tr th {\n",
       "        vertical-align: top;\n",
       "    }\n",
       "\n",
       "    .dataframe thead th {\n",
       "        text-align: right;\n",
       "    }\n",
       "</style>\n",
       "<table border=\"1\" class=\"dataframe\">\n",
       "  <thead>\n",
       "    <tr style=\"text-align: right;\">\n",
       "      <th></th>\n",
       "      <th>MAE</th>\n",
       "      <th>MAPE</th>\n",
       "      <th>MSE</th>\n",
       "      <th>RMSE</th>\n",
       "      <th>model</th>\n",
       "    </tr>\n",
       "  </thead>\n",
       "  <tbody>\n",
       "    <tr>\n",
       "      <th>0GB</th>\n",
       "      <td>0.000709911</td>\n",
       "      <td>31.0023</td>\n",
       "      <td>3.2138e-06</td>\n",
       "      <td>0.00179271</td>\n",
       "      <td>Gradient Boosting</td>\n",
       "    </tr>\n",
       "    <tr>\n",
       "      <th>0RF</th>\n",
       "      <td>0.000628076</td>\n",
       "      <td>27.4285</td>\n",
       "      <td>2.89619e-06</td>\n",
       "      <td>0.00170182</td>\n",
       "      <td>RF</td>\n",
       "    </tr>\n",
       "    <tr>\n",
       "      <th>0AB</th>\n",
       "      <td>0.000635671</td>\n",
       "      <td>27.7602</td>\n",
       "      <td>2.83321e-06</td>\n",
       "      <td>0.00168322</td>\n",
       "      <td>AB</td>\n",
       "    </tr>\n",
       "    <tr>\n",
       "      <th>0KR</th>\n",
       "      <td>0.000511138</td>\n",
       "      <td>22.3217</td>\n",
       "      <td>1.92972e-06</td>\n",
       "      <td>0.00138914</td>\n",
       "      <td>KR</td>\n",
       "    </tr>\n",
       "    <tr>\n",
       "      <th>0R</th>\n",
       "      <td>0.000599952</td>\n",
       "      <td>26.2003</td>\n",
       "      <td>2.22889e-06</td>\n",
       "      <td>0.00149295</td>\n",
       "      <td>R</td>\n",
       "    </tr>\n",
       "    <tr>\n",
       "      <th>...</th>\n",
       "      <td>...</td>\n",
       "      <td>...</td>\n",
       "      <td>...</td>\n",
       "      <td>...</td>\n",
       "      <td>...</td>\n",
       "    </tr>\n",
       "    <tr>\n",
       "      <th>82R</th>\n",
       "      <td>8.78483e-05</td>\n",
       "      <td>7.82423</td>\n",
       "      <td>1.26318e-08</td>\n",
       "      <td>0.000112391</td>\n",
       "      <td>R</td>\n",
       "    </tr>\n",
       "    <tr>\n",
       "      <th>82LA</th>\n",
       "      <td>0.000126671</td>\n",
       "      <td>11.282</td>\n",
       "      <td>2.52705e-08</td>\n",
       "      <td>0.000158967</td>\n",
       "      <td>LA</td>\n",
       "    </tr>\n",
       "    <tr>\n",
       "      <th>82EN</th>\n",
       "      <td>9.14215e-05</td>\n",
       "      <td>8.14248</td>\n",
       "      <td>1.31909e-08</td>\n",
       "      <td>0.000114852</td>\n",
       "      <td>EN</td>\n",
       "    </tr>\n",
       "    <tr>\n",
       "      <th>82NW</th>\n",
       "      <td>0.000585605</td>\n",
       "      <td>52.157</td>\n",
       "      <td>4.88119e-07</td>\n",
       "      <td>0.000698655</td>\n",
       "      <td>NW</td>\n",
       "    </tr>\n",
       "    <tr>\n",
       "      <th>82KN</th>\n",
       "      <td>0.000602774</td>\n",
       "      <td>53.6862</td>\n",
       "      <td>5.27404e-07</td>\n",
       "      <td>0.000726226</td>\n",
       "      <td>KN</td>\n",
       "    </tr>\n",
       "  </tbody>\n",
       "</table>\n",
       "<p>747 rows × 5 columns</p>\n",
       "</div>"
      ],
      "text/plain": [
       "              MAE     MAPE          MSE         RMSE              model\n",
       "0GB   0.000709911  31.0023   3.2138e-06   0.00179271  Gradient Boosting\n",
       "0RF   0.000628076  27.4285  2.89619e-06   0.00170182                 RF\n",
       "0AB   0.000635671  27.7602  2.83321e-06   0.00168322                 AB\n",
       "0KR   0.000511138  22.3217  1.92972e-06   0.00138914                 KR\n",
       "0R    0.000599952  26.2003  2.22889e-06   0.00149295                  R\n",
       "...           ...      ...          ...          ...                ...\n",
       "82R   8.78483e-05  7.82423  1.26318e-08  0.000112391                  R\n",
       "82LA  0.000126671   11.282  2.52705e-08  0.000158967                 LA\n",
       "82EN  9.14215e-05  8.14248  1.31909e-08  0.000114852                 EN\n",
       "82NW  0.000585605   52.157  4.88119e-07  0.000698655                 NW\n",
       "82KN  0.000602774  53.6862  5.27404e-07  0.000726226                 KN\n",
       "\n",
       "[747 rows x 5 columns]"
      ]
     },
     "execution_count": 477,
     "metadata": {},
     "output_type": "execute_result"
    }
   ],
   "source": [
    "acc_df"
   ]
  },
  {
   "cell_type": "code",
   "execution_count": 479,
   "id": "d198c88c-7502-40ba-85f6-3213c78a916d",
   "metadata": {},
   "outputs": [],
   "source": [
    "acc_df.loc[acc_df['model'] == 'GB', 'model'] = 'Gradient Boosting'\n",
    "acc_df.loc[acc_df['model'] == 'AB', 'model'] = 'AdaBoost'\n",
    "acc_df.loc[acc_df['model'] == 'EN', 'model'] = 'Elastic Net'\n",
    "acc_df.loc[acc_df['model'] == 'KN', 'model'] = 'k-Neighbors Regression'\n",
    "acc_df.loc[acc_df['model'] == 'KR', 'model'] = 'Kenel Ridge Regression'\n",
    "acc_df.loc[acc_df['model'] == 'LA', 'model'] = 'Lasso'\n",
    "acc_df.loc[acc_df['model'] == 'NW', 'model'] = 'Nadarya-Watson'\n",
    "acc_df.loc[acc_df['model'] == 'R', 'model'] = 'Ridge'\n",
    "acc_df.loc[acc_df['model'] == 'RF', 'model'] = 'Random Forest'"
   ]
  },
  {
   "cell_type": "code",
   "execution_count": 484,
   "id": "dfd4d7cb-9290-4aa6-be81-8c641b0aa5d1",
   "metadata": {},
   "outputs": [],
   "source": [
    "acc_df = acc_df.rename(columns={'model':'Model'})"
   ]
  },
  {
   "cell_type": "code",
   "execution_count": 486,
   "id": "7967c437-9b5a-49b9-907b-d46e10e3001b",
   "metadata": {},
   "outputs": [
    {
     "data": {
      "text/plain": [
       "Model\n",
       "AdaBoost                  17.912190\n",
       "Elastic Net               15.822203\n",
       "Gradient Boosting         14.627260\n",
       "Kenel Ridge Regression    13.368425\n",
       "Lasso                     17.265219\n",
       "Nadarya-Watson            47.012259\n",
       "Random Forest             14.635831\n",
       "Ridge                     15.543471\n",
       "k-Neighbors Regression    42.037707\n",
       "Name: MAPE, dtype: float64"
      ]
     },
     "execution_count": 486,
     "metadata": {},
     "output_type": "execute_result"
    }
   ],
   "source": [
    "acc_df.reset_index(drop=True).groupby('Model')['MAPE'].apply(lambda x: np.mean(x))"
   ]
  },
  {
   "cell_type": "code",
   "execution_count": 494,
   "id": "616a4214-ea97-4a67-83cb-3fa064f5f48b",
   "metadata": {},
   "outputs": [
    {
     "data": {
      "text/html": [
       "<div>\n",
       "<style scoped>\n",
       "    .dataframe tbody tr th:only-of-type {\n",
       "        vertical-align: middle;\n",
       "    }\n",
       "\n",
       "    .dataframe tbody tr th {\n",
       "        vertical-align: top;\n",
       "    }\n",
       "\n",
       "    .dataframe thead th {\n",
       "        text-align: right;\n",
       "    }\n",
       "</style>\n",
       "<table border=\"1\" class=\"dataframe\">\n",
       "  <thead>\n",
       "    <tr style=\"text-align: right;\">\n",
       "      <th></th>\n",
       "      <th>MAE</th>\n",
       "      <th>MAPE</th>\n",
       "      <th>MSE</th>\n",
       "      <th>RMSE</th>\n",
       "    </tr>\n",
       "    <tr>\n",
       "      <th>Model</th>\n",
       "      <th></th>\n",
       "      <th></th>\n",
       "      <th></th>\n",
       "      <th></th>\n",
       "    </tr>\n",
       "  </thead>\n",
       "  <tbody>\n",
       "    <tr>\n",
       "      <th>Kenel Ridge Regression</th>\n",
       "      <td>0.000317</td>\n",
       "      <td>13.368425</td>\n",
       "      <td>0.000002</td>\n",
       "      <td>0.000665</td>\n",
       "    </tr>\n",
       "    <tr>\n",
       "      <th>Gradient Boosting</th>\n",
       "      <td>0.000354</td>\n",
       "      <td>14.627260</td>\n",
       "      <td>0.000004</td>\n",
       "      <td>0.000804</td>\n",
       "    </tr>\n",
       "    <tr>\n",
       "      <th>Random Forest</th>\n",
       "      <td>0.000365</td>\n",
       "      <td>14.635831</td>\n",
       "      <td>0.000004</td>\n",
       "      <td>0.000787</td>\n",
       "    </tr>\n",
       "    <tr>\n",
       "      <th>Ridge</th>\n",
       "      <td>0.000367</td>\n",
       "      <td>15.543471</td>\n",
       "      <td>0.000002</td>\n",
       "      <td>0.000709</td>\n",
       "    </tr>\n",
       "    <tr>\n",
       "      <th>Elastic Net</th>\n",
       "      <td>0.000375</td>\n",
       "      <td>15.822203</td>\n",
       "      <td>0.000002</td>\n",
       "      <td>0.000721</td>\n",
       "    </tr>\n",
       "    <tr>\n",
       "      <th>Lasso</th>\n",
       "      <td>0.000396</td>\n",
       "      <td>17.265219</td>\n",
       "      <td>0.000002</td>\n",
       "      <td>0.000747</td>\n",
       "    </tr>\n",
       "    <tr>\n",
       "      <th>AdaBoost</th>\n",
       "      <td>0.000455</td>\n",
       "      <td>17.912190</td>\n",
       "      <td>0.000004</td>\n",
       "      <td>0.000865</td>\n",
       "    </tr>\n",
       "    <tr>\n",
       "      <th>k-Neighbors Regression</th>\n",
       "      <td>0.000905</td>\n",
       "      <td>42.037707</td>\n",
       "      <td>0.000005</td>\n",
       "      <td>0.001403</td>\n",
       "    </tr>\n",
       "    <tr>\n",
       "      <th>Nadarya-Watson</th>\n",
       "      <td>0.001017</td>\n",
       "      <td>47.012259</td>\n",
       "      <td>0.000005</td>\n",
       "      <td>0.001468</td>\n",
       "    </tr>\n",
       "  </tbody>\n",
       "</table>\n",
       "</div>"
      ],
      "text/plain": [
       "                             MAE       MAPE       MSE      RMSE\n",
       "Model                                                          \n",
       "Kenel Ridge Regression  0.000317  13.368425  0.000002  0.000665\n",
       "Gradient Boosting       0.000354  14.627260  0.000004  0.000804\n",
       "Random Forest           0.000365  14.635831  0.000004  0.000787\n",
       "Ridge                   0.000367  15.543471  0.000002  0.000709\n",
       "Elastic Net             0.000375  15.822203  0.000002  0.000721\n",
       "Lasso                   0.000396  17.265219  0.000002  0.000747\n",
       "AdaBoost                0.000455  17.912190  0.000004  0.000865\n",
       "k-Neighbors Regression  0.000905  42.037707  0.000005  0.001403\n",
       "Nadarya-Watson          0.001017  47.012259  0.000005  0.001468"
      ]
     },
     "execution_count": 494,
     "metadata": {},
     "output_type": "execute_result"
    }
   ],
   "source": [
    "acc_df.reset_index(drop=True).groupby('Model')[['MAE', 'MAPE', 'MSE', 'RMSE']].apply(lambda x: np.mean(x)).sort_values('MAPE').round(6)"
   ]
  },
  {
   "cell_type": "code",
   "execution_count": 495,
   "id": "78dd14ff-4a18-43e7-a8f5-e5d0cf084e6b",
   "metadata": {},
   "outputs": [],
   "source": [
    "acc_df.reset_index(drop=True).groupby('Model')[['MAE', 'MAPE', 'MSE', 'RMSE']].apply(lambda x: np.mean(x)).sort_values('MAPE').round(6).to_csv('acc.csv')"
   ]
  },
  {
   "cell_type": "code",
   "execution_count": 453,
   "id": "504dc844-bd06-4b7d-a74a-44a9f301cd9c",
   "metadata": {},
   "outputs": [],
   "source": [
    "def tree_feat_importance(m, df):\n",
    "    return pd.DataFrame({'cols':df.columns, 'feat_imp':m.feature_importances_}\n",
    "                       ).sort_values('feat_imp', ascending=False)\n",
    "def ensemble_tree_feat_importance(m, df):\n",
    "    feature_importances = np.mean([\n",
    "    tree.feature_importances_ for tree in m.estimators_\n",
    "                                    ], axis=0)\n",
    "    return pd.DataFrame({'cols':df.columns, 'feat_imp':feature_importances}\n",
    "                       ).sort_values('feat_imp', ascending=False)\n",
    "def plot_fi(fi, ax): return ax.barh(fi['cols'], fi['feat_imp'])\n",
    "def xgb_feat_importance(m, df):\n",
    "    feature_importances = m.feature_importances_\n",
    "    return pd.DataFrame({'cols':df.columns, 'feat_imp':feature_importances}\n",
    "                       ).sort_values('feat_imp', ascending=False)\n",
    "\n",
    "def many_ensemble_fi(models, df):\n",
    "    feature_imps = []\n",
    "    # add tree feature importances for all models\n",
    "    for m in models:\n",
    "        feature_imps.append(np.mean([tree.feature_importances_ for tree in m.estimators_], axis=0))\n",
    "    # return np.mean(feature_imps, axis=0)\n",
    "    return pd.DataFrame({'cols':df.columns, 'feat_imp':np.mean(feature_imps, axis=0)}\n",
    "                       ).sort_values('feat_imp', ascending=False)\n",
    "def many_gb_fi(models, df):\n",
    "    '''For GradientBoosting objects'''\n",
    "    feature_imps = []\n",
    "    # add tree feature importances for all models\n",
    "    for m in models:\n",
    "        feature_imps.append(m.feature_importances_)\n",
    "    # return np.mean(feature_imps, axis=0)\n",
    "    return pd.DataFrame({'cols':df.columns, 'feat_imp':np.mean(feature_imps, axis=0)}\n",
    "                       ).sort_values('feat_imp', ascending=False)\n",
    "\n",
    "def many_linear_fi(models, df):\n",
    "    '''For Linear objects'''\n",
    "    feature_imps = []\n",
    "    # add tree feature importances for all models\n",
    "    for m in models:\n",
    "        feature_imps.append(m.coef_)\n",
    "    # return np.mean(feature_imps, axis=0)\n",
    "    return pd.DataFrame({'cols':df.columns, 'feat_imp':np.mean(feature_imps, axis=0)}\n",
    "                       ).sort_values('feat_imp', ascending=False)\n",
    "def many_kr_fi(models, df):\n",
    "    '''For KernelRidge objects'''\n",
    "    feature_imps = []\n",
    "    # add tree feature importances for all models\n",
    "    for m in models:\n",
    "        feature_imps.append(m.coef_)\n",
    "    # return np.mean(feature_imps, axis=0)\n",
    "    return pd.DataFrame({'cols':df.columns, 'feat_imp':np.mean(feature_imps, axis=0)}\n",
    "                       ).sort_values('feat_imp', ascending=False)"
   ]
  },
  {
   "cell_type": "code",
   "execution_count": 454,
   "id": "13595ad4-61e3-49f0-b808-c98f9e30a59a",
   "metadata": {
    "tags": []
   },
   "outputs": [],
   "source": [
    "fi_dict = {}\n",
    "fi_dict['RF'] = []\n",
    "fi_dict['GB'] = []\n",
    "fi_dict['AB'] = []\n",
    "fi_dict['EN'] = []\n",
    "fi_dict['KN'] = []\n",
    "fi_dict['KR'] = []\n",
    "fi_dict['LA'] = []\n",
    "fi_dict['NW'] = []\n",
    "fi_dict['R'] = []\n",
    "\n",
    "for m in mod_list:\n",
    "    for chunk in chunk_results.items():\n",
    "        fi_dict[m].append(chunk[1][m][0])\n",
    "        \n",
    "    #ensemble\n",
    "    # if (m == 'RF'):\n",
    "    #     for chunk in chunk_results.items():\n",
    "    #         fi_dict[m].append(chunk[1][m][0])\n",
    "    # #boosting\n",
    "    # elif (m == 'GB') or (m == 'AB'):\n",
    "    #     for chunk in chunk_results.items():\n",
    "    #         fi_dict[m].append(chunk[1][m][0])\n",
    "    # #linear\n",
    "    # elif (m == 'EN'):\n",
    "        "
   ]
  },
  {
   "cell_type": "code",
   "execution_count": 455,
   "id": "7b19b8d3-98d4-46b1-97ee-c7fb24ec5f5c",
   "metadata": {},
   "outputs": [],
   "source": [
    "fi_mods = list(set(mod_list) - set(['NW', 'KN', 'KR']))"
   ]
  },
  {
   "cell_type": "code",
   "execution_count": 501,
   "id": "0ba823dc-b0e2-4ad2-8b7a-efc87c62fd20",
   "metadata": {},
   "outputs": [],
   "source": [
    "name_map = {'GB':'Gradient Boosting', 'AB':'AdaBoost', 'EN':'Elastic Net', 'KN':'k-Neighbors Regression', 'KR':'Kernel Ridge Regression', \n",
    "            'LA':'Lasso', 'NW':'Nadarya-Watson', 'R':'Ridge', 'RF':'Random Forest'}"
   ]
  },
  {
   "cell_type": "code",
   "execution_count": 507,
   "id": "6c7337ec-9bc8-422c-aa14-d916b2b23f30",
   "metadata": {},
   "outputs": [
    {
     "data": {
      "image/png": "[encoded data removed]",
      "text/plain": [
       "<Figure size 2160x1800 with 6 Axes>"
      ]
     },
     "metadata": {},
     "output_type": "display_data"
    }
   ],
   "source": [
    "fig,ax = plt.subplots(3,2, figsize=(30,25))\n",
    "\n",
    "k=0\n",
    "for i in range(3):\n",
    "    for j in range(2):\n",
    "        m = fi_mods[k]\n",
    "        # plt.axes(ax[i][j])\n",
    "        ax[i][j].set_title(name_map[m], fontsize=20)\n",
    "        ax[i][j].set_ylabel('Feature Name', fontsize=20)\n",
    "        ax[i][j].set_xlabel('Feature Importance', fontsize=20)\n",
    "        if (m=='RF'):\n",
    "            plot_fi(many_ensemble_fi(fi_dict['RF'],X_train), ax[i][j])\n",
    "        elif (m == 'GB') or (m == 'AB'):\n",
    "            plot_fi(many_gb_fi(fi_dict[m],X_train), ax[i][j])\n",
    "        elif (m == 'R') or (m == 'LA') or (m == 'EN'):\n",
    "            plot_fi(many_linear_fi(fi_dict[m],X_train), ax[i][j])\n",
    "            ax[i][j].set_xlabel('Mean Coefficient', fontsize=20)\n",
    "        \n",
    "        k+=1\n",
    "plt.savefig('feat_imp.png')"
   ]
  },
  {
   "cell_type": "code",
   "execution_count": null,
   "id": "d246dac0-3104-4ba3-9030-75062cb0668b",
   "metadata": {},
   "outputs": [],
   "source": []
  },
  {
   "cell_type": "code",
   "execution_count": 534,
   "id": "65509d8f-441a-428f-9d40-fb6354c4b8ad",
   "metadata": {},
   "outputs": [
    {
     "data": {
      "text/html": [
       "<div>\n",
       "<style scoped>\n",
       "    .dataframe tbody tr th:only-of-type {\n",
       "        vertical-align: middle;\n",
       "    }\n",
       "\n",
       "    .dataframe tbody tr th {\n",
       "        vertical-align: top;\n",
       "    }\n",
       "\n",
       "    .dataframe thead th {\n",
       "        text-align: right;\n",
       "    }\n",
       "</style>\n",
       "<table border=\"1\" class=\"dataframe\">\n",
       "  <thead>\n",
       "    <tr style=\"text-align: right;\">\n",
       "      <th></th>\n",
       "      <th>Close_fut</th>\n",
       "      <th>Close_gas</th>\n",
       "      <th>Close_btc</th>\n",
       "      <th>Close_bond</th>\n",
       "      <th>12_oil_std</th>\n",
       "      <th>Fut_close_rv</th>\n",
       "      <th>Fut_close_rav</th>\n",
       "      <th>Fut_close_bv</th>\n",
       "      <th>Fut_close_tq</th>\n",
       "      <th>Fut_close_jump_test</th>\n",
       "      <th>Fut_close_rv_m</th>\n",
       "      <th>Fut_close_rv_p</th>\n",
       "      <th>Fut_close_sjv_p</th>\n",
       "      <th>Fut_close_sjv_m</th>\n",
       "      <th>Fut_close_rs</th>\n",
       "      <th>Fut_close_rk</th>\n",
       "    </tr>\n",
       "  </thead>\n",
       "  <tbody>\n",
       "    <tr>\n",
       "      <th>Close_fut</th>\n",
       "      <td>1.000000</td>\n",
       "      <td>0.106296</td>\n",
       "      <td>0.123685</td>\n",
       "      <td>-0.143304</td>\n",
       "      <td>-0.023724</td>\n",
       "      <td>0.021084</td>\n",
       "      <td>0.014643</td>\n",
       "      <td>0.111210</td>\n",
       "      <td>0.111583</td>\n",
       "      <td>-0.028135</td>\n",
       "      <td>-0.057840</td>\n",
       "      <td>0.153223</td>\n",
       "      <td>0.099861</td>\n",
       "      <td>0.183715</td>\n",
       "      <td>0.161040</td>\n",
       "      <td>-0.005454</td>\n",
       "    </tr>\n",
       "    <tr>\n",
       "      <th>Close_gas</th>\n",
       "      <td>0.106296</td>\n",
       "      <td>1.000000</td>\n",
       "      <td>0.059274</td>\n",
       "      <td>-0.035915</td>\n",
       "      <td>0.000776</td>\n",
       "      <td>-0.002852</td>\n",
       "      <td>-0.000330</td>\n",
       "      <td>-0.002882</td>\n",
       "      <td>-0.001872</td>\n",
       "      <td>-0.026197</td>\n",
       "      <td>-0.004707</td>\n",
       "      <td>0.000865</td>\n",
       "      <td>0.009143</td>\n",
       "      <td>0.004213</td>\n",
       "      <td>0.029669</td>\n",
       "      <td>0.015411</td>\n",
       "    </tr>\n",
       "    <tr>\n",
       "      <th>Close_btc</th>\n",
       "      <td>0.123685</td>\n",
       "      <td>0.059274</td>\n",
       "      <td>1.000000</td>\n",
       "      <td>-0.071214</td>\n",
       "      <td>-0.010462</td>\n",
       "      <td>-0.005936</td>\n",
       "      <td>-0.004143</td>\n",
       "      <td>0.002291</td>\n",
       "      <td>0.001701</td>\n",
       "      <td>-0.021023</td>\n",
       "      <td>-0.011055</td>\n",
       "      <td>0.003967</td>\n",
       "      <td>0.004120</td>\n",
       "      <td>0.018767</td>\n",
       "      <td>0.042610</td>\n",
       "      <td>0.001366</td>\n",
       "    </tr>\n",
       "    <tr>\n",
       "      <th>Close_bond</th>\n",
       "      <td>-0.143304</td>\n",
       "      <td>-0.035915</td>\n",
       "      <td>-0.071214</td>\n",
       "      <td>1.000000</td>\n",
       "      <td>0.021569</td>\n",
       "      <td>0.015148</td>\n",
       "      <td>0.009424</td>\n",
       "      <td>-0.001608</td>\n",
       "      <td>-0.001185</td>\n",
       "      <td>0.013096</td>\n",
       "      <td>0.024794</td>\n",
       "      <td>-0.004233</td>\n",
       "      <td>-0.006403</td>\n",
       "      <td>-0.039113</td>\n",
       "      <td>-0.043156</td>\n",
       "      <td>0.003737</td>\n",
       "    </tr>\n",
       "    <tr>\n",
       "      <th>12_oil_std</th>\n",
       "      <td>-0.023724</td>\n",
       "      <td>0.000776</td>\n",
       "      <td>-0.010462</td>\n",
       "      <td>0.021569</td>\n",
       "      <td>1.000000</td>\n",
       "      <td>0.748941</td>\n",
       "      <td>0.928185</td>\n",
       "      <td>0.596931</td>\n",
       "      <td>0.510300</td>\n",
       "      <td>0.013988</td>\n",
       "      <td>0.724373</td>\n",
       "      <td>0.654717</td>\n",
       "      <td>0.367344</td>\n",
       "      <td>-0.679001</td>\n",
       "      <td>-0.022689</td>\n",
       "      <td>0.279652</td>\n",
       "    </tr>\n",
       "    <tr>\n",
       "      <th>Fut_close_rv</th>\n",
       "      <td>0.021084</td>\n",
       "      <td>-0.002852</td>\n",
       "      <td>-0.005936</td>\n",
       "      <td>0.015148</td>\n",
       "      <td>0.748941</td>\n",
       "      <td>1.000000</td>\n",
       "      <td>0.711486</td>\n",
       "      <td>0.927591</td>\n",
       "      <td>0.874798</td>\n",
       "      <td>0.001407</td>\n",
       "      <td>0.962145</td>\n",
       "      <td>0.882894</td>\n",
       "      <td>0.205099</td>\n",
       "      <td>-0.773536</td>\n",
       "      <td>-0.020548</td>\n",
       "      <td>0.075247</td>\n",
       "    </tr>\n",
       "    <tr>\n",
       "      <th>Fut_close_rav</th>\n",
       "      <td>0.014643</td>\n",
       "      <td>-0.000330</td>\n",
       "      <td>-0.004143</td>\n",
       "      <td>0.009424</td>\n",
       "      <td>0.928185</td>\n",
       "      <td>0.711486</td>\n",
       "      <td>1.000000</td>\n",
       "      <td>0.626256</td>\n",
       "      <td>0.522963</td>\n",
       "      <td>0.003772</td>\n",
       "      <td>0.659051</td>\n",
       "      <td>0.672105</td>\n",
       "      <td>0.347983</td>\n",
       "      <td>-0.555482</td>\n",
       "      <td>-0.019540</td>\n",
       "      <td>0.136189</td>\n",
       "    </tr>\n",
       "    <tr>\n",
       "      <th>Fut_close_bv</th>\n",
       "      <td>0.111210</td>\n",
       "      <td>-0.002882</td>\n",
       "      <td>0.002291</td>\n",
       "      <td>-0.001608</td>\n",
       "      <td>0.596931</td>\n",
       "      <td>0.927591</td>\n",
       "      <td>0.626256</td>\n",
       "      <td>1.000000</td>\n",
       "      <td>0.965960</td>\n",
       "      <td>-0.000394</td>\n",
       "      <td>0.842626</td>\n",
       "      <td>0.904858</td>\n",
       "      <td>0.088625</td>\n",
       "      <td>-0.522892</td>\n",
       "      <td>-0.008010</td>\n",
       "      <td>0.016180</td>\n",
       "    </tr>\n",
       "    <tr>\n",
       "      <th>Fut_close_tq</th>\n",
       "      <td>0.111583</td>\n",
       "      <td>-0.001872</td>\n",
       "      <td>0.001701</td>\n",
       "      <td>-0.001185</td>\n",
       "      <td>0.510300</td>\n",
       "      <td>0.874798</td>\n",
       "      <td>0.522963</td>\n",
       "      <td>0.965960</td>\n",
       "      <td>1.000000</td>\n",
       "      <td>-0.000134</td>\n",
       "      <td>0.797047</td>\n",
       "      <td>0.849262</td>\n",
       "      <td>0.031411</td>\n",
       "      <td>-0.478920</td>\n",
       "      <td>-0.007132</td>\n",
       "      <td>0.010209</td>\n",
       "    </tr>\n",
       "    <tr>\n",
       "      <th>Fut_close_jump_test</th>\n",
       "      <td>-0.028135</td>\n",
       "      <td>-0.026197</td>\n",
       "      <td>-0.021023</td>\n",
       "      <td>0.013096</td>\n",
       "      <td>0.013988</td>\n",
       "      <td>0.001407</td>\n",
       "      <td>0.003772</td>\n",
       "      <td>-0.000394</td>\n",
       "      <td>-0.000134</td>\n",
       "      <td>1.000000</td>\n",
       "      <td>0.001988</td>\n",
       "      <td>0.000151</td>\n",
       "      <td>0.000906</td>\n",
       "      <td>-0.003285</td>\n",
       "      <td>-0.010638</td>\n",
       "      <td>0.038370</td>\n",
       "    </tr>\n",
       "    <tr>\n",
       "      <th>Fut_close_rv_m</th>\n",
       "      <td>-0.057840</td>\n",
       "      <td>-0.004707</td>\n",
       "      <td>-0.011055</td>\n",
       "      <td>0.024794</td>\n",
       "      <td>0.724373</td>\n",
       "      <td>0.962145</td>\n",
       "      <td>0.659051</td>\n",
       "      <td>0.842626</td>\n",
       "      <td>0.797047</td>\n",
       "      <td>0.001988</td>\n",
       "      <td>1.000000</td>\n",
       "      <td>0.721496</td>\n",
       "      <td>0.015807</td>\n",
       "      <td>-0.897047</td>\n",
       "      <td>-0.058598</td>\n",
       "      <td>0.071277</td>\n",
       "    </tr>\n",
       "    <tr>\n",
       "      <th>Fut_close_rv_p</th>\n",
       "      <td>0.153223</td>\n",
       "      <td>0.000865</td>\n",
       "      <td>0.003967</td>\n",
       "      <td>-0.004233</td>\n",
       "      <td>0.654717</td>\n",
       "      <td>0.882894</td>\n",
       "      <td>0.672105</td>\n",
       "      <td>0.904858</td>\n",
       "      <td>0.849262</td>\n",
       "      <td>0.000151</td>\n",
       "      <td>0.721496</td>\n",
       "      <td>1.000000</td>\n",
       "      <td>0.493848</td>\n",
       "      <td>-0.419691</td>\n",
       "      <td>0.048757</td>\n",
       "      <td>0.068366</td>\n",
       "    </tr>\n",
       "    <tr>\n",
       "      <th>Fut_close_sjv_p</th>\n",
       "      <td>0.099861</td>\n",
       "      <td>0.009143</td>\n",
       "      <td>0.004120</td>\n",
       "      <td>-0.006403</td>\n",
       "      <td>0.367344</td>\n",
       "      <td>0.205099</td>\n",
       "      <td>0.347983</td>\n",
       "      <td>0.088625</td>\n",
       "      <td>0.031411</td>\n",
       "      <td>0.000906</td>\n",
       "      <td>0.015807</td>\n",
       "      <td>0.493848</td>\n",
       "      <td>1.000000</td>\n",
       "      <td>0.002840</td>\n",
       "      <td>0.119847</td>\n",
       "      <td>0.130809</td>\n",
       "    </tr>\n",
       "    <tr>\n",
       "      <th>Fut_close_sjv_m</th>\n",
       "      <td>0.183715</td>\n",
       "      <td>0.004213</td>\n",
       "      <td>0.018767</td>\n",
       "      <td>-0.039113</td>\n",
       "      <td>-0.679001</td>\n",
       "      <td>-0.773536</td>\n",
       "      <td>-0.555482</td>\n",
       "      <td>-0.522892</td>\n",
       "      <td>-0.478920</td>\n",
       "      <td>-0.003285</td>\n",
       "      <td>-0.897047</td>\n",
       "      <td>-0.419691</td>\n",
       "      <td>0.002840</td>\n",
       "      <td>1.000000</td>\n",
       "      <td>0.083747</td>\n",
       "      <td>-0.102315</td>\n",
       "    </tr>\n",
       "    <tr>\n",
       "      <th>Fut_close_rs</th>\n",
       "      <td>0.161040</td>\n",
       "      <td>0.029669</td>\n",
       "      <td>0.042610</td>\n",
       "      <td>-0.043156</td>\n",
       "      <td>-0.022689</td>\n",
       "      <td>-0.020548</td>\n",
       "      <td>-0.019540</td>\n",
       "      <td>-0.008010</td>\n",
       "      <td>-0.007132</td>\n",
       "      <td>-0.010638</td>\n",
       "      <td>-0.058598</td>\n",
       "      <td>0.048757</td>\n",
       "      <td>0.119847</td>\n",
       "      <td>0.083747</td>\n",
       "      <td>1.000000</td>\n",
       "      <td>0.036563</td>\n",
       "    </tr>\n",
       "    <tr>\n",
       "      <th>Fut_close_rk</th>\n",
       "      <td>-0.005454</td>\n",
       "      <td>0.015411</td>\n",
       "      <td>0.001366</td>\n",
       "      <td>0.003737</td>\n",
       "      <td>0.279652</td>\n",
       "      <td>0.075247</td>\n",
       "      <td>0.136189</td>\n",
       "      <td>0.016180</td>\n",
       "      <td>0.010209</td>\n",
       "      <td>0.038370</td>\n",
       "      <td>0.071277</td>\n",
       "      <td>0.068366</td>\n",
       "      <td>0.130809</td>\n",
       "      <td>-0.102315</td>\n",
       "      <td>0.036563</td>\n",
       "      <td>1.000000</td>\n",
       "    </tr>\n",
       "  </tbody>\n",
       "</table>\n",
       "</div>"
      ],
      "text/plain": [
       "                     Close_fut  Close_gas  Close_btc  Close_bond  12_oil_std  \\\n",
       "Close_fut             1.000000   0.106296   0.123685   -0.143304   -0.023724   \n",
       "Close_gas             0.106296   1.000000   0.059274   -0.035915    0.000776   \n",
       "Close_btc             0.123685   0.059274   1.000000   -0.071214   -0.010462   \n",
       "Close_bond           -0.143304  -0.035915  -0.071214    1.000000    0.021569   \n",
       "12_oil_std           -0.023724   0.000776  -0.010462    0.021569    1.000000   \n",
       "Fut_close_rv          0.021084  -0.002852  -0.005936    0.015148    0.748941   \n",
       "Fut_close_rav         0.014643  -0.000330  -0.004143    0.009424    0.928185   \n",
       "Fut_close_bv          0.111210  -0.002882   0.002291   -0.001608    0.596931   \n",
       "Fut_close_tq          0.111583  -0.001872   0.001701   -0.001185    0.510300   \n",
       "Fut_close_jump_test  -0.028135  -0.026197  -0.021023    0.013096    0.013988   \n",
       "Fut_close_rv_m       -0.057840  -0.004707  -0.011055    0.024794    0.724373   \n",
       "Fut_close_rv_p        0.153223   0.000865   0.003967   -0.004233    0.654717   \n",
       "Fut_close_sjv_p       0.099861   0.009143   0.004120   -0.006403    0.367344   \n",
       "Fut_close_sjv_m       0.183715   0.004213   0.018767   -0.039113   -0.679001   \n",
       "Fut_close_rs          0.161040   0.029669   0.042610   -0.043156   -0.022689   \n",
       "Fut_close_rk         -0.005454   0.015411   0.001366    0.003737    0.279652   \n",
       "\n",
       "                     Fut_close_rv  Fut_close_rav  Fut_close_bv  Fut_close_tq  \\\n",
       "Close_fut                0.021084       0.014643      0.111210      0.111583   \n",
       "Close_gas               -0.002852      -0.000330     -0.002882     -0.001872   \n",
       "Close_btc               -0.005936      -0.004143      0.002291      0.001701   \n",
       "Close_bond               0.015148       0.009424     -0.001608     -0.001185   \n",
       "12_oil_std               0.748941       0.928185      0.596931      0.510300   \n",
       "Fut_close_rv             1.000000       0.711486      0.927591      0.874798   \n",
       "Fut_close_rav            0.711486       1.000000      0.626256      0.522963   \n",
       "Fut_close_bv             0.927591       0.626256      1.000000      0.965960   \n",
       "Fut_close_tq             0.874798       0.522963      0.965960      1.000000   \n",
       "Fut_close_jump_test      0.001407       0.003772     -0.000394     -0.000134   \n",
       "Fut_close_rv_m           0.962145       0.659051      0.842626      0.797047   \n",
       "Fut_close_rv_p           0.882894       0.672105      0.904858      0.849262   \n",
       "Fut_close_sjv_p          0.205099       0.347983      0.088625      0.031411   \n",
       "Fut_close_sjv_m         -0.773536      -0.555482     -0.522892     -0.478920   \n",
       "Fut_close_rs            -0.020548      -0.019540     -0.008010     -0.007132   \n",
       "Fut_close_rk             0.075247       0.136189      0.016180      0.010209   \n",
       "\n",
       "                     Fut_close_jump_test  Fut_close_rv_m  Fut_close_rv_p  \\\n",
       "Close_fut                      -0.028135       -0.057840        0.153223   \n",
       "Close_gas                      -0.026197       -0.004707        0.000865   \n",
       "Close_btc                      -0.021023       -0.011055        0.003967   \n",
       "Close_bond                      0.013096        0.024794       -0.004233   \n",
       "12_oil_std                      0.013988        0.724373        0.654717   \n",
       "Fut_close_rv                    0.001407        0.962145        0.882894   \n",
       "Fut_close_rav                   0.003772        0.659051        0.672105   \n",
       "Fut_close_bv                   -0.000394        0.842626        0.904858   \n",
       "Fut_close_tq                   -0.000134        0.797047        0.849262   \n",
       "Fut_close_jump_test             1.000000        0.001988        0.000151   \n",
       "Fut_close_rv_m                  0.001988        1.000000        0.721496   \n",
       "Fut_close_rv_p                  0.000151        0.721496        1.000000   \n",
       "Fut_close_sjv_p                 0.000906        0.015807        0.493848   \n",
       "Fut_close_sjv_m                -0.003285       -0.897047       -0.419691   \n",
       "Fut_close_rs                   -0.010638       -0.058598        0.048757   \n",
       "Fut_close_rk                    0.038370        0.071277        0.068366   \n",
       "\n",
       "                     Fut_close_sjv_p  Fut_close_sjv_m  Fut_close_rs  \\\n",
       "Close_fut                   0.099861         0.183715      0.161040   \n",
       "Close_gas                   0.009143         0.004213      0.029669   \n",
       "Close_btc                   0.004120         0.018767      0.042610   \n",
       "Close_bond                 -0.006403        -0.039113     -0.043156   \n",
       "12_oil_std                  0.367344        -0.679001     -0.022689   \n",
       "Fut_close_rv                0.205099        -0.773536     -0.020548   \n",
       "Fut_close_rav               0.347983        -0.555482     -0.019540   \n",
       "Fut_close_bv                0.088625        -0.522892     -0.008010   \n",
       "Fut_close_tq                0.031411        -0.478920     -0.007132   \n",
       "Fut_close_jump_test         0.000906        -0.003285     -0.010638   \n",
       "Fut_close_rv_m              0.015807        -0.897047     -0.058598   \n",
       "Fut_close_rv_p              0.493848        -0.419691      0.048757   \n",
       "Fut_close_sjv_p             1.000000         0.002840      0.119847   \n",
       "Fut_close_sjv_m             0.002840         1.000000      0.083747   \n",
       "Fut_close_rs                0.119847         0.083747      1.000000   \n",
       "Fut_close_rk                0.130809        -0.102315      0.036563   \n",
       "\n",
       "                     Fut_close_rk  \n",
       "Close_fut               -0.005454  \n",
       "Close_gas                0.015411  \n",
       "Close_btc                0.001366  \n",
       "Close_bond               0.003737  \n",
       "12_oil_std               0.279652  \n",
       "Fut_close_rv             0.075247  \n",
       "Fut_close_rav            0.136189  \n",
       "Fut_close_bv             0.016180  \n",
       "Fut_close_tq             0.010209  \n",
       "Fut_close_jump_test      0.038370  \n",
       "Fut_close_rv_m           0.071277  \n",
       "Fut_close_rv_p           0.068366  \n",
       "Fut_close_sjv_p          0.130809  \n",
       "Fut_close_sjv_m         -0.102315  \n",
       "Fut_close_rs             0.036563  \n",
       "Fut_close_rk             1.000000  "
      ]
     },
     "execution_count": 534,
     "metadata": {},
     "output_type": "execute_result"
    }
   ],
   "source": [
    "df.corr()"
   ]
  }
 ],
 "metadata": {
  "kernelspec": {
   "display_name": "Python 3",
   "language": "python",
   "name": "python3"
  },
  "language_info": {
   "codemirror_mode": {
    "name": "ipython",
    "version": 3
   },
   "file_extension": ".py",
   "mimetype": "text/x-python",
   "name": "python",
   "nbconvert_exporter": "python",
   "pygments_lexer": "ipython3",
   "version": "3.6.8"
  },
  "toc-autonumbering": true,
  "toc-showcode": false,
  "toc-showmarkdowntxt": false,
  "toc-showtags": false
 },
 "nbformat": 4,
 "nbformat_minor": 5
}
